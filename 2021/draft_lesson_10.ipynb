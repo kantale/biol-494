{
 "cells": [
  {
   "cell_type": "code",
   "execution_count": 1,
   "metadata": {},
   "outputs": [],
   "source": [
    "a = 'abcdefg'\n",
    "b = 'fgklmno'\n",
    "\n",
    "import re\n"
   ]
  },
  {
   "cell_type": "code",
   "execution_count": 4,
   "metadata": {},
   "outputs": [
    {
     "data": {
      "text/plain": [
       "[('34', '')]"
      ]
     },
     "execution_count": 4,
     "metadata": {},
     "output_type": "execute_result"
    }
   ],
   "source": [
    "\n",
    "\n",
    "re.findall(r'12(34)|(56)', '1234')"
   ]
  },
  {
   "cell_type": "code",
   "execution_count": 5,
   "metadata": {},
   "outputs": [
    {
     "data": {
      "text/plain": [
       "[('', '56')]"
      ]
     },
     "execution_count": 5,
     "metadata": {},
     "output_type": "execute_result"
    }
   ],
   "source": [
    "re.findall(r'12(34)|(56)', '56')"
   ]
  },
  {
   "cell_type": "code",
   "execution_count": 7,
   "metadata": {},
   "outputs": [
    {
     "data": {
      "text/plain": [
       "['56', '56', '56', '1234']"
      ]
     },
     "execution_count": 7,
     "metadata": {},
     "output_type": "execute_result"
    }
   ],
   "source": [
    "re.findall(r'1234|56', '565656512346')"
   ]
  },
  {
   "cell_type": "code",
   "execution_count": 11,
   "metadata": {},
   "outputs": [
    {
     "data": {
      "text/plain": [
       "['1234', '1256']"
      ]
     },
     "execution_count": 11,
     "metadata": {},
     "output_type": "execute_result"
    }
   ],
   "source": [
    "re.findall(r'12(?:34|56)', '1234aslkjdfha1256lksd') # non-capturing parenthesis  "
   ]
  },
  {
   "cell_type": "code",
   "execution_count": 12,
   "metadata": {},
   "outputs": [
    {
     "data": {
      "text/plain": [
       "['34', '56']"
      ]
     },
     "execution_count": 12,
     "metadata": {},
     "output_type": "execute_result"
    }
   ],
   "source": [
    "re.findall(r'12(34|56)', '1234aslkjdfha1256lksd') "
   ]
  },
  {
   "cell_type": "code",
   "execution_count": 13,
   "metadata": {},
   "outputs": [],
   "source": [
    "m = re.search(r'12(?:34|56)', '1234aslkjdfha1256lksd')"
   ]
  },
  {
   "cell_type": "code",
   "execution_count": 15,
   "metadata": {},
   "outputs": [
    {
     "ename": "IndexError",
     "evalue": "no such group",
     "output_type": "error",
     "traceback": [
      "\u001b[0;31m---------------------------------------------------------------------------\u001b[0m",
      "\u001b[0;31mIndexError\u001b[0m                                Traceback (most recent call last)",
      "\u001b[0;32m<ipython-input-15-6a9fdd5b6bf1>\u001b[0m in \u001b[0;36m<module>\u001b[0;34m\u001b[0m\n\u001b[0;32m----> 1\u001b[0;31m \u001b[0mm\u001b[0m\u001b[0;34m.\u001b[0m\u001b[0mgroup\u001b[0m\u001b[0;34m(\u001b[0m\u001b[0;36m1\u001b[0m\u001b[0;34m)\u001b[0m\u001b[0;34m\u001b[0m\u001b[0;34m\u001b[0m\u001b[0m\n\u001b[0m",
      "\u001b[0;31mIndexError\u001b[0m: no such group"
     ]
    }
   ],
   "source": [
    "m.group(1)"
   ]
  },
  {
   "cell_type": "code",
   "execution_count": 18,
   "metadata": {},
   "outputs": [],
   "source": [
    "m = re.search(r'12(34|56)', '1234aslkjdfha1256lksd') "
   ]
  },
  {
   "cell_type": "code",
   "execution_count": 19,
   "metadata": {},
   "outputs": [
    {
     "data": {
      "text/plain": [
       "'34'"
      ]
     },
     "execution_count": 19,
     "metadata": {},
     "output_type": "execute_result"
    }
   ],
   "source": [
    "m.group(1)"
   ]
  },
  {
   "cell_type": "code",
   "execution_count": 22,
   "metadata": {},
   "outputs": [
    {
     "data": {
      "text/plain": [
       "['AK1234', 'KK9876']"
      ]
     },
     "execution_count": 22,
     "metadata": {},
     "output_type": "execute_result"
    }
   ],
   "source": [
    "re.findall(r'\\w\\w\\d\\d\\d\\d', 'AK1234  KK9876')"
   ]
  },
  {
   "cell_type": "code",
   "execution_count": 23,
   "metadata": {},
   "outputs": [
    {
     "data": {
      "text/plain": [
       "['1234', '9876']"
      ]
     },
     "execution_count": 23,
     "metadata": {},
     "output_type": "execute_result"
    }
   ],
   "source": [
    "re.findall(r'\\w\\w(\\d\\d\\d\\d)', 'AK1234  KK9876')"
   ]
  },
  {
   "cell_type": "code",
   "execution_count": 24,
   "metadata": {},
   "outputs": [],
   "source": [
    "import numpy as np"
   ]
  },
  {
   "cell_type": "code",
   "execution_count": 25,
   "metadata": {},
   "outputs": [],
   "source": [
    "a = np.array([1,2,3,2,5,4,3,2,3])"
   ]
  },
  {
   "cell_type": "code",
   "execution_count": 26,
   "metadata": {},
   "outputs": [
    {
     "data": {
      "text/plain": [
       "numpy.ndarray"
      ]
     },
     "execution_count": 26,
     "metadata": {},
     "output_type": "execute_result"
    }
   ],
   "source": [
    "type(a)"
   ]
  },
  {
   "cell_type": "code",
   "execution_count": 27,
   "metadata": {},
   "outputs": [],
   "source": [
    "b = [1,2,3,2,5,4,3,2,3]"
   ]
  },
  {
   "cell_type": "code",
   "execution_count": 28,
   "metadata": {},
   "outputs": [
    {
     "data": {
      "text/plain": [
       "[3, 5, 4, 3, 3]"
      ]
     },
     "execution_count": 28,
     "metadata": {},
     "output_type": "execute_result"
    }
   ],
   "source": [
    "[x for x in b if x>2]"
   ]
  },
  {
   "cell_type": "code",
   "execution_count": 29,
   "metadata": {},
   "outputs": [
    {
     "data": {
      "text/plain": [
       "array([1, 2, 3, 2, 5, 4, 3, 2, 3])"
      ]
     },
     "execution_count": 29,
     "metadata": {},
     "output_type": "execute_result"
    }
   ],
   "source": [
    "a"
   ]
  },
  {
   "cell_type": "code",
   "execution_count": 30,
   "metadata": {},
   "outputs": [
    {
     "data": {
      "text/plain": [
       "[False, False, True, False, True, True, True, False, True]"
      ]
     },
     "execution_count": 30,
     "metadata": {},
     "output_type": "execute_result"
    }
   ],
   "source": [
    "[x>2 for x in a]"
   ]
  },
  {
   "cell_type": "code",
   "execution_count": 31,
   "metadata": {},
   "outputs": [
    {
     "data": {
      "text/plain": [
       "array([False, False,  True, False,  True,  True,  True, False,  True])"
      ]
     },
     "execution_count": 31,
     "metadata": {},
     "output_type": "execute_result"
    }
   ],
   "source": [
    "a>2"
   ]
  },
  {
   "cell_type": "code",
   "execution_count": 35,
   "metadata": {},
   "outputs": [
    {
     "data": {
      "text/plain": [
       "array([2, 3, 2])"
      ]
     },
     "execution_count": 35,
     "metadata": {},
     "output_type": "execute_result"
    }
   ],
   "source": [
    "a[1:4]"
   ]
  },
  {
   "cell_type": "code",
   "execution_count": 36,
   "metadata": {},
   "outputs": [
    {
     "data": {
      "text/plain": [
       "array([3, 5, 4, 3, 3])"
      ]
     },
     "execution_count": 36,
     "metadata": {},
     "output_type": "execute_result"
    }
   ],
   "source": [
    "a[a>2]"
   ]
  },
  {
   "cell_type": "code",
   "execution_count": 37,
   "metadata": {},
   "outputs": [],
   "source": [
    "a = np.random.random((10,4))"
   ]
  },
  {
   "cell_type": "code",
   "execution_count": 38,
   "metadata": {},
   "outputs": [
    {
     "data": {
      "text/plain": [
       "array([[0.91034426, 0.43457504, 0.51284057, 0.88268776],\n",
       "       [0.65390162, 0.30811191, 0.32252729, 0.56937793],\n",
       "       [0.18198257, 0.06664977, 0.08885812, 0.22529457],\n",
       "       [0.05578665, 0.00725407, 0.90873155, 0.07395098],\n",
       "       [0.75784909, 0.26999395, 0.67780173, 0.92841833],\n",
       "       [0.59983431, 0.84526954, 0.4467491 , 0.27879045],\n",
       "       [0.80516443, 0.30457498, 0.20743558, 0.411222  ],\n",
       "       [0.12945729, 0.5370648 , 0.1564685 , 0.88974561],\n",
       "       [0.46398892, 0.31741535, 0.84248024, 0.67543583],\n",
       "       [0.99519624, 0.85150127, 0.53314034, 0.70867468]])"
      ]
     },
     "execution_count": 38,
     "metadata": {},
     "output_type": "execute_result"
    }
   ],
   "source": [
    "a"
   ]
  },
  {
   "cell_type": "code",
   "execution_count": 39,
   "metadata": {},
   "outputs": [
    {
     "data": {
      "text/plain": [
       "(10, 4)"
      ]
     },
     "execution_count": 39,
     "metadata": {},
     "output_type": "execute_result"
    }
   ],
   "source": [
    "a.shape"
   ]
  },
  {
   "cell_type": "code",
   "execution_count": 40,
   "metadata": {},
   "outputs": [
    {
     "data": {
      "text/plain": [
       "2"
      ]
     },
     "execution_count": 40,
     "metadata": {},
     "output_type": "execute_result"
    }
   ],
   "source": [
    "a.ndim"
   ]
  },
  {
   "cell_type": "code",
   "execution_count": 41,
   "metadata": {},
   "outputs": [
    {
     "data": {
      "text/plain": [
       "40"
      ]
     },
     "execution_count": 41,
     "metadata": {},
     "output_type": "execute_result"
    }
   ],
   "source": [
    "a.size"
   ]
  },
  {
   "cell_type": "code",
   "execution_count": 42,
   "metadata": {},
   "outputs": [
    {
     "data": {
      "text/plain": [
       "array([[0.91034426, 0.43457504, 0.51284057],\n",
       "       [0.65390162, 0.30811191, 0.32252729],\n",
       "       [0.18198257, 0.06664977, 0.08885812]])"
      ]
     },
     "execution_count": 42,
     "metadata": {},
     "output_type": "execute_result"
    }
   ],
   "source": [
    "a[ 0:3 , 0:3]"
   ]
  },
  {
   "cell_type": "code",
   "execution_count": 43,
   "metadata": {},
   "outputs": [
    {
     "data": {
      "text/plain": [
       "array([[0.56937793, 0.30811191],\n",
       "       [0.07395098, 0.00725407],\n",
       "       [0.27879045, 0.84526954],\n",
       "       [0.88974561, 0.5370648 ]])"
      ]
     },
     "execution_count": 43,
     "metadata": {},
     "output_type": "execute_result"
    }
   ],
   "source": [
    "a[ 1:8:2 , -1::-2]"
   ]
  },
  {
   "cell_type": "code",
   "execution_count": 44,
   "metadata": {},
   "outputs": [
    {
     "data": {
      "text/plain": [
       "array([[0.91034426, 0.43457504, 0.51284057, 0.88268776],\n",
       "       [0.65390162, 0.30811191, 0.32252729, 0.56937793],\n",
       "       [0.18198257, 0.06664977, 0.08885812, 0.22529457],\n",
       "       [0.05578665, 0.00725407, 0.90873155, 0.07395098],\n",
       "       [0.75784909, 0.26999395, 0.67780173, 0.92841833],\n",
       "       [0.59983431, 0.84526954, 0.4467491 , 0.27879045],\n",
       "       [0.80516443, 0.30457498, 0.20743558, 0.411222  ],\n",
       "       [0.12945729, 0.5370648 , 0.1564685 , 0.88974561],\n",
       "       [0.46398892, 0.31741535, 0.84248024, 0.67543583],\n",
       "       [0.99519624, 0.85150127, 0.53314034, 0.70867468]])"
      ]
     },
     "execution_count": 44,
     "metadata": {},
     "output_type": "execute_result"
    }
   ],
   "source": [
    "a"
   ]
  },
  {
   "cell_type": "code",
   "execution_count": 49,
   "metadata": {},
   "outputs": [
    {
     "data": {
      "text/plain": [
       "array([[0.65390162, 0.30811191, 0.32252729, 0.56937793],\n",
       "       [0.75784909, 0.26999395, 0.67780173, 0.92841833],\n",
       "       [0.59983431, 0.84526954, 0.4467491 , 0.27879045]])"
      ]
     },
     "execution_count": 49,
     "metadata": {},
     "output_type": "execute_result"
    }
   ],
   "source": [
    "a[ [1,4,5]  , ]"
   ]
  },
  {
   "cell_type": "code",
   "execution_count": 50,
   "metadata": {},
   "outputs": [
    {
     "data": {
      "text/plain": [
       "array([[0.65390162, 0.30811191, 0.32252729, 0.56937793],\n",
       "       [0.65390162, 0.30811191, 0.32252729, 0.56937793],\n",
       "       [0.65390162, 0.30811191, 0.32252729, 0.56937793],\n",
       "       [0.75784909, 0.26999395, 0.67780173, 0.92841833],\n",
       "       [0.59983431, 0.84526954, 0.4467491 , 0.27879045]])"
      ]
     },
     "execution_count": 50,
     "metadata": {},
     "output_type": "execute_result"
    }
   ],
   "source": [
    "a[ [1,1,1,4,5]  , ]"
   ]
  },
  {
   "cell_type": "code",
   "execution_count": 53,
   "metadata": {},
   "outputs": [],
   "source": [
    "b = a[ [1,1,1,4,5]  , ]"
   ]
  },
  {
   "cell_type": "code",
   "execution_count": 57,
   "metadata": {},
   "outputs": [
    {
     "data": {
      "text/plain": [
       "array([[0.65390162, 0.56937793],\n",
       "       [0.65390162, 0.56937793],\n",
       "       [0.65390162, 0.56937793],\n",
       "       [0.75784909, 0.92841833],\n",
       "       [0.59983431, 0.27879045]])"
      ]
     },
     "execution_count": 57,
     "metadata": {},
     "output_type": "execute_result"
    }
   ],
   "source": [
    "b[ :, [0,3]]"
   ]
  },
  {
   "cell_type": "code",
   "execution_count": 59,
   "metadata": {},
   "outputs": [
    {
     "data": {
      "text/plain": [
       "array([[0.65390162, 0.56937793],\n",
       "       [0.65390162, 0.56937793],\n",
       "       [0.65390162, 0.56937793],\n",
       "       [0.75784909, 0.92841833],\n",
       "       [0.59983431, 0.27879045]])"
      ]
     },
     "execution_count": 59,
     "metadata": {},
     "output_type": "execute_result"
    }
   ],
   "source": [
    "a[ [1,1,1,4,5]  , ][:, [0,3]]"
   ]
  },
  {
   "cell_type": "code",
   "execution_count": 61,
   "metadata": {},
   "outputs": [
    {
     "data": {
      "text/plain": [
       "array([[0.65390162, 0.30811191, 0.32252729, 0.56937793],\n",
       "       [0.65390162, 0.30811191, 0.32252729, 0.56937793],\n",
       "       [0.65390162, 0.30811191, 0.32252729, 0.56937793],\n",
       "       [0.75784909, 0.26999395, 0.67780173, 0.92841833],\n",
       "       [0.59983431, 0.84526954, 0.4467491 , 0.27879045]])"
      ]
     },
     "execution_count": 61,
     "metadata": {},
     "output_type": "execute_result"
    }
   ],
   "source": [
    "a[ [1,1,1,4,5]  , ]"
   ]
  },
  {
   "cell_type": "code",
   "execution_count": 65,
   "metadata": {},
   "outputs": [
    {
     "data": {
      "text/plain": [
       "array([[0.65390162, 0.30811191, 0.32252729, 0.56937793],\n",
       "       [0.65390162, 0.30811191, 0.32252729, 0.56937793],\n",
       "       [0.65390162, 0.30811191, 0.32252729, 0.56937793],\n",
       "       [0.75784909, 0.26999395, 0.67780173, 0.92841833],\n",
       "       [0.59983431, 0.84526954, 0.4467491 , 0.27879045]])"
      ]
     },
     "execution_count": 65,
     "metadata": {},
     "output_type": "execute_result"
    }
   ],
   "source": [
    "a[ [1,1,1,4,5] ,   ] "
   ]
  },
  {
   "cell_type": "code",
   "execution_count": 66,
   "metadata": {},
   "outputs": [
    {
     "data": {
      "text/plain": [
       "array([[0.65390162, 0.30811191, 0.32252729, 0.56937793],\n",
       "       [0.18198257, 0.06664977, 0.08885812, 0.22529457],\n",
       "       [0.65390162, 0.30811191, 0.32252729, 0.56937793],\n",
       "       [0.18198257, 0.06664977, 0.08885812, 0.22529457],\n",
       "       [0.65390162, 0.30811191, 0.32252729, 0.56937793]])"
      ]
     },
     "execution_count": 66,
     "metadata": {},
     "output_type": "execute_result"
    }
   ],
   "source": [
    "a[ [1,2,1,2,1] ,  ]"
   ]
  },
  {
   "cell_type": "code",
   "execution_count": 67,
   "metadata": {},
   "outputs": [
    {
     "data": {
      "text/plain": [
       "array([[0.91034426, 0.43457504, 0.51284057, 0.88268776],\n",
       "       [0.65390162, 0.30811191, 0.32252729, 0.56937793],\n",
       "       [0.18198257, 0.06664977, 0.08885812, 0.22529457],\n",
       "       [0.05578665, 0.00725407, 0.90873155, 0.07395098],\n",
       "       [0.75784909, 0.26999395, 0.67780173, 0.92841833],\n",
       "       [0.59983431, 0.84526954, 0.4467491 , 0.27879045],\n",
       "       [0.80516443, 0.30457498, 0.20743558, 0.411222  ],\n",
       "       [0.12945729, 0.5370648 , 0.1564685 , 0.88974561],\n",
       "       [0.46398892, 0.31741535, 0.84248024, 0.67543583],\n",
       "       [0.99519624, 0.85150127, 0.53314034, 0.70867468]])"
      ]
     },
     "execution_count": 67,
     "metadata": {},
     "output_type": "execute_result"
    }
   ],
   "source": [
    "a[ [True, True,True,True,True,True,True,True,True,True,]  , ]"
   ]
  },
  {
   "cell_type": "code",
   "execution_count": 68,
   "metadata": {},
   "outputs": [
    {
     "data": {
      "text/plain": [
       "array([[0.91034426, 0.43457504, 0.51284057, 0.88268776],\n",
       "       [0.65390162, 0.30811191, 0.32252729, 0.56937793],\n",
       "       [0.18198257, 0.06664977, 0.08885812, 0.22529457],\n",
       "       [0.05578665, 0.00725407, 0.90873155, 0.07395098],\n",
       "       [0.75784909, 0.26999395, 0.67780173, 0.92841833],\n",
       "       [0.59983431, 0.84526954, 0.4467491 , 0.27879045],\n",
       "       [0.12945729, 0.5370648 , 0.1564685 , 0.88974561],\n",
       "       [0.46398892, 0.31741535, 0.84248024, 0.67543583],\n",
       "       [0.99519624, 0.85150127, 0.53314034, 0.70867468]])"
      ]
     },
     "execution_count": 68,
     "metadata": {},
     "output_type": "execute_result"
    }
   ],
   "source": [
    "a[ [True, True,True,True,True,True,False,True,True,True,]  , ]"
   ]
  },
  {
   "cell_type": "code",
   "execution_count": 69,
   "metadata": {},
   "outputs": [],
   "source": [
    "c = np.array([1,2,3,2,5,4,3,2,3])"
   ]
  },
  {
   "cell_type": "code",
   "execution_count": 70,
   "metadata": {},
   "outputs": [
    {
     "data": {
      "text/plain": [
       "array([False, False,  True, False,  True,  True,  True, False,  True])"
      ]
     },
     "execution_count": 70,
     "metadata": {},
     "output_type": "execute_result"
    }
   ],
   "source": [
    "c>2"
   ]
  },
  {
   "cell_type": "code",
   "execution_count": 71,
   "metadata": {},
   "outputs": [
    {
     "data": {
      "text/plain": [
       "array([3, 5, 4, 3, 3])"
      ]
     },
     "execution_count": 71,
     "metadata": {},
     "output_type": "execute_result"
    }
   ],
   "source": [
    "c[ [False, False,  True, False,  True,  True,  True, False,  True]  ]"
   ]
  },
  {
   "cell_type": "code",
   "execution_count": 72,
   "metadata": {},
   "outputs": [
    {
     "data": {
      "text/plain": [
       "array([3, 5, 4, 3, 3])"
      ]
     },
     "execution_count": 72,
     "metadata": {},
     "output_type": "execute_result"
    }
   ],
   "source": [
    "c[ c>2 ]"
   ]
  },
  {
   "cell_type": "code",
   "execution_count": 74,
   "metadata": {},
   "outputs": [
    {
     "data": {
      "text/plain": [
       "array([[0.91034426, 0.43457504, 0.51284057, 0.88268776],\n",
       "       [0.65390162, 0.30811191, 0.32252729, 0.56937793],\n",
       "       [0.18198257, 0.06664977, 0.08885812, 0.22529457],\n",
       "       [0.05578665, 0.00725407, 0.90873155, 0.07395098],\n",
       "       [0.75784909, 0.26999395, 0.67780173, 0.92841833],\n",
       "       [0.59983431, 0.84526954, 0.4467491 , 0.27879045],\n",
       "       [0.80516443, 0.30457498, 0.20743558, 0.411222  ],\n",
       "       [0.12945729, 0.5370648 , 0.1564685 , 0.88974561],\n",
       "       [0.46398892, 0.31741535, 0.84248024, 0.67543583],\n",
       "       [0.99519624, 0.85150127, 0.53314034, 0.70867468]])"
      ]
     },
     "execution_count": 74,
     "metadata": {},
     "output_type": "execute_result"
    }
   ],
   "source": [
    "a[ : , : ]"
   ]
  },
  {
   "cell_type": "code",
   "execution_count": 76,
   "metadata": {},
   "outputs": [
    {
     "data": {
      "text/plain": [
       "array([[0.06664977, 0.08885812, 0.22529457],\n",
       "       [0.00725407, 0.90873155, 0.07395098]])"
      ]
     },
     "execution_count": 76,
     "metadata": {},
     "output_type": "execute_result"
    }
   ],
   "source": [
    "a[ 2:4 , 1:4 ]"
   ]
  },
  {
   "cell_type": "code",
   "execution_count": 77,
   "metadata": {},
   "outputs": [],
   "source": [
    "b = np.random.random((10,4))"
   ]
  },
  {
   "cell_type": "code",
   "execution_count": 78,
   "metadata": {},
   "outputs": [
    {
     "data": {
      "text/plain": [
       "array([[0.91034426, 0.43457504, 0.51284057, 0.88268776],\n",
       "       [0.65390162, 0.30811191, 0.32252729, 0.56937793],\n",
       "       [0.18198257, 0.06664977, 0.08885812, 0.22529457],\n",
       "       [0.05578665, 0.00725407, 0.90873155, 0.07395098],\n",
       "       [0.75784909, 0.26999395, 0.67780173, 0.92841833],\n",
       "       [0.59983431, 0.84526954, 0.4467491 , 0.27879045],\n",
       "       [0.80516443, 0.30457498, 0.20743558, 0.411222  ],\n",
       "       [0.12945729, 0.5370648 , 0.1564685 , 0.88974561],\n",
       "       [0.46398892, 0.31741535, 0.84248024, 0.67543583],\n",
       "       [0.99519624, 0.85150127, 0.53314034, 0.70867468]])"
      ]
     },
     "execution_count": 78,
     "metadata": {},
     "output_type": "execute_result"
    }
   ],
   "source": [
    "a"
   ]
  },
  {
   "cell_type": "code",
   "execution_count": 79,
   "metadata": {},
   "outputs": [
    {
     "data": {
      "text/plain": [
       "array([[0.33216846, 0.02345675, 0.73491138, 0.12538281],\n",
       "       [0.2708553 , 0.35841031, 0.50413981, 0.72588268],\n",
       "       [0.41192295, 0.13768707, 0.67711436, 0.51872878],\n",
       "       [0.43153449, 0.96566799, 0.63437696, 0.68992349],\n",
       "       [0.77446576, 0.20970367, 0.06099859, 0.40308158],\n",
       "       [0.4648441 , 0.26774465, 0.60392709, 0.49758574],\n",
       "       [0.22481413, 0.56128597, 0.1667581 , 0.14674038],\n",
       "       [0.86026691, 0.34353633, 0.26591266, 0.68680905],\n",
       "       [0.88411492, 0.63039135, 0.39313626, 0.37378974],\n",
       "       [0.01889116, 0.89421852, 0.815371  , 0.43527436]])"
      ]
     },
     "execution_count": 79,
     "metadata": {},
     "output_type": "execute_result"
    }
   ],
   "source": [
    "b"
   ]
  },
  {
   "cell_type": "code",
   "execution_count": 80,
   "metadata": {},
   "outputs": [
    {
     "data": {
      "text/plain": [
       "array([[1.24251273, 0.4580318 , 1.24775195, 1.00807057],\n",
       "       [0.92475692, 0.66652222, 0.8266671 , 1.29526061],\n",
       "       [0.59390553, 0.20433683, 0.76597247, 0.74402335],\n",
       "       [0.48732114, 0.97292206, 1.54310851, 0.76387447],\n",
       "       [1.53231484, 0.47969761, 0.73880032, 1.33149991],\n",
       "       [1.0646784 , 1.1130142 , 1.05067619, 0.77637619],\n",
       "       [1.02997855, 0.86586094, 0.37419369, 0.55796238],\n",
       "       [0.9897242 , 0.88060113, 0.42238116, 1.57655466],\n",
       "       [1.34810384, 0.94780671, 1.23561651, 1.04922557],\n",
       "       [1.0140874 , 1.7457198 , 1.34851134, 1.14394904]])"
      ]
     },
     "execution_count": 80,
     "metadata": {},
     "output_type": "execute_result"
    }
   ],
   "source": [
    "a+b"
   ]
  },
  {
   "cell_type": "code",
   "execution_count": 81,
   "metadata": {},
   "outputs": [
    {
     "data": {
      "text/plain": [
       "array([[ 0.5781758 ,  0.41111829, -0.22207081,  0.75730495],\n",
       "       [ 0.38304632, -0.05029839, -0.18161252, -0.15650475],\n",
       "       [-0.22994038, -0.0710373 , -0.58825624, -0.29343421],\n",
       "       [-0.37574783, -0.95841392,  0.27435459, -0.61597251],\n",
       "       [-0.01661667,  0.06029028,  0.61680314,  0.52533675],\n",
       "       [ 0.13499021,  0.57752489, -0.15717799, -0.21879529],\n",
       "       [ 0.5803503 , -0.25671099,  0.04067748,  0.26448162],\n",
       "       [-0.73080963,  0.19352847, -0.10944415,  0.20293657],\n",
       "       [-0.420126  , -0.312976  ,  0.44934398,  0.30164609],\n",
       "       [ 0.97630509, -0.04271725, -0.28223067,  0.27340033]])"
      ]
     },
     "execution_count": 81,
     "metadata": {},
     "output_type": "execute_result"
    }
   ],
   "source": [
    "a-b"
   ]
  },
  {
   "cell_type": "code",
   "execution_count": 82,
   "metadata": {},
   "outputs": [
    {
     "data": {
      "text/plain": [
       "array([[0.30238765, 0.01019372, 0.37689237, 0.11067387],\n",
       "       [0.17711272, 0.11043049, 0.16259885, 0.41330158],\n",
       "       [0.0749628 , 0.00917681, 0.06016711, 0.11686678],\n",
       "       [0.02407386, 0.00700502, 0.57647836, 0.05102052],\n",
       "       [0.58692817, 0.05661872, 0.04134495, 0.37422833],\n",
       "       [0.27882944, 0.2263164 , 0.26980389, 0.13872215],\n",
       "       [0.18101234, 0.17095366, 0.03459156, 0.06034287],\n",
       "       [0.11136782, 0.18450127, 0.04160696, 0.61108534],\n",
       "       [0.41021952, 0.20009589, 0.33120953, 0.25247098],\n",
       "       [0.01880041, 0.76142821, 0.43470717, 0.30846792]])"
      ]
     },
     "execution_count": 82,
     "metadata": {},
     "output_type": "execute_result"
    }
   ],
   "source": [
    "a*b"
   ]
  },
  {
   "cell_type": "code",
   "execution_count": 83,
   "metadata": {},
   "outputs": [
    {
     "data": {
      "text/plain": [
       "array([[1., 1., 1., 1., 1., 1.],\n",
       "       [1., 1., 1., 1., 1., 1.],\n",
       "       [1., 1., 1., 1., 1., 1.]])"
      ]
     },
     "execution_count": 83,
     "metadata": {},
     "output_type": "execute_result"
    }
   ],
   "source": [
    "np.ones((3,6))"
   ]
  },
  {
   "cell_type": "code",
   "execution_count": 84,
   "metadata": {},
   "outputs": [
    {
     "data": {
      "text/plain": [
       "array([[6., 6., 6., 6., 6., 6.],\n",
       "       [6., 6., 6., 6., 6., 6.],\n",
       "       [6., 6., 6., 6., 6., 6.]])"
      ]
     },
     "execution_count": 84,
     "metadata": {},
     "output_type": "execute_result"
    }
   ],
   "source": [
    "6 * np.ones((3,6))"
   ]
  },
  {
   "cell_type": "code",
   "execution_count": 85,
   "metadata": {},
   "outputs": [
    {
     "data": {
      "text/plain": [
       "array([[0., 0., 0., 0., 0., 0.],\n",
       "       [0., 0., 0., 0., 0., 0.],\n",
       "       [0., 0., 0., 0., 0., 0.]])"
      ]
     },
     "execution_count": 85,
     "metadata": {},
     "output_type": "execute_result"
    }
   ],
   "source": [
    "np.zeros((3,6))"
   ]
  },
  {
   "cell_type": "code",
   "execution_count": 86,
   "metadata": {},
   "outputs": [
    {
     "data": {
      "text/plain": [
       "array([[6., 6., 6., 6., 6., 6.],\n",
       "       [6., 6., 6., 6., 6., 6.],\n",
       "       [6., 6., 6., 6., 6., 6.]])"
      ]
     },
     "execution_count": 86,
     "metadata": {},
     "output_type": "execute_result"
    }
   ],
   "source": [
    "np.zeros((3,6)) + 6"
   ]
  },
  {
   "cell_type": "code",
   "execution_count": 91,
   "metadata": {},
   "outputs": [
    {
     "data": {
      "text/plain": [
       "array([[0., 0., 0., 0., 0., 0.],\n",
       "       [0., 0., 0., 0., 0., 0.],\n",
       "       [0., 0., 0., 0., 0., 0.]])"
      ]
     },
     "execution_count": 91,
     "metadata": {},
     "output_type": "execute_result"
    }
   ],
   "source": [
    "np.zeros((3,6))"
   ]
  },
  {
   "cell_type": "code",
   "execution_count": 92,
   "metadata": {},
   "outputs": [
    {
     "data": {
      "text/plain": [
       "array([[0, 0, 0, 0, 0, 0],\n",
       "       [0, 0, 0, 0, 0, 0],\n",
       "       [0, 0, 0, 0, 0, 0]])"
      ]
     },
     "execution_count": 92,
     "metadata": {},
     "output_type": "execute_result"
    }
   ],
   "source": [
    "np.zeros((3,6), dtype=np.int)"
   ]
  },
  {
   "cell_type": "code",
   "execution_count": null,
   "metadata": {},
   "outputs": [],
   "source": [
    "np.arange(1, 10, 3)"
   ]
  },
  {
   "cell_type": "code",
   "execution_count": 94,
   "metadata": {},
   "outputs": [
    {
     "data": {
      "text/plain": [
       "2.0"
      ]
     },
     "execution_count": 94,
     "metadata": {},
     "output_type": "execute_result"
    }
   ],
   "source": [
    "5-3/1"
   ]
  },
  {
   "cell_type": "code",
   "execution_count": 95,
   "metadata": {},
   "outputs": [
    {
     "data": {
      "text/plain": [
       "False"
      ]
     },
     "execution_count": 95,
     "metadata": {},
     "output_type": "execute_result"
    }
   ],
   "source": [
    "0.1 + 0.1 + 0.1 == 0.3 "
   ]
  },
  {
   "cell_type": "code",
   "execution_count": 97,
   "metadata": {},
   "outputs": [
    {
     "data": {
      "text/plain": [
       "5.551115123125783e-17"
      ]
     },
     "execution_count": 97,
     "metadata": {},
     "output_type": "execute_result"
    }
   ],
   "source": [
    "0.1 + 0.1 + 0.1 - 0.3"
   ]
  },
  {
   "cell_type": "code",
   "execution_count": 98,
   "metadata": {},
   "outputs": [
    {
     "data": {
      "text/plain": [
       "15"
      ]
     },
     "execution_count": 98,
     "metadata": {},
     "output_type": "execute_result"
    }
   ],
   "source": [
    "15"
   ]
  },
  {
   "cell_type": "code",
   "execution_count": 100,
   "metadata": {},
   "outputs": [
    {
     "data": {
      "text/plain": [
       "15"
      ]
     },
     "execution_count": 100,
     "metadata": {},
     "output_type": "execute_result"
    }
   ],
   "source": [
    "1*10**1 + 5*10**0"
   ]
  },
  {
   "cell_type": "code",
   "execution_count": 102,
   "metadata": {},
   "outputs": [
    {
     "data": {
      "text/plain": [
       "0.1"
      ]
     },
     "execution_count": 102,
     "metadata": {},
     "output_type": "execute_result"
    }
   ],
   "source": [
    "1*10**(-1)"
   ]
  },
  {
   "cell_type": "code",
   "execution_count": null,
   "metadata": {},
   "outputs": [],
   "source": [
    "1*2**(-1) + 1*2**(-2) + 1*2**(-3) + 1*2**(-4)"
   ]
  },
  {
   "cell_type": "code",
   "execution_count": 103,
   "metadata": {},
   "outputs": [
    {
     "data": {
      "text/plain": [
       "0.3333333333333333"
      ]
     },
     "execution_count": 103,
     "metadata": {},
     "output_type": "execute_result"
    }
   ],
   "source": [
    "1/3"
   ]
  },
  {
   "cell_type": "code",
   "execution_count": 104,
   "metadata": {},
   "outputs": [
    {
     "data": {
      "text/plain": [
       "array([1. , 1.3, 1.6, 1.9, 2.2, 2.5, 2.8, 3.1, 3.4, 3.7, 4. , 4.3, 4.6,\n",
       "       4.9, 5.2, 5.5, 5.8, 6.1, 6.4, 6.7, 7. , 7.3, 7.6, 7.9, 8.2, 8.5,\n",
       "       8.8, 9.1, 9.4, 9.7])"
      ]
     },
     "execution_count": 104,
     "metadata": {},
     "output_type": "execute_result"
    }
   ],
   "source": [
    "np.arange(1,10,0.3)"
   ]
  },
  {
   "cell_type": "code",
   "execution_count": 105,
   "metadata": {},
   "outputs": [
    {
     "data": {
      "text/plain": [
       "array([10.        , 10.34482759, 10.68965517, 11.03448276, 11.37931034,\n",
       "       11.72413793, 12.06896552, 12.4137931 , 12.75862069, 13.10344828,\n",
       "       13.44827586, 13.79310345, 14.13793103, 14.48275862, 14.82758621,\n",
       "       15.17241379, 15.51724138, 15.86206897, 16.20689655, 16.55172414,\n",
       "       16.89655172, 17.24137931, 17.5862069 , 17.93103448, 18.27586207,\n",
       "       18.62068966, 18.96551724, 19.31034483, 19.65517241, 20.        ])"
      ]
     },
     "execution_count": 105,
     "metadata": {},
     "output_type": "execute_result"
    }
   ],
   "source": [
    "np.linspace(10,20,30)"
   ]
  },
  {
   "cell_type": "code",
   "execution_count": 106,
   "metadata": {},
   "outputs": [
    {
     "data": {
      "text/plain": [
       "array([[0.91034426, 0.43457504, 0.51284057, 0.88268776],\n",
       "       [0.65390162, 0.30811191, 0.32252729, 0.56937793],\n",
       "       [0.18198257, 0.06664977, 0.08885812, 0.22529457],\n",
       "       [0.05578665, 0.00725407, 0.90873155, 0.07395098],\n",
       "       [0.75784909, 0.26999395, 0.67780173, 0.92841833],\n",
       "       [0.59983431, 0.84526954, 0.4467491 , 0.27879045],\n",
       "       [0.80516443, 0.30457498, 0.20743558, 0.411222  ],\n",
       "       [0.12945729, 0.5370648 , 0.1564685 , 0.88974561],\n",
       "       [0.46398892, 0.31741535, 0.84248024, 0.67543583],\n",
       "       [0.99519624, 0.85150127, 0.53314034, 0.70867468]])"
      ]
     },
     "execution_count": 106,
     "metadata": {},
     "output_type": "execute_result"
    }
   ],
   "source": [
    "a"
   ]
  },
  {
   "cell_type": "code",
   "execution_count": 107,
   "metadata": {},
   "outputs": [
    {
     "data": {
      "text/plain": [
       "array([[0.78971498, 0.42102498, 0.49065436, 0.7724486 ],\n",
       "       [0.60828781, 0.30326001, 0.31696455, 0.53910822],\n",
       "       [0.18097976, 0.06660043, 0.08874123, 0.2233935 ],\n",
       "       [0.05575772, 0.00725401, 0.7887246 , 0.07388359],\n",
       "       [0.68736079, 0.2667256 , 0.62708219, 0.80067336],\n",
       "       [0.56450571, 0.74814999, 0.43203598, 0.275193  ],\n",
       "       [0.7209446 , 0.29988774, 0.20595114, 0.39972975],\n",
       "       [0.12909599, 0.51161623, 0.15583083, 0.77691161],\n",
       "       [0.44751885, 0.31211207, 0.7462963 , 0.62523752],\n",
       "       [0.83886581, 0.75227037, 0.50824035, 0.65082813]])"
      ]
     },
     "execution_count": 107,
     "metadata": {},
     "output_type": "execute_result"
    }
   ],
   "source": [
    "np.sin(a)"
   ]
  },
  {
   "cell_type": "code",
   "execution_count": 108,
   "metadata": {},
   "outputs": [
    {
     "data": {
      "text/plain": [
       "array([[-9.39324387e-02, -8.33386638e-01, -6.67790265e-01,\n",
       "        -1.24783755e-01],\n",
       "       [-4.24798369e-01, -1.17729220e+00, -1.13156753e+00,\n",
       "        -5.63210864e-01],\n",
       "       [-1.70384436e+00, -2.70830375e+00, -2.42071436e+00,\n",
       "        -1.49034652e+00],\n",
       "       [-2.88622063e+00, -4.92619234e+00, -9.57055529e-02,\n",
       "        -2.60435285e+00],\n",
       "       [-2.77271006e-01, -1.30935574e+00, -3.88900466e-01,\n",
       "        -7.42728648e-02],\n",
       "       [-5.11101815e-01, -1.68099719e-01, -8.05758140e-01,\n",
       "        -1.27729485e+00],\n",
       "       [-2.16708762e-01, -1.18883799e+00, -1.57293442e+00,\n",
       "        -8.88622060e-01],\n",
       "       [-2.04440429e+00, -6.21636521e-01, -1.85490054e+00,\n",
       "        -1.16819684e-01],\n",
       "       [-7.67894610e-01, -1.14754410e+00, -1.71405068e-01,\n",
       "        -3.92397118e-01],\n",
       "       [-4.81533098e-03, -1.60754285e-01, -6.28970593e-01,\n",
       "        -3.44358695e-01]])"
      ]
     },
     "execution_count": 108,
     "metadata": {},
     "output_type": "execute_result"
    }
   ],
   "source": [
    "np.log(a)"
   ]
  },
  {
   "cell_type": "code",
   "execution_count": 109,
   "metadata": {},
   "outputs": [
    {
     "data": {
      "text/plain": [
       "array([[-4.07943398e-02, -3.61935218e-01, -2.90017627e-01,\n",
       "        -5.41928961e-02],\n",
       "       [-1.84487588e-01, -5.11291508e-01, -4.91433533e-01,\n",
       "        -2.44599370e-01],\n",
       "       [-7.39970202e-01, -1.17620137e+00, -1.05130289e+00,\n",
       "        -6.47249270e-01],\n",
       "       [-1.25346969e+00, -2.13941815e+00, -4.15643935e-02,\n",
       "        -1.13105607e+00],\n",
       "       [-1.20417268e-01, -5.68645971e-01, -1.68897326e-01,\n",
       "        -3.22562953e-02],\n",
       "       [-2.21968698e-01, -7.30047806e-02, -3.49936314e-01,\n",
       "        -5.54722105e-01],\n",
       "       [-9.41154196e-02, -5.16305778e-01, -6.83116740e-01,\n",
       "        -3.85923657e-01],\n",
       "       [-8.87873502e-01, -2.69973311e-01, -8.05573068e-01,\n",
       "        -5.07341441e-02],\n",
       "       [-3.33492392e-01, -4.98372071e-01, -7.44402750e-02,\n",
       "        -1.70415903e-01],\n",
       "       [-2.09127168e-03, -6.98146990e-02, -2.73158458e-01,\n",
       "        -1.49553081e-01]])"
      ]
     },
     "execution_count": 109,
     "metadata": {},
     "output_type": "execute_result"
    }
   ],
   "source": [
    "np.log10(a)"
   ]
  },
  {
   "cell_type": "code",
   "execution_count": 110,
   "metadata": {},
   "outputs": [
    {
     "data": {
      "text/plain": [
       "3.141592653589793"
      ]
     },
     "execution_count": 110,
     "metadata": {},
     "output_type": "execute_result"
    }
   ],
   "source": [
    "np.pi"
   ]
  },
  {
   "cell_type": "code",
   "execution_count": 111,
   "metadata": {},
   "outputs": [
    {
     "data": {
      "text/plain": [
       "2.718281828459045"
      ]
     },
     "execution_count": 111,
     "metadata": {},
     "output_type": "execute_result"
    }
   ],
   "source": [
    "np.e"
   ]
  },
  {
   "cell_type": "code",
   "execution_count": 112,
   "metadata": {},
   "outputs": [
    {
     "data": {
      "text/plain": [
       "array([[0.91034426, 0.43457504, 0.51284057, 0.88268776],\n",
       "       [0.65390162, 0.30811191, 0.32252729, 0.56937793],\n",
       "       [0.18198257, 0.06664977, 0.08885812, 0.22529457],\n",
       "       [0.05578665, 0.00725407, 0.90873155, 0.07395098],\n",
       "       [0.75784909, 0.26999395, 0.67780173, 0.92841833],\n",
       "       [0.59983431, 0.84526954, 0.4467491 , 0.27879045],\n",
       "       [0.80516443, 0.30457498, 0.20743558, 0.411222  ],\n",
       "       [0.12945729, 0.5370648 , 0.1564685 , 0.88974561],\n",
       "       [0.46398892, 0.31741535, 0.84248024, 0.67543583],\n",
       "       [0.99519624, 0.85150127, 0.53314034, 0.70867468]])"
      ]
     },
     "execution_count": 112,
     "metadata": {},
     "output_type": "execute_result"
    }
   ],
   "source": [
    "a"
   ]
  },
  {
   "cell_type": "code",
   "execution_count": 113,
   "metadata": {},
   "outputs": [
    {
     "data": {
      "text/plain": [
       "0.9951962441346142"
      ]
     },
     "execution_count": 113,
     "metadata": {},
     "output_type": "execute_result"
    }
   ],
   "source": [
    "np.max(a)"
   ]
  },
  {
   "cell_type": "code",
   "execution_count": 114,
   "metadata": {},
   "outputs": [
    {
     "data": {
      "text/plain": [
       "array([0.99519624, 0.85150127, 0.90873155, 0.92841833])"
      ]
     },
     "execution_count": 114,
     "metadata": {},
     "output_type": "execute_result"
    }
   ],
   "source": [
    "np.max(a, axis=0)"
   ]
  },
  {
   "cell_type": "code",
   "execution_count": 115,
   "metadata": {},
   "outputs": [
    {
     "data": {
      "text/plain": [
       "array([0.91034426, 0.65390162, 0.22529457, 0.90873155, 0.92841833,\n",
       "       0.84526954, 0.80516443, 0.88974561, 0.84248024, 0.99519624])"
      ]
     },
     "execution_count": 115,
     "metadata": {},
     "output_type": "execute_result"
    }
   ],
   "source": [
    "np.max(a, axis=1)"
   ]
  },
  {
   "cell_type": "code",
   "execution_count": 116,
   "metadata": {},
   "outputs": [
    {
     "data": {
      "text/plain": [
       "array([[0.91034426, 0.43457504, 0.51284057, 0.88268776],\n",
       "       [0.65390162, 0.30811191, 0.32252729, 0.56937793],\n",
       "       [0.18198257, 0.06664977, 0.08885812, 0.22529457],\n",
       "       [0.05578665, 0.00725407, 0.90873155, 0.07395098],\n",
       "       [0.75784909, 0.26999395, 0.67780173, 0.92841833],\n",
       "       [0.59983431, 0.84526954, 0.4467491 , 0.27879045],\n",
       "       [0.80516443, 0.30457498, 0.20743558, 0.411222  ],\n",
       "       [0.12945729, 0.5370648 , 0.1564685 , 0.88974561],\n",
       "       [0.46398892, 0.31741535, 0.84248024, 0.67543583],\n",
       "       [0.99519624, 0.85150127, 0.53314034, 0.70867468]])"
      ]
     },
     "execution_count": 116,
     "metadata": {},
     "output_type": "execute_result"
    }
   ],
   "source": [
    "a"
   ]
  },
  {
   "cell_type": "code",
   "execution_count": 125,
   "metadata": {},
   "outputs": [
    {
     "data": {
      "text/plain": [
       "array([0.91034426, 0.43457504, 0.51284057, 0.88268776, 0.65390162,\n",
       "       0.30811191, 0.32252729, 0.56937793, 0.18198257, 0.06664977,\n",
       "       0.08885812, 0.22529457, 0.05578665, 0.00725407, 0.90873155,\n",
       "       0.07395098, 0.75784909, 0.26999395, 0.67780173, 0.92841833,\n",
       "       0.59983431, 0.84526954, 0.4467491 , 0.27879045, 0.80516443,\n",
       "       0.30457498, 0.20743558, 0.411222  , 0.12945729, 0.5370648 ,\n",
       "       0.1564685 , 0.88974561, 0.46398892, 0.31741535, 0.84248024,\n",
       "       0.67543583, 0.99519624, 0.85150127, 0.53314034, 0.70867468])"
      ]
     },
     "execution_count": 125,
     "metadata": {},
     "output_type": "execute_result"
    }
   ],
   "source": [
    "a.ravel()"
   ]
  },
  {
   "cell_type": "code",
   "execution_count": 126,
   "metadata": {},
   "outputs": [
    {
     "data": {
      "text/plain": [
       "array([[0.91034426, 0.43457504, 0.51284057, 0.88268776],\n",
       "       [0.65390162, 0.30811191, 0.32252729, 0.56937793],\n",
       "       [0.18198257, 0.06664977, 0.08885812, 0.22529457],\n",
       "       [0.05578665, 0.00725407, 0.90873155, 0.07395098],\n",
       "       [0.75784909, 0.26999395, 0.67780173, 0.92841833],\n",
       "       [0.59983431, 0.84526954, 0.4467491 , 0.27879045],\n",
       "       [0.80516443, 0.30457498, 0.20743558, 0.411222  ],\n",
       "       [0.12945729, 0.5370648 , 0.1564685 , 0.88974561],\n",
       "       [0.46398892, 0.31741535, 0.84248024, 0.67543583],\n",
       "       [0.99519624, 0.85150127, 0.53314034, 0.70867468]])"
      ]
     },
     "execution_count": 126,
     "metadata": {},
     "output_type": "execute_result"
    }
   ],
   "source": [
    "a"
   ]
  },
  {
   "cell_type": "code",
   "execution_count": 127,
   "metadata": {},
   "outputs": [
    {
     "data": {
      "text/plain": [
       "array([[0.91034426, 0.43457504],\n",
       "       [0.51284057, 0.88268776],\n",
       "       [0.65390162, 0.30811191],\n",
       "       [0.32252729, 0.56937793],\n",
       "       [0.18198257, 0.06664977],\n",
       "       [0.08885812, 0.22529457],\n",
       "       [0.05578665, 0.00725407],\n",
       "       [0.90873155, 0.07395098],\n",
       "       [0.75784909, 0.26999395],\n",
       "       [0.67780173, 0.92841833],\n",
       "       [0.59983431, 0.84526954],\n",
       "       [0.4467491 , 0.27879045],\n",
       "       [0.80516443, 0.30457498],\n",
       "       [0.20743558, 0.411222  ],\n",
       "       [0.12945729, 0.5370648 ],\n",
       "       [0.1564685 , 0.88974561],\n",
       "       [0.46398892, 0.31741535],\n",
       "       [0.84248024, 0.67543583],\n",
       "       [0.99519624, 0.85150127],\n",
       "       [0.53314034, 0.70867468]])"
      ]
     },
     "execution_count": 127,
     "metadata": {},
     "output_type": "execute_result"
    }
   ],
   "source": [
    "a.reshape((20,2))"
   ]
  },
  {
   "cell_type": "code",
   "execution_count": 128,
   "metadata": {},
   "outputs": [
    {
     "data": {
      "text/plain": [
       "array([[0.91034426, 0.43457504],\n",
       "       [0.51284057, 0.88268776],\n",
       "       [0.65390162, 0.30811191],\n",
       "       [0.32252729, 0.56937793],\n",
       "       [0.18198257, 0.06664977],\n",
       "       [0.08885812, 0.22529457],\n",
       "       [0.05578665, 0.00725407],\n",
       "       [0.90873155, 0.07395098],\n",
       "       [0.75784909, 0.26999395],\n",
       "       [0.67780173, 0.92841833],\n",
       "       [0.59983431, 0.84526954],\n",
       "       [0.4467491 , 0.27879045],\n",
       "       [0.80516443, 0.30457498],\n",
       "       [0.20743558, 0.411222  ],\n",
       "       [0.12945729, 0.5370648 ],\n",
       "       [0.1564685 , 0.88974561],\n",
       "       [0.46398892, 0.31741535],\n",
       "       [0.84248024, 0.67543583],\n",
       "       [0.99519624, 0.85150127],\n",
       "       [0.53314034, 0.70867468]])"
      ]
     },
     "execution_count": 128,
     "metadata": {},
     "output_type": "execute_result"
    }
   ],
   "source": [
    "a.reshape((20,-1))"
   ]
  },
  {
   "cell_type": "code",
   "execution_count": 129,
   "metadata": {},
   "outputs": [
    {
     "data": {
      "text/plain": [
       "array([[0.91034426, 0.43457504, 0.51284057, 0.88268776, 0.65390162,\n",
       "        0.30811191, 0.32252729, 0.56937793],\n",
       "       [0.18198257, 0.06664977, 0.08885812, 0.22529457, 0.05578665,\n",
       "        0.00725407, 0.90873155, 0.07395098],\n",
       "       [0.75784909, 0.26999395, 0.67780173, 0.92841833, 0.59983431,\n",
       "        0.84526954, 0.4467491 , 0.27879045],\n",
       "       [0.80516443, 0.30457498, 0.20743558, 0.411222  , 0.12945729,\n",
       "        0.5370648 , 0.1564685 , 0.88974561],\n",
       "       [0.46398892, 0.31741535, 0.84248024, 0.67543583, 0.99519624,\n",
       "        0.85150127, 0.53314034, 0.70867468]])"
      ]
     },
     "execution_count": 129,
     "metadata": {},
     "output_type": "execute_result"
    }
   ],
   "source": [
    "a.reshape((5,-1))"
   ]
  },
  {
   "cell_type": "code",
   "execution_count": 130,
   "metadata": {},
   "outputs": [
    {
     "ename": "ValueError",
     "evalue": "cannot reshape array of size 40 into shape (5,10)",
     "output_type": "error",
     "traceback": [
      "\u001b[0;31m---------------------------------------------------------------------------\u001b[0m",
      "\u001b[0;31mValueError\u001b[0m                                Traceback (most recent call last)",
      "\u001b[0;32m<ipython-input-130-e1fc005408fe>\u001b[0m in \u001b[0;36m<module>\u001b[0;34m\u001b[0m\n\u001b[0;32m----> 1\u001b[0;31m \u001b[0ma\u001b[0m\u001b[0;34m.\u001b[0m\u001b[0mreshape\u001b[0m\u001b[0;34m(\u001b[0m\u001b[0;34m(\u001b[0m\u001b[0;36m5\u001b[0m\u001b[0;34m,\u001b[0m\u001b[0;36m10\u001b[0m\u001b[0;34m)\u001b[0m\u001b[0;34m)\u001b[0m\u001b[0;34m\u001b[0m\u001b[0;34m\u001b[0m\u001b[0m\n\u001b[0m",
      "\u001b[0;31mValueError\u001b[0m: cannot reshape array of size 40 into shape (5,10)"
     ]
    }
   ],
   "source": [
    "a.reshape((5,10))"
   ]
  },
  {
   "cell_type": "code",
   "execution_count": 131,
   "metadata": {},
   "outputs": [
    {
     "data": {
      "text/plain": [
       "array([[0.91034426, 0.43457504, 0.51284057, 0.88268776, 0.65390162,\n",
       "        0.30811191, 0.32252729, 0.56937793],\n",
       "       [0.18198257, 0.06664977, 0.08885812, 0.22529457, 0.05578665,\n",
       "        0.00725407, 0.90873155, 0.07395098],\n",
       "       [0.75784909, 0.26999395, 0.67780173, 0.92841833, 0.59983431,\n",
       "        0.84526954, 0.4467491 , 0.27879045],\n",
       "       [0.80516443, 0.30457498, 0.20743558, 0.411222  , 0.12945729,\n",
       "        0.5370648 , 0.1564685 , 0.88974561],\n",
       "       [0.46398892, 0.31741535, 0.84248024, 0.67543583, 0.99519624,\n",
       "        0.85150127, 0.53314034, 0.70867468]])"
      ]
     },
     "execution_count": 131,
     "metadata": {},
     "output_type": "execute_result"
    }
   ],
   "source": [
    "a.reshape((5,8))"
   ]
  },
  {
   "cell_type": "code",
   "execution_count": 133,
   "metadata": {},
   "outputs": [
    {
     "data": {
      "text/plain": [
       "19.83654724805626"
      ]
     },
     "execution_count": 133,
     "metadata": {},
     "output_type": "execute_result"
    }
   ],
   "source": [
    "a.sum()"
   ]
  },
  {
   "cell_type": "code",
   "execution_count": 134,
   "metadata": {},
   "outputs": [
    {
     "data": {
      "text/plain": [
       "array([5.55350538, 3.94241069, 4.69703303, 5.64359815])"
      ]
     },
     "execution_count": 134,
     "metadata": {},
     "output_type": "execute_result"
    }
   ],
   "source": [
    "a.sum(axis=0)"
   ]
  },
  {
   "cell_type": "code",
   "execution_count": 135,
   "metadata": {},
   "outputs": [
    {
     "data": {
      "text/plain": [
       "array([[0.91034426, 0.43457504, 0.51284057, 0.88268776],\n",
       "       [0.65390162, 0.30811191, 0.32252729, 0.56937793],\n",
       "       [0.18198257, 0.06664977, 0.08885812, 0.22529457],\n",
       "       [0.05578665, 0.00725407, 0.90873155, 0.07395098],\n",
       "       [0.75784909, 0.26999395, 0.67780173, 0.92841833],\n",
       "       [0.59983431, 0.84526954, 0.4467491 , 0.27879045],\n",
       "       [0.80516443, 0.30457498, 0.20743558, 0.411222  ],\n",
       "       [0.12945729, 0.5370648 , 0.1564685 , 0.88974561],\n",
       "       [0.46398892, 0.31741535, 0.84248024, 0.67543583],\n",
       "       [0.99519624, 0.85150127, 0.53314034, 0.70867468]])"
      ]
     },
     "execution_count": 135,
     "metadata": {},
     "output_type": "execute_result"
    }
   ],
   "source": [
    "a"
   ]
  },
  {
   "cell_type": "code",
   "execution_count": 136,
   "metadata": {},
   "outputs": [
    {
     "data": {
      "text/plain": [
       "array([2.74044763, 1.85391875, 0.56278503, 1.04572325, 2.63406309,\n",
       "       2.1706434 , 1.72839699, 1.71273621, 2.29932035, 3.08851254])"
      ]
     },
     "execution_count": 136,
     "metadata": {},
     "output_type": "execute_result"
    }
   ],
   "source": [
    "a.sum(axis=1)"
   ]
  },
  {
   "cell_type": "code",
   "execution_count": 137,
   "metadata": {},
   "outputs": [
    {
     "data": {
      "text/plain": [
       "0.4959136812014065"
      ]
     },
     "execution_count": 137,
     "metadata": {},
     "output_type": "execute_result"
    }
   ],
   "source": [
    "a.mean()"
   ]
  },
  {
   "cell_type": "code",
   "execution_count": 138,
   "metadata": {},
   "outputs": [
    {
     "data": {
      "text/plain": [
       "array([0.55535054, 0.39424107, 0.4697033 , 0.56435982])"
      ]
     },
     "execution_count": 138,
     "metadata": {},
     "output_type": "execute_result"
    }
   ],
   "source": [
    "a.mean(axis=0)"
   ]
  },
  {
   "cell_type": "code",
   "execution_count": 139,
   "metadata": {},
   "outputs": [
    {
     "data": {
      "text/plain": [
       "array([0.68511191, 0.46347969, 0.14069626, 0.26143081, 0.65851577,\n",
       "       0.54266085, 0.43209925, 0.42818405, 0.57483009, 0.77212813])"
      ]
     },
     "execution_count": 139,
     "metadata": {},
     "output_type": "execute_result"
    }
   ],
   "source": [
    "a.mean(axis=1)"
   ]
  },
  {
   "cell_type": "code",
   "execution_count": 146,
   "metadata": {},
   "outputs": [
    {
     "data": {
      "text/plain": [
       "array([0.91034426, 0.30811191])"
      ]
     },
     "execution_count": 146,
     "metadata": {},
     "output_type": "execute_result"
    }
   ],
   "source": [
    "a[[0,1], [0,1]]"
   ]
  },
  {
   "cell_type": "code",
   "execution_count": 147,
   "metadata": {},
   "outputs": [
    {
     "data": {
      "text/plain": [
       "array([[0.91034426, 0.43457504, 0.51284057, 0.88268776],\n",
       "       [0.65390162, 0.30811191, 0.32252729, 0.56937793]])"
      ]
     },
     "execution_count": 147,
     "metadata": {},
     "output_type": "execute_result"
    }
   ],
   "source": [
    "a[ [0,1] , :]"
   ]
  },
  {
   "cell_type": "code",
   "execution_count": 159,
   "metadata": {},
   "outputs": [
    {
     "data": {
      "text/plain": [
       "array([[6.95183186e-310, 6.95183186e-310, 6.95182817e-310, ...,\n",
       "        6.95183186e-310, 6.95182718e-310, 6.95183181e-310],\n",
       "       [6.95183186e-310, 6.95182723e-310, 6.95183173e-310, ...,\n",
       "        6.95183186e-310, 6.95183186e-310, 6.95183186e-310],\n",
       "       [6.95183189e-310, 6.95183189e-310, 6.95183186e-310, ...,\n",
       "        6.95183189e-310, 6.95183173e-310, 6.95183189e-310],\n",
       "       ...,\n",
       "       [6.95183094e-310, 6.95183094e-310, 6.95183094e-310, ...,\n",
       "        6.95183094e-310, 6.95183094e-310, 6.95183094e-310],\n",
       "       [6.95183094e-310, 6.95183094e-310, 6.95183094e-310, ...,\n",
       "        6.95183094e-310, 6.95183094e-310, 6.95183094e-310],\n",
       "       [6.95183094e-310, 6.95183094e-310, 6.95183094e-310, ...,\n",
       "        6.95183094e-310, 6.95183094e-310, 6.95183094e-310]])"
      ]
     },
     "execution_count": 159,
     "metadata": {},
     "output_type": "execute_result"
    }
   ],
   "source": [
    "np.empty((100,100))"
   ]
  },
  {
   "cell_type": "code",
   "execution_count": 157,
   "metadata": {},
   "outputs": [
    {
     "name": "stdout",
     "output_type": "stream",
     "text": [
      "arange([start,] stop[, step,], dtype=None)\n",
      "\n",
      "Return evenly spaced values within a given interval.\n",
      "\n",
      "Values are generated within the half-open interval ``[start, stop)``\n",
      "(in other words, the interval including `start` but excluding `stop`).\n",
      "For integer arguments the function is equivalent to the Python built-in\n",
      "`range` function, but returns an ndarray rather than a list.\n",
      "\n",
      "When using a non-integer step, such as 0.1, the results will often not\n",
      "be consistent.  It is better to use `numpy.linspace` for these cases.\n",
      "\n",
      "Parameters\n",
      "----------\n",
      "start : number, optional\n",
      "    Start of interval.  The interval includes this value.  The default\n",
      "    start value is 0.\n",
      "stop : number\n",
      "    End of interval.  The interval does not include this value, except\n",
      "    in some cases where `step` is not an integer and floating point\n",
      "    round-off affects the length of `out`.\n",
      "step : number, optional\n",
      "    Spacing between values.  For any output `out`, this is the distance\n",
      "    between two adjacent values, ``out[i+1] - out[i]``.  The default\n",
      "    step size is 1.  If `step` is specified as a position argument,\n",
      "    `start` must also be given.\n",
      "dtype : dtype\n",
      "    The type of the output array.  If `dtype` is not given, infer the data\n",
      "    type from the other input arguments.\n",
      "\n",
      "Returns\n",
      "-------\n",
      "arange : ndarray\n",
      "    Array of evenly spaced values.\n",
      "\n",
      "    For floating point arguments, the length of the result is\n",
      "    ``ceil((stop - start)/step)``.  Because of floating point overflow,\n",
      "    this rule may result in the last element of `out` being greater\n",
      "    than `stop`.\n",
      "\n",
      "See Also\n",
      "--------\n",
      "numpy.linspace : Evenly spaced numbers with careful handling of endpoints.\n",
      "numpy.ogrid: Arrays of evenly spaced numbers in N-dimensions.\n",
      "numpy.mgrid: Grid-shaped arrays of evenly spaced numbers in N-dimensions.\n",
      "\n",
      "Examples\n",
      "--------\n",
      ">>> np.arange(3)\n",
      "array([0, 1, 2])\n",
      ">>> np.arange(3.0)\n",
      "array([ 0.,  1.,  2.])\n",
      ">>> np.arange(3,7)\n",
      "array([3, 4, 5, 6])\n",
      ">>> np.arange(3,7,2)\n",
      "array([3, 5])\n"
     ]
    }
   ],
   "source": [
    "np.info(np.arange)"
   ]
  },
  {
   "cell_type": "code",
   "execution_count": 156,
   "metadata": {},
   "outputs": [
    {
     "name": "stdout",
     "output_type": "stream",
     "text": [
      "arange([start,] stop[, step,], dtype=None)\n",
      "\n",
      "    Return evenly spaced values within a given interval.\n",
      "\n",
      "    Values are generated within the half-open interval ``[start, stop)``\n",
      "    (in other words, the interval including `start` but excluding `stop`).\n",
      "    For integer arguments the function is equivalent to the Python built-in\n",
      "    `range` function, but returns an ndarray rather than a list.\n",
      "\n",
      "    When using a non-integer step, such as 0.1, the results will often not\n",
      "    be consistent.  It is better to use `numpy.linspace` for these cases.\n",
      "\n",
      "    Parameters\n",
      "    ----------\n",
      "    start : number, optional\n",
      "        Start of interval.  The interval includes this value.  The default\n",
      "        start value is 0.\n",
      "    stop : number\n",
      "        End of interval.  The interval does not include this value, except\n",
      "        in some cases where `step` is not an integer and floating point\n",
      "        round-off affects the length of `out`.\n",
      "    step : number, optional\n",
      "        Spacing between values.  For any output `out`, this is the distance\n",
      "        between two adjacent values, ``out[i+1] - out[i]``.  The default\n",
      "        step size is 1.  If `step` is specified as a position argument,\n",
      "        `start` must also be given.\n",
      "    dtype : dtype\n",
      "        The type of the output array.  If `dtype` is not given, infer the data\n",
      "        type from the other input arguments.\n",
      "\n",
      "    Returns\n",
      "    -------\n",
      "    arange : ndarray\n",
      "        Array of evenly spaced values.\n",
      "\n",
      "        For floating point arguments, the length of the result is\n",
      "        ``ceil((stop - start)/step)``.  Because of floating point overflow,\n",
      "        this rule may result in the last element of `out` being greater\n",
      "        than `stop`.\n",
      "\n",
      "    See Also\n",
      "    --------\n",
      "    numpy.linspace : Evenly spaced numbers with careful handling of endpoints.\n",
      "    numpy.ogrid: Arrays of evenly spaced numbers in N-dimensions.\n",
      "    numpy.mgrid: Grid-shaped arrays of evenly spaced numbers in N-dimensions.\n",
      "\n",
      "    Examples\n",
      "    --------\n",
      "    >>> np.arange(3)\n",
      "    array([0, 1, 2])\n",
      "    >>> np.arange(3.0)\n",
      "    array([ 0.,  1.,  2.])\n",
      "    >>> np.arange(3,7)\n",
      "    array([3, 4, 5, 6])\n",
      "    >>> np.arange(3,7,2)\n",
      "    array([3, 5])\n"
     ]
    }
   ],
   "source": [
    "print (np.arange.__doc__)"
   ]
  },
  {
   "cell_type": "code",
   "execution_count": 160,
   "metadata": {},
   "outputs": [
    {
     "name": "stdout",
     "output_type": "stream",
     "text": [
      "Help on built-in function arange in module numpy:\n",
      "\n",
      "arange(...)\n",
      "    arange([start,] stop[, step,], dtype=None)\n",
      "    \n",
      "    Return evenly spaced values within a given interval.\n",
      "    \n",
      "    Values are generated within the half-open interval ``[start, stop)``\n",
      "    (in other words, the interval including `start` but excluding `stop`).\n",
      "    For integer arguments the function is equivalent to the Python built-in\n",
      "    `range` function, but returns an ndarray rather than a list.\n",
      "    \n",
      "    When using a non-integer step, such as 0.1, the results will often not\n",
      "    be consistent.  It is better to use `numpy.linspace` for these cases.\n",
      "    \n",
      "    Parameters\n",
      "    ----------\n",
      "    start : number, optional\n",
      "        Start of interval.  The interval includes this value.  The default\n",
      "        start value is 0.\n",
      "    stop : number\n",
      "        End of interval.  The interval does not include this value, except\n",
      "        in some cases where `step` is not an integer and floating point\n",
      "        round-off affects the length of `out`.\n",
      "    step : number, optional\n",
      "        Spacing between values.  For any output `out`, this is the distance\n",
      "        between two adjacent values, ``out[i+1] - out[i]``.  The default\n",
      "        step size is 1.  If `step` is specified as a position argument,\n",
      "        `start` must also be given.\n",
      "    dtype : dtype\n",
      "        The type of the output array.  If `dtype` is not given, infer the data\n",
      "        type from the other input arguments.\n",
      "    \n",
      "    Returns\n",
      "    -------\n",
      "    arange : ndarray\n",
      "        Array of evenly spaced values.\n",
      "    \n",
      "        For floating point arguments, the length of the result is\n",
      "        ``ceil((stop - start)/step)``.  Because of floating point overflow,\n",
      "        this rule may result in the last element of `out` being greater\n",
      "        than `stop`.\n",
      "    \n",
      "    See Also\n",
      "    --------\n",
      "    numpy.linspace : Evenly spaced numbers with careful handling of endpoints.\n",
      "    numpy.ogrid: Arrays of evenly spaced numbers in N-dimensions.\n",
      "    numpy.mgrid: Grid-shaped arrays of evenly spaced numbers in N-dimensions.\n",
      "    \n",
      "    Examples\n",
      "    --------\n",
      "    >>> np.arange(3)\n",
      "    array([0, 1, 2])\n",
      "    >>> np.arange(3.0)\n",
      "    array([ 0.,  1.,  2.])\n",
      "    >>> np.arange(3,7)\n",
      "    array([3, 4, 5, 6])\n",
      "    >>> np.arange(3,7,2)\n",
      "    array([3, 5])\n",
      "\n"
     ]
    }
   ],
   "source": [
    "help(np.arange)"
   ]
  },
  {
   "cell_type": "code",
   "execution_count": 161,
   "metadata": {},
   "outputs": [],
   "source": [
    "a = np.random.random((10,4))"
   ]
  },
  {
   "cell_type": "code",
   "execution_count": 162,
   "metadata": {},
   "outputs": [
    {
     "data": {
      "text/plain": [
       "array([[0.79683391, 0.25347974, 0.92577563, 0.38656224],\n",
       "       [0.63168278, 0.09892285, 0.67796582, 0.74420502],\n",
       "       [0.45661152, 0.48652765, 0.77131846, 0.82170743],\n",
       "       [0.48671481, 0.92323741, 0.61871866, 0.11600489],\n",
       "       [0.36461906, 0.9185336 , 0.94501384, 0.46753965],\n",
       "       [0.51922117, 0.95833315, 0.11351766, 0.19240031],\n",
       "       [0.4867943 , 0.57543986, 0.02064402, 0.10252277],\n",
       "       [0.17175174, 0.08612459, 0.48906271, 0.43351026],\n",
       "       [0.06018079, 0.54431405, 0.90772228, 0.96892279],\n",
       "       [0.23176151, 0.87935775, 0.39122227, 0.78592687]])"
      ]
     },
     "execution_count": 162,
     "metadata": {},
     "output_type": "execute_result"
    }
   ],
   "source": [
    "a"
   ]
  },
  {
   "cell_type": "code",
   "execution_count": 164,
   "metadata": {},
   "outputs": [
    {
     "data": {
      "text/plain": [
       "array([[ True, False,  True, False],\n",
       "       [ True, False,  True,  True],\n",
       "       [False, False,  True,  True],\n",
       "       [False,  True,  True, False],\n",
       "       [False,  True,  True, False],\n",
       "       [False,  True, False, False],\n",
       "       [False, False, False, False],\n",
       "       [False, False, False, False],\n",
       "       [False, False,  True,  True],\n",
       "       [False,  True, False,  True]])"
      ]
     },
     "execution_count": 164,
     "metadata": {},
     "output_type": "execute_result"
    }
   ],
   "source": [
    "a>0.6"
   ]
  },
  {
   "cell_type": "code",
   "execution_count": 165,
   "metadata": {},
   "outputs": [
    {
     "data": {
      "text/plain": [
       "array([0.79683391, 0.92577563, 0.63168278, 0.67796582, 0.74420502,\n",
       "       0.77131846, 0.82170743, 0.92323741, 0.61871866, 0.9185336 ,\n",
       "       0.94501384, 0.95833315, 0.90772228, 0.96892279, 0.87935775,\n",
       "       0.78592687])"
      ]
     },
     "execution_count": 165,
     "metadata": {},
     "output_type": "execute_result"
    }
   ],
   "source": [
    "a[a>0.6]"
   ]
  },
  {
   "cell_type": "code",
   "execution_count": 166,
   "metadata": {},
   "outputs": [],
   "source": [
    "a[a>0.6] = 4"
   ]
  },
  {
   "cell_type": "code",
   "execution_count": 167,
   "metadata": {},
   "outputs": [
    {
     "data": {
      "text/plain": [
       "array([[4.        , 0.25347974, 4.        , 0.38656224],\n",
       "       [4.        , 0.09892285, 4.        , 4.        ],\n",
       "       [0.45661152, 0.48652765, 4.        , 4.        ],\n",
       "       [0.48671481, 4.        , 4.        , 0.11600489],\n",
       "       [0.36461906, 4.        , 4.        , 0.46753965],\n",
       "       [0.51922117, 4.        , 0.11351766, 0.19240031],\n",
       "       [0.4867943 , 0.57543986, 0.02064402, 0.10252277],\n",
       "       [0.17175174, 0.08612459, 0.48906271, 0.43351026],\n",
       "       [0.06018079, 0.54431405, 4.        , 4.        ],\n",
       "       [0.23176151, 4.        , 0.39122227, 4.        ]])"
      ]
     },
     "execution_count": 167,
     "metadata": {},
     "output_type": "execute_result"
    }
   ],
   "source": [
    "a"
   ]
  },
  {
   "cell_type": "code",
   "execution_count": 168,
   "metadata": {},
   "outputs": [],
   "source": [
    "a = np.random.random((10,4))"
   ]
  },
  {
   "cell_type": "code",
   "execution_count": 169,
   "metadata": {},
   "outputs": [
    {
     "data": {
      "text/plain": [
       "array([[0.11664114, 0.90081776, 0.76977479, 0.0725833 ],\n",
       "       [0.98007171, 0.76313216, 0.52170905, 0.91533419],\n",
       "       [0.84525193, 0.24917769, 0.17264222, 0.70513479],\n",
       "       [0.72593005, 0.81587464, 0.2714711 , 0.1839582 ],\n",
       "       [0.28367563, 0.16678939, 0.05534161, 0.91322394],\n",
       "       [0.00403207, 0.94703751, 0.97902811, 0.43846949],\n",
       "       [0.83043016, 0.8182949 , 0.91601623, 0.44531797],\n",
       "       [0.15918545, 0.70754974, 0.01450686, 0.3241225 ],\n",
       "       [0.40790456, 0.66964418, 0.28835226, 0.62179632],\n",
       "       [0.11769992, 0.34173566, 0.79710396, 0.3527701 ]])"
      ]
     },
     "execution_count": 169,
     "metadata": {},
     "output_type": "execute_result"
    }
   ],
   "source": [
    "a"
   ]
  },
  {
   "cell_type": "code",
   "execution_count": 171,
   "metadata": {},
   "outputs": [],
   "source": [
    "a[:2, :2] = np.ones((2,2))*8"
   ]
  },
  {
   "cell_type": "code",
   "execution_count": 172,
   "metadata": {},
   "outputs": [
    {
     "data": {
      "text/plain": [
       "array([[8.00000000e+00, 8.00000000e+00, 7.69774792e-01, 7.25832967e-02],\n",
       "       [8.00000000e+00, 8.00000000e+00, 5.21709052e-01, 9.15334193e-01],\n",
       "       [8.45251934e-01, 2.49177687e-01, 1.72642222e-01, 7.05134788e-01],\n",
       "       [7.25930048e-01, 8.15874642e-01, 2.71471100e-01, 1.83958199e-01],\n",
       "       [2.83675632e-01, 1.66789390e-01, 5.53416108e-02, 9.13223941e-01],\n",
       "       [4.03206965e-03, 9.47037514e-01, 9.79028114e-01, 4.38469488e-01],\n",
       "       [8.30430158e-01, 8.18294901e-01, 9.16016232e-01, 4.45317973e-01],\n",
       "       [1.59185446e-01, 7.07549741e-01, 1.45068593e-02, 3.24122500e-01],\n",
       "       [4.07904557e-01, 6.69644181e-01, 2.88352264e-01, 6.21796324e-01],\n",
       "       [1.17699916e-01, 3.41735664e-01, 7.97103965e-01, 3.52770099e-01]])"
      ]
     },
     "execution_count": 172,
     "metadata": {},
     "output_type": "execute_result"
    }
   ],
   "source": [
    "a"
   ]
  },
  {
   "cell_type": "code",
   "execution_count": 173,
   "metadata": {},
   "outputs": [],
   "source": [
    "a = np.random.random((10,4))"
   ]
  },
  {
   "cell_type": "code",
   "execution_count": 174,
   "metadata": {},
   "outputs": [
    {
     "data": {
      "text/plain": [
       "array([[0.82164049, 0.19352902, 0.05711344, 0.28260897],\n",
       "       [0.59726084, 0.51859015, 0.39009567, 0.08538083],\n",
       "       [0.58735639, 0.40942708, 0.2441224 , 0.03564297],\n",
       "       [0.61365861, 0.9384137 , 0.15112556, 0.86910738],\n",
       "       [0.99333749, 0.99460423, 0.56210331, 0.60220333],\n",
       "       [0.04833048, 0.07312763, 0.68074445, 0.35236327],\n",
       "       [0.82015041, 0.27351077, 0.25745896, 0.62515886],\n",
       "       [0.12450278, 0.62692996, 0.86326096, 0.08718809],\n",
       "       [0.32797452, 0.56749623, 0.15775214, 0.31211542],\n",
       "       [0.21574227, 0.7574958 , 0.78618495, 0.71996386]])"
      ]
     },
     "execution_count": 174,
     "metadata": {},
     "output_type": "execute_result"
    }
   ],
   "source": [
    "a"
   ]
  },
  {
   "cell_type": "code",
   "execution_count": 175,
   "metadata": {},
   "outputs": [
    {
     "data": {
      "text/plain": [
       "array([0.82164049, 0.9384137 , 0.86910738, 0.99333749, 0.99460423,\n",
       "       0.82015041, 0.86326096])"
      ]
     },
     "execution_count": 175,
     "metadata": {},
     "output_type": "execute_result"
    }
   ],
   "source": [
    "a[a>0.8]"
   ]
  },
  {
   "cell_type": "code",
   "execution_count": 176,
   "metadata": {},
   "outputs": [
    {
     "data": {
      "text/plain": [
       "array([0.82164049, 0.19352902, 0.05711344, 0.08538083, 0.03564297,\n",
       "       0.9384137 , 0.15112556, 0.86910738, 0.99333749, 0.99460423,\n",
       "       0.04833048, 0.07312763, 0.82015041, 0.12450278, 0.86326096,\n",
       "       0.08718809, 0.15775214])"
      ]
     },
     "execution_count": 176,
     "metadata": {},
     "output_type": "execute_result"
    }
   ],
   "source": [
    "a[  (a>0.8) | (a<0.2)  ]"
   ]
  },
  {
   "cell_type": "code",
   "execution_count": 177,
   "metadata": {},
   "outputs": [
    {
     "data": {
      "text/plain": [
       "array([0.28260897, 0.59726084, 0.51859015, 0.39009567, 0.58735639,\n",
       "       0.40942708, 0.2441224 , 0.61365861, 0.56210331, 0.60220333,\n",
       "       0.68074445, 0.35236327, 0.27351077, 0.25745896, 0.62515886,\n",
       "       0.62692996, 0.32797452, 0.56749623, 0.31211542, 0.21574227,\n",
       "       0.7574958 , 0.78618495, 0.71996386])"
      ]
     },
     "execution_count": 177,
     "metadata": {},
     "output_type": "execute_result"
    }
   ],
   "source": [
    "a[ ~ ((a>0.8) | (a<0.2))  ]"
   ]
  },
  {
   "cell_type": "code",
   "execution_count": 178,
   "metadata": {},
   "outputs": [],
   "source": [
    "a = np.random.random((2,3))"
   ]
  },
  {
   "cell_type": "code",
   "execution_count": 179,
   "metadata": {},
   "outputs": [],
   "source": [
    "b = np.random.random((2,3))"
   ]
  },
  {
   "cell_type": "code",
   "execution_count": 180,
   "metadata": {},
   "outputs": [
    {
     "data": {
      "text/plain": [
       "array([[0.09967707, 0.48059882, 0.99304391],\n",
       "       [0.43176898, 0.02422939, 0.38226235]])"
      ]
     },
     "execution_count": 180,
     "metadata": {},
     "output_type": "execute_result"
    }
   ],
   "source": [
    "a"
   ]
  },
  {
   "cell_type": "code",
   "execution_count": 181,
   "metadata": {},
   "outputs": [
    {
     "data": {
      "text/plain": [
       "array([[0.16805678, 0.57776481, 0.63451924],\n",
       "       [0.47654105, 0.32328421, 0.38376588]])"
      ]
     },
     "execution_count": 181,
     "metadata": {},
     "output_type": "execute_result"
    }
   ],
   "source": [
    "b"
   ]
  },
  {
   "cell_type": "code",
   "execution_count": 182,
   "metadata": {},
   "outputs": [
    {
     "data": {
      "text/plain": [
       "array([[0.09967707, 0.48059882, 0.99304391, 0.16805678, 0.57776481,\n",
       "        0.63451924],\n",
       "       [0.43176898, 0.02422939, 0.38226235, 0.47654105, 0.32328421,\n",
       "        0.38376588]])"
      ]
     },
     "execution_count": 182,
     "metadata": {},
     "output_type": "execute_result"
    }
   ],
   "source": [
    "np.hstack((a,b))"
   ]
  },
  {
   "cell_type": "code",
   "execution_count": 183,
   "metadata": {},
   "outputs": [
    {
     "data": {
      "text/plain": [
       "(2, 6)"
      ]
     },
     "execution_count": 183,
     "metadata": {},
     "output_type": "execute_result"
    }
   ],
   "source": [
    "np.hstack((a,b)).shape"
   ]
  },
  {
   "cell_type": "code",
   "execution_count": 185,
   "metadata": {},
   "outputs": [
    {
     "data": {
      "text/plain": [
       "array([[0.09967707, 0.48059882, 0.99304391],\n",
       "       [0.43176898, 0.02422939, 0.38226235],\n",
       "       [0.16805678, 0.57776481, 0.63451924],\n",
       "       [0.47654105, 0.32328421, 0.38376588]])"
      ]
     },
     "execution_count": 185,
     "metadata": {},
     "output_type": "execute_result"
    }
   ],
   "source": [
    "np.vstack((a,b))"
   ]
  },
  {
   "cell_type": "code",
   "execution_count": 186,
   "metadata": {},
   "outputs": [
    {
     "data": {
      "text/plain": [
       "array([[0.09967707, 0.48059882, 0.99304391, 0.16805678, 0.57776481,\n",
       "        0.63451924],\n",
       "       [0.43176898, 0.02422939, 0.38226235, 0.47654105, 0.32328421,\n",
       "        0.38376588]])"
      ]
     },
     "execution_count": 186,
     "metadata": {},
     "output_type": "execute_result"
    }
   ],
   "source": [
    "np.block([a,b])"
   ]
  },
  {
   "cell_type": "code",
   "execution_count": 187,
   "metadata": {},
   "outputs": [
    {
     "data": {
      "text/plain": [
       "array([[0.09967707, 0.48059882, 0.99304391],\n",
       "       [0.43176898, 0.02422939, 0.38226235],\n",
       "       [0.16805678, 0.57776481, 0.63451924],\n",
       "       [0.47654105, 0.32328421, 0.38376588]])"
      ]
     },
     "execution_count": 187,
     "metadata": {},
     "output_type": "execute_result"
    }
   ],
   "source": [
    "np.block([[a], [b]])"
   ]
  },
  {
   "cell_type": "markdown",
   "metadata": {},
   "source": [
    "```\n",
    "A       B\n",
    "0 1     5 6\n",
    "2 3     7 8\n",
    "\n",
    "A B\n",
    "B A\n",
    "\n",
    "0 1 5 6 \n",
    "2 3 7 8\n",
    "5 6 0 1\n",
    "7 8 2 3\n",
    "```"
   ]
  },
  {
   "cell_type": "code",
   "execution_count": 188,
   "metadata": {},
   "outputs": [],
   "source": [
    "a = np.array([0,1,2,3]).reshape((2,-1))"
   ]
  },
  {
   "cell_type": "code",
   "execution_count": 189,
   "metadata": {},
   "outputs": [
    {
     "data": {
      "text/plain": [
       "array([[0, 1],\n",
       "       [2, 3]])"
      ]
     },
     "execution_count": 189,
     "metadata": {},
     "output_type": "execute_result"
    }
   ],
   "source": [
    "a\n"
   ]
  },
  {
   "cell_type": "code",
   "execution_count": 190,
   "metadata": {},
   "outputs": [],
   "source": [
    "b=  np.array([5,6,7,8]).reshape((2,-1))"
   ]
  },
  {
   "cell_type": "code",
   "execution_count": 191,
   "metadata": {},
   "outputs": [
    {
     "data": {
      "text/plain": [
       "array([[0, 1, 5, 6],\n",
       "       [2, 3, 7, 8],\n",
       "       [5, 6, 0, 1],\n",
       "       [7, 8, 2, 3]])"
      ]
     },
     "execution_count": 191,
     "metadata": {},
     "output_type": "execute_result"
    }
   ],
   "source": [
    "np.block( [[a,b], [b,a]] )"
   ]
  },
  {
   "cell_type": "code",
   "execution_count": 192,
   "metadata": {},
   "outputs": [
    {
     "data": {
      "text/plain": [
       "array([[0, 1],\n",
       "       [2, 3]])"
      ]
     },
     "execution_count": 192,
     "metadata": {},
     "output_type": "execute_result"
    }
   ],
   "source": [
    "a"
   ]
  },
  {
   "cell_type": "code",
   "execution_count": 196,
   "metadata": {},
   "outputs": [
    {
     "data": {
      "text/plain": [
       "-2.0"
      ]
     },
     "execution_count": 196,
     "metadata": {},
     "output_type": "execute_result"
    }
   ],
   "source": [
    "np.linalg.det(a)"
   ]
  },
  {
   "cell_type": "code",
   "execution_count": 197,
   "metadata": {},
   "outputs": [
    {
     "data": {
      "text/plain": [
       "array([[-1.5,  0.5],\n",
       "       [ 1. ,  0. ]])"
      ]
     },
     "execution_count": 197,
     "metadata": {},
     "output_type": "execute_result"
    }
   ],
   "source": [
    "np.linalg.inv(a)"
   ]
  },
  {
   "cell_type": "code",
   "execution_count": 198,
   "metadata": {},
   "outputs": [
    {
     "data": {
      "text/plain": [
       "array([[1., 0.],\n",
       "       [0., 1.]])"
      ]
     },
     "execution_count": 198,
     "metadata": {},
     "output_type": "execute_result"
    }
   ],
   "source": [
    "a.dot(np.linalg.inv(a))"
   ]
  },
  {
   "cell_type": "code",
   "execution_count": 199,
   "metadata": {},
   "outputs": [
    {
     "data": {
      "text/plain": [
       "array([[ 0,  6],\n",
       "       [14, 24]])"
      ]
     },
     "execution_count": 199,
     "metadata": {},
     "output_type": "execute_result"
    }
   ],
   "source": [
    "a*b"
   ]
  },
  {
   "cell_type": "code",
   "execution_count": 200,
   "metadata": {},
   "outputs": [
    {
     "data": {
      "text/plain": [
       "array([[1., 0.],\n",
       "       [0., 1.]])"
      ]
     },
     "execution_count": 200,
     "metadata": {},
     "output_type": "execute_result"
    }
   ],
   "source": [
    "np.matmul(a, np.linalg.inv(a))"
   ]
  },
  {
   "cell_type": "code",
   "execution_count": 201,
   "metadata": {},
   "outputs": [],
   "source": [
    "import matplotlib.pyplot as plt"
   ]
  },
  {
   "cell_type": "code",
   "execution_count": 215,
   "metadata": {},
   "outputs": [],
   "source": [
    "#a = np.random.random((400, 400))\n",
    "a = np.zeros((400, 400))\n",
    "a[200, :] = 0.5 * np.ones((1,400))\n",
    "a[380:, :] = np.ones((20, 400))"
   ]
  },
  {
   "cell_type": "code",
   "execution_count": 222,
   "metadata": {},
   "outputs": [
    {
     "data": {
      "text/plain": [
       "<matplotlib.image.AxesImage at 0x7ff8d32a8dc0>"
      ]
     },
     "execution_count": 222,
     "metadata": {},
     "output_type": "execute_result"
    },
    {
     "data": {
      "image/png": "[encoded data removed]",
      "text/plain": [
       "<Figure size 432x288 with 1 Axes>"
      ]
     },
     "metadata": {
      "needs_background": "light"
     },
     "output_type": "display_data"
    }
   ],
   "source": [
    "plt.imshow(a, cmap='Reds')"
   ]
  },
  {
   "cell_type": "code",
   "execution_count": 223,
   "metadata": {},
   "outputs": [
    {
     "data": {
      "text/plain": [
       "<matplotlib.image.AxesImage at 0x7ff8d42a7220>"
      ]
     },
     "execution_count": 223,
     "metadata": {},
     "output_type": "execute_result"
    },
    {
     "data": {
      "image/png": "[encoded data removed]",
      "text/plain": [
       "<Figure size 432x288 with 1 Axes>"
      ]
     },
     "metadata": {
      "needs_background": "light"
     },
     "output_type": "display_data"
    }
   ],
   "source": [
    "plt.imshow(a, cmap='viridis')"
   ]
  },
  {
   "cell_type": "code",
   "execution_count": 225,
   "metadata": {},
   "outputs": [],
   "source": [
    "b = np.random.normal(2, 0.5, 10000)"
   ]
  },
  {
   "cell_type": "code",
   "execution_count": 231,
   "metadata": {},
   "outputs": [
    {
     "data": {
      "text/plain": [
       "(array([  1.,   3.,   2.,   4.,   5.,   8.,  17.,  24.,  23.,  50.,  61.,\n",
       "         77., 108., 144., 205., 223., 296., 312., 386., 437., 466., 535.,\n",
       "        542., 572., 560., 629., 540., 548., 530., 466., 414., 371., 311.,\n",
       "        282., 189., 173., 130., 106.,  78.,  59.,  27.,  36.,  19.,   9.,\n",
       "          6.,   6.,   6.,   1.,   1.,   2.]),\n",
       " array([0.14632218, 0.22066297, 0.29500376, 0.36934455, 0.44368534,\n",
       "        0.51802612, 0.59236691, 0.6667077 , 0.74104849, 0.81538928,\n",
       "        0.88973007, 0.96407086, 1.03841165, 1.11275244, 1.18709323,\n",
       "        1.26143402, 1.33577481, 1.41011559, 1.48445638, 1.55879717,\n",
       "        1.63313796, 1.70747875, 1.78181954, 1.85616033, 1.93050112,\n",
       "        2.00484191, 2.0791827 , 2.15352349, 2.22786427, 2.30220506,\n",
       "        2.37654585, 2.45088664, 2.52522743, 2.59956822, 2.67390901,\n",
       "        2.7482498 , 2.82259059, 2.89693138, 2.97127217, 3.04561295,\n",
       "        3.11995374, 3.19429453, 3.26863532, 3.34297611, 3.4173169 ,\n",
       "        3.49165769, 3.56599848, 3.64033927, 3.71468006, 3.78902085,\n",
       "        3.86336163]),\n",
       " <BarContainer object of 50 artists>)"
      ]
     },
     "execution_count": 231,
     "metadata": {},
     "output_type": "execute_result"
    },
    {
     "data": {
      "image/png": "[encoded data removed]",
      "text/plain": [
       "<Figure size 432x288 with 1 Axes>"
      ]
     },
     "metadata": {
      "needs_background": "light"
     },
     "output_type": "display_data"
    }
   ],
   "source": [
    "plt.hist(b, bins=50, )"
   ]
  },
  {
   "cell_type": "code",
   "execution_count": 237,
   "metadata": {},
   "outputs": [],
   "source": [
    "np.save('numbers.npy', a, allow_pickle=False)"
   ]
  },
  {
   "cell_type": "code",
   "execution_count": 238,
   "metadata": {},
   "outputs": [],
   "source": [
    "bb = np.load('numbers.npy')"
   ]
  },
  {
   "cell_type": "code",
   "execution_count": 239,
   "metadata": {},
   "outputs": [
    {
     "data": {
      "text/plain": [
       "array([[0., 0., 0., ..., 0., 0., 0.],\n",
       "       [0., 0., 0., ..., 0., 0., 0.],\n",
       "       [0., 0., 0., ..., 0., 0., 0.],\n",
       "       ...,\n",
       "       [1., 1., 1., ..., 1., 1., 1.],\n",
       "       [1., 1., 1., ..., 1., 1., 1.],\n",
       "       [1., 1., 1., ..., 1., 1., 1.]])"
      ]
     },
     "execution_count": 239,
     "metadata": {},
     "output_type": "execute_result"
    }
   ],
   "source": [
    "bb"
   ]
  },
  {
   "cell_type": "code",
   "execution_count": 240,
   "metadata": {},
   "outputs": [
    {
     "data": {
      "text/plain": [
       "array([[1., 0., 0.],\n",
       "       [0., 1., 0.],\n",
       "       [0., 0., 1.]])"
      ]
     },
     "execution_count": 240,
     "metadata": {},
     "output_type": "execute_result"
    }
   ],
   "source": [
    "np.eye(3)"
   ]
  },
  {
   "cell_type": "code",
   "execution_count": 247,
   "metadata": {},
   "outputs": [],
   "source": [
    "a = np.random.random((2,3))\n",
    "b = np.random.random((2,3))"
   ]
  },
  {
   "cell_type": "code",
   "execution_count": 249,
   "metadata": {},
   "outputs": [
    {
     "data": {
      "text/plain": [
       "array([[0.02901079, 0.24198614, 0.63418021],\n",
       "       [0.36267935, 0.96943709, 0.51991906]])"
      ]
     },
     "execution_count": 249,
     "metadata": {},
     "output_type": "execute_result"
    }
   ],
   "source": [
    "a"
   ]
  },
  {
   "cell_type": "code",
   "execution_count": 250,
   "metadata": {},
   "outputs": [
    {
     "data": {
      "text/plain": [
       "array([[0.97738408, 0.14605648, 0.64308621],\n",
       "       [0.7227673 , 0.34126365, 0.75843498]])"
      ]
     },
     "execution_count": 250,
     "metadata": {},
     "output_type": "execute_result"
    }
   ],
   "source": [
    "b"
   ]
  },
  {
   "cell_type": "code",
   "execution_count": 256,
   "metadata": {},
   "outputs": [],
   "source": [
    "f = np.vstack((a,b))"
   ]
  },
  {
   "cell_type": "code",
   "execution_count": 257,
   "metadata": {},
   "outputs": [],
   "source": [
    "l = np.vsplit(f, 2)"
   ]
  },
  {
   "cell_type": "code",
   "execution_count": 258,
   "metadata": {},
   "outputs": [
    {
     "data": {
      "text/plain": [
       "array([[0.02901079, 0.24198614, 0.63418021],\n",
       "       [0.36267935, 0.96943709, 0.51991906]])"
      ]
     },
     "execution_count": 258,
     "metadata": {},
     "output_type": "execute_result"
    }
   ],
   "source": [
    "l[0]"
   ]
  },
  {
   "cell_type": "code",
   "execution_count": 259,
   "metadata": {},
   "outputs": [
    {
     "data": {
      "text/plain": [
       "array([[0.97738408, 0.14605648, 0.64308621],\n",
       "       [0.7227673 , 0.34126365, 0.75843498]])"
      ]
     },
     "execution_count": 259,
     "metadata": {},
     "output_type": "execute_result"
    }
   ],
   "source": [
    "l[1]"
   ]
  },
  {
   "cell_type": "code",
   "execution_count": 261,
   "metadata": {},
   "outputs": [],
   "source": [
    "a = np.random.random((4,3,2))"
   ]
  },
  {
   "cell_type": "code",
   "execution_count": 262,
   "metadata": {},
   "outputs": [
    {
     "data": {
      "text/plain": [
       "array([[[0.97802065, 0.7498867 ],\n",
       "        [0.44254369, 0.25451652],\n",
       "        [0.71827602, 0.59238266]],\n",
       "\n",
       "       [[0.87701873, 0.56530363],\n",
       "        [0.75442683, 0.24924573],\n",
       "        [0.54135247, 0.4586013 ]],\n",
       "\n",
       "       [[0.40365882, 0.71294405],\n",
       "        [0.37863548, 0.97681321],\n",
       "        [0.47045034, 0.75938253]],\n",
       "\n",
       "       [[0.74222558, 0.07796156],\n",
       "        [0.72495488, 0.78410846],\n",
       "        [0.32311795, 0.42584033]]])"
      ]
     },
     "execution_count": 262,
     "metadata": {},
     "output_type": "execute_result"
    }
   ],
   "source": [
    "a"
   ]
  },
  {
   "cell_type": "code",
   "execution_count": 266,
   "metadata": {},
   "outputs": [
    {
     "data": {
      "text/plain": [
       "array([[3.00092379, 2.10609594],\n",
       "       [2.30056088, 2.26468391],\n",
       "       [2.05319677, 2.23620682]])"
      ]
     },
     "execution_count": 266,
     "metadata": {},
     "output_type": "execute_result"
    }
   ],
   "source": [
    "a.sum(axis=0)"
   ]
  },
  {
   "cell_type": "code",
   "execution_count": 267,
   "metadata": {},
   "outputs": [
    {
     "data": {
      "text/plain": [
       "array([[2.13884036, 1.59678589],\n",
       "       [2.17279804, 1.27315066],\n",
       "       [1.25274463, 2.44913978],\n",
       "       [1.79029841, 1.28791034]])"
      ]
     },
     "execution_count": 267,
     "metadata": {},
     "output_type": "execute_result"
    }
   ],
   "source": [
    "a.sum(axis=1)"
   ]
  },
  {
   "cell_type": "code",
   "execution_count": 270,
   "metadata": {},
   "outputs": [
    {
     "data": {
      "text/plain": [
       "array([[[0.97802065, 0.7498867 ],\n",
       "        [0.44254369, 0.25451652],\n",
       "        [0.71827602, 0.59238266]],\n",
       "\n",
       "       [[0.87701873, 0.56530363],\n",
       "        [0.75442683, 0.24924573],\n",
       "        [0.54135247, 0.4586013 ]],\n",
       "\n",
       "       [[0.40365882, 0.71294405],\n",
       "        [0.37863548, 0.97681321],\n",
       "        [0.47045034, 0.75938253]],\n",
       "\n",
       "       [[0.74222558, 0.07796156],\n",
       "        [0.72495488, 0.78410846],\n",
       "        [0.32311795, 0.42584033]]])"
      ]
     },
     "execution_count": 270,
     "metadata": {},
     "output_type": "execute_result"
    }
   ],
   "source": [
    "a"
   ]
  },
  {
   "cell_type": "code",
   "execution_count": 271,
   "metadata": {},
   "outputs": [
    {
     "data": {
      "text/plain": [
       "array([[0.71827602],\n",
       "       [0.54135247]])"
      ]
     },
     "execution_count": 271,
     "metadata": {},
     "output_type": "execute_result"
    }
   ],
   "source": [
    "a [ :2 , -1 , :1 ]"
   ]
  },
  {
   "cell_type": "code",
   "execution_count": 273,
   "metadata": {},
   "outputs": [],
   "source": [
    "from numpy.random import normal\n",
    "\n"
   ]
  },
  {
   "cell_type": "code",
   "execution_count": 282,
   "metadata": {},
   "outputs": [
    {
     "data": {
      "text/plain": [
       "array([[0, 5, 2, 8],\n",
       "       [6, 2, 6, 0],\n",
       "       [7, 8, 1, 8]])"
      ]
     },
     "execution_count": 282,
     "metadata": {},
     "output_type": "execute_result"
    }
   ],
   "source": [
    "a = np.array(10 * np.random.random((3,4)), dtype=np.int)\n",
    "a"
   ]
  },
  {
   "cell_type": "code",
   "execution_count": 287,
   "metadata": {},
   "outputs": [
    {
     "data": {
      "text/plain": [
       "8"
      ]
     },
     "execution_count": 287,
     "metadata": {},
     "output_type": "execute_result"
    }
   ],
   "source": [
    "a[2,:][a[1,:] > a[0, :]].sum()"
   ]
  },
  {
   "cell_type": "code",
   "execution_count": 289,
   "metadata": {},
   "outputs": [
    {
     "data": {
      "text/plain": [
       "array([[0, 5, 2, 8],\n",
       "       [6, 2, 6, 0],\n",
       "       [7, 8, 1, 8]])"
      ]
     },
     "execution_count": 289,
     "metadata": {},
     "output_type": "execute_result"
    }
   ],
   "source": [
    "a"
   ]
  },
  {
   "cell_type": "code",
   "execution_count": 291,
   "metadata": {},
   "outputs": [
    {
     "data": {
      "text/plain": [
       "array([[0, 6, 7],\n",
       "       [5, 2, 8],\n",
       "       [2, 6, 1],\n",
       "       [8, 0, 8]])"
      ]
     },
     "execution_count": 291,
     "metadata": {},
     "output_type": "execute_result"
    }
   ],
   "source": [
    "a.T"
   ]
  },
  {
   "cell_type": "code",
   "execution_count": 292,
   "metadata": {},
   "outputs": [
    {
     "data": {
      "text/plain": [
       "array([[0, 6, 7],\n",
       "       [5, 2, 8],\n",
       "       [2, 6, 1],\n",
       "       [8, 0, 8]])"
      ]
     },
     "execution_count": 292,
     "metadata": {},
     "output_type": "execute_result"
    }
   ],
   "source": [
    "np.transpose(a)"
   ]
  },
  {
   "cell_type": "code",
   "execution_count": 277,
   "metadata": {},
   "outputs": [
    {
     "ename": "TypeError",
     "evalue": "'dtype' is an invalid keyword argument for copy()",
     "output_type": "error",
     "traceback": [
      "\u001b[0;31m---------------------------------------------------------------------------\u001b[0m",
      "\u001b[0;31mTypeError\u001b[0m                                 Traceback (most recent call last)",
      "\u001b[0;32m<ipython-input-277-bf1f579d9bed>\u001b[0m in \u001b[0;36m<module>\u001b[0;34m\u001b[0m\n\u001b[0;32m----> 1\u001b[0;31m \u001b[0ma\u001b[0m\u001b[0;34m.\u001b[0m\u001b[0mcopy\u001b[0m\u001b[0;34m(\u001b[0m\u001b[0mdtype\u001b[0m\u001b[0;34m=\u001b[0m\u001b[0mnp\u001b[0m\u001b[0;34m.\u001b[0m\u001b[0mint\u001b[0m\u001b[0;34m)\u001b[0m\u001b[0;34m\u001b[0m\u001b[0;34m\u001b[0m\u001b[0m\n\u001b[0m",
      "\u001b[0;31mTypeError\u001b[0m: 'dtype' is an invalid keyword argument for copy()"
     ]
    }
   ],
   "source": [
    "a.copy(dtype=np.int)"
   ]
  },
  {
   "cell_type": "code",
   "execution_count": 293,
   "metadata": {},
   "outputs": [
    {
     "data": {
      "text/plain": [
       "array([[0, 5, 2, 8],\n",
       "       [6, 2, 6, 0],\n",
       "       [7, 8, 1, 8]])"
      ]
     },
     "execution_count": 293,
     "metadata": {},
     "output_type": "execute_result"
    }
   ],
   "source": [
    "a"
   ]
  },
  {
   "cell_type": "code",
   "execution_count": 294,
   "metadata": {},
   "outputs": [
    {
     "data": {
      "text/plain": [
       "array([15, 14, 24])"
      ]
     },
     "execution_count": 294,
     "metadata": {},
     "output_type": "execute_result"
    }
   ],
   "source": [
    "a.sum(axis=1)"
   ]
  },
  {
   "cell_type": "code",
   "execution_count": 298,
   "metadata": {},
   "outputs": [
    {
     "data": {
      "text/plain": [
       "array([3.5, 4. , 7.5])"
      ]
     },
     "execution_count": 298,
     "metadata": {},
     "output_type": "execute_result"
    }
   ],
   "source": [
    "np.median(a, axis=1)"
   ]
  },
  {
   "cell_type": "code",
   "execution_count": 299,
   "metadata": {},
   "outputs": [
    {
     "data": {
      "text/plain": [
       "inf"
      ]
     },
     "execution_count": 299,
     "metadata": {},
     "output_type": "execute_result"
    }
   ],
   "source": [
    "np.inf\n"
   ]
  },
  {
   "cell_type": "code",
   "execution_count": 300,
   "metadata": {},
   "outputs": [
    {
     "data": {
      "text/plain": [
       "True"
      ]
     },
     "execution_count": 300,
     "metadata": {},
     "output_type": "execute_result"
    }
   ],
   "source": [
    "np.inf > 1112134123412\n"
   ]
  },
  {
   "cell_type": "code",
   "execution_count": 301,
   "metadata": {},
   "outputs": [
    {
     "data": {
      "text/plain": [
       "nan"
      ]
     },
     "execution_count": 301,
     "metadata": {},
     "output_type": "execute_result"
    }
   ],
   "source": [
    "np.nan"
   ]
  },
  {
   "cell_type": "code",
   "execution_count": 302,
   "metadata": {},
   "outputs": [],
   "source": [
    "a = np.array([1,2,3])\n",
    "b = np.array([1,0,2])"
   ]
  },
  {
   "cell_type": "code",
   "execution_count": 303,
   "metadata": {},
   "outputs": [
    {
     "name": "stderr",
     "output_type": "stream",
     "text": [
      "<ipython-input-303-aae42d317509>:1: RuntimeWarning: divide by zero encountered in true_divide\n",
      "  a/b\n"
     ]
    },
    {
     "data": {
      "text/plain": [
       "array([1. , inf, 1.5])"
      ]
     },
     "execution_count": 303,
     "metadata": {},
     "output_type": "execute_result"
    }
   ],
   "source": [
    "a/b"
   ]
  },
  {
   "cell_type": "code",
   "execution_count": 304,
   "metadata": {},
   "outputs": [
    {
     "name": "stderr",
     "output_type": "stream",
     "text": [
      "<ipython-input-304-a3c10b518fb0>:1: RuntimeWarning: divide by zero encountered in true_divide\n",
      "  c = a/b\n"
     ]
    }
   ],
   "source": [
    "c = a/b"
   ]
  },
  {
   "cell_type": "code",
   "execution_count": 305,
   "metadata": {},
   "outputs": [
    {
     "data": {
      "text/plain": [
       "array([False,  True, False])"
      ]
     },
     "execution_count": 305,
     "metadata": {},
     "output_type": "execute_result"
    }
   ],
   "source": [
    "np.isinf(c)"
   ]
  },
  {
   "cell_type": "code",
   "execution_count": 306,
   "metadata": {},
   "outputs": [],
   "source": [
    "c[np.isinf(c)] = 10"
   ]
  },
  {
   "cell_type": "code",
   "execution_count": 307,
   "metadata": {},
   "outputs": [
    {
     "data": {
      "text/plain": [
       "array([ 1. , 10. ,  1.5])"
      ]
     },
     "execution_count": 307,
     "metadata": {},
     "output_type": "execute_result"
    }
   ],
   "source": [
    "c"
   ]
  },
  {
   "cell_type": "code",
   "execution_count": null,
   "metadata": {},
   "outputs": [],
   "source": []
  }
 ],
 "metadata": {
  "kernelspec": {
   "display_name": "Python 3",
   "language": "python",
   "name": "python3"
  },
  "language_info": {
   "codemirror_mode": {
    "name": "ipython",
    "version": 3
   },
   "file_extension": ".py",
   "mimetype": "text/x-python",
   "name": "python",
   "nbconvert_exporter": "python",
   "pygments_lexer": "ipython3",
   "version": "3.8.5"
  }
 },
 "nbformat": 4,
 "nbformat_minor": 4
}
