{
 "cells": [
  {
   "cell_type": "code",
   "execution_count": 1,
   "metadata": {},
   "outputs": [],
   "source": [
    "import os"
   ]
  },
  {
   "cell_type": "code",
   "execution_count": 2,
   "metadata": {},
   "outputs": [
    {
     "data": {
      "text/plain": [
       "<module 'os' from '/Users/admin/anaconda3/lib/python3.8/os.py'>"
      ]
     },
     "execution_count": 2,
     "metadata": {},
     "output_type": "execute_result"
    }
   ],
   "source": [
    "os"
   ]
  },
  {
   "cell_type": "code",
   "execution_count": 3,
   "metadata": {},
   "outputs": [],
   "source": [
    "def f(a,b):\n",
    "    '''\n",
    "    This is an amazing function\n",
    "    '''\n",
    "    return a+b"
   ]
  },
  {
   "cell_type": "code",
   "execution_count": 4,
   "metadata": {},
   "outputs": [
    {
     "data": {
      "text/plain": [
       "'\\n    This is an amazing function\\n    '"
      ]
     },
     "execution_count": 4,
     "metadata": {},
     "output_type": "execute_result"
    }
   ],
   "source": [
    "f.__doc__"
   ]
  },
  {
   "cell_type": "code",
   "execution_count": 5,
   "metadata": {},
   "outputs": [
    {
     "name": "stdout",
     "output_type": "stream",
     "text": [
      "\n",
      "    This is an amazing function\n",
      "    \n"
     ]
    }
   ],
   "source": [
    "print (f.__doc__)"
   ]
  },
  {
   "cell_type": "code",
   "execution_count": 6,
   "metadata": {},
   "outputs": [
    {
     "data": {
      "text/plain": [
       "7"
      ]
     },
     "execution_count": 6,
     "metadata": {},
     "output_type": "execute_result"
    }
   ],
   "source": [
    "3 +4"
   ]
  },
  {
   "cell_type": "code",
   "execution_count": 7,
   "metadata": {},
   "outputs": [
    {
     "data": {
      "text/plain": [
       "7"
      ]
     },
     "execution_count": 7,
     "metadata": {},
     "output_type": "execute_result"
    }
   ],
   "source": [
    "int(3).__add__(4)"
   ]
  },
  {
   "cell_type": "code",
   "execution_count": 9,
   "metadata": {},
   "outputs": [
    {
     "ename": "AttributeError",
     "evalue": "'int' object attribute '__add__' is read-only",
     "output_type": "error",
     "traceback": [
      "\u001b[0;31m---------------------------------------------------------------------------\u001b[0m",
      "\u001b[0;31mAttributeError\u001b[0m                            Traceback (most recent call last)",
      "\u001b[0;32m<ipython-input-9-6bb31bbfdefc>\u001b[0m in \u001b[0;36m<module>\u001b[0;34m\u001b[0m\n\u001b[0;32m----> 1\u001b[0;31m \u001b[0mint\u001b[0m\u001b[0;34m(\u001b[0m\u001b[0;36m3\u001b[0m\u001b[0;34m)\u001b[0m\u001b[0;34m.\u001b[0m\u001b[0m__add__\u001b[0m \u001b[0;34m=\u001b[0m \u001b[0;32mlambda\u001b[0m \u001b[0mx\u001b[0m\u001b[0;34m,\u001b[0m\u001b[0my\u001b[0m \u001b[0;34m:\u001b[0m \u001b[0mx\u001b[0m\u001b[0;34m-\u001b[0m\u001b[0my\u001b[0m\u001b[0;34m\u001b[0m\u001b[0;34m\u001b[0m\u001b[0m\n\u001b[0m",
      "\u001b[0;31mAttributeError\u001b[0m: 'int' object attribute '__add__' is read-only"
     ]
    }
   ],
   "source": [
    "int(3).__add__ = lambda x,y : x-y"
   ]
  },
  {
   "cell_type": "code",
   "execution_count": 10,
   "metadata": {},
   "outputs": [],
   "source": [
    "a = [1,2,3]"
   ]
  },
  {
   "cell_type": "code",
   "execution_count": 11,
   "metadata": {},
   "outputs": [
    {
     "data": {
      "text/plain": [
       "3"
      ]
     },
     "execution_count": 11,
     "metadata": {},
     "output_type": "execute_result"
    }
   ],
   "source": [
    "len(a)"
   ]
  },
  {
   "cell_type": "code",
   "execution_count": 12,
   "metadata": {},
   "outputs": [],
   "source": [
    "a.append(6)"
   ]
  },
  {
   "cell_type": "code",
   "execution_count": 13,
   "metadata": {},
   "outputs": [
    {
     "data": {
      "text/plain": [
       "<function list.append(object, /)>"
      ]
     },
     "execution_count": 13,
     "metadata": {},
     "output_type": "execute_result"
    }
   ],
   "source": [
    "a.append"
   ]
  },
  {
   "cell_type": "code",
   "execution_count": 36,
   "metadata": {},
   "outputs": [],
   "source": [
    "\n",
    "class Person:\n",
    "    \n",
    "    ADULT_AGE = 18\n",
    "    \n",
    "    def is_adult(self, ):\n",
    "        return self.age>self.ADULT_AGE\n",
    "    \n",
    "    def set_age(self, age):\n",
    "        self.age = age\n",
    "        \n",
    "    def get_age(self,):\n",
    "        return self.age"
   ]
  },
  {
   "cell_type": "code",
   "execution_count": 37,
   "metadata": {},
   "outputs": [],
   "source": [
    "mitsos = Person()"
   ]
  },
  {
   "cell_type": "code",
   "execution_count": 27,
   "metadata": {},
   "outputs": [
    {
     "data": {
      "text/plain": [
       "True"
      ]
     },
     "execution_count": 27,
     "metadata": {},
     "output_type": "execute_result"
    }
   ],
   "source": [
    "#mitsos.is_adult(50)"
   ]
  },
  {
   "cell_type": "code",
   "execution_count": 39,
   "metadata": {},
   "outputs": [],
   "source": [
    "mitsos.set_age(50)"
   ]
  },
  {
   "cell_type": "code",
   "execution_count": 40,
   "metadata": {},
   "outputs": [
    {
     "data": {
      "text/plain": [
       "50"
      ]
     },
     "execution_count": 40,
     "metadata": {},
     "output_type": "execute_result"
    }
   ],
   "source": [
    "mitsos.get_age()"
   ]
  },
  {
   "cell_type": "code",
   "execution_count": 41,
   "metadata": {},
   "outputs": [
    {
     "data": {
      "text/plain": [
       "True"
      ]
     },
     "execution_count": 41,
     "metadata": {},
     "output_type": "execute_result"
    }
   ],
   "source": [
    "mitsos.is_adult()"
   ]
  },
  {
   "cell_type": "code",
   "execution_count": 42,
   "metadata": {},
   "outputs": [],
   "source": [
    "mitsos = Person()\n",
    "kostas = Person()"
   ]
  },
  {
   "cell_type": "code",
   "execution_count": 43,
   "metadata": {},
   "outputs": [],
   "source": [
    "mitsos.set_age(50)\n",
    "kostas.set_age(15)"
   ]
  },
  {
   "cell_type": "code",
   "execution_count": 44,
   "metadata": {},
   "outputs": [
    {
     "data": {
      "text/plain": [
       "True"
      ]
     },
     "execution_count": 44,
     "metadata": {},
     "output_type": "execute_result"
    }
   ],
   "source": [
    "mitsos.is_adult()"
   ]
  },
  {
   "cell_type": "code",
   "execution_count": 45,
   "metadata": {},
   "outputs": [
    {
     "data": {
      "text/plain": [
       "False"
      ]
     },
     "execution_count": 45,
     "metadata": {},
     "output_type": "execute_result"
    }
   ],
   "source": [
    "kostas.is_adult()"
   ]
  },
  {
   "cell_type": "code",
   "execution_count": 113,
   "metadata": {},
   "outputs": [],
   "source": [
    "\n",
    "class Person:\n",
    "    \n",
    "    ADULT_AGE = 18\n",
    "    \n",
    "    def __init__(self, name, age):\n",
    "        self.set_age(age)\n",
    "        self.name  = name\n",
    "        \n",
    "    def __str__(self,):\n",
    "        return f'Name: {self.name} Age: {self.age}'\n",
    "    \n",
    "    def __len__(self,):\n",
    "        return 100\n",
    "    \n",
    "    def __add__(self, another_person):\n",
    "        return Person(\n",
    "            age=self.age + another_person.age,\n",
    "            name = f'{self.name} {another_person.name}'\n",
    "        )\n",
    "    \n",
    "    def is_adult(self, ):\n",
    "        # All these three are equivalent\n",
    "        #return self.age>self.ADULT_AGE\n",
    "        \n",
    "        #return self.is_adult_2(self.age)\n",
    "    \n",
    "        return Person.is_adult_2(self.age)\n",
    "    \n",
    "    @staticmethod\n",
    "    def is_adult_2(age):\n",
    "        return age>Person.ADULT_AGE\n",
    "    \n",
    "    def set_age(self, age):\n",
    "        self.age = age\n",
    "        \n",
    "    def get_age(self,):\n",
    "        return self.age"
   ]
  },
  {
   "cell_type": "code",
   "execution_count": 114,
   "metadata": {},
   "outputs": [
    {
     "data": {
      "text/plain": [
       "True"
      ]
     },
     "execution_count": 114,
     "metadata": {},
     "output_type": "execute_result"
    }
   ],
   "source": [
    "Person.is_adult_2(40)"
   ]
  },
  {
   "cell_type": "code",
   "execution_count": 115,
   "metadata": {},
   "outputs": [
    {
     "name": "stdout",
     "output_type": "stream",
     "text": [
      "The Zen of Python, by Tim Peters\n",
      "\n",
      "Beautiful is better than ugly.\n",
      "Explicit is better than implicit.\n",
      "Simple is better than complex.\n",
      "Complex is better than complicated.\n",
      "Flat is better than nested.\n",
      "Sparse is better than dense.\n",
      "Readability counts.\n",
      "Special cases aren't special enough to break the rules.\n",
      "Although practicality beats purity.\n",
      "Errors should never pass silently.\n",
      "Unless explicitly silenced.\n",
      "In the face of ambiguity, refuse the temptation to guess.\n",
      "There should be one-- and preferably only one --obvious way to do it.\n",
      "Although that way may not be obvious at first unless you're Dutch.\n",
      "Now is better than never.\n",
      "Although never is often better than *right* now.\n",
      "If the implementation is hard to explain, it's a bad idea.\n",
      "If the implementation is easy to explain, it may be a good idea.\n",
      "Namespaces are one honking great idea -- let's do more of those!\n"
     ]
    }
   ],
   "source": [
    "import this"
   ]
  },
  {
   "cell_type": "code",
   "execution_count": null,
   "metadata": {},
   "outputs": [],
   "source": [
    "Protein.structure.length.visualize"
   ]
  },
  {
   "cell_type": "code",
   "execution_count": 47,
   "metadata": {},
   "outputs": [
    {
     "ename": "TypeError",
     "evalue": "__init__() missing 1 required positional argument: 'age'",
     "output_type": "error",
     "traceback": [
      "\u001b[0;31m---------------------------------------------------------------------------\u001b[0m",
      "\u001b[0;31mTypeError\u001b[0m                                 Traceback (most recent call last)",
      "\u001b[0;32m<ipython-input-47-8fa818a94c26>\u001b[0m in \u001b[0;36m<module>\u001b[0;34m\u001b[0m\n\u001b[0;32m----> 1\u001b[0;31m \u001b[0mmitsos\u001b[0m \u001b[0;34m=\u001b[0m \u001b[0mPerson\u001b[0m\u001b[0;34m(\u001b[0m\u001b[0;34m)\u001b[0m\u001b[0;34m\u001b[0m\u001b[0;34m\u001b[0m\u001b[0m\n\u001b[0m",
      "\u001b[0;31mTypeError\u001b[0m: __init__() missing 1 required positional argument: 'age'"
     ]
    }
   ],
   "source": [
    "mitsos = Person()"
   ]
  },
  {
   "cell_type": "code",
   "execution_count": 48,
   "metadata": {},
   "outputs": [],
   "source": [
    "mitsos = Person(50)"
   ]
  },
  {
   "cell_type": "code",
   "execution_count": 52,
   "metadata": {},
   "outputs": [
    {
     "ename": "TypeError",
     "evalue": "__init__() missing 1 required positional argument: 'name'",
     "output_type": "error",
     "traceback": [
      "\u001b[0;31m---------------------------------------------------------------------------\u001b[0m",
      "\u001b[0;31mTypeError\u001b[0m                                 Traceback (most recent call last)",
      "\u001b[0;32m<ipython-input-52-a6bdf12f0997>\u001b[0m in \u001b[0;36m<module>\u001b[0;34m\u001b[0m\n\u001b[0;32m----> 1\u001b[0;31m \u001b[0mmitsos\u001b[0m \u001b[0;34m=\u001b[0m \u001b[0mPerson\u001b[0m\u001b[0;34m(\u001b[0m\u001b[0mage\u001b[0m\u001b[0;34m=\u001b[0m\u001b[0;36m50\u001b[0m\u001b[0;34m)\u001b[0m\u001b[0;34m\u001b[0m\u001b[0;34m\u001b[0m\u001b[0m\n\u001b[0m",
      "\u001b[0;31mTypeError\u001b[0m: __init__() missing 1 required positional argument: 'name'"
     ]
    }
   ],
   "source": [
    "mitsos = Person(age=50)"
   ]
  },
  {
   "cell_type": "code",
   "execution_count": 50,
   "metadata": {},
   "outputs": [
    {
     "data": {
      "text/plain": [
       "True"
      ]
     },
     "execution_count": 50,
     "metadata": {},
     "output_type": "execute_result"
    }
   ],
   "source": [
    "mitsos.is_adult()"
   ]
  },
  {
   "cell_type": "code",
   "execution_count": 69,
   "metadata": {},
   "outputs": [],
   "source": [
    "mitsos = Person(age=50, name='Mitsos')"
   ]
  },
  {
   "cell_type": "code",
   "execution_count": 66,
   "metadata": {},
   "outputs": [
    {
     "name": "stdout",
     "output_type": "stream",
     "text": [
      "Name: Mitsos Age: 50\n"
     ]
    }
   ],
   "source": [
    "print (mitsos)"
   ]
  },
  {
   "cell_type": "code",
   "execution_count": 70,
   "metadata": {},
   "outputs": [
    {
     "data": {
      "text/plain": [
       "100"
      ]
     },
     "execution_count": 70,
     "metadata": {},
     "output_type": "execute_result"
    }
   ],
   "source": [
    "len(mitsos)"
   ]
  },
  {
   "cell_type": "code",
   "execution_count": 149,
   "metadata": {},
   "outputs": [],
   "source": [
    "class Gene:\n",
    "    \n",
    "    def __init__(self, start, end):\n",
    "        self.start = start\n",
    "        self.end = end\n",
    "        \n",
    "    def __len__(self, ):\n",
    "        return self.end - self.start\n",
    "    \n",
    "    def __iter__(self,):\n",
    "        self.i = self.start\n",
    "        return self\n",
    "        \n",
    "    def __next__(self):\n",
    "        r = self.i\n",
    "        self.i += 1\n",
    "        \n",
    "        if self.i > self.end:\n",
    "            raise StopIteration\n",
    "        \n",
    "        return r\n",
    "    \n",
    "    def __str__(self,):\n",
    "        return (f'This is a gene: start: {self.start} end: {self.end}')\n",
    "    \n",
    "    def __getitem__(self, index):\n",
    "        r = self.start + index\n",
    "        if r > self.end:\n",
    "            raise IndexError \n",
    "        return r"
   ]
  },
  {
   "cell_type": "code",
   "execution_count": 158,
   "metadata": {},
   "outputs": [],
   "source": [
    "class Protein(Gene):\n",
    "    \n",
    "    def __init__(self, start, end, name):\n",
    "        super().__init__(start, end)\n",
    "        self.name = name\n",
    "    \n",
    "    def __str__(self,):\n",
    "        return (f'This is a protein: start: {self.start} end: {self.end}')\n",
    "    \n",
    "    def __len__(self, ):\n",
    "        return (self.end - self.start)//3\n"
   ]
  },
  {
   "cell_type": "code",
   "execution_count": 152,
   "metadata": {},
   "outputs": [],
   "source": [
    "class New_Class(Protein):\n",
    "    pass"
   ]
  },
  {
   "cell_type": "code",
   "execution_count": 153,
   "metadata": {},
   "outputs": [],
   "source": [
    "class Amazing_Class(Gene, Person):\n",
    "    pass"
   ]
  },
  {
   "cell_type": "code",
   "execution_count": 155,
   "metadata": {},
   "outputs": [],
   "source": [
    "p = Amazing_Class(100, 150)"
   ]
  },
  {
   "cell_type": "code",
   "execution_count": 157,
   "metadata": {},
   "outputs": [
    {
     "data": {
      "text/plain": [
       "True"
      ]
     },
     "execution_count": 157,
     "metadata": {},
     "output_type": "execute_result"
    }
   ],
   "source": [
    "Amazing_Class.is_adult_2(30)"
   ]
  },
  {
   "cell_type": "code",
   "execution_count": 160,
   "metadata": {},
   "outputs": [],
   "source": [
    "P1 = Protein(100,160, 'P1')\n",
    "APOE = Gene(1000, 1500)"
   ]
  },
  {
   "cell_type": "code",
   "execution_count": 145,
   "metadata": {},
   "outputs": [
    {
     "name": "stdout",
     "output_type": "stream",
     "text": [
      "20\n",
      "500\n"
     ]
    }
   ],
   "source": [
    "print (len(P1))\n",
    "print (len(APOE))"
   ]
  },
  {
   "cell_type": "code",
   "execution_count": null,
   "metadata": {},
   "outputs": [],
   "source": []
  },
  {
   "cell_type": "code",
   "execution_count": 146,
   "metadata": {},
   "outputs": [
    {
     "name": "stdout",
     "output_type": "stream",
     "text": [
      "This is a protein: start: 100 end: 160\n"
     ]
    }
   ],
   "source": [
    "print (P1)"
   ]
  },
  {
   "cell_type": "code",
   "execution_count": 151,
   "metadata": {},
   "outputs": [
    {
     "name": "stdout",
     "output_type": "stream",
     "text": [
      "This is a gene: start: 1000 end: 1500\n"
     ]
    }
   ],
   "source": [
    "print (APOE)"
   ]
  },
  {
   "cell_type": "code",
   "execution_count": 123,
   "metadata": {},
   "outputs": [
    {
     "data": {
      "text/plain": [
       "150"
      ]
     },
     "execution_count": 123,
     "metadata": {},
     "output_type": "execute_result"
    }
   ],
   "source": [
    "len(P1)"
   ]
  },
  {
   "cell_type": "code",
   "execution_count": 105,
   "metadata": {},
   "outputs": [],
   "source": [
    "APOE = Gene(1000, 1500)"
   ]
  },
  {
   "cell_type": "code",
   "execution_count": 96,
   "metadata": {},
   "outputs": [
    {
     "name": "stdout",
     "output_type": "stream",
     "text": [
      "1000\n",
      "1001\n",
      "1002\n",
      "1003\n",
      "1004\n",
      "1005\n",
      "1006\n",
      "1007\n",
      "1008\n",
      "1009\n",
      "1010\n",
      "1011\n",
      "1012\n",
      "1013\n",
      "1014\n",
      "1015\n",
      "1016\n",
      "1017\n",
      "1018\n",
      "1019\n",
      "1020\n",
      "1021\n",
      "1022\n",
      "1023\n",
      "1024\n",
      "1025\n",
      "1026\n",
      "1027\n",
      "1028\n",
      "1029\n",
      "1030\n",
      "1031\n",
      "1032\n",
      "1033\n",
      "1034\n",
      "1035\n",
      "1036\n",
      "1037\n",
      "1038\n",
      "1039\n",
      "1040\n",
      "1041\n",
      "1042\n",
      "1043\n",
      "1044\n",
      "1045\n",
      "1046\n",
      "1047\n",
      "1048\n",
      "1049\n",
      "1050\n",
      "1051\n",
      "1052\n",
      "1053\n",
      "1054\n",
      "1055\n",
      "1056\n",
      "1057\n",
      "1058\n",
      "1059\n",
      "1060\n",
      "1061\n",
      "1062\n",
      "1063\n",
      "1064\n",
      "1065\n",
      "1066\n",
      "1067\n",
      "1068\n",
      "1069\n",
      "1070\n",
      "1071\n",
      "1072\n",
      "1073\n",
      "1074\n",
      "1075\n",
      "1076\n",
      "1077\n",
      "1078\n",
      "1079\n",
      "1080\n",
      "1081\n",
      "1082\n",
      "1083\n",
      "1084\n",
      "1085\n",
      "1086\n",
      "1087\n",
      "1088\n",
      "1089\n",
      "1090\n",
      "1091\n",
      "1092\n",
      "1093\n",
      "1094\n",
      "1095\n",
      "1096\n",
      "1097\n",
      "1098\n",
      "1099\n",
      "1100\n",
      "1101\n",
      "1102\n",
      "1103\n",
      "1104\n",
      "1105\n",
      "1106\n",
      "1107\n",
      "1108\n",
      "1109\n",
      "1110\n",
      "1111\n",
      "1112\n",
      "1113\n",
      "1114\n",
      "1115\n",
      "1116\n",
      "1117\n",
      "1118\n",
      "1119\n",
      "1120\n",
      "1121\n",
      "1122\n",
      "1123\n",
      "1124\n",
      "1125\n",
      "1126\n",
      "1127\n",
      "1128\n",
      "1129\n",
      "1130\n",
      "1131\n",
      "1132\n",
      "1133\n",
      "1134\n",
      "1135\n",
      "1136\n",
      "1137\n",
      "1138\n",
      "1139\n",
      "1140\n",
      "1141\n",
      "1142\n",
      "1143\n",
      "1144\n",
      "1145\n",
      "1146\n",
      "1147\n",
      "1148\n",
      "1149\n",
      "1150\n",
      "1151\n",
      "1152\n",
      "1153\n",
      "1154\n",
      "1155\n",
      "1156\n",
      "1157\n",
      "1158\n",
      "1159\n",
      "1160\n",
      "1161\n",
      "1162\n",
      "1163\n",
      "1164\n",
      "1165\n",
      "1166\n",
      "1167\n",
      "1168\n",
      "1169\n",
      "1170\n",
      "1171\n",
      "1172\n",
      "1173\n",
      "1174\n",
      "1175\n",
      "1176\n",
      "1177\n",
      "1178\n",
      "1179\n",
      "1180\n",
      "1181\n",
      "1182\n",
      "1183\n",
      "1184\n",
      "1185\n",
      "1186\n",
      "1187\n",
      "1188\n",
      "1189\n",
      "1190\n",
      "1191\n",
      "1192\n",
      "1193\n",
      "1194\n",
      "1195\n",
      "1196\n",
      "1197\n",
      "1198\n",
      "1199\n",
      "1200\n",
      "1201\n",
      "1202\n",
      "1203\n",
      "1204\n",
      "1205\n",
      "1206\n",
      "1207\n",
      "1208\n",
      "1209\n",
      "1210\n",
      "1211\n",
      "1212\n",
      "1213\n",
      "1214\n",
      "1215\n",
      "1216\n",
      "1217\n",
      "1218\n",
      "1219\n",
      "1220\n",
      "1221\n",
      "1222\n",
      "1223\n",
      "1224\n",
      "1225\n",
      "1226\n",
      "1227\n",
      "1228\n",
      "1229\n",
      "1230\n",
      "1231\n",
      "1232\n",
      "1233\n",
      "1234\n",
      "1235\n",
      "1236\n",
      "1237\n",
      "1238\n",
      "1239\n",
      "1240\n",
      "1241\n",
      "1242\n",
      "1243\n",
      "1244\n",
      "1245\n",
      "1246\n",
      "1247\n",
      "1248\n",
      "1249\n",
      "1250\n",
      "1251\n",
      "1252\n",
      "1253\n",
      "1254\n",
      "1255\n",
      "1256\n",
      "1257\n",
      "1258\n",
      "1259\n",
      "1260\n",
      "1261\n",
      "1262\n",
      "1263\n",
      "1264\n",
      "1265\n",
      "1266\n",
      "1267\n",
      "1268\n",
      "1269\n",
      "1270\n",
      "1271\n",
      "1272\n",
      "1273\n",
      "1274\n",
      "1275\n",
      "1276\n",
      "1277\n",
      "1278\n",
      "1279\n",
      "1280\n",
      "1281\n",
      "1282\n",
      "1283\n",
      "1284\n",
      "1285\n",
      "1286\n",
      "1287\n",
      "1288\n",
      "1289\n",
      "1290\n",
      "1291\n",
      "1292\n",
      "1293\n",
      "1294\n",
      "1295\n",
      "1296\n",
      "1297\n",
      "1298\n",
      "1299\n",
      "1300\n",
      "1301\n",
      "1302\n",
      "1303\n",
      "1304\n",
      "1305\n",
      "1306\n",
      "1307\n",
      "1308\n",
      "1309\n",
      "1310\n",
      "1311\n",
      "1312\n",
      "1313\n",
      "1314\n",
      "1315\n",
      "1316\n",
      "1317\n",
      "1318\n",
      "1319\n",
      "1320\n",
      "1321\n",
      "1322\n",
      "1323\n",
      "1324\n",
      "1325\n",
      "1326\n",
      "1327\n",
      "1328\n",
      "1329\n",
      "1330\n",
      "1331\n",
      "1332\n",
      "1333\n",
      "1334\n",
      "1335\n",
      "1336\n",
      "1337\n",
      "1338\n",
      "1339\n",
      "1340\n",
      "1341\n",
      "1342\n",
      "1343\n",
      "1344\n",
      "1345\n",
      "1346\n",
      "1347\n",
      "1348\n",
      "1349\n",
      "1350\n",
      "1351\n",
      "1352\n",
      "1353\n",
      "1354\n",
      "1355\n",
      "1356\n",
      "1357\n",
      "1358\n",
      "1359\n",
      "1360\n",
      "1361\n",
      "1362\n",
      "1363\n",
      "1364\n",
      "1365\n",
      "1366\n",
      "1367\n",
      "1368\n",
      "1369\n",
      "1370\n",
      "1371\n",
      "1372\n",
      "1373\n",
      "1374\n",
      "1375\n",
      "1376\n",
      "1377\n",
      "1378\n",
      "1379\n",
      "1380\n",
      "1381\n",
      "1382\n",
      "1383\n",
      "1384\n",
      "1385\n",
      "1386\n",
      "1387\n",
      "1388\n",
      "1389\n",
      "1390\n",
      "1391\n",
      "1392\n",
      "1393\n",
      "1394\n",
      "1395\n",
      "1396\n",
      "1397\n",
      "1398\n",
      "1399\n",
      "1400\n",
      "1401\n",
      "1402\n",
      "1403\n",
      "1404\n",
      "1405\n",
      "1406\n",
      "1407\n",
      "1408\n",
      "1409\n",
      "1410\n",
      "1411\n",
      "1412\n",
      "1413\n",
      "1414\n",
      "1415\n",
      "1416\n",
      "1417\n",
      "1418\n",
      "1419\n",
      "1420\n",
      "1421\n",
      "1422\n",
      "1423\n",
      "1424\n",
      "1425\n",
      "1426\n",
      "1427\n",
      "1428\n",
      "1429\n",
      "1430\n",
      "1431\n",
      "1432\n",
      "1433\n",
      "1434\n",
      "1435\n",
      "1436\n",
      "1437\n",
      "1438\n",
      "1439\n",
      "1440\n",
      "1441\n",
      "1442\n",
      "1443\n",
      "1444\n",
      "1445\n",
      "1446\n",
      "1447\n",
      "1448\n",
      "1449\n",
      "1450\n",
      "1451\n",
      "1452\n",
      "1453\n",
      "1454\n",
      "1455\n",
      "1456\n",
      "1457\n",
      "1458\n",
      "1459\n",
      "1460\n",
      "1461\n",
      "1462\n",
      "1463\n",
      "1464\n",
      "1465\n",
      "1466\n",
      "1467\n",
      "1468\n",
      "1469\n",
      "1470\n",
      "1471\n",
      "1472\n",
      "1473\n",
      "1474\n",
      "1475\n",
      "1476\n",
      "1477\n",
      "1478\n",
      "1479\n",
      "1480\n",
      "1481\n",
      "1482\n",
      "1483\n",
      "1484\n",
      "1485\n",
      "1486\n",
      "1487\n",
      "1488\n",
      "1489\n",
      "1490\n",
      "1491\n",
      "1492\n",
      "1493\n",
      "1494\n",
      "1495\n",
      "1496\n",
      "1497\n",
      "1498\n",
      "1499\n"
     ]
    }
   ],
   "source": [
    "for i in APOE:\n",
    "    print (i)"
   ]
  },
  {
   "cell_type": "code",
   "execution_count": 73,
   "metadata": {},
   "outputs": [
    {
     "data": {
      "text/plain": [
       "500"
      ]
     },
     "execution_count": 73,
     "metadata": {},
     "output_type": "execute_result"
    }
   ],
   "source": [
    "len(APOE)"
   ]
  },
  {
   "cell_type": "code",
   "execution_count": 75,
   "metadata": {},
   "outputs": [],
   "source": [
    "mitsos = Person(age=50, name='Mitsos')\n",
    "kostas = Person(age=15, name='Kwstas')"
   ]
  },
  {
   "cell_type": "code",
   "execution_count": 77,
   "metadata": {},
   "outputs": [],
   "source": [
    "new_person = mitsos + kostas"
   ]
  },
  {
   "cell_type": "code",
   "execution_count": 78,
   "metadata": {},
   "outputs": [
    {
     "name": "stdout",
     "output_type": "stream",
     "text": [
      "Name: Mitsos Kwstas Age: 65\n"
     ]
    }
   ],
   "source": [
    "print (new_person)"
   ]
  },
  {
   "cell_type": "code",
   "execution_count": 79,
   "metadata": {},
   "outputs": [
    {
     "ename": "TypeError",
     "evalue": "'Person' object is not iterable",
     "output_type": "error",
     "traceback": [
      "\u001b[0;31m---------------------------------------------------------------------------\u001b[0m",
      "\u001b[0;31mTypeError\u001b[0m                                 Traceback (most recent call last)",
      "\u001b[0;32m<ipython-input-79-f24fb0255b90>\u001b[0m in \u001b[0;36m<module>\u001b[0;34m\u001b[0m\n\u001b[0;32m----> 1\u001b[0;31m \u001b[0;32mfor\u001b[0m \u001b[0mi\u001b[0m \u001b[0;32min\u001b[0m \u001b[0mmitsos\u001b[0m\u001b[0;34m:\u001b[0m\u001b[0;34m\u001b[0m\u001b[0;34m\u001b[0m\u001b[0m\n\u001b[0m\u001b[1;32m      2\u001b[0m     \u001b[0mprint\u001b[0m \u001b[0;34m(\u001b[0m\u001b[0mi\u001b[0m\u001b[0;34m)\u001b[0m\u001b[0;34m\u001b[0m\u001b[0;34m\u001b[0m\u001b[0m\n",
      "\u001b[0;31mTypeError\u001b[0m: 'Person' object is not iterable"
     ]
    }
   ],
   "source": [
    "for i in mitsos:\n",
    "    print (i)"
   ]
  },
  {
   "cell_type": "code",
   "execution_count": 106,
   "metadata": {},
   "outputs": [
    {
     "data": {
      "text/plain": [
       "1100"
      ]
     },
     "execution_count": 106,
     "metadata": {},
     "output_type": "execute_result"
    }
   ],
   "source": [
    "APOE[100]"
   ]
  },
  {
   "cell_type": "code",
   "execution_count": 107,
   "metadata": {},
   "outputs": [
    {
     "ename": "IndexError",
     "evalue": "",
     "output_type": "error",
     "traceback": [
      "\u001b[0;31m---------------------------------------------------------------------------\u001b[0m",
      "\u001b[0;31mIndexError\u001b[0m                                Traceback (most recent call last)",
      "\u001b[0;32m<ipython-input-107-0bea4233ac89>\u001b[0m in \u001b[0;36m<module>\u001b[0;34m\u001b[0m\n\u001b[0;32m----> 1\u001b[0;31m \u001b[0mAPOE\u001b[0m\u001b[0;34m[\u001b[0m\u001b[0;36m1000\u001b[0m\u001b[0;34m]\u001b[0m\u001b[0;34m\u001b[0m\u001b[0;34m\u001b[0m\u001b[0m\n\u001b[0m",
      "\u001b[0;32m<ipython-input-104-3e543d6f2487>\u001b[0m in \u001b[0;36m__getitem__\u001b[0;34m(self, index)\u001b[0m\n\u001b[1;32m     24\u001b[0m         \u001b[0mr\u001b[0m \u001b[0;34m=\u001b[0m \u001b[0mself\u001b[0m\u001b[0;34m.\u001b[0m\u001b[0mstart\u001b[0m \u001b[0;34m+\u001b[0m \u001b[0mindex\u001b[0m\u001b[0;34m\u001b[0m\u001b[0;34m\u001b[0m\u001b[0m\n\u001b[1;32m     25\u001b[0m         \u001b[0;32mif\u001b[0m \u001b[0mr\u001b[0m \u001b[0;34m>\u001b[0m \u001b[0mself\u001b[0m\u001b[0;34m.\u001b[0m\u001b[0mend\u001b[0m\u001b[0;34m:\u001b[0m\u001b[0;34m\u001b[0m\u001b[0;34m\u001b[0m\u001b[0m\n\u001b[0;32m---> 26\u001b[0;31m             \u001b[0;32mraise\u001b[0m \u001b[0mIndexError\u001b[0m\u001b[0;34m\u001b[0m\u001b[0;34m\u001b[0m\u001b[0m\n\u001b[0m\u001b[1;32m     27\u001b[0m         \u001b[0;32mreturn\u001b[0m \u001b[0mr\u001b[0m\u001b[0;34m\u001b[0m\u001b[0;34m\u001b[0m\u001b[0m\n",
      "\u001b[0;31mIndexError\u001b[0m: "
     ]
    }
   ],
   "source": [
    "APOE[1000]"
   ]
  },
  {
   "cell_type": "code",
   "execution_count": 103,
   "metadata": {},
   "outputs": [
    {
     "ename": "IndexError",
     "evalue": "list index out of range",
     "output_type": "error",
     "traceback": [
      "\u001b[0;31m---------------------------------------------------------------------------\u001b[0m",
      "\u001b[0;31mIndexError\u001b[0m                                Traceback (most recent call last)",
      "\u001b[0;32m<ipython-input-103-7e439a244abe>\u001b[0m in \u001b[0;36m<module>\u001b[0;34m\u001b[0m\n\u001b[1;32m      1\u001b[0m \u001b[0ma\u001b[0m \u001b[0;34m=\u001b[0m \u001b[0;34m[\u001b[0m\u001b[0;36m1\u001b[0m\u001b[0;34m,\u001b[0m\u001b[0;36m2\u001b[0m\u001b[0;34m,\u001b[0m\u001b[0;36m3\u001b[0m\u001b[0;34m]\u001b[0m\u001b[0;34m\u001b[0m\u001b[0;34m\u001b[0m\u001b[0m\n\u001b[0;32m----> 2\u001b[0;31m \u001b[0ma\u001b[0m\u001b[0;34m[\u001b[0m\u001b[0;36m100\u001b[0m\u001b[0;34m]\u001b[0m\u001b[0;34m\u001b[0m\u001b[0;34m\u001b[0m\u001b[0m\n\u001b[0m",
      "\u001b[0;31mIndexError\u001b[0m: list index out of range"
     ]
    }
   ],
   "source": [
    "a = [1,2,3]\n",
    "a[100]"
   ]
  },
  {
   "cell_type": "code",
   "execution_count": 108,
   "metadata": {},
   "outputs": [
    {
     "data": {
      "text/plain": [
       "['ADULT_AGE',\n",
       " '__add__',\n",
       " '__class__',\n",
       " '__delattr__',\n",
       " '__dict__',\n",
       " '__dir__',\n",
       " '__doc__',\n",
       " '__eq__',\n",
       " '__format__',\n",
       " '__ge__',\n",
       " '__getattribute__',\n",
       " '__gt__',\n",
       " '__hash__',\n",
       " '__init__',\n",
       " '__init_subclass__',\n",
       " '__le__',\n",
       " '__len__',\n",
       " '__lt__',\n",
       " '__module__',\n",
       " '__ne__',\n",
       " '__new__',\n",
       " '__reduce__',\n",
       " '__reduce_ex__',\n",
       " '__repr__',\n",
       " '__setattr__',\n",
       " '__sizeof__',\n",
       " '__str__',\n",
       " '__subclasshook__',\n",
       " '__weakref__',\n",
       " 'age',\n",
       " 'get_age',\n",
       " 'is_adult',\n",
       " 'name',\n",
       " 'set_age']"
      ]
     },
     "execution_count": 108,
     "metadata": {},
     "output_type": "execute_result"
    }
   ],
   "source": [
    "dir(mitsos)"
   ]
  },
  {
   "cell_type": "markdown",
   "metadata": {},
   "source": [
    "## API calls"
   ]
  },
  {
   "cell_type": "code",
   "execution_count": 161,
   "metadata": {},
   "outputs": [],
   "source": [
    "import requests, sys\n",
    " \n",
    "server = \"https://rest.ensembl.org\"\n",
    "ext = \"/vep/human/hgvs/ENSP00000401091.1:p.Tyr124Cys?\"\n",
    " \n",
    "r = requests.get(server+ext, headers={ \"Content-Type\" : \"application/json\"})\n",
    " \n",
    "if not r.ok:\n",
    "  r.raise_for_status()\n",
    "  #sys.exit()\n",
    " \n",
    "decoded = r.json()\n",
    "#print(repr(decoded))"
   ]
  },
  {
   "cell_type": "code",
   "execution_count": 163,
   "metadata": {
    "scrolled": false
   },
   "outputs": [],
   "source": [
    "#decoded"
   ]
  },
  {
   "cell_type": "code",
   "execution_count": 164,
   "metadata": {},
   "outputs": [
    {
     "name": "stdout",
     "output_type": "stream",
     "text": [
      "CTGTAGAAACATTAGCCTGGCTAACAAGGTGAAACCCCATCTCTACTAACAATACAAAATATTGGTTGGGCGTGGTGGCGGGTGCTTGTAATCCCAGCTAC\n"
     ]
    }
   ],
   "source": [
    "import requests, sys\n",
    " \n",
    "server = \"https://rest.ensembl.org\"\n",
    "ext = \"/sequence/region/human/X:1000000..1000100:1?\"\n",
    " \n",
    "r = requests.get(server+ext, headers={ \"Content-Type\" : \"text/plain\"})\n",
    " \n",
    "if not r.ok:\n",
    "  r.raise_for_status()\n",
    "  #sys.exit()\n",
    " \n",
    " \n",
    "print(r.text)"
   ]
  },
  {
   "cell_type": "code",
   "execution_count": 165,
   "metadata": {},
   "outputs": [],
   "source": [
    "import pandas as pd"
   ]
  },
  {
   "cell_type": "code",
   "execution_count": 166,
   "metadata": {},
   "outputs": [],
   "source": [
    "dfs = pd.read_html('https://en.wikipedia.org/wiki/List_of_busiest_airports_by_passenger_traffic')"
   ]
  },
  {
   "cell_type": "code",
   "execution_count": 167,
   "metadata": {},
   "outputs": [
    {
     "data": {
      "text/plain": [
       "8"
      ]
     },
     "execution_count": 167,
     "metadata": {},
     "output_type": "execute_result"
    }
   ],
   "source": [
    "len(dfs)"
   ]
  },
  {
   "cell_type": "code",
   "execution_count": 168,
   "metadata": {},
   "outputs": [
    {
     "data": {
      "text/plain": [
       "8"
      ]
     },
     "execution_count": 168,
     "metadata": {},
     "output_type": "execute_result"
    }
   ],
   "source": [
    "dfs.__len__()"
   ]
  },
  {
   "cell_type": "code",
   "execution_count": 171,
   "metadata": {},
   "outputs": [
    {
     "data": {
      "text/html": [
       "<div>\n",
       "<style scoped>\n",
       "    .dataframe tbody tr th:only-of-type {\n",
       "        vertical-align: middle;\n",
       "    }\n",
       "\n",
       "    .dataframe tbody tr th {\n",
       "        vertical-align: top;\n",
       "    }\n",
       "\n",
       "    .dataframe thead th {\n",
       "        text-align: right;\n",
       "    }\n",
       "</style>\n",
       "<table border=\"1\" class=\"dataframe\">\n",
       "  <thead>\n",
       "    <tr style=\"text-align: right;\">\n",
       "      <th></th>\n",
       "      <th>Rank</th>\n",
       "      <th>Airport</th>\n",
       "      <th>Location</th>\n",
       "      <th>Country</th>\n",
       "      <th>Code(IATA/ICAO)</th>\n",
       "      <th>Totalpassengers</th>\n",
       "      <th>RankChange</th>\n",
       "      <th>%change</th>\n",
       "    </tr>\n",
       "  </thead>\n",
       "  <tbody>\n",
       "    <tr>\n",
       "      <th>0</th>\n",
       "      <td>1.0</td>\n",
       "      <td>Hartsfield–Jackson Atlanta International Airport</td>\n",
       "      <td>Atlanta, Georgia</td>\n",
       "      <td>United States</td>\n",
       "      <td>ATL/KATL</td>\n",
       "      <td>107394029</td>\n",
       "      <td>NaN</td>\n",
       "      <td>3.3%</td>\n",
       "    </tr>\n",
       "    <tr>\n",
       "      <th>1</th>\n",
       "      <td>2.0</td>\n",
       "      <td>Beijing Capital International Airport</td>\n",
       "      <td>Chaoyang-Shunyi, Beijing</td>\n",
       "      <td>China</td>\n",
       "      <td>PEK/ZBAA</td>\n",
       "      <td>100983290</td>\n",
       "      <td>NaN</td>\n",
       "      <td>5.4%</td>\n",
       "    </tr>\n",
       "    <tr>\n",
       "      <th>2</th>\n",
       "      <td>3.0</td>\n",
       "      <td>Dubai International Airport</td>\n",
       "      <td>Garhoud, Dubai</td>\n",
       "      <td>United Arab Emirates</td>\n",
       "      <td>DXB/OMDB</td>\n",
       "      <td>89149387</td>\n",
       "      <td>NaN</td>\n",
       "      <td>1.0%</td>\n",
       "    </tr>\n",
       "    <tr>\n",
       "      <th>3</th>\n",
       "      <td>4.0</td>\n",
       "      <td>Los Angeles International Airport</td>\n",
       "      <td>Los Angeles, California</td>\n",
       "      <td>United States</td>\n",
       "      <td>LAX/KLAX</td>\n",
       "      <td>87534384</td>\n",
       "      <td>NaN</td>\n",
       "      <td>3.5%</td>\n",
       "    </tr>\n",
       "    <tr>\n",
       "      <th>4</th>\n",
       "      <td>5.0</td>\n",
       "      <td>Tokyo Haneda Airport</td>\n",
       "      <td>Ōta, Tokyo</td>\n",
       "      <td>Japan</td>\n",
       "      <td>HND/RJTT</td>\n",
       "      <td>87502720</td>\n",
       "      <td>2.0</td>\n",
       "      <td>2.5%</td>\n",
       "    </tr>\n",
       "    <tr>\n",
       "      <th>5</th>\n",
       "      <td>6.0</td>\n",
       "      <td>O'Hare International Airport</td>\n",
       "      <td>Chicago, Illinois</td>\n",
       "      <td>United States</td>\n",
       "      <td>ORD/KORD</td>\n",
       "      <td>83339186</td>\n",
       "      <td>1.0</td>\n",
       "      <td>4.4%</td>\n",
       "    </tr>\n",
       "    <tr>\n",
       "      <th>6</th>\n",
       "      <td>7.0</td>\n",
       "      <td>Heathrow Airport</td>\n",
       "      <td>Hillingdon, London</td>\n",
       "      <td>United Kingdom</td>\n",
       "      <td>LHR/EGLL</td>\n",
       "      <td>80126320</td>\n",
       "      <td>1.0</td>\n",
       "      <td>2.7%</td>\n",
       "    </tr>\n",
       "    <tr>\n",
       "      <th>7</th>\n",
       "      <td>8.0</td>\n",
       "      <td>Hong Kong International Airport</td>\n",
       "      <td>Chek Lap Kok, Islands, New Territories</td>\n",
       "      <td>Hong Kong SAR, China</td>\n",
       "      <td>HKG/VHHH</td>\n",
       "      <td>74517402</td>\n",
       "      <td>NaN</td>\n",
       "      <td>2.6%</td>\n",
       "    </tr>\n",
       "    <tr>\n",
       "      <th>8</th>\n",
       "      <td>9.0</td>\n",
       "      <td>Shanghai Pudong International Airport</td>\n",
       "      <td>Pudong, Shanghai</td>\n",
       "      <td>China</td>\n",
       "      <td>PVG/ZSPD</td>\n",
       "      <td>74006331</td>\n",
       "      <td>NaN</td>\n",
       "      <td>5.7%</td>\n",
       "    </tr>\n",
       "    <tr>\n",
       "      <th>9</th>\n",
       "      <td>10.0</td>\n",
       "      <td>Charles de Gaulle Airport</td>\n",
       "      <td>Roissy-en-France, Île-de-France</td>\n",
       "      <td>France</td>\n",
       "      <td>CDG/LFPG</td>\n",
       "      <td>72229723</td>\n",
       "      <td>NaN</td>\n",
       "      <td>4.0%</td>\n",
       "    </tr>\n",
       "    <tr>\n",
       "      <th>10</th>\n",
       "      <td>11.0</td>\n",
       "      <td>Amsterdam Airport Schiphol</td>\n",
       "      <td>Haarlemmermeer, North Holland</td>\n",
       "      <td>Netherlands</td>\n",
       "      <td>AMS/EHAM</td>\n",
       "      <td>71053147</td>\n",
       "      <td>NaN</td>\n",
       "      <td>3.7%</td>\n",
       "    </tr>\n",
       "    <tr>\n",
       "      <th>11</th>\n",
       "      <td>12.0</td>\n",
       "      <td>Indira Gandhi International Airport</td>\n",
       "      <td>Delhi</td>\n",
       "      <td>India</td>\n",
       "      <td>DEL/VIDP</td>\n",
       "      <td>69900938</td>\n",
       "      <td>4.0</td>\n",
       "      <td>10.2%</td>\n",
       "    </tr>\n",
       "    <tr>\n",
       "      <th>12</th>\n",
       "      <td>13.0</td>\n",
       "      <td>Guangzhou Baiyun International Airport</td>\n",
       "      <td>Baiyun-Huadu, Guangzhou, Guangdong</td>\n",
       "      <td>China</td>\n",
       "      <td>CAN/ZGGG</td>\n",
       "      <td>69769497</td>\n",
       "      <td>NaN</td>\n",
       "      <td>6.0%</td>\n",
       "    </tr>\n",
       "    <tr>\n",
       "      <th>13</th>\n",
       "      <td>14.0</td>\n",
       "      <td>Frankfurt Airport</td>\n",
       "      <td>Frankfurt, Hesse</td>\n",
       "      <td>Germany</td>\n",
       "      <td>FRA/EDDF</td>\n",
       "      <td>69510269</td>\n",
       "      <td>NaN</td>\n",
       "      <td>7.8%</td>\n",
       "    </tr>\n",
       "    <tr>\n",
       "      <th>14</th>\n",
       "      <td>15.0</td>\n",
       "      <td>Dallas/Fort Worth International Airport</td>\n",
       "      <td>Dallas-Fort Worth, Texas</td>\n",
       "      <td>United States</td>\n",
       "      <td>DFW/KDFW</td>\n",
       "      <td>69112607</td>\n",
       "      <td>3.0</td>\n",
       "      <td>3.0%</td>\n",
       "    </tr>\n",
       "    <tr>\n",
       "      <th>15</th>\n",
       "      <td>16.0</td>\n",
       "      <td>Seoul Incheon International Airport</td>\n",
       "      <td>Incheon</td>\n",
       "      <td>South Korea</td>\n",
       "      <td>ICN/RKSI</td>\n",
       "      <td>68350784</td>\n",
       "      <td>3.0</td>\n",
       "      <td>10.0%</td>\n",
       "    </tr>\n",
       "    <tr>\n",
       "      <th>16</th>\n",
       "      <td>17.0</td>\n",
       "      <td>Istanbul Atatürk Airport</td>\n",
       "      <td>Yeşilköy, Istanbul</td>\n",
       "      <td>Turkey</td>\n",
       "      <td>IST/LTBA</td>\n",
       "      <td>68192683</td>\n",
       "      <td>2.0</td>\n",
       "      <td>6.4%</td>\n",
       "    </tr>\n",
       "    <tr>\n",
       "      <th>17</th>\n",
       "      <td>18.0</td>\n",
       "      <td>Soekarno–Hatta International Airport</td>\n",
       "      <td>Tangerang, Banten</td>\n",
       "      <td>Indonesia</td>\n",
       "      <td>CGK/WIII</td>\n",
       "      <td>66908159</td>\n",
       "      <td>1.0</td>\n",
       "      <td>6.2%</td>\n",
       "    </tr>\n",
       "    <tr>\n",
       "      <th>18</th>\n",
       "      <td>19.0</td>\n",
       "      <td>Singapore Changi Airport</td>\n",
       "      <td>Changi, East Region</td>\n",
       "      <td>Singapore</td>\n",
       "      <td>SIN/WSSS</td>\n",
       "      <td>65628000</td>\n",
       "      <td>1.0</td>\n",
       "      <td>5.5%</td>\n",
       "    </tr>\n",
       "    <tr>\n",
       "      <th>19</th>\n",
       "      <td>20.0</td>\n",
       "      <td>Denver International Airport</td>\n",
       "      <td>Denver, Colorado</td>\n",
       "      <td>United States</td>\n",
       "      <td>DEN/KDEN</td>\n",
       "      <td>64494613</td>\n",
       "      <td>NaN</td>\n",
       "      <td>5.1%</td>\n",
       "    </tr>\n",
       "    <tr>\n",
       "      <th>20</th>\n",
       "      <td>21.0</td>\n",
       "      <td>Suvarnabhumi Airport</td>\n",
       "      <td>Bang Phli, Samut Prakan</td>\n",
       "      <td>Thailand</td>\n",
       "      <td>BKK/VTBS</td>\n",
       "      <td>63378923</td>\n",
       "      <td>NaN</td>\n",
       "      <td>4.1%</td>\n",
       "    </tr>\n",
       "    <tr>\n",
       "      <th>21</th>\n",
       "      <td>22.0</td>\n",
       "      <td>John F. Kennedy International Airport</td>\n",
       "      <td>Queens, New York, New York</td>\n",
       "      <td>United States</td>\n",
       "      <td>JFK/KJFK</td>\n",
       "      <td>61623756</td>\n",
       "      <td>NaN</td>\n",
       "      <td>3.6%</td>\n",
       "    </tr>\n",
       "    <tr>\n",
       "      <th>22</th>\n",
       "      <td>23.0</td>\n",
       "      <td>Kuala Lumpur International Airport</td>\n",
       "      <td>Sepang, Selangor</td>\n",
       "      <td>Malaysia</td>\n",
       "      <td>KUL/WMKK</td>\n",
       "      <td>60013397</td>\n",
       "      <td>NaN</td>\n",
       "      <td>2.5%</td>\n",
       "    </tr>\n",
       "    <tr>\n",
       "      <th>23</th>\n",
       "      <td>24.0</td>\n",
       "      <td>Madrid Barajas Airport</td>\n",
       "      <td>Barajas, Madrid</td>\n",
       "      <td>Spain</td>\n",
       "      <td>MAD/LEMD</td>\n",
       "      <td>57862951</td>\n",
       "      <td>1.0</td>\n",
       "      <td>8.4%</td>\n",
       "    </tr>\n",
       "    <tr>\n",
       "      <th>24</th>\n",
       "      <td>25.0</td>\n",
       "      <td>San Francisco International Airport</td>\n",
       "      <td>San Mateo County, California</td>\n",
       "      <td>United States</td>\n",
       "      <td>SFO/KSFO</td>\n",
       "      <td>57708196</td>\n",
       "      <td>1.0</td>\n",
       "      <td>3.4%</td>\n",
       "    </tr>\n",
       "    <tr>\n",
       "      <th>25</th>\n",
       "      <td>26.0</td>\n",
       "      <td>Chengdu Shuangliu International Airport</td>\n",
       "      <td>Shuangliu-Wuhou, Chengdu, Sichuan</td>\n",
       "      <td>China</td>\n",
       "      <td>CTU/ZUUU</td>\n",
       "      <td>52950529</td>\n",
       "      <td>NaN</td>\n",
       "      <td>6.3%</td>\n",
       "    </tr>\n",
       "    <tr>\n",
       "      <th>26</th>\n",
       "      <td>27.0</td>\n",
       "      <td>Barcelona–El Prat Airport</td>\n",
       "      <td>Barcelona</td>\n",
       "      <td>Spain</td>\n",
       "      <td>BCN/LEBL</td>\n",
       "      <td>50148228</td>\n",
       "      <td>1.0</td>\n",
       "      <td>6.1%</td>\n",
       "    </tr>\n",
       "    <tr>\n",
       "      <th>27</th>\n",
       "      <td>28.0</td>\n",
       "      <td>Chhatrapati Shivaji Maharaj International Airport</td>\n",
       "      <td>Mumbai, Maharashtra</td>\n",
       "      <td>India</td>\n",
       "      <td>BOM/VABB</td>\n",
       "      <td>49876769</td>\n",
       "      <td>1.0</td>\n",
       "      <td>5.7%</td>\n",
       "    </tr>\n",
       "    <tr>\n",
       "      <th>28</th>\n",
       "      <td>29.0</td>\n",
       "      <td>McCarran International Airport</td>\n",
       "      <td>Las Vegas, Nevada</td>\n",
       "      <td>United States</td>\n",
       "      <td>LAS/KLAS</td>\n",
       "      <td>49863090</td>\n",
       "      <td>2.0</td>\n",
       "      <td>2.7%</td>\n",
       "    </tr>\n",
       "    <tr>\n",
       "      <th>29</th>\n",
       "      <td>30.0</td>\n",
       "      <td>Seattle–Tacoma International Airport</td>\n",
       "      <td>SeaTac, Washington</td>\n",
       "      <td>United States</td>\n",
       "      <td>SEA/KSEA</td>\n",
       "      <td>49849520</td>\n",
       "      <td>1.0</td>\n",
       "      <td>6.2%</td>\n",
       "    </tr>\n",
       "    <tr>\n",
       "      <th>30</th>\n",
       "      <td>31.0</td>\n",
       "      <td>Toronto Pearson International Airport</td>\n",
       "      <td>Mississauga, Ontario</td>\n",
       "      <td>Canada</td>\n",
       "      <td>YYZ/CYYZ</td>\n",
       "      <td>49467097</td>\n",
       "      <td>1.0</td>\n",
       "      <td>5.0%</td>\n",
       "    </tr>\n",
       "    <tr>\n",
       "      <th>31</th>\n",
       "      <td>32.0</td>\n",
       "      <td>Shenzhen Bao'an International Airport</td>\n",
       "      <td>Bao'an, Shenzhen, Guangdong</td>\n",
       "      <td>China</td>\n",
       "      <td>SZX/ZGSZ</td>\n",
       "      <td>49348950</td>\n",
       "      <td>2.0</td>\n",
       "      <td>8.3%</td>\n",
       "    </tr>\n",
       "    <tr>\n",
       "      <th>32</th>\n",
       "      <td>33.0</td>\n",
       "      <td>Mexico City International Airport</td>\n",
       "      <td>Venustiano Carranza, Mexico City</td>\n",
       "      <td>Mexico</td>\n",
       "      <td>MEX/MMMX</td>\n",
       "      <td>47700834</td>\n",
       "      <td>3.0</td>\n",
       "      <td>6.6%</td>\n",
       "    </tr>\n",
       "    <tr>\n",
       "      <th>33</th>\n",
       "      <td>34.0</td>\n",
       "      <td>Orlando International Airport</td>\n",
       "      <td>Orlando, Florida</td>\n",
       "      <td>United States</td>\n",
       "      <td>MCO/KMCO</td>\n",
       "      <td>47694573</td>\n",
       "      <td>5.0</td>\n",
       "      <td>7.2%</td>\n",
       "    </tr>\n",
       "    <tr>\n",
       "      <th>34</th>\n",
       "      <td>35.0</td>\n",
       "      <td>Kunming Changshui International Airport</td>\n",
       "      <td>Guandu, Kunming, Yunnan</td>\n",
       "      <td>China</td>\n",
       "      <td>KMG/ZPPP</td>\n",
       "      <td>47215986</td>\n",
       "      <td>2.0</td>\n",
       "      <td>5.6%</td>\n",
       "    </tr>\n",
       "    <tr>\n",
       "      <th>35</th>\n",
       "      <td>36.0</td>\n",
       "      <td>Taiwan Taoyuan International Airport</td>\n",
       "      <td>Dayuan, Taoyuan</td>\n",
       "      <td>Taiwan</td>\n",
       "      <td>TPE/RCTP</td>\n",
       "      <td>46535180</td>\n",
       "      <td>1.0</td>\n",
       "      <td>3.7%</td>\n",
       "    </tr>\n",
       "    <tr>\n",
       "      <th>36</th>\n",
       "      <td>37.0</td>\n",
       "      <td>Charlotte Douglas International Airport</td>\n",
       "      <td>Charlotte, North Carolina</td>\n",
       "      <td>United States</td>\n",
       "      <td>CLT/KCLT</td>\n",
       "      <td>46446721</td>\n",
       "      <td>5.0</td>\n",
       "      <td>1.2%</td>\n",
       "    </tr>\n",
       "    <tr>\n",
       "      <th>37</th>\n",
       "      <td>38.0</td>\n",
       "      <td>London Gatwick Airport</td>\n",
       "      <td>Crawley, West Sussex</td>\n",
       "      <td>United Kingdom</td>\n",
       "      <td>LGW/EGKK</td>\n",
       "      <td>46432630</td>\n",
       "      <td>6.0</td>\n",
       "      <td>1.9%</td>\n",
       "    </tr>\n",
       "    <tr>\n",
       "      <th>38</th>\n",
       "      <td>39.0</td>\n",
       "      <td>Munich Airport</td>\n",
       "      <td>Freising, Bavaria</td>\n",
       "      <td>Germany</td>\n",
       "      <td>MUC/EDDM</td>\n",
       "      <td>46253623</td>\n",
       "      <td>1.0</td>\n",
       "      <td>3.8%</td>\n",
       "    </tr>\n",
       "    <tr>\n",
       "      <th>39</th>\n",
       "      <td>40.0</td>\n",
       "      <td>Newark Liberty International Airport</td>\n",
       "      <td>Newark, New Jersey</td>\n",
       "      <td>United States</td>\n",
       "      <td>EWR/KEWR</td>\n",
       "      <td>46065175</td>\n",
       "      <td>3.0</td>\n",
       "      <td>6.6%</td>\n",
       "    </tr>\n",
       "    <tr>\n",
       "      <th>40</th>\n",
       "      <td>41.0</td>\n",
       "      <td>Sheremetyevo International Airport</td>\n",
       "      <td>Khimki, Moscow Oblast</td>\n",
       "      <td>Russia</td>\n",
       "      <td>SVO/UUEE</td>\n",
       "      <td>45836255</td>\n",
       "      <td>9.0</td>\n",
       "      <td>14.3%</td>\n",
       "    </tr>\n",
       "    <tr>\n",
       "      <th>41</th>\n",
       "      <td>42.0</td>\n",
       "      <td>Miami International Airport</td>\n",
       "      <td>Miami-Dade County, Florida</td>\n",
       "      <td>United States</td>\n",
       "      <td>MIA/KMIA</td>\n",
       "      <td>45044312</td>\n",
       "      <td>2.0</td>\n",
       "      <td>2.1%</td>\n",
       "    </tr>\n",
       "    <tr>\n",
       "      <th>42</th>\n",
       "      <td>43.0</td>\n",
       "      <td>Phoenix Sky Harbor International Airport</td>\n",
       "      <td>Phoenix, Arizona</td>\n",
       "      <td>United States</td>\n",
       "      <td>PHX/KPHX</td>\n",
       "      <td>44943686</td>\n",
       "      <td>2.0</td>\n",
       "      <td>2.3%</td>\n",
       "    </tr>\n",
       "    <tr>\n",
       "      <th>43</th>\n",
       "      <td>44.0</td>\n",
       "      <td>Xi'an Xianyang International Airport</td>\n",
       "      <td>Weicheng, Xianyang, Shaanxi</td>\n",
       "      <td>China</td>\n",
       "      <td>XIY/ZLXY</td>\n",
       "      <td>44653927</td>\n",
       "      <td>2.0</td>\n",
       "      <td>6.7%</td>\n",
       "    </tr>\n",
       "    <tr>\n",
       "      <th>44</th>\n",
       "      <td>45.0</td>\n",
       "      <td>Ninoy Aquino International Airport</td>\n",
       "      <td>Pasay/Parañaque, Metro Manila</td>\n",
       "      <td>Philippines</td>\n",
       "      <td>MNL/RPLL</td>\n",
       "      <td>44488321</td>\n",
       "      <td>1.0</td>\n",
       "      <td>5.9%</td>\n",
       "    </tr>\n",
       "    <tr>\n",
       "      <th>45</th>\n",
       "      <td>46.0</td>\n",
       "      <td>Sydney Kingsford-Smith Airport</td>\n",
       "      <td>Mascot, New South Wales</td>\n",
       "      <td>Australia</td>\n",
       "      <td>SYD/YSSY</td>\n",
       "      <td>44475976</td>\n",
       "      <td>4.0</td>\n",
       "      <td>2.5%</td>\n",
       "    </tr>\n",
       "    <tr>\n",
       "      <th>46</th>\n",
       "      <td>47.0</td>\n",
       "      <td>George Bush Intercontinental Airport</td>\n",
       "      <td>Houston, Texas</td>\n",
       "      <td>United States</td>\n",
       "      <td>IAH/KIAH</td>\n",
       "      <td>43807539</td>\n",
       "      <td>1.0</td>\n",
       "      <td>7.7%</td>\n",
       "    </tr>\n",
       "    <tr>\n",
       "      <th>47</th>\n",
       "      <td>48.0</td>\n",
       "      <td>Shanghai Hongqiao International Airport</td>\n",
       "      <td>Changning-Minhang, Shanghai</td>\n",
       "      <td>China</td>\n",
       "      <td>SHA/ZSSS</td>\n",
       "      <td>43628004</td>\n",
       "      <td>3.0</td>\n",
       "      <td>4.2%</td>\n",
       "    </tr>\n",
       "    <tr>\n",
       "      <th>48</th>\n",
       "      <td>49.0</td>\n",
       "      <td>Rome–Fiumicino International Airport \"Leonardo...</td>\n",
       "      <td>Rome-Fiumicino, Lazio</td>\n",
       "      <td>Italy</td>\n",
       "      <td>FCO/LIRF</td>\n",
       "      <td>42991056</td>\n",
       "      <td>2.0</td>\n",
       "      <td>4.9%</td>\n",
       "    </tr>\n",
       "    <tr>\n",
       "      <th>49</th>\n",
       "      <td>50.0</td>\n",
       "      <td>Narita International Airport</td>\n",
       "      <td>Narita, Chiba</td>\n",
       "      <td>Japan</td>\n",
       "      <td>NRT/RJAA</td>\n",
       "      <td>42549173</td>\n",
       "      <td>1.0</td>\n",
       "      <td>4.7%</td>\n",
       "    </tr>\n",
       "  </tbody>\n",
       "</table>\n",
       "</div>"
      ],
      "text/plain": [
       "    Rank                                            Airport  \\\n",
       "0    1.0   Hartsfield–Jackson Atlanta International Airport   \n",
       "1    2.0              Beijing Capital International Airport   \n",
       "2    3.0                        Dubai International Airport   \n",
       "3    4.0                  Los Angeles International Airport   \n",
       "4    5.0                               Tokyo Haneda Airport   \n",
       "5    6.0                       O'Hare International Airport   \n",
       "6    7.0                                   Heathrow Airport   \n",
       "7    8.0                    Hong Kong International Airport   \n",
       "8    9.0              Shanghai Pudong International Airport   \n",
       "9   10.0                          Charles de Gaulle Airport   \n",
       "10  11.0                         Amsterdam Airport Schiphol   \n",
       "11  12.0                Indira Gandhi International Airport   \n",
       "12  13.0             Guangzhou Baiyun International Airport   \n",
       "13  14.0                                  Frankfurt Airport   \n",
       "14  15.0            Dallas/Fort Worth International Airport   \n",
       "15  16.0                Seoul Incheon International Airport   \n",
       "16  17.0                           Istanbul Atatürk Airport   \n",
       "17  18.0               Soekarno–Hatta International Airport   \n",
       "18  19.0                           Singapore Changi Airport   \n",
       "19  20.0                       Denver International Airport   \n",
       "20  21.0                               Suvarnabhumi Airport   \n",
       "21  22.0              John F. Kennedy International Airport   \n",
       "22  23.0                 Kuala Lumpur International Airport   \n",
       "23  24.0                             Madrid Barajas Airport   \n",
       "24  25.0                San Francisco International Airport   \n",
       "25  26.0            Chengdu Shuangliu International Airport   \n",
       "26  27.0                          Barcelona–El Prat Airport   \n",
       "27  28.0  Chhatrapati Shivaji Maharaj International Airport   \n",
       "28  29.0                     McCarran International Airport   \n",
       "29  30.0               Seattle–Tacoma International Airport   \n",
       "30  31.0              Toronto Pearson International Airport   \n",
       "31  32.0              Shenzhen Bao'an International Airport   \n",
       "32  33.0                  Mexico City International Airport   \n",
       "33  34.0                      Orlando International Airport   \n",
       "34  35.0            Kunming Changshui International Airport   \n",
       "35  36.0               Taiwan Taoyuan International Airport   \n",
       "36  37.0            Charlotte Douglas International Airport   \n",
       "37  38.0                             London Gatwick Airport   \n",
       "38  39.0                                     Munich Airport   \n",
       "39  40.0               Newark Liberty International Airport   \n",
       "40  41.0                 Sheremetyevo International Airport   \n",
       "41  42.0                        Miami International Airport   \n",
       "42  43.0           Phoenix Sky Harbor International Airport   \n",
       "43  44.0               Xi'an Xianyang International Airport   \n",
       "44  45.0                 Ninoy Aquino International Airport   \n",
       "45  46.0                     Sydney Kingsford-Smith Airport   \n",
       "46  47.0               George Bush Intercontinental Airport   \n",
       "47  48.0            Shanghai Hongqiao International Airport   \n",
       "48  49.0  Rome–Fiumicino International Airport \"Leonardo...   \n",
       "49  50.0                       Narita International Airport   \n",
       "\n",
       "                                  Location               Country  \\\n",
       "0                         Atlanta, Georgia         United States   \n",
       "1                 Chaoyang-Shunyi, Beijing                 China   \n",
       "2                           Garhoud, Dubai  United Arab Emirates   \n",
       "3                  Los Angeles, California         United States   \n",
       "4                               Ōta, Tokyo                 Japan   \n",
       "5                        Chicago, Illinois         United States   \n",
       "6                       Hillingdon, London        United Kingdom   \n",
       "7   Chek Lap Kok, Islands, New Territories  Hong Kong SAR, China   \n",
       "8                         Pudong, Shanghai                 China   \n",
       "9          Roissy-en-France, Île-de-France                France   \n",
       "10           Haarlemmermeer, North Holland           Netherlands   \n",
       "11                                   Delhi                 India   \n",
       "12      Baiyun-Huadu, Guangzhou, Guangdong                 China   \n",
       "13                        Frankfurt, Hesse               Germany   \n",
       "14                Dallas-Fort Worth, Texas         United States   \n",
       "15                                 Incheon           South Korea   \n",
       "16                      Yeşilköy, Istanbul                Turkey   \n",
       "17                       Tangerang, Banten             Indonesia   \n",
       "18                     Changi, East Region             Singapore   \n",
       "19                        Denver, Colorado         United States   \n",
       "20                 Bang Phli, Samut Prakan              Thailand   \n",
       "21              Queens, New York, New York         United States   \n",
       "22                        Sepang, Selangor              Malaysia   \n",
       "23                         Barajas, Madrid                 Spain   \n",
       "24            San Mateo County, California         United States   \n",
       "25       Shuangliu-Wuhou, Chengdu, Sichuan                 China   \n",
       "26                               Barcelona                 Spain   \n",
       "27                     Mumbai, Maharashtra                 India   \n",
       "28                       Las Vegas, Nevada         United States   \n",
       "29                      SeaTac, Washington         United States   \n",
       "30                    Mississauga, Ontario                Canada   \n",
       "31             Bao'an, Shenzhen, Guangdong                 China   \n",
       "32        Venustiano Carranza, Mexico City                Mexico   \n",
       "33                        Orlando, Florida         United States   \n",
       "34                 Guandu, Kunming, Yunnan                 China   \n",
       "35                         Dayuan, Taoyuan                Taiwan   \n",
       "36               Charlotte, North Carolina         United States   \n",
       "37                    Crawley, West Sussex        United Kingdom   \n",
       "38                       Freising, Bavaria               Germany   \n",
       "39                      Newark, New Jersey         United States   \n",
       "40                   Khimki, Moscow Oblast                Russia   \n",
       "41              Miami-Dade County, Florida         United States   \n",
       "42                        Phoenix, Arizona         United States   \n",
       "43             Weicheng, Xianyang, Shaanxi                 China   \n",
       "44           Pasay/Parañaque, Metro Manila           Philippines   \n",
       "45                 Mascot, New South Wales             Australia   \n",
       "46                          Houston, Texas         United States   \n",
       "47             Changning-Minhang, Shanghai                 China   \n",
       "48                   Rome-Fiumicino, Lazio                 Italy   \n",
       "49                           Narita, Chiba                 Japan   \n",
       "\n",
       "   Code(IATA/ICAO)  Totalpassengers  RankChange %change  \n",
       "0         ATL/KATL        107394029         NaN    3.3%  \n",
       "1         PEK/ZBAA        100983290         NaN    5.4%  \n",
       "2         DXB/OMDB         89149387         NaN    1.0%  \n",
       "3         LAX/KLAX         87534384         NaN    3.5%  \n",
       "4         HND/RJTT         87502720         2.0    2.5%  \n",
       "5         ORD/KORD         83339186         1.0    4.4%  \n",
       "6         LHR/EGLL         80126320         1.0    2.7%  \n",
       "7         HKG/VHHH         74517402         NaN    2.6%  \n",
       "8         PVG/ZSPD         74006331         NaN    5.7%  \n",
       "9         CDG/LFPG         72229723         NaN    4.0%  \n",
       "10        AMS/EHAM         71053147         NaN    3.7%  \n",
       "11        DEL/VIDP         69900938         4.0   10.2%  \n",
       "12        CAN/ZGGG         69769497         NaN    6.0%  \n",
       "13        FRA/EDDF         69510269         NaN    7.8%  \n",
       "14        DFW/KDFW         69112607         3.0    3.0%  \n",
       "15        ICN/RKSI         68350784         3.0   10.0%  \n",
       "16        IST/LTBA         68192683         2.0    6.4%  \n",
       "17        CGK/WIII         66908159         1.0    6.2%  \n",
       "18        SIN/WSSS         65628000         1.0    5.5%  \n",
       "19        DEN/KDEN         64494613         NaN    5.1%  \n",
       "20        BKK/VTBS         63378923         NaN    4.1%  \n",
       "21        JFK/KJFK         61623756         NaN    3.6%  \n",
       "22        KUL/WMKK         60013397         NaN    2.5%  \n",
       "23        MAD/LEMD         57862951         1.0    8.4%  \n",
       "24        SFO/KSFO         57708196         1.0    3.4%  \n",
       "25        CTU/ZUUU         52950529         NaN    6.3%  \n",
       "26        BCN/LEBL         50148228         1.0    6.1%  \n",
       "27        BOM/VABB         49876769         1.0    5.7%  \n",
       "28        LAS/KLAS         49863090         2.0    2.7%  \n",
       "29        SEA/KSEA         49849520         1.0    6.2%  \n",
       "30        YYZ/CYYZ         49467097         1.0    5.0%  \n",
       "31        SZX/ZGSZ         49348950         2.0    8.3%  \n",
       "32        MEX/MMMX         47700834         3.0    6.6%  \n",
       "33        MCO/KMCO         47694573         5.0    7.2%  \n",
       "34        KMG/ZPPP         47215986         2.0    5.6%  \n",
       "35        TPE/RCTP         46535180         1.0    3.7%  \n",
       "36        CLT/KCLT         46446721         5.0    1.2%  \n",
       "37        LGW/EGKK         46432630         6.0    1.9%  \n",
       "38        MUC/EDDM         46253623         1.0    3.8%  \n",
       "39        EWR/KEWR         46065175         3.0    6.6%  \n",
       "40        SVO/UUEE         45836255         9.0   14.3%  \n",
       "41        MIA/KMIA         45044312         2.0    2.1%  \n",
       "42        PHX/KPHX         44943686         2.0    2.3%  \n",
       "43        XIY/ZLXY         44653927         2.0    6.7%  \n",
       "44        MNL/RPLL         44488321         1.0    5.9%  \n",
       "45        SYD/YSSY         44475976         4.0    2.5%  \n",
       "46        IAH/KIAH         43807539         1.0    7.7%  \n",
       "47        SHA/ZSSS         43628004         3.0    4.2%  \n",
       "48        FCO/LIRF         42991056         2.0    4.9%  \n",
       "49        NRT/RJAA         42549173         1.0    4.7%  "
      ]
     },
     "execution_count": 171,
     "metadata": {},
     "output_type": "execute_result"
    }
   ],
   "source": [
    "dfs[2]"
   ]
  },
  {
   "cell_type": "code",
   "execution_count": null,
   "metadata": {},
   "outputs": [],
   "source": []
  }
 ],
 "metadata": {
  "kernelspec": {
   "display_name": "Python 3",
   "language": "python",
   "name": "python3"
  },
  "language_info": {
   "codemirror_mode": {
    "name": "ipython",
    "version": 3
   },
   "file_extension": ".py",
   "mimetype": "text/x-python",
   "name": "python",
   "nbconvert_exporter": "python",
   "pygments_lexer": "ipython3",
   "version": "3.8.5"
  }
 },
 "nbformat": 4,
 "nbformat_minor": 4
}
