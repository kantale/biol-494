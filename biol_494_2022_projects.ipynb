{
 "cells": [
  {
   "cell_type": "markdown",
   "metadata": {},
   "source": [
    "# Γενικά\n",
    "\n",
    "* Εδώ υπάρχει μία λίστα με 10 projects για το μάθημα.\n",
    "* Όλοι οι φοιτητές θα πρέπει να υλοποιήσουν και τα 10 projects\n",
    "* Τα projects είναι ατομικά \n",
    "* Παρόλο το όνομά τους (projects) είναι στην ουσία μικρές ασκήσεις. Κάθε project θέλει το πολύ ~20 γραμμές για να υλοποιηθεί. \n",
    "* Κάθε project απαίτεί το πολύ 5 λεπτά υπολογιστικό χρόνο και ελάχιστη μνήμη. Αν η υλοποίησή σας έχει πρόβλημα με χρόνο / μνήμη, τότε έχετε κάνει κάποιο πολύ βασικό λάθος!\n",
    "* Όλα τα projects είναι βαθμολογικά ισοδύναμα αλλά δεν είναι το ίδιο δύσκολα. Ξεκινήστε από αυτά που σας φαίνονται πιο εύκολα. Ίσως τα πιο δυσκολούτσικα είναι το 7 και το 10. \n",
    "* Όπως πάντα στείλτε στο slack απορίες.\n",
    "\n",
    "### Χρήσιμες συναρτήσεις:"
   ]
  },
  {
   "cell_type": "code",
   "execution_count": 1,
   "metadata": {},
   "outputs": [],
   "source": [
    "import urllib3\n",
    "\n",
    "def download(url, filename):\n",
    "    '''\n",
    "    Downloads the file that is located in \"url\" and saves it in \"filename\"\n",
    "    Adapted from: https://stackoverflow.com/a/17285906/5626738 \n",
    "    '''\n",
    "\n",
    "    chunk_size = 1024 * 1024 # 1MB chunk size\n",
    "    http = urllib3.PoolManager()\n",
    "    r = http.request('GET', url, preload_content=False)\n",
    "\n",
    "    with open(filename, 'wb') as out, http.request('GET', url, preload_content=False) as r:\n",
    "        while True:\n",
    "            data = r.read(chunk_size)\n",
    "            if not data:\n",
    "                break\n",
    "            out.write(data)\n",
    "    \n",
    "\n",
    "    "
   ]
  },
  {
   "cell_type": "markdown",
   "metadata": {},
   "source": [
    "# Project 1\n",
    "\n",
    "\n",
    "Το [TCGA](https://en.wikipedia.org/wiki/The_Cancer_Genome_Atlas), η \"The Canger Genome Atlas\" είναι ένα από τα μεγαλύτερα project στη περιοχή της έρευνας πάνω σε γενετικές μεταλλάξεις που σχετίζονται με τον καρκίνο. Το TCGA είναι στην ουσία μία συλλογή από projects, όπου το κάθε ένα εστιάζει και σε διαφορετικό είδος καρκίνου. Μπορείτε να επιλέξετε τον σύνδεσμο \"[projects](https://portal.gdc.cancer.gov/projects)\" και να δείτε ποια είναι αυτά. Ένα από τα πιο σημαντικά projects είναι το [TCGA-BRCA](https://portal.gdc.cancer.gov/projects/TCGA-BRCA) το οποίο περιέχει δεδομένα για τον καρκίνο του μαστού. \n",
    "\n",
    "Ένα από τα μεγαλύτερα προτερήματα του TCGA είναι ότι εκτώς από γενετικά δεδομένα, περιέχει και (ανώνυμα φυσικά!) κλινικά δεδομένα σχετικά με τους ασθενείς. Για παράδειγμα μπορείτε να πάτε στο [TCGA-BRCA](https://portal.gdc.cancer.gov/projects/TCGA-BRCA) project και να επιλέξετε Clinical --> JSON. Αφού το κάνετε αυτό θα κατέβει στον υπολογιστή σας ένα αρχείο σε json φορμάτ το οποίο περιέχει βασικές κλινικές πληροφορίες για 1098 ασθενείς. \n",
    "\n",
    "Ας φορτώσουμε αυτο αρχείο:"
   ]
  },
  {
   "cell_type": "code",
   "execution_count": 5,
   "metadata": {},
   "outputs": [],
   "source": [
    "fn= '/Users/admin/Downloads/clinical.project-TCGA-BRCA.2022-04-06.json'"
   ]
  },
  {
   "cell_type": "code",
   "execution_count": 8,
   "metadata": {},
   "outputs": [
    {
     "name": "stdout",
     "output_type": "stream",
     "text": [
      "1098\n"
     ]
    }
   ],
   "source": [
    "import json\n",
    "with open(fn) as f:\n",
    "    d = json.load(f)\n",
    "    \n",
    "print (len(d))"
   ]
  },
  {
   "cell_type": "markdown",
   "metadata": {},
   "source": [
    "Ας τυπώσουμε τα δεδομένα για τον 101ο ασθενη:"
   ]
  },
  {
   "cell_type": "code",
   "execution_count": 9,
   "metadata": {},
   "outputs": [
    {
     "name": "stdout",
     "output_type": "stream",
     "text": [
      "{\n",
      "    \"exposures\": [\n",
      "        {\n",
      "            \"cigarettes_per_day\": null,\n",
      "            \"alcohol_history\": \"Not Reported\",\n",
      "            \"updated_datetime\": \"2019-07-31T21:59:55.509602-05:00\",\n",
      "            \"exposure_id\": \"69fd9327-1f90-584f-ac01-7ec3935fc5a8\",\n",
      "            \"submitter_id\": \"TCGA-E9-A1RI_exposure\",\n",
      "            \"years_smoked\": null,\n",
      "            \"state\": \"released\",\n",
      "            \"created_datetime\": null,\n",
      "            \"alcohol_intensity\": null\n",
      "        }\n",
      "    ],\n",
      "    \"case_id\": \"dd3bfb26-b534-4917-9c4d-9fe7b6477762\",\n",
      "    \"diagnoses\": [\n",
      "        {\n",
      "            \"synchronous_malignancy\": \"No\",\n",
      "            \"ajcc_pathologic_stage\": \"Stage IIIA\",\n",
      "            \"days_to_diagnosis\": 0,\n",
      "            \"created_datetime\": null,\n",
      "            \"treatments\": [\n",
      "                {\n",
      "                    \"treatment_intent_type\": null,\n",
      "                    \"updated_datetime\": \"2019-07-31T21:59:55.509602-05:00\",\n",
      "                    \"treatment_id\": \"d814372f-6ce4-59d2-b8eb-b8f80f356197\",\n",
      "                    \"submitter_id\": \"TCGA-E9-A1RI_treatment\",\n",
      "                    \"treatment_type\": \"Radiation Therapy, NOS\",\n",
      "                    \"state\": \"released\",\n",
      "                    \"therapeutic_agents\": null,\n",
      "                    \"treatment_or_therapy\": \"yes\",\n",
      "                    \"created_datetime\": null\n",
      "                },\n",
      "                {\n",
      "                    \"days_to_treatment_end\": null,\n",
      "                    \"days_to_treatment_start\": null,\n",
      "                    \"treatment_id\": \"f5a23fac-2dd7-55fb-b9b1-3982ee7e13a3\",\n",
      "                    \"submitter_id\": \"TCGA-E9-A1RI_treatment_1\",\n",
      "                    \"treatment_type\": \"Pharmaceutical Therapy, NOS\",\n",
      "                    \"regimen_or_line_of_therapy\": null,\n",
      "                    \"treatment_effect\": null,\n",
      "                    \"therapeutic_agents\": null,\n",
      "                    \"treatment_or_therapy\": \"yes\",\n",
      "                    \"created_datetime\": \"2019-04-28T14:06:20.013796-05:00\",\n",
      "                    \"initial_disease_status\": null,\n",
      "                    \"treatment_intent_type\": null,\n",
      "                    \"treatment_anatomic_site\": null,\n",
      "                    \"updated_datetime\": \"2019-07-31T21:59:55.509602-05:00\",\n",
      "                    \"treatment_outcome\": null,\n",
      "                    \"state\": \"released\"\n",
      "                }\n",
      "            ],\n",
      "            \"last_known_disease_status\": \"not reported\",\n",
      "            \"tissue_or_organ_of_origin\": \"Breast, NOS\",\n",
      "            \"days_to_last_follow_up\": 1449,\n",
      "            \"age_at_diagnosis\": 15942,\n",
      "            \"primary_diagnosis\": \"Infiltrating duct and lobular carcinoma\",\n",
      "            \"updated_datetime\": \"2019-08-08T16:28:59.107330-05:00\",\n",
      "            \"prior_malignancy\": \"no\",\n",
      "            \"year_of_diagnosis\": 2011,\n",
      "            \"state\": \"released\",\n",
      "            \"prior_treatment\": \"No\",\n",
      "            \"days_to_last_known_disease_status\": null,\n",
      "            \"ajcc_staging_system_edition\": \"7th\",\n",
      "            \"ajcc_pathologic_t\": \"T1c\",\n",
      "            \"days_to_recurrence\": null,\n",
      "            \"morphology\": \"8522/3\",\n",
      "            \"ajcc_pathologic_n\": \"N2\",\n",
      "            \"ajcc_pathologic_m\": \"M0\",\n",
      "            \"submitter_id\": \"TCGA-E9-A1RI_diagnosis\",\n",
      "            \"classification_of_tumor\": \"not reported\",\n",
      "            \"diagnosis_id\": \"836f9bfa-fa53-5bd9-8648-5f6b21547ae3\",\n",
      "            \"icd_10_code\": \"C50.9\",\n",
      "            \"site_of_resection_or_biopsy\": \"Breast, NOS\",\n",
      "            \"tumor_grade\": \"not reported\",\n",
      "            \"progression_or_recurrence\": \"not reported\"\n",
      "        }\n",
      "    ],\n",
      "    \"demographic\": {\n",
      "        \"race\": \"white\",\n",
      "        \"gender\": \"female\",\n",
      "        \"ethnicity\": \"not hispanic or latino\",\n",
      "        \"vital_status\": \"Alive\",\n",
      "        \"age_at_index\": 43,\n",
      "        \"submitter_id\": \"TCGA-E9-A1RI_demographic\",\n",
      "        \"days_to_birth\": -15942,\n",
      "        \"created_datetime\": null,\n",
      "        \"year_of_birth\": 1968,\n",
      "        \"demographic_id\": \"d0012c61-9eed-5e25-8281-09c10b78d055\",\n",
      "        \"updated_datetime\": \"2019-07-31T21:59:55.509602-05:00\",\n",
      "        \"state\": \"released\",\n",
      "        \"year_of_death\": null\n",
      "    }\n",
      "}\n"
     ]
    }
   ],
   "source": [
    "print (json.dumps(d[100], indent=4))"
   ]
  },
  {
   "cell_type": "markdown",
   "metadata": {},
   "source": [
    "Εδώ βλέπουμε ότι ο συγκεκριμένος ασθενής διαγνώσθηκε με: `Infiltrating duct and lobular carcinoma`. Επίσης παρατηρούμε ότι ο ασθενής όταν διαγνώσθηκε ήταν 15942 ημερών (`age_at_diagnosis`) ή αλλιώς 43.68 χρονών. Σε αυτή την άσκηση θα πρέπει να φτιάξετε ένα pandas dataframe το οποίο να περιέχει τις εξής στήλες:\n",
    "* `diagnosis` : Όλα τα διαφορετικά `primary_diagnosis`.\n",
    "* `Average age at diagnosis`: Ο μέσος όρος διάγνωσης για όλους τους ασθενείς που έχουν αυτή τη διάγνωση. \n",
    "\n",
    "* Το dataframe θα περιέχει μόνο τις διαγνώσεις για τις οποίες υπάρχουν παραπάνω από 10 ασθενείς. \n",
    "* To dataframe θα πρέπει να είναι ταξινομημένο με βάση τη στήλη `Average age at diagnosis` από τη μικρότερο στη μεγαλύτερη. \n",
    "\n",
    "Δίνεται το αποτέλεσμα:"
   ]
  },
  {
   "cell_type": "code",
   "execution_count": 19,
   "metadata": {},
   "outputs": [
    {
     "data": {
      "text/html": [
       "<div>\n",
       "<style scoped>\n",
       "    .dataframe tbody tr th:only-of-type {\n",
       "        vertical-align: middle;\n",
       "    }\n",
       "\n",
       "    .dataframe tbody tr th {\n",
       "        vertical-align: top;\n",
       "    }\n",
       "\n",
       "    .dataframe thead th {\n",
       "        text-align: right;\n",
       "    }\n",
       "</style>\n",
       "<table border=\"1\" class=\"dataframe\">\n",
       "  <thead>\n",
       "    <tr style=\"text-align: right;\">\n",
       "      <th></th>\n",
       "      <th>diagnosis</th>\n",
       "      <th>Average age at diagnosis</th>\n",
       "    </tr>\n",
       "  </thead>\n",
       "  <tbody>\n",
       "    <tr>\n",
       "      <th>0</th>\n",
       "      <td>Infiltrating duct carcinoma, NOS</td>\n",
       "      <td>58.094956</td>\n",
       "    </tr>\n",
       "    <tr>\n",
       "      <th>1</th>\n",
       "      <td>Infiltrating duct and lobular carcinoma</td>\n",
       "      <td>58.718591</td>\n",
       "    </tr>\n",
       "    <tr>\n",
       "      <th>2</th>\n",
       "      <td>Infiltrating duct mixed with other types of ca...</td>\n",
       "      <td>60.096467</td>\n",
       "    </tr>\n",
       "    <tr>\n",
       "      <th>3</th>\n",
       "      <td>Metaplastic carcinoma, NOS</td>\n",
       "      <td>61.044814</td>\n",
       "    </tr>\n",
       "    <tr>\n",
       "      <th>4</th>\n",
       "      <td>Lobular carcinoma, NOS</td>\n",
       "      <td>62.125805</td>\n",
       "    </tr>\n",
       "    <tr>\n",
       "      <th>5</th>\n",
       "      <td>Mucinous adenocarcinoma</td>\n",
       "      <td>69.125662</td>\n",
       "    </tr>\n",
       "  </tbody>\n",
       "</table>\n",
       "</div>"
      ],
      "text/plain": [
       "                                           diagnosis  Average age at diagnosis\n",
       "0                   Infiltrating duct carcinoma, NOS                 58.094956\n",
       "1            Infiltrating duct and lobular carcinoma                 58.718591\n",
       "2  Infiltrating duct mixed with other types of ca...                 60.096467\n",
       "3                         Metaplastic carcinoma, NOS                 61.044814\n",
       "4                             Lobular carcinoma, NOS                 62.125805\n",
       "5                            Mucinous adenocarcinoma                 69.125662"
      ]
     },
     "execution_count": 19,
     "metadata": {},
     "output_type": "execute_result"
    }
   ],
   "source": []
  },
  {
   "cell_type": "markdown",
   "metadata": {},
   "source": [
    "# Project 2\n",
    "\n",
    "H [μεταγενομική](https://en.wikipedia.org/wiki/Metagenomics) είναι η περιοχή της γενετικής η οποία μελετάει τη συγκέντρωση διάφορων μικροοργανισμών μέσω της μαζικής αλληλούχησης βιολογικού υλικού απευθείας από ένα περιβάλλον.  Η μεταγενομική έχει βρει τεράστια εφαρμογή στη μελέτη της χλωρίδας στο πεπτικό σύστημα του ανθρώπου, όπου έχει εντοπιστεί ότι διαφορετικές ασθένειες μπορούν να τη μεταβάλλουν με διάφορους τρόπους. Το [Human Microbiome Project](https://en.wikipedia.org/wiki/Human_Microbiome_Project) ήταν ένα project το οποίο προσπάθησε να μετρήσει ποια είναι η φυσιολογική κατανομή αυτών των μικροοργανισμών σε φυσιολογικές καταστάσεις σε αντίθεση με μη-φυσιολογικές. \n",
    "\n",
    "Στο [site του project](https://www.hmpdacc.org/MBQC/) μπορείτε να διαβάσετε περισσότερα αλλά και να κατεβάσετε τα δεδομένα. \n",
    "\n",
    "Γεια αρχή λοιπόν θα πρέπει να κατεβάσετε και να αποσυμπιέσετε (δείτε σημείωση παρακάτω) αυτό το αρχείο: http://downloads.ihmpdcc.org/data/MBQC/mbqc_integrated_otus.tsv.gz \n",
    "\n",
    "Το αρχείο αυτό είναι TSV (tab separated values). Η πρώτη στήλη περιέχει ένα όνομα/τίτλο σχετικά με τη πληροφορία που υπάρχει σε κάθε γραμμή. Για παράδειγμα ας δούμε τον τίτλο της 28ης γραμμής:\n"
   ]
  },
  {
   "cell_type": "code",
   "execution_count": 27,
   "metadata": {},
   "outputs": [
    {
     "name": "stdout",
     "output_type": "stream",
     "text": [
      "health_status_collapsed\n"
     ]
    }
   ],
   "source": [
    "fn = '/Users/admin/Downloads/mbqc_integrated_otus.tsv'\n",
    "\n",
    "with open (fn) as f:\n",
    "    for x in range(28):\n",
    "        l = next(f)\n",
    "    \n",
    "ls = l.strip().split('\\t')\n",
    "print (ls[0])    "
   ]
  },
  {
   "cell_type": "markdown",
   "metadata": {},
   "source": [
    "Αυτή η γραμμή περιέχει τη πληροφορία για το αν το δείγμα είναι υγιές (`Healthy`) ή άρρωστο (`sick`):"
   ]
  },
  {
   "cell_type": "code",
   "execution_count": 28,
   "metadata": {},
   "outputs": [
    {
     "data": {
      "text/plain": [
       "Counter({'Healthy': 6291, 'Sick': 9494, 'NA': 355})"
      ]
     },
     "execution_count": 28,
     "metadata": {},
     "output_type": "execute_result"
    }
   ],
   "source": [
    "from collections import Counter\n",
    "Counter(ls[1:])"
   ]
  },
  {
   "cell_type": "markdown",
   "metadata": {},
   "source": [
    "Παρατηρούμε ότι το αρχείο περιέχει 6291 `healthy` δείγματα και 9494 `sick`, ενώ για 355 δείγματα δεν έχουμε αυτή τη πληροροφία και μπορούμε να τα αγνοήσουμε. Από την 73η γραμμή και μετά θα δούμε ότι η πρώτη στήλη περιέχει τη ταξινομία (taxonomy) κάποιου μικρο-οργανισμού και οι υπόλοιπες στήλες περιέχουν ακέραιους αριθμούς οι οποίοι δείχνουν τη συγκέντρωση αυτού του μικροοργανισμού στο κάθε δείγμα. Αυτός ο πίνακας ονομάζεται και OTU (Operational taxonomic unit) πίνακας. \n",
    "\n",
    "Φυσικά αυτό που μας ενδιαφέρει είναι ποιοι μικροοργανισμού φαίνονται να έχουν διαφορετική συγκέντρωση μεταξύ υγειών και μη-υγειών διεγμάτων. Πριν φτάσουμε όμως σε αυτό το σημαντικό ερώτημα καλό είναι να ρίξουμε μία ματιά στη κατανομή αυτών των διαφορών. Έτσι λοιπόν σε αυτο το project θα πρέπει να κάνετε το εξής:\n",
    "\n",
    "* Για κάθε μικροοργανισμό βρείτε τον μέσο όρο των συγκεντρώσεών του στου υγιείς (έστω a) και στους ασθενείς (έστω b)\n",
    "* Αν ο μέσος όρος των συγκέντρωσσεωνν στους υγιείς (a) ή στους ασθενείς (b) είνα 0.0 αγνοήστε αυτό τον μικροοργανισμό.\n",
    "* Για κάθε μικροοργανισμό υπολογίστε τον λογάριθμο του λόγου των μέσων όρων των ασθενών προς τους υγιείς. Δηλαδή υπολογίστε το log(b/a).\n",
    "* Κάντε plot τη κατανομή αυτών των τιμών. Ένας τρόπος να το κάνετε αυτό είναι με τη συνάρτηση displot του πακέτου [seaborn](https://seaborn.pydata.org/):"
   ]
  },
  {
   "cell_type": "code",
   "execution_count": null,
   "metadata": {},
   "outputs": [],
   "source": [
    "# Παράδειγμα  χρήσης seaborn.\n",
    "# Αρχικά εγκαταστήστε το (τρέχτε αυτό μία φορά μόνο):\n",
    "!pip install seaborn"
   ]
  },
  {
   "cell_type": "code",
   "execution_count": 61,
   "metadata": {},
   "outputs": [],
   "source": [
    "# Φτιάχνουμε έναν πίνακα με αριθμούς από τη κανονική κατανομή:\n",
    "data = np.random.normal(size=10_000)"
   ]
  },
  {
   "cell_type": "code",
   "execution_count": 63,
   "metadata": {},
   "outputs": [
    {
     "data": {
      "text/plain": [
       "<seaborn.axisgrid.FacetGrid at 0x7ffe692d87c0>"
      ]
     },
     "execution_count": 63,
     "metadata": {},
     "output_type": "execute_result"
    },
    {
     "data": {
      "image/png": "[encoded data removed]",
      "text/plain": [
       "<Figure size 360x360 with 1 Axes>"
      ]
     },
     "metadata": {
      "needs_background": "light"
     },
     "output_type": "display_data"
    }
   ],
   "source": [
    "import seaborn as sns \n",
    "sns.displot(data, kde = True)"
   ]
  },
  {
   "cell_type": "markdown",
   "metadata": {},
   "source": [
    "Δίνεται η κατανομή όπως βγήκε σε μένα:"
   ]
  },
  {
   "cell_type": "code",
   "execution_count": 8,
   "metadata": {},
   "outputs": [
    {
     "data": {
      "text/plain": [
       "<seaborn.axisgrid.FacetGrid at 0x7ffa41421c10>"
      ]
     },
     "execution_count": 8,
     "metadata": {},
     "output_type": "execute_result"
    },
    {
     "data": {
      "image/png": "[encoded data removed]",
      "text/plain": [
       "<Figure size 360x360 with 1 Axes>"
      ]
     },
     "metadata": {
      "needs_background": "light"
     },
     "output_type": "display_data"
    }
   ],
   "source": []
  },
  {
   "cell_type": "markdown",
   "metadata": {},
   "source": [
    "* Σημείωση: με τη βιβλιοθήκη [gzip](https://docs.python.org/3/library/gzip.html) μπορείτε να διαβάσετε απευθείας αρχεία τα οποία είναι συμπιεσμένα σε φορμάτ gunzip. "
   ]
  },
  {
   "cell_type": "markdown",
   "metadata": {},
   "source": [
    "# Project 3\n",
    "\n",
    "Το [Single cell sequencing](https://en.wikipedia.org/wiki/Single_cell_sequencing) είναι μία τεχνική η οποία μας επιτρέπει να εξάγουμε γονιδιωματική πληροφορία από ξεχωριστά κύτταρα τα οποία ανήκουν σε κάποιο ιστό. Αυτό μας δίνει τη δυνατότητα να εξετάσουμε τις διαφορές που έχουν τα κύτταρα σε έναν ετερογενή ιστό, όπως π.χ. ένα κακοήθης όγκος. Μέσω του Single cell sequencing μπορούμε να εξάγουμε τόσο σημειακές μεταλλάξεις όσο και Copy Number Variation (CNVs) μεταξύ των κυττάρων. Σε αυτό το project θα ασχοληθούμε μόνο με CNVs. Σε αυτό το link: https://github.com/NielsenBerkeleyLab/sconce/tree/main/test/diploid υπάρχει μία λίστα από 100 bed αρχεία. Τα αρχεία αυτά περιέχουν τα αποτελέσματα από ένα υποθετικό πείραμα single cell sequencing το οποίο μετράει το πλήθος από CNVs σε διάφορες περιοχές του γονιδιώματας σε 100 διαφορετικά κύτταρα. Για παράδειγμα ας πάρουμε το πρώτο:\n",
    "\n",
    "\n",
    "\n",
    "\n"
   ]
  },
  {
   "cell_type": "code",
   "execution_count": 11,
   "metadata": {},
   "outputs": [],
   "source": [
    "download(\n",
    "    'https://raw.githubusercontent.com/NielsenBerkeleyLab/sconce/main/test/diploid/simu_healthy_cell_0.hg19_lite.bed', \n",
    "    'simu_healthy_cell_0.hg19_lite.bed',\n",
    ")"
   ]
  },
  {
   "cell_type": "markdown",
   "metadata": {},
   "source": [
    "Ας τυπώσουμε τις πρώτες 10 γραμμές του:"
   ]
  },
  {
   "cell_type": "code",
   "execution_count": 13,
   "metadata": {},
   "outputs": [
    {
     "name": "stdout",
     "output_type": "stream",
     "text": [
      "chr1\t0\t250000\t328\n",
      "chr1\t250000\t500000\t355\n",
      "chr1\t500000\t750000\t357\n",
      "chr1\t750000\t1000000\t326\n",
      "chr1\t1000000\t1250000\t342\n",
      "chr1\t1250000\t1500000\t282\n",
      "chr1\t1500000\t1750000\t315\n",
      "chr1\t1750000\t2000000\t233\n",
      "chr1\t2000000\t2250000\t296\n",
      "chr1\t2250000\t2500000\t365\n"
     ]
    }
   ],
   "source": [
    "with open('simu_healthy_cell_0.hg19_lite.bed') as f:\n",
    "    for x in range(10):\n",
    "        print (f.readline().strip())"
   ]
  },
  {
   "cell_type": "markdown",
   "metadata": {},
   "source": [
    "Η πρώτη στήλη περιέχει το χρωμόσωμα, η 2η περιέχει την αρχή ενός διαστήματος, η 3η περιέχει το τέλος του διαστήματος και η 4η περιέχει το πλήθος από CNVs που εντοπίστηκαν σε αυτό το διάστημα. Υπάρχουν 100 τέτοια αρχεία και το link του κάθε αρχείου είναι:\n",
    "\n",
    "```python\n",
    "N = 45 # ένας αριθμός από το 0 μέχρι και το 99\n",
    "filename = f'https://raw.githubusercontent.com/NielsenBerkeleyLab/sconce/main/test/diploid/simu_healthy_cell_{N}.hg19_lite.bed'\n",
    "```\n",
    "\n",
    "Επίσης σε κάθε αρχείο τα διαστήματα είναι ίδια. \n",
    "\n",
    "Σε αυτό το project θα πρέπει να:\n",
    "* Να κατεβάσετε τοπικά και τα 100 αρχεία\n",
    "* Να υπολογίσετε τον μέσο όρο των CNVs για κάθε ξεχωριστό διάστημα σε όλα τα αρχεία.\n",
    "* Να σώσετε το αποτέλεσμα σε ένα αρχείο με το ίδιο format (bed) με το όνομα `average.bed`\n",
    "\n",
    "Για παράδειγμα ας υποθέσουμε ότι είχαμε μόνο 3 αρχεία με τα εξής δεδομένα:\n",
    "\n",
    "`1.bed`:\n",
    "```text\n",
    "chr1\t0\t250000\t4\n",
    "chr1\t250000\t500000\t3\n",
    "chr1\t500000\t750000\t8\n",
    "chr1\t750000\t1000000\t12\n",
    "```\n",
    "\n",
    "`2.bed`:\n",
    "```text\n",
    "chr1\t0\t250000\t6\n",
    "chr1\t250000\t500000\t7\n",
    "chr1\t500000\t750000\t1\n",
    "chr1\t750000\t1000000\t9\n",
    "```\n",
    "\n",
    "`3.bed`:\n",
    "```text\n",
    "chr1\t0\t250000\t7\n",
    "chr1\t250000\t500000\t4\n",
    "chr1\t500000\t750000\t2\n",
    "chr1\t750000\t1000000\t6\n",
    "```\n",
    "\n",
    "Τότε το αποτέλεσμα θα πρέπει να είναι:\n",
    "\n",
    "`average.bed`:\n",
    "```text\n",
    "chr1\t0\t250000\t5.666666666666667\n",
    "chr1\t250000\t500000\t4.666666666666667\n",
    "chr1\t500000\t750000\t3.6666666666666665\n",
    "chr1\t750000\t1000000\t9\n",
    "```\n",
    "\n",
    "* Σημείωση: τα αρχεία προέρχονται από αυτή τη δημοσίευση: https://academic.oup.com/bioinformatics/article/38/7/1801/6515610 "
   ]
  },
  {
   "cell_type": "markdown",
   "metadata": {},
   "source": [
    "# Project 4\n",
    "\n",
    "4 από τις πιο βασικές διαδικτυακές υπηρεσίες για την αναζήτηση βιολογικής πληροφορίας είναι: \n",
    "\n",
    "* MyGene.info \n",
    "* MyVariant.info\n",
    "* MyChem.info\n",
    "* MyDisease.info\n",
    "\n",
    "Τα 4 αυτά site παρέχουν τη δυνατότητα σε προγραμματιστές να αναζητήσουν πληροφορίες για γονίδια, μεταλλάξεις, χημικές ενώσεις και ασθένειες. Ας παίξουμε λίγο μαζί τους:\n",
    "\n"
   ]
  },
  {
   "cell_type": "code",
   "execution_count": 35,
   "metadata": {},
   "outputs": [],
   "source": [
    "import json\n",
    "import urllib3\n",
    "\n",
    "def get_json(url):\n",
    "    http = urllib3.PoolManager()\n",
    "    \n",
    "\n",
    "    response = http.request(\"GET\", url)\n",
    "    data = json.loads(response.data) \n",
    "    return data"
   ]
  },
  {
   "cell_type": "markdown",
   "metadata": {},
   "source": [
    "Πληροφορίες για τη μετάλλαξη chr7:g.55241707G>T:"
   ]
  },
  {
   "cell_type": "code",
   "execution_count": 37,
   "metadata": {},
   "outputs": [],
   "source": [
    "info = get_json('http://myvariant.info/v1/variant/chr7:g.55241707G>T')"
   ]
  },
  {
   "cell_type": "markdown",
   "metadata": {},
   "source": [
    "Ας δούμε τι είδους πληροφορία έχει φέρει για αυτή τη μετάλλαξη:"
   ]
  },
  {
   "cell_type": "code",
   "execution_count": 39,
   "metadata": {},
   "outputs": [
    {
     "data": {
      "text/plain": [
       "dict_keys(['_id', '_version', 'cadd', 'cgi', 'chrom', 'clinvar', 'cosmic', 'dbnsfp', 'dbsnp', 'docm', 'hg19', 'mutdb', 'observed', 'snpedia', 'snpeff', 'vcf'])"
      ]
     },
     "execution_count": 39,
     "metadata": {},
     "output_type": "execute_result"
    }
   ],
   "source": [
    "info.keys()"
   ]
  },
  {
   "cell_type": "markdown",
   "metadata": {},
   "source": [
    "Φαίνεται ότι έχει φέρει πληροφορία από τη [dbsnp](https://www.ncbi.nlm.nih.gov/snp/). Τι πληροφορία όμως έχει φέρει;"
   ]
  },
  {
   "cell_type": "code",
   "execution_count": 47,
   "metadata": {},
   "outputs": [
    {
     "data": {
      "text/plain": [
       "dict_keys(['_license', 'alt', 'chrom', 'citations', 'dbsnp_build', 'gene', 'hg19', 'ref', 'rsid', 'vartype'])"
      ]
     },
     "execution_count": 47,
     "metadata": {},
     "output_type": "execute_result"
    }
   ],
   "source": [
    "info['dbsnp'].keys()"
   ]
  },
  {
   "cell_type": "markdown",
   "metadata": {},
   "source": [
    "Έχει φέρει πληροροφία και για το γονίδιο:"
   ]
  },
  {
   "cell_type": "code",
   "execution_count": 48,
   "metadata": {},
   "outputs": [
    {
     "data": {
      "text/plain": [
       "dict_keys(['geneid', 'is_pseudo', 'name', 'rnas', 'strand', 'symbol'])"
      ]
     },
     "execution_count": 48,
     "metadata": {},
     "output_type": "execute_result"
    }
   ],
   "source": [
    "info['dbsnp']['gene'].keys()"
   ]
  },
  {
   "cell_type": "markdown",
   "metadata": {},
   "source": [
    "Ποιο είναι λοιπόν το όνομα και το σύμβολο του γονιδίου όπου βρίσκεται αυτή η μετάλλαξη;"
   ]
  },
  {
   "cell_type": "code",
   "execution_count": 52,
   "metadata": {},
   "outputs": [
    {
     "name": "stdout",
     "output_type": "stream",
     "text": [
      "EGFR\n",
      "epidermal growth factor receptor\n"
     ]
    }
   ],
   "source": [
    "print (info['dbsnp']['gene']['symbol'])\n",
    "print (info['dbsnp']['gene']['name'])"
   ]
  },
  {
   "cell_type": "markdown",
   "metadata": {},
   "source": [
    "Ποιος είναι ο κωδικός της μετάλλαξης σύμφωνα με τη dbsnp;"
   ]
  },
  {
   "cell_type": "code",
   "execution_count": 54,
   "metadata": {},
   "outputs": [
    {
     "name": "stdout",
     "output_type": "stream",
     "text": [
      "rs28929495\n"
     ]
    }
   ],
   "source": [
    "print (info['dbsnp']['rsid'])"
   ]
  },
  {
   "cell_type": "markdown",
   "metadata": {},
   "source": [
    "Μπορούμε να κάνουμε τώρα το αντίθετο; Να πάρουμε τον κωδικό της μετάλλαξης και να βρούμε τη θέση της;"
   ]
  },
  {
   "cell_type": "code",
   "execution_count": 55,
   "metadata": {},
   "outputs": [],
   "source": [
    "info = get_json('http://myvariant.info/v1/query/?q=dbsnp.rsid:rs28929495')"
   ]
  },
  {
   "cell_type": "code",
   "execution_count": 60,
   "metadata": {},
   "outputs": [
    {
     "data": {
      "text/plain": [
       "dict_keys(['took', 'total', 'max_score', 'hits'])"
      ]
     },
     "execution_count": 60,
     "metadata": {},
     "output_type": "execute_result"
    }
   ],
   "source": [
    "info.keys()"
   ]
  },
  {
   "cell_type": "markdown",
   "metadata": {},
   "source": [
    "Πόσα αποτελέσματα βρήκε;"
   ]
  },
  {
   "cell_type": "code",
   "execution_count": 61,
   "metadata": {},
   "outputs": [
    {
     "data": {
      "text/plain": [
       "3"
      ]
     },
     "execution_count": 61,
     "metadata": {},
     "output_type": "execute_result"
    }
   ],
   "source": [
    "info['total']"
   ]
  },
  {
   "cell_type": "markdown",
   "metadata": {},
   "source": [
    "Ας πάρουμε το πρώτο αποτέλεσμα:"
   ]
  },
  {
   "cell_type": "code",
   "execution_count": 63,
   "metadata": {},
   "outputs": [
    {
     "data": {
      "text/plain": [
       "dict_keys(['_id', '_score', 'cadd', 'cgi', 'chrom', 'clinvar', 'cosmic', 'dbnsfp', 'dbsnp', 'docm', 'hg19', 'mutdb', 'observed', 'snpedia', 'snpeff', 'vcf'])"
      ]
     },
     "execution_count": 63,
     "metadata": {},
     "output_type": "execute_result"
    }
   ],
   "source": [
    "info['hits'][0].keys()"
   ]
  },
  {
   "cell_type": "markdown",
   "metadata": {},
   "source": [
    "Περιέχει τη θέση της μετάλλαξης στο hg19:"
   ]
  },
  {
   "cell_type": "code",
   "execution_count": 65,
   "metadata": {},
   "outputs": [
    {
     "data": {
      "text/plain": [
       "{'end': 55241707, 'start': 55241707}"
      ]
     },
     "execution_count": 65,
     "metadata": {},
     "output_type": "execute_result"
    }
   ],
   "source": [
    "info['hits'][0]['hg19']"
   ]
  },
  {
   "cell_type": "code",
   "execution_count": 67,
   "metadata": {},
   "outputs": [
    {
     "data": {
      "text/plain": [
       "{'alt': 'T', 'position': '55241707', 'ref': 'G'}"
      ]
     },
     "execution_count": 67,
     "metadata": {},
     "output_type": "execute_result"
    }
   ],
   "source": [
    "info['hits'][0]['vcf']"
   ]
  },
  {
   "cell_type": "markdown",
   "metadata": {},
   "source": [
    "Για αυτό το project θα πρέπει να φτιάξετε μία συνάρτηση η οποία θα παίρνει μία παράμετρο η οποία θα είναι μία μετάλλαξη (π.χ. `chr7:g.55241707G>T`). Στη συνέχεια η συνάρτηση:\n",
    "\n",
    "* Μέσω του MyVariant.info θα εντοπίζει το γονίδιο (δηλαδή το symbol) που βρίσκεται η μετάλλαξη (αν επιστρέψει πολλά πάρτε το πρώτο).\n",
    "* Μέσω του MyGene.info θα παίρνει το γονίδιο (δηλαδή το symbol) και θα εντοπίζει τη πρωτεΐνη του γονιδίου (σε UniProt ID) (αν επιστρέψει πολλά πάρτε το πρώτο)\n",
    "* Μέσω του MyChem.info θα παίρνει τη πρωτεΐνη (σε UniProt ID) και θα εντοπίζει τη χημική ένωση που έχει συνδεθεί με αυτή τη πρωτεΐνη. Συγκεκριμμένα θα παίρνει το MESH id από το UMLS.\n",
    "* Μέσω του MyDisease.info θα παίρνει τη χημική ένωση (MESH id) και θα ψάχνει για ασθένειες που έχουν συνδεθεί με αυτήν. Συγκεκριμμένα θα επιστρέφει το label σύμφωνα με τη βάση δεδομένων [MONDO](https://www.ebi.ac.uk/ols/ontologies/mondo), αν επιστρέφει πολλά πάρτε το πρώτο.\n",
    "\n",
    "\n",
    "Μπορείτε να διαβάσετε περισσότερα για αυτές τις υπηρεσίες:\n",
    "* https://docs.mydisease.info/en/latest/ \n",
    "* https://docs.myvariant.info/en/latest/\n",
    "* https://docs.mygene.info/en/latest/\n",
    "* https://docs.mychem.info/en/latest/\n",
    "\n",
    "Δίνεται ο παρακάτω βοηθητικός κώδικας:"
   ]
  },
  {
   "cell_type": "code",
   "execution_count": 77,
   "metadata": {},
   "outputs": [],
   "source": [
    "# Έυρεση του MESH ID των χημικών ενώσεων που συνδέονται με τη πρωτεΐνη με UniProt ID: P34981\n",
    "info = get_json('https://mychem.info/v1/query?q=drugcentral.bioactivity.uniprot.uniprot_id:P34981&fields=umls.mesh')"
   ]
  },
  {
   "cell_type": "code",
   "execution_count": 78,
   "metadata": {},
   "outputs": [
    {
     "data": {
      "text/plain": [
       "{'took': 13,\n",
       " 'total': 3,\n",
       " 'max_score': 10.96833,\n",
       " 'hits': [{'_id': 'LQZAIAZUDWIVPM-NDQFZYFBSA-N',\n",
       "   '_score': 10.96833,\n",
       "   'umls': {'mesh': 'C065049'}},\n",
       "  {'_id': 'XNSAINXGIQZQOO-SRVKXCTJSA-N',\n",
       "   '_score': 10.26664,\n",
       "   'umls': {'mesh': 'D013973'}},\n",
       "  {'_id': 'ANTSCNMPPGJYLG-UHFFFAOYSA-N',\n",
       "   '_score': 9.71619,\n",
       "   'umls': {'mesh': 'D002707'}}]}"
      ]
     },
     "execution_count": 78,
     "metadata": {},
     "output_type": "execute_result"
    }
   ],
   "source": [
    "info"
   ]
  },
  {
   "cell_type": "code",
   "execution_count": 91,
   "metadata": {},
   "outputs": [],
   "source": [
    "# Εύρεση του Mondo label των ασθενειών οι οποίες έχουν συνδεθεί με τη χημική ουσία με MESH ID:  C065049\n",
    "info = get_json('http://mydisease.info/v1/query/?ctd.chemical_related_to_disease.mesh_chemical_id=C065049&fields=mondo.label')"
   ]
  },
  {
   "cell_type": "code",
   "execution_count": 90,
   "metadata": {},
   "outputs": [
    {
     "data": {
      "text/plain": [
       "{'took': 11,\n",
       " 'total': 127016,\n",
       " 'max_score': 1.0,\n",
       " 'hits': [{'_id': 'MONDO:0020747',\n",
       "   '_score': 1.0,\n",
       "   'mondo': {'label': 'sitosterolemia 1'}},\n",
       "  {'_id': 'MONDO:0020748',\n",
       "   '_score': 1.0,\n",
       "   'mondo': {'label': 'sitosterolemia 2'}},\n",
       "  {'_id': 'MONDO:0020749',\n",
       "   '_score': 1.0,\n",
       "   'mondo': {'label': 'polycystic lipomembranous osteodysplasia with sclerosing leukoencephalopathy 1'}},\n",
       "  {'_id': 'MONDO:0020750',\n",
       "   '_score': 1.0,\n",
       "   'mondo': {'label': 'polycystic lipomembranous osteodysplasia with sclerosing leukoencephalopathy 2'}},\n",
       "  {'_id': 'MONDO:0020751',\n",
       "   '_score': 1.0,\n",
       "   'mondo': {'label': 'orthostatic hypotension 2'}},\n",
       "  {'_id': 'MONDO:0020752', '_score': 1.0, 'mondo': {'label': 'EJM1'}},\n",
       "  {'_id': 'MONDO:0020755', '_score': 1.0},\n",
       "  {'_id': 'MONDO:0020759',\n",
       "   '_score': 1.0,\n",
       "   'mondo': {'label': 'epilepsy, childhood absence, susceptibility to, 1'}},\n",
       "  {'_id': 'MONDO:0020762',\n",
       "   '_score': 1.0,\n",
       "   'mondo': {'label': 'diencephalic-mesencephalic junction dysplasia syndrome 2'}},\n",
       "  {'_id': 'MONDO:0020763',\n",
       "   '_score': 1.0,\n",
       "   'mondo': {'label': 'Menke-Hennekam syndrome 1'}}]}"
      ]
     },
     "execution_count": 90,
     "metadata": {},
     "output_type": "execute_result"
    }
   ],
   "source": [
    "info"
   ]
  },
  {
   "cell_type": "markdown",
   "metadata": {},
   "source": [
    "# Project 5\n",
    "\n",
    "Σκοπός αυτού του project είναι να φτιάξετε το αριστερό μέρος (5min / 0min) της γραφική παράσταση 3Α, από [αυτή τη δημοσίευση](http://europepmc.org/article/MED/24850871). \n",
    "\n",
    "> de Graaf EL, Giansanti P, Altelaar AF, Heck AJ. Single-step enrichment by Ti4+-IMAC and label-free quantitation enables in-depth monitoring of phosphorylation dynamics with high reproducibility and temporal resolution. Molecular & Cellular Proteomics : MCP. 2014 Sep;13(9):2426-2434. DOI: 10.1074/mcp.o113.036608. PMID: 24850871; PMCID: PMC4159659. \n",
    "\n",
    "Αυτό είναι ένα [Volcano plot](https://en.wikipedia.org/wiki/Volcano_plot_%28statistics%29). Τα Volcano plots είναι χρήσιμα όταν έχουμε κάνει ένα πείραμα και μετράμε πολλές μεταβλητές (π.χ. γονίδια, πρωτεΐνες, μεταλλάξεις, ...) πάνω σε δύο συνθήκες (π.χ υγιεί / άρρωστα δείγματα). Στον άξονα Χ βάζουμε το \"fold change\" δηλαδή ο λόγος της μεταβολής της μέτρησης από τη μία συνθήκη στην άλλη. Για παράδειγμα αν ένα γονίδιο έχει τριπλάσια έκφραση σε μία υγιή κατάσταση σε σχέση με μία μη-υγιή, τότε στο Χ θα έχει τιμή 3, ενώ αν έχει το 1/3 της έκφρασης τότε στο Χ θα έχει -3. Στον Υ άξονα βάζουμε το p-value κάποιου στατιστικού μέτρου που ελέγχει κατα πόσο αυτή η αλλαγή της έκφρασης είναι στατιστικά σημαντική. \n",
    "\n",
    "Στο συγκεκριμένο πείραμα μελετάται η αλλαγή στη συγκέντρωση μετά από 5/10/20/30/60 λεπτά από την εφαρμογή ενός πρωτοκόλου φωσφορυλίωσης και το συγκεκριμμένο plot περιέχει τις διαφορές που εντοπίστηκαν στα πρώτα 5 λεπτά. \n",
    "\n",
    "<!-- https://github.com/saezlab/kinact -->\n",
    "\n",
    "Μπορείτε να φορτώσετε τα δεδομένα στα pandas με:\n"
   ]
  },
  {
   "cell_type": "code",
   "execution_count": 92,
   "metadata": {},
   "outputs": [],
   "source": [
    "import pandas as pd\n",
    "df = pd.read_csv('https://raw.githubusercontent.com/saezlab/kinact/master/kinact/data/deGraaf_2014_jurkat.csv')"
   ]
  },
  {
   "cell_type": "markdown",
   "metadata": {},
   "source": [
    "Ας δούμε τι στήλες έχει:"
   ]
  },
  {
   "cell_type": "code",
   "execution_count": 9,
   "metadata": {},
   "outputs": [
    {
     "data": {
      "text/plain": [
       "Index(['Unique identifier', 'Proteins', 'Protein names', 'Gene names',\n",
       "       'Positions within proteins', 'Amino acid', 'Multiplicity',\n",
       "       'Sequence window', 'Modified sequence', 'PEP', 'Score',\n",
       "       'Score for localization', 'Score diff', 'Localization prob', 'Charge',\n",
       "       'm/z', 'Mass error [ppm]', 'Average Log2 Intensity 0min',\n",
       "       'Average Log2 Intensity 5min', 'Average Log2 Intensity 10min',\n",
       "       'Average Log2 Intensity 20min', 'Average Log2 Intensity 30min',\n",
       "       'Average Log2 Intensity 60min', 'p value_5vs0min', 'p value_10vs0min',\n",
       "       'p value_20vs0min', 'p value_30vs0min', 'p value_60vs0min',\n",
       "       'p value_10vs5min', 'p value_20vs5min', 'p value_30vs5min',\n",
       "       'p value_60vs5min', 'p value_20vs10min', 'p value_30vs10min',\n",
       "       'p value_60vs10min', 'p value_30vs20min', 'p value_60vs20min',\n",
       "       'p value_60vs30min', 'Cluster'],\n",
       "      dtype='object')"
      ]
     },
     "execution_count": 9,
     "metadata": {},
     "output_type": "execute_result"
    }
   ],
   "source": [
    "df.columns"
   ]
  },
  {
   "cell_type": "markdown",
   "metadata": {},
   "source": [
    "Σε αυτό το project λοιπόν θα πρέπει να φτιάξετε ένα plot. Στον άξονα  Χ θα βάλετε τις τιμές τη διαφορά των στηλών `Average Log2 Intensity 5min` και `Average Log2 Intensity 0min`. Στον άγονα y θα βάλετε τις τιμές της στήλης `p value_5vs0min`. Το plot θα πρέπει να μοιάζει με το παρακάτω:"
   ]
  },
  {
   "cell_type": "code",
   "execution_count": 22,
   "metadata": {},
   "outputs": [
    {
     "data": {
      "text/plain": [
       "<AxesSubplot:xlabel='aa', ylabel='p value_5vs0min'>"
      ]
     },
     "execution_count": 22,
     "metadata": {},
     "output_type": "execute_result"
    },
    {
     "data": {
      "image/png": "[encoded data removed]",
      "text/plain": [
       "<Figure size 432x288 with 1 Axes>"
      ]
     },
     "metadata": {
      "needs_background": "light"
     },
     "output_type": "display_data"
    }
   ],
   "source": []
  },
  {
   "cell_type": "markdown",
   "metadata": {},
   "source": [
    "# Project 6\n",
    "\n",
    "Ένας σημαντικός τομέας έρευνας στη γενετική είναι ο διαχωρισμός των αλληλουχιών μεταξύ \"σημαντικών\" και \"μη-σημαντικών\". Ως σημαντικές συνήθως εννοούμε αυτές που υπάρχουν σε γονίδιο, που εκφράζονται, που είναι στόχοι από μεταγραφικούς παράγοντες ή είναι οι ίδιες μεταγραφικοί παράγοντες, κτλ. Σε αυτόν τον τομέα έρχονται να βοηθήσουν τα νευρωνικά δίκτυα τα οποία είναι στην ουσία μαθηματικά μοντέλα τα οποία μπορούν να \"εκπαιδευτούν\" έτσι ώστε να διαχωρίζουν διαφορετικού τύπου δεδομένα. Σε [αυτό το paper λοιπόν](https://www.frontiersin.org/articles/10.3389/fgene.2019.00432) οι συγγραφείς προσπαθούν να εκπαιδεύσουν ένα νευρωνικό δίκτυο το οποίο να μπορεί να προβλέψει αν μία ακολουθία θα στοχευθεί από μεταγραφικούς παράγοντες ή όχι. Το πρώτο πρόβλημα που πρέπει να λύσουν είναι το πως θα δώσουν στο νευρωνικό δίκτυο τη πληροφορία \"ακολουθία\". Το νευρωνικό καταλαβαίνει μόνο αριθμούς. Για παράδειγμα αν η ακολουθία είναι η `GCGATTTGAGGTA`, θα πρέπει να του τη \"δώσουν\" με μορφή αριθμών. Αν μετατρέψουμε τη κάθε βάση σε αριθμό, π.χ. `A=1, C=2, G=3, T=4`, τότε αυτό θα μπερδέψει το νευρωνικό αφού θα εννοηθεί ότι το C (2) είναι πιο κοντά στο G (3) από ότι π.χ. είναι το Α (1) στο Τ (4). Μία λύση είναι η μετατροπή [one hot](https://en.wikipedia.org/wiki/One-hot). Σε αυτή τη μετατροπή κάθε γράμμα αντί να μετατραπεί σε 1 αριθμό μετατρέπεται σε μία λίστα με τόσα στοιχεία όσα είναι τα διαφορετικά γράμματα (στη περίπτωσή μας 4). Για ένα γράμμα. η λίστα έχει όλες τις τιμές 0 εκτός από τη μοναδική θέση του γράμματος η οποία είναι 1. Για παράδειγμα μπορούμε να ορίσουμε ότι η μετατροπή μας θα είναι:\n",
    "\n",
    "```\n",
    "A --> [1,0,0,0]\n",
    "C --> [0,1,0,0]\n",
    "G --> [0,0,1,0]\n",
    "T --> [0,0,0,1]\n",
    "```\n",
    "\n",
    "Δείτε και τη [1η εικόνα της δημοσίευσης](https://www.frontiersin.org/files/Articles/454779/fgene-10-00432-HTML-r1/image_m/fgene-10-00432-g001.jpg) που δείχνει πως έχει μετατραπεί η ακολουθία `ATGTAAAAGTTCCCT`. \n",
    "\n",
    "Σε αυτό το project θα πρέπει μα φτιάξετε μία συνάρτηση η οποία θα παίρνει ένα string (το οποία δεν θα είναι απαραίτητα ακολουθία DNA) και θα επιστρέφει μία λίστα με την one-hot μετατροπή της. Η λίστα αυτή θα έχει τόσες υπολίστες όσες είναι και το μήκος του string της παραμέτρου. Κάθε υπολίστα θα έχει τόσα στοιχεία όσα είναι και τα διαφορετικά γράμματα του string της παραμέτρου. Κάθε υπολίστα θα έχει όλες τις τιμές 0 εκτός από μία η οποία θα είναι 1 και θα βρίσκεται στη θέση που αντιστοιχεί στο κάθε γράμματος του string της παραμέτρου. Για παράδειγμα θα πρέπει:\n",
    "\n",
    "```python\n",
    "f('ACCGTA') \n",
    "#Επιστρέφει:\n",
    "[\n",
    "    [1,0,0,0],\n",
    "    [0,1,0,0],\n",
    "    [0,1,0,0],\n",
    "    [0,0,1,0],\n",
    "    [0,0,0,1],\n",
    "    [1,0,0,0],\n",
    "]\n",
    "\n",
    "f('ACA')\n",
    "#Επιστρέφει:\n",
    "[\n",
    "    [1,0],\n",
    "    [0,1],\n",
    "    [1,0],\n",
    "]\n",
    "\n",
    "f('kanterakis') \n",
    "# Επιστρέφει:\n",
    "\n",
    "[[0, 0, 0, 1, 0, 0, 0, 0],\n",
    " [1, 0, 0, 0, 0, 0, 0, 0],\n",
    " [0, 0, 0, 0, 1, 0, 0, 0],\n",
    " [0, 0, 0, 0, 0, 0, 0, 1],\n",
    " [0, 1, 0, 0, 0, 0, 0, 0],\n",
    " [0, 0, 0, 0, 0, 1, 0, 0],\n",
    " [1, 0, 0, 0, 0, 0, 0, 0],\n",
    " [0, 0, 0, 1, 0, 0, 0, 0],\n",
    " [0, 0, 1, 0, 0, 0, 0, 0],\n",
    " [0, 0, 0, 0, 0, 0, 1, 0],\n",
    "]\n",
    "\n",
    "\n",
    "```\n",
    "\n"
   ]
  },
  {
   "cell_type": "markdown",
   "metadata": {},
   "source": [
    "# Project 7\n",
    "\n",
    "Ας υποθέσουμε ότι έχουμε ένα σύνολο από ακολουθίες τις οποίες τις έχουμε στοιχίσει (align) μεταξύ τους. Επίσης υποθέτουμε ότι επιτρέπουμε να έχουμε σημειακές μεταλλάξης, insertions και deletions. Ένα παράδειγμα είναι το παρακάτω:\n",
    "\n",
    "<!-- https://academic.oup.com/bioinformatics/article/37/Supplement_1/i460/6319683?searchresult=1#284153558 A variant selection framework for genome graphs  . Figure 1 -->"
   ]
  },
  {
   "cell_type": "code",
   "execution_count": 205,
   "metadata": {},
   "outputs": [],
   "source": [
    "l = [\n",
    "    'TGACAT---TA',\n",
    "    'TAACATGTCTA',\n",
    "    'TC---T---TA',\n",
    "]"
   ]
  },
  {
   "cell_type": "markdown",
   "metadata": {},
   "source": [
    "Εδώ έχουμε ένα παράδειγμα από 3 ακολουθίες τις οποίες έχουμε στοιχίσει. Παρατηρούμε ότι:\n",
    "* Στη 2η θέση υπάρχει μία σημειακή μετάλλαξη (G/A/C)\n",
    "* Η 3η ακολουθία περιέχει ένα deletion τριών νουκλεοτιδίων (ACA) στη 3η θέση.\n",
    "* Η 2η ακολουθία περιέχει ένα insertion τριών νουκλεοτιδίων (GTC) στη 7η θέση.\n",
    "\n",
    "Σε αυτό το project θα προσπαθήσουμε να αναπαραστήσουμε αυτές τις ακολουθίες σαν έναν γράφο. Υπάρχει αρκετή δουλειά πάνω σε αυτή τη κατεύθυνση, ένα παράδειγμα είναι οι γράφοι [De Bruijn](https://en.wikipedia.org/wiki/De_Bruijn_graph).\n",
    "\n",
    "Ένας γράφος αποτελείται από κόμβους και ακμές. Μία ακμή ενώνει 2 κόμβους. Στη python μπορείτε να εγκαταστήσετε τη βιβλιοθήκη [networkx](https://networkx.org/documentation/stable/index.html) για τη δημιουργία, χειρισμό και αναπαράσταση γράφων:"
   ]
  },
  {
   "cell_type": "code",
   "execution_count": null,
   "metadata": {},
   "outputs": [],
   "source": [
    "!pip install networkx"
   ]
  },
  {
   "cell_type": "markdown",
   "metadata": {},
   "source": [
    "Στη networkx μπορούμε να φτιάξουμε έναν κατευθυνόμενο γράφο και να τον αναπαραστίσουμε ως εξής:"
   ]
  },
  {
   "cell_type": "code",
   "execution_count": 206,
   "metadata": {},
   "outputs": [
    {
     "data": {
      "image/png": "[encoded data removed]",
      "text/plain": [
       "<Figure size 432x288 with 1 Axes>"
      ]
     },
     "metadata": {},
     "output_type": "display_data"
    }
   ],
   "source": [
    "import networkx as nx\n",
    "\n",
    "G = nx.DiGraph()\n",
    "\n",
    "\n",
    "G.add_edge('AAA', 'BBB',) # Ακμή: AAA --> BBB\n",
    "G.add_edge('BBB', 'CCC') # Ακμή: BBB --> CCC\n",
    "G.add_edge('BBB', 'DDD') # Ακμή: BBB --> DDD\n",
    "\n",
    "\n",
    "pos = nx.spring_layout(G)\n",
    "nx.draw_networkx(G,pos)\n"
   ]
  },
  {
   "cell_type": "markdown",
   "metadata": {},
   "source": [
    "Μπορούμε επίσης να βάλουμε τους κόμβους σε κυκλικές θέσεις (circular layout):"
   ]
  },
  {
   "cell_type": "code",
   "execution_count": 213,
   "metadata": {},
   "outputs": [
    {
     "data": {
      "image/png": "[encoded data removed]",
      "text/plain": [
       "<Figure size 432x288 with 1 Axes>"
      ]
     },
     "metadata": {},
     "output_type": "display_data"
    }
   ],
   "source": [
    "import networkx as nx\n",
    "\n",
    "G = nx.DiGraph()\n",
    "\n",
    "\n",
    "G.add_edge('AAA', 'BBB',) # Ακμή: AAA --> BBB\n",
    "G.add_edge('BBB', 'CCC') # Ακμή: BBB --> CCC\n",
    "G.add_edge('BBB', 'DDD') # Ακμή: BBB --> DDD\n",
    "G.add_edge('EEE', 'BBB') # Ακμή: EEE --> BBB\n",
    "G.add_edge('KKK', 'LLL') # Ακμή: KKK --> LLL\n",
    "G.add_edge('KKK', 'AAA') # Ακμή: KKK --> AAA\n",
    "\n",
    "\n",
    "pos = nx.circular_layout(G)\n",
    "nx.draw_networkx(G,pos)"
   ]
  },
  {
   "cell_type": "markdown",
   "metadata": {},
   "source": [
    "Μπορούμε επίσης να αλλάξουμε και τις ταμπέλες (labels) στους κόμβους:"
   ]
  },
  {
   "cell_type": "code",
   "execution_count": 217,
   "metadata": {},
   "outputs": [
    {
     "data": {
      "image/png": "[encoded data removed]",
      "text/plain": [
       "<Figure size 432x288 with 1 Axes>"
      ]
     },
     "metadata": {},
     "output_type": "display_data"
    }
   ],
   "source": [
    "\n",
    "G = nx.DiGraph()\n",
    "\n",
    "\n",
    "G.add_edge('AAA', 'BBB',) # Ακμή: AAA --> BBB\n",
    "G.add_edge('BBB', 'CCC') # Ακμή: BBB --> CCC\n",
    "G.add_edge('BBB', 'DDD') # Ακμή: BBB --> DDD\n",
    "\n",
    "labels = {\n",
    "    'AAA': 'Μήτσος',\n",
    "    'BBB': 'Άλεξ',\n",
    "    'CCC': 'Μήτσος',\n",
    "    'DDD': 'Άλεξ', \n",
    "}\n",
    "\n",
    "pos = nx.spring_layout(G)\n",
    "nx.draw_networkx(G,pos, labels=labels, with_labels = True)"
   ]
  },
  {
   "cell_type": "markdown",
   "metadata": {},
   "source": [
    "Ή να βάλουμε και ταμπέλες στις ακμές:"
   ]
  },
  {
   "cell_type": "code",
   "execution_count": 224,
   "metadata": {},
   "outputs": [
    {
     "data": {
      "image/png": "[encoded data removed]",
      "text/plain": [
       "<Figure size 432x288 with 1 Axes>"
      ]
     },
     "metadata": {},
     "output_type": "display_data"
    }
   ],
   "source": [
    "G = nx.DiGraph()\n",
    "\n",
    "\n",
    "G.add_edge('AAA', 'BBB',) # Ακμή: AAA --> BBB\n",
    "G.add_edge('BBB', 'CCC') # Ακμή: BBB --> CCC\n",
    "G.add_edge('BBB', 'DDD') # Ακμή: BBB --> DDD\n",
    "\n",
    "labels = {\n",
    "    'AAA': 'Μήτσος',\n",
    "    'BBB': 'Άλεξ',\n",
    "    'CCC': 'Μήτσος',\n",
    "    'DDD': 'Άλεξ', \n",
    "}\n",
    "\n",
    "edge_labels = {\n",
    "        ('AAA', 'BBB'): 'άσπρο',\n",
    "        ('BBB', 'DDD'): 'μαύρο',\n",
    "        ('BBB', 'CCC'): 'μπλε',\n",
    "    }\n",
    "\n",
    "pos = nx.spring_layout(G)\n",
    "nx.draw_networkx(G,pos, labels=labels, with_labels = True)\n",
    "_ = nx.draw_networkx_edge_labels(G,pos, edge_labels = edge_labels)\n",
    "\n"
   ]
  },
  {
   "cell_type": "markdown",
   "metadata": {},
   "source": [
    "Επιστρέφουμε στην εκφώνηση! Θέλουμε να αναπαραστήσουμε τις επόμενες στοιχισμένες ακολουθίες σαν ένα γράφο (έχω προσθέσει ένα σχόλιο για να φαίνεται η θέση κάθε βάσης:\n",
    "\n",
    "```\n",
    "l = [\n",
    "    'TGACAT---TA',\n",
    "    'TAACATGTCTA',\n",
    "    'TC---T---TA',\n",
    "#    12345678901\n",
    "]\n",
    "```\n",
    "\n",
    "Η ιδέα είναι ότι κάθε κόμβος θα αναπαραστάει εναν συνδυασμό θέσης/βάσης o οποίος θα μπορούσε να συμβεί. Με βάση τη λίστα `l`, έχουμε τους εξής κόμβους στον γράφο:\n",
    "* Κόμβος 1  --> Θέση:1  βάση:Τ \n",
    "* Κόμβος 2  --> Θέση:2  βάση:G\n",
    "* Κόμβος 3  --> Θέση:2  βάση:A\n",
    "* Κόμβος 4  --> Θέση:2  βάση:C\n",
    "* Κόμβος 5  --> Θέση:3  βάση:A\n",
    "* Κόμβος 6  --> Θέση:4  βάση:C\n",
    "* Κόμβος 7  --> Θέση:5  βάση:A\n",
    "* Κόμβος 8  --> Θέση:6  βάση:T\n",
    "* Κόμβος 9  --> Θέση:7  βάση:G\n",
    "* Κόμβος 10 --> Θέση:8  βάση:T\n",
    "* Κόμβος 11 --> Θέση:9  βάση:C\n",
    "* Κόμβος 12 --> Θέση:10 βάση:Τ\n",
    "* Κόμβος 13 --> Θέση:11 βάση:A\n",
    "\n",
    "Τώρα που έχουμε τους κόμβους, πρέπει να υπολογίσουμε τις ακμές. \n",
    "\n",
    "Με βάση τη 1η ακολουθία  `TGACAT---TA` οι δυνατές ακμές είναι:\n",
    "* Κόμβος 1 --> Κόμβος 2\n",
    "* Κόμβος 2 --> Κόμβος 5\n",
    "* Κόμβος 5 --> Κόμβος 6\n",
    "* Κόμβος 6 --> Κόμβος 7\n",
    "* Κόμβος 7 --> Κόμβος 8\n",
    "* Κόμβος 8 --> Κόμβος 12\n",
    "* Κόμβος 12 --> Κόμβος 13\n",
    "\n",
    "Με βάση τη 2η ακολουθία  `TAACATGTCTA` οι δυνατές ακμές είναι:\n",
    "* Κόμβος 1 --> Κόμβος 3 \n",
    "* Κόμβος 3 --> Κόμβος 5 \n",
    "* Κόμβος 5 --> Κόμβος 6\n",
    "* Κόμβος 6 --> Κόμβος 7\n",
    "* Κόμβος 7 --> Κόμβος 8\n",
    "* Κόμβος 8 --> Κόμβος 9\n",
    "* Κόμβος 9 --> Κόμβος 10\n",
    "* Κόμβος 10 --> Κόμβος 11 \n",
    "* Κόμβος 11 --> Κόμβος 12\n",
    "* Κόμβος 12 --> Κόμβος 13\n",
    "\n",
    "Με βάση τη 3η ακολουθία  `TC---T---TA` οι δυνατές ακμές είναι:\n",
    "* Κόμβος 1 --> Κόμβος 4\n",
    "* Κόμβος 4 --> Κόμβος 8\n",
    "* Κόμβος 8 --> Κόμβος 12\n",
    "* Κόμβος 12 --> Κόμβος 13\n",
    "\n",
    "\n",
    "Αν βάλουμε τώρα όλες τις ακμές μαζί, και για τις 3 ακολουθίες, όπου κάθε ακμή μπορεί να υπάρχει μόνο μία φορά (set!) θα έχουμε:\n",
    "* Κόμβος 1 --> Κόμβος 2\n",
    "* Κόμβος 1 --> Κόμβος 3 \n",
    "* Κόμβος 1 --> Κόμβος 4\n",
    "* Κόμβος 2 --> Κόμβος 5\n",
    "* Κόμβος 3 --> Κόμβος 5 \n",
    "* Κόμβος 4 --> Κόμβος 8\n",
    "* Κόμβος 5 --> Κόμβος 6\n",
    "* Κόμβος 6 --> Κόμβος 7\n",
    "* Κόμβος 7 --> Κόμβος 8\n",
    "* Κόμβος 8 --> Κόμβος 9\n",
    "* Κόμβος 8 --> Κόμβος 12\n",
    "* Κόμβος 9 --> Κόμβος 10\n",
    "* Κόμβος 10 --> Κόμβος 11\n",
    "* Κόμβος 11 --> Κόμβος 12\n",
    "* Κόμβος 12 --> Κόμβος 13\n",
    "\n",
    "Οπότε ο τελικός μας γράφος είναι:"
   ]
  },
  {
   "cell_type": "code",
   "execution_count": 231,
   "metadata": {},
   "outputs": [
    {
     "data": {
      "image/png": "[encoded data removed]",
      "text/plain": [
       "<Figure size 432x288 with 1 Axes>"
      ]
     },
     "metadata": {},
     "output_type": "display_data"
    }
   ],
   "source": [
    "import re\n",
    "\n",
    "G = nx.DiGraph()\n",
    "\n",
    "node_labels_str = '''\n",
    "    Κόμβος 1 --> Θέση:1 βάση:Τ\n",
    "    Κόμβος 2 --> Θέση:2 βάση:G\n",
    "    Κόμβος 3 --> Θέση:2 βάση:A\n",
    "    Κόμβος 4 --> Θέση:2 βάση:C\n",
    "    Κόμβος 5 --> Θέση:3 βάση:A\n",
    "    Κόμβος 6 --> Θέση:4 βάση:C\n",
    "    Κόμβος 7 --> Θέση:5 βάση:A\n",
    "    Κόμβος 8 --> Θέση:6 βάση:T\n",
    "    Κόμβος 9 --> Θέση:7 βάση:G\n",
    "    Κόμβος 10 --> Θέση:8 βάση:T\n",
    "    Κόμβος 11 --> Θέση:9 βάση:C\n",
    "    Κόμβος 12 --> Θέση:10 βάση:Τ\n",
    "    Κόμβος 13 --> Θέση:11 βάση:A\n",
    "'''\n",
    "\n",
    "node_labels = re.findall(r'Κόμβος (\\d+) --> Θέση:(\\d+) βάση:(\\w)', node_labels_str)\n",
    "node_labels = {x[0]: f'{x[2]}:{x[1]}' for x in node_labels}\n",
    "\n",
    "a = '''\n",
    "    Κόμβος 1 --> Κόμβος 2\n",
    "    Κόμβος 1 --> Κόμβος 3\n",
    "    Κόμβος 1 --> Κόμβος 4\n",
    "    Κόμβος 2 --> Κόμβος 5\n",
    "    Κόμβος 3 --> Κόμβος 5\n",
    "    Κόμβος 4 --> Κόμβος 8\n",
    "    Κόμβος 5 --> Κόμβος 6\n",
    "    Κόμβος 6 --> Κόμβος 7\n",
    "    Κόμβος 7 --> Κόμβος 8\n",
    "    Κόμβος 8 --> Κόμβος 9\n",
    "    Κόμβος 8 --> Κόμβος 12\n",
    "    Κόμβος 9 --> Κόμβος 10\n",
    "    Κόμβος 10 --> Κόμβος 11\n",
    "    Κόμβος 11 --> Κόμβος 12\n",
    "    Κόμβος 12 --> Κόμβος 13\n",
    "\n",
    "'''\n",
    "\n",
    "edges = re.findall(r'Κόμβος (\\d+) --> Κόμβος (\\d+)', a)\n",
    "\n",
    "for x in edges:\n",
    "    G.add_edge(x[0], x[1])\n",
    "\n",
    "    \n",
    "pos = nx.circular_layout(G)\n",
    "nx.draw_networkx(G,pos, labels=node_labels, with_labels = True)"
   ]
  },
  {
   "cell_type": "markdown",
   "metadata": {},
   "source": [
    "Το ζητούμενο λοιπόν σε αυτό το project είναι να φτιάξετε μία συνάρτηση η οποία θα παίρνει σαν παράμετρο μία λίστα από στοιχισμένες ακολουθίες (όπως η λίστα `l`) και θα εμφανίζει έναν γράφο όπως ο παραπάνω.\n",
    "\n",
    "Σημείωση: Παρόλο που η εκφώνηση ήταν 2 σελίδες, η υλοποίηση είναι 10 γραμμές!"
   ]
  },
  {
   "cell_type": "markdown",
   "metadata": {},
   "source": [
    "# Project 8\n",
    "\n",
    "Είναι όλες οι ακολουθίες του DNA ίδιες ή κάποιες εμφανίζονται περισσότερες φορές στο γονιδίωμα ενός οργανισμούς; Σε αυτό το project θα μελετήσουμε ακριβώς αυτό. Καταρχήν πρέπει να ορίσουμε τα [k-mer](https://en.wikipedia.org/wiki/K-mer). To k-mer μίας ακολουθίας είναι το σύνολο από όλες τις υπο-ακολουθίες μεγέθους k μιας ακολουθίας. Για παράδειγμα το 4-mer της ακολουθίας `ACGGGT` είναι το σύνολο:\n",
    "\n",
    "```python\n",
    "{'ACGG', 'CGGG', 'GGGT'} \n",
    "```\n",
    "\n",
    "Σε αυτό το project αυτό που πρέπει να κάνετε είναι:\n",
    "* Να πάρετε με όποιο τρόπο θέλετε (π.χ. σε αρχείο) το γονιδίωμα του E. coli που υπάρχει σε αυτό το link: [Escherichia coli str. K-12 substr. MG1655, complete genome](https://www.ncbi.nlm.nih.gov/nuccore/U00096.2)\n",
    "* Να βρείτε πόσες φορές εμφανίζεται το κάθε 8-mer αυτού του γονιδιώματος. Hint: Counter\n",
    "* Στη συνέχεια θα πρέπει να μετρήσετε:\n",
    "   * Πόσα μέλη του 8-mer εμφανίζονται μόνο μία φορά;\n",
    "   * Πόσα μέλη του 8-mer εμφανίζονται 2 φορές;\n",
    "   * Πόσα μέλη του 8-mer εμφανίζονται 3 φορές;\n",
    "   * Πόσα μέλη του 8-mer εμφανίζονται 4 φορές;\n",
    "   * ...\n",
    "   * Πόσα μέλη του 8-mer εμφανίζονται Μ φορές, όπου Μ το ποιο κοινό μέλος του συνόλου του 8-mer;\n",
    "* Φτιάξτε ένα plot όπου στον Χ άξονα θα είναι όλοι οι αριθμοί από το 1 μέχρι το Μ, στον Υ άξονα θα είναι το πόσα μέλη του 8-mer εμφανίζονται τόσες φορές όσες το Χ.\n",
    "\n",
    "Το plot που θα φτιάξετε θα πρέπει να είναι ίδιο με [αυτό που εμφανίζεται στη σελίδα της wikipedia](https://en.wikipedia.org/wiki/K-mer#/media/File:E._coli_8-mer_spectrum.svg). \n",
    "\n",
    "Με τη δική μου υλοποίηση το plot που βγήκε είναι:\n",
    "\n",
    " "
   ]
  },
  {
   "cell_type": "code",
   "execution_count": 35,
   "metadata": {},
   "outputs": [
    {
     "data": {
      "text/plain": [
       "[<matplotlib.lines.Line2D at 0x7fe01c15afa0>]"
      ]
     },
     "execution_count": 35,
     "metadata": {},
     "output_type": "execute_result"
    },
    {
     "data": {
      "image/png": "[encoded data removed]",
      "text/plain": [
       "<Figure size 432x288 with 1 Axes>"
      ]
     },
     "metadata": {
      "needs_background": "light"
     },
     "output_type": "display_data"
    }
   ],
   "source": []
  },
  {
   "cell_type": "markdown",
   "metadata": {},
   "source": [
    "# Project 9\n",
    "\n",
    "Σε αυτό το projet θα ασχοληθούμε με το [δέντρο της ζωής](https://en.wikipedia.org/wiki/Tree_of_life_(biology))! Για αρχή θα πρέπει να κατεβάσετε και να αποσυμπιέσετε αυτό το αρχείο: https://ftp.ncbi.nih.gov/pub/taxonomy/taxdump.tar.gz  \n",
    "\n",
    "Αφού το αποσυμπιέσετε θα δείτε ότι μεταξύ άλλων υπάρχει το αρχείο `nodes.dmp`. Το αρχείο αυτό περιέχει όλο το δέντρο της ζωής. Αυτό που μας ενδιαφέρει είναι οι πρώτες δύο στήλες του αρχείου. Η πρώτη στήλη μας δίνει τον κωδικό του κόμβου. Η 2η στήλη μας δίνει τον κωδικό του \"πατέρα\" αυτού του κόμβου. Για παράδειγμα ο κωδικός του Homo sapiens σε αυτό το δέντρο είναι 9606. Μέσα στο αρχείο μπορούμε να δούμε ότι ο πατέρας του 9606 είναι το 9605. Ο πατέρας του 9605 είναι το 207598. Ο πατέρας του 207598 είναι το 9604. Αν συνεχίσουμε αυτή τη διαδικασία θα καταλήξουμε στο 1 που είναι και η ρίζα του δέντρου:\n",
    "\n",
    "9606 --> 9605 --> 207598 --> 9604 --> 314295 --> 9526 --> 314293 --> 376913 --> 9443 --> 314146 --> 1437010 --> 9347 --> 32525 --> 40674 --> 32524 --> 32523 --> 1338369 --> 8287 --> 117571 --> 117570 --> 7776 --> 7742 --> 89593 --> 7711 --> 33511 --> 33213 --> 6072 --> 33208 --> 33154 --> 2759 --> 131567 --> 1\n",
    "\n",
    "Όλοι οι ενδιάμεσοι κόμβοι μεταξύ του 9606 και του 1 είναι οι κωδικοί του γένους, οικογένεια, τάξη, βασίλειο, κτλ.\n",
    "\n",
    "Ένα άλλο αρχείο που υπάρχει αν αποσυμπιέσετε το `taxdump.tar.gz` είναι το `names.dmp`. Το αρχείο αυτό περιέχει στη πρώτη στήλη το όνομα του κάθε οργανισμού (με βάση τη [διωνυμική ονοματολογία](https://el.wikipedia.org/wiki/%CE%94%CE%B9%CF%89%CE%BD%CF%85%CE%BC%CE%B9%CE%BA%CE%AE_%CE%BF%CE%BD%CE%BF%CE%BC%CE%B1%CF%84%CE%BF%CE%BB%CE%BF%CE%B3%CE%AF%CE%B1)) και στη 2η στήλη τον κωδικό του οργανισμού στο δέντρο της ζωής (δηλαδή τον αντίστοιχο αριθμό που μπορείτε να το αναζητήσετε στο αρχείο `nodes.dmp`). \n",
    "\n",
    "Με βάση τα παραπάνω φτιάξτε μία συνάρτηση η οποία θα παίρνει σαν παράμετρο ένα string. Η συνάρτηση θα επιστρέφει μία λίστα με όλους τους κωδικούς των κόμβων του δέντρου της ζωής που πρέπει να διανύσουμε για να πάμε από τον οργανισμό με το όνομα της παραμέτρου μέχρι τον κόμβο με κωδικό 1. Δίνονται μερικά παραδείγματα:"
   ]
  },
  {
   "cell_type": "code",
   "execution_count": 322,
   "metadata": {},
   "outputs": [
    {
     "data": {
      "text/plain": [
       "[9606,\n",
       " 9605,\n",
       " 207598,\n",
       " 9604,\n",
       " 314295,\n",
       " 9526,\n",
       " 314293,\n",
       " 376913,\n",
       " 9443,\n",
       " 314146,\n",
       " 1437010,\n",
       " 9347,\n",
       " 32525,\n",
       " 40674,\n",
       " 32524,\n",
       " 32523,\n",
       " 1338369,\n",
       " 8287,\n",
       " 117571,\n",
       " 117570,\n",
       " 7776,\n",
       " 7742,\n",
       " 89593,\n",
       " 7711,\n",
       " 33511,\n",
       " 33213,\n",
       " 6072,\n",
       " 33208,\n",
       " 33154,\n",
       " 2759,\n",
       " 131567,\n",
       " 1]"
      ]
     },
     "execution_count": 322,
     "metadata": {},
     "output_type": "execute_result"
    }
   ],
   "source": [
    "f('Homo sapiens')"
   ]
  },
  {
   "cell_type": "code",
   "execution_count": 323,
   "metadata": {},
   "outputs": [
    {
     "data": {
      "text/plain": [
       "[9685,\n",
       " 9682,\n",
       " 338152,\n",
       " 9681,\n",
       " 379583,\n",
       " 33554,\n",
       " 314145,\n",
       " 1437010,\n",
       " 9347,\n",
       " 32525,\n",
       " 40674,\n",
       " 32524,\n",
       " 32523,\n",
       " 1338369,\n",
       " 8287,\n",
       " 117571,\n",
       " 117570,\n",
       " 7776,\n",
       " 7742,\n",
       " 89593,\n",
       " 7711,\n",
       " 33511,\n",
       " 33213,\n",
       " 6072,\n",
       " 33208,\n",
       " 33154,\n",
       " 2759,\n",
       " 131567,\n",
       " 1]"
      ]
     },
     "execution_count": 323,
     "metadata": {},
     "output_type": "execute_result"
    }
   ],
   "source": [
    "f('Felis catus') # η γάτα"
   ]
  },
  {
   "cell_type": "markdown",
   "metadata": {},
   "source": [
    "Τώρα που έχουμε φτιάξει την f μπορούμε να μετράμε αποστάσεις μεταξύ οργανισμών! Ορίζουμε την απόσταση μεταξύ οργανισμών ως τη μικρότερη διαδρομή που πρέπει να κάνουμε στο δέντρο της ζωής για να πάμε από τον έναν οργανισμό στον άλλο. Αυτό είναι εξαιρετικά εύκολο να το υπολογίσουμε. Για παράδειγμα ας υποθέσουμε ότι θέλουμε να βρούμε την απόσταση μεταξύ του ανθρώπου και της γάτας. Ξεκινάμε από τον κωδικό του ανθρώπου (9606) και βλέπουμε ότι δεν υπάρχει στη λίστα της γάτας. Ανεβαίνουμε ένα βήμα πάνω στο δέντρο και πάμε στον κωδικό 9605 και βλέπουμε ότι και πάλι δεν υπάρχει. Συνεχίζουμε να ανεβαίνουμε και βλέπουμε ότι η 11η εγγραφή στη λίστα του ανθρώπου (1437010) είναι ο πρώτος αριθμός που υπάρχει στη λίστα και του ανθρώπου αλλά και της γάτας. Άρα η απόσταση για να πάμε από τον άνθρωπο μέχρι τον κοινό κόμβο μεταξύ ανθρώπου και γάτας είναι 11. Από εκεί και πέρα συνεχίζουμε μέχρι να φτάσουμε στη γάτα. Παρατηρούμε ότι το 1437010 είναι η 8η εγγραφή στη λίστα της γάτας. Συνεπώς η απόσταση ανθρώπου και γάτας είναι 11+8 = 19. \n",
    "\n",
    "Φτιάξτε λοιπόν τη συνάρτηση distance η οποία θα παίρνει ορίσματα 2 strings a,b. Η συνάρτηση θα επιστρέφει την απόσταση μεταξύ των οργανισμών a και b. Όπως περιγράφηκε παραπάνω.\n",
    "\n",
    "Δίνονται μερικά επιπλέον παραδείγματα:"
   ]
  },
  {
   "cell_type": "code",
   "execution_count": 341,
   "metadata": {},
   "outputs": [
    {
     "data": {
      "text/plain": [
       "19"
      ]
     },
     "execution_count": 341,
     "metadata": {},
     "output_type": "execute_result"
    }
   ],
   "source": [
    "distance('Homo sapiens', 'Felis catus') # άνθρωπος <--> γάτα"
   ]
  },
  {
   "cell_type": "code",
   "execution_count": 342,
   "metadata": {},
   "outputs": [
    {
     "data": {
      "text/plain": [
       "19"
      ]
     },
     "execution_count": 342,
     "metadata": {},
     "output_type": "execute_result"
    }
   ],
   "source": [
    "distance('Homo sapiens', 'Canis familiaris') # άνθρωπος <--> σκύλος"
   ]
  },
  {
   "cell_type": "code",
   "execution_count": 343,
   "metadata": {},
   "outputs": [
    {
     "data": {
      "text/plain": [
       "12"
      ]
     },
     "execution_count": 343,
     "metadata": {},
     "output_type": "execute_result"
    }
   ],
   "source": [
    "distance('Felis catus', 'Canis familiaris') # γάτα <--> σκύλος"
   ]
  },
  {
   "cell_type": "code",
   "execution_count": 344,
   "metadata": {},
   "outputs": [
    {
     "data": {
      "text/plain": [
       "6"
      ]
     },
     "execution_count": 344,
     "metadata": {},
     "output_type": "execute_result"
    }
   ],
   "source": [
    "distance('Homo sapiens', 'Pan troglodytes') # άνθρωπος <--> χιμπαντζής"
   ]
  },
  {
   "cell_type": "code",
   "execution_count": 345,
   "metadata": {},
   "outputs": [
    {
     "data": {
      "text/plain": [
       "8"
      ]
     },
     "execution_count": 345,
     "metadata": {},
     "output_type": "execute_result"
    }
   ],
   "source": [
    "distance('Panthera leo', 'Felis catus') # λιοντάρι <--> γάτα"
   ]
  },
  {
   "cell_type": "code",
   "execution_count": 346,
   "metadata": {},
   "outputs": [
    {
     "data": {
      "text/plain": [
       "47"
      ]
     },
     "execution_count": 346,
     "metadata": {},
     "output_type": "execute_result"
    }
   ],
   "source": [
    "distance('Homo sapiens', 'banana') # άνθρωπος <--> μπανάνα"
   ]
  },
  {
   "cell_type": "markdown",
   "metadata": {},
   "source": [
    "# Project 10\n",
    "\n",
    "Σε αυτό το link: http://ftp.ensembl.org/pub/release-105/fasta/homo_sapiens/dna/Homo_sapiens.GRCh38.dna.chromosome.22.fa.gz μπορείτε να κατεβάσετε όλο το χρωμόσωμα 22. \n",
    "\n",
    "Δίνεται επίσης η παρακάτω συνάρτηση η οποία διαβάζει όλο το χρωμόσωμα σε ένα string το οποίο περιέχει μόνο χαρακτήρες A,C,G,T :\n"
   ]
  },
  {
   "cell_type": "code",
   "execution_count": 35,
   "metadata": {},
   "outputs": [],
   "source": [
    "import gzip\n",
    "\n",
    "# Αλλάξτε τη τοποθεσία του αρχείου !\n",
    "def download_22():\n",
    "    s = ''\n",
    "    with gzip.open('/Users/admin/Downloads/Homo_sapiens.GRCh38.dna.chromosome.22.fa.gz', 'rt') as f:\n",
    "        for i, l in enumerate(f):\n",
    "\n",
    "            if i==0:\n",
    "                continue\n",
    "\n",
    "            if i%50_000 == 0:\n",
    "                print (f'{i}')\n",
    "\n",
    "            s += l.strip().replace('N','')\n",
    "            \n",
    "    return s"
   ]
  },
  {
   "cell_type": "markdown",
   "metadata": {},
   "source": [
    "To string που επιστρέφει αυτή η συνάρτηση έχει μέγεθος 39.159.777 χαρακτήρες. Παρόλο που είναι αρκετά μεγάλο, ο υπολογιστής σας δεν θα έχει πρόβλημα να το φορτώσει όλο στη μνήμη. Σκοπός σε αυτό το project είναι να απαντήσετε στη παρακάτω ερώτηση:\n",
    "\n",
    "**Ποιο είναι το μέγεθος της μικρότερης ακολουθίας DNA που ΔΕΝ υπάρχει στο χρωμόσωμα 22;**"
   ]
  }
 ],
 "metadata": {
  "kernelspec": {
   "display_name": "Python 3",
   "language": "python",
   "name": "python3"
  },
  "language_info": {
   "codemirror_mode": {
    "name": "ipython",
    "version": 3
   },
   "file_extension": ".py",
   "mimetype": "text/x-python",
   "name": "python",
   "nbconvert_exporter": "python",
   "pygments_lexer": "ipython3",
   "version": "3.8.5"
  }
 },
 "nbformat": 4,
 "nbformat_minor": 4
}
