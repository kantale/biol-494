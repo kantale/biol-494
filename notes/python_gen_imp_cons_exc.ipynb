{
 "cells": [
  {
   "cell_type": "markdown",
   "metadata": {},
   "source": [
    "### Generators"
   ]
  },
  {
   "cell_type": "markdown",
   "metadata": {},
   "source": [
    "Οι generators (γεννήτριες) είναι δομές παρόμοιες με τις λίστες με τη διαφορά, ότι στη μνήμη του υπολογιστή δεν κρατάει όλες τις τιμές της λίστας, αλλά τον κώδικα που χρειάζεται για την αναπαραγωγή τους. \n",
    "\n",
    "Παρόλο που δεν το έχουμε τονίσει, οι συναρτήσεις ```range```, ```enumerate```, ```items```, ```map``` που έχουμε παρουσιάσει επιτρέφουν generator. \n",
    "\n",
    "Για να καταλάβουμε καλύτερα τους generators ας χρησιμοποιήσουμε ένα ανθρώπινο παράδειγμα. Ας υποθέσουμε οτι κάποιος σας λέει: απομνημόνευσε τους παρακάτω 100 αριθμούς τηλεφώνου με τη σειρά που στους δίνω. Αφού το κάνεις αυτό, πες τον πρώτο αριθμό, μετά τον δεύτερο, κτλ.. \n",
    "\n",
    "Αυτό θα απαιτούσε τεράστια προσπάθεια (και μνήμη) από εσάς. \n",
    "\n",
    "Ας υποθέσουμε τώρα ότι κάποιος σας λέει: απομνημόνευσε όλους τους ζυγούς αριθμούς από το 2 μέχρι το 1000. Αφού το κάνεις αυτό πες μου τον πρώτο αριθμό, μετά τον δεύτερο κτλ..\n",
    "\n",
    "Δεν χρειάζεται ιδιαίτερος κόπος για αυτό. Απλά πρέπει να θυμάσαι που πρέπει να αρχίσεις (το 2), να τελειώσεις (το 1000), σε ποιο σημείο είσαι τώρα και με ποιο τρόπο βρίσκεις το επόμενο. Αυτό ακριβώς κάνουν οι generators. Είναι χρήσιμες σε περιπτώσεις που το επόμενο στοιχείο μιας λίστας μπορεί να υπολογιστεί και όχι να ανακληθεί από τη μνήμη.\n",
    "\n",
    "Έτσι όταν λέμε:\n",
    "```python\n",
    "range(1,1000000)\n",
    "```\n",
    "Δεν υπάρχει λόγος να αποθηκεύσουμε 1.000.000 τιμές στη μνήμη του υπολογιστή. Ας το δούμε στη πράξη. Αν τρέξουμε:\n",
    "```python\n",
    "a = [x for x in range(1,100_000_000)]\n",
    "```\n",
    "\n",
    "![img](https://i.imgur.com/VIvIFrU.png)\n",
    "\n",
    "βλέπουμε ότι η python χρειάζεται 1.5GB μνήμης. Αν χρειάζεται να παίρνουμε αυθαίρετα τιμές από τη λίστα ```a``` τότε δεν μπορούμε να κάνουμε αλλιώς. Διαφορετικά αν χρειάζεται απλά να παίρνουμε τη μία τιμή μετά την άλλη τότε μπορούμε να γλυτώσουμε αυτή τη μνήμη γράφοντας:\n",
    "```python\n",
    "for x in range(1, 1000000):\n",
    "    ...\n",
    "```\n"
   ]
  },
  {
   "cell_type": "markdown",
   "metadata": {},
   "source": [
    "Μπορούμε να φτιάξουμε τον δικό μας generator με δύο τρόπους: Ο πρώτος είναι μέσω generator comprehension και ο δεύτερος είναι μέσω συναρτήσεων που αντί να κάνουν ```return``` κάνουν ```yield```.\n",
    "\n",
    "Τα generator comprehension είναι ακριβώς όπως και τα list comprehensions (και τα dictionary, set comprehension) απλά χρησημοποιούμε τις παρενθέσεις:"
   ]
  },
  {
   "cell_type": "code",
   "execution_count": 1,
   "metadata": {},
   "outputs": [
    {
     "data": {
      "text/plain": [
       "generator"
      ]
     },
     "execution_count": 1,
     "metadata": {},
     "output_type": "execute_result"
    }
   ],
   "source": [
    "my_generator = (x for x in range(1,10))\n",
    "type(my_generator)"
   ]
  },
  {
   "cell_type": "markdown",
   "metadata": {},
   "source": [
    "Ας πάρουμε τη πρώτη τιμή του generator:"
   ]
  },
  {
   "cell_type": "code",
   "execution_count": 2,
   "metadata": {},
   "outputs": [
    {
     "data": {
      "text/plain": [
       "1"
      ]
     },
     "execution_count": 2,
     "metadata": {},
     "output_type": "execute_result"
    }
   ],
   "source": [
    "next(my_generator)"
   ]
  },
  {
   "cell_type": "markdown",
   "metadata": {},
   "source": [
    "Ας πάρουμε την επόμενη:"
   ]
  },
  {
   "cell_type": "code",
   "execution_count": 3,
   "metadata": {},
   "outputs": [
    {
     "data": {
      "text/plain": [
       "2"
      ]
     },
     "execution_count": 3,
     "metadata": {},
     "output_type": "execute_result"
    }
   ],
   "source": [
    "next(my_generator)"
   ]
  },
  {
   "cell_type": "markdown",
   "metadata": {},
   "source": [
    "... κτλ.. Μπορούμε να πάρουμε τις υπόλοιπες τιμές του generator:"
   ]
  },
  {
   "cell_type": "code",
   "execution_count": 4,
   "metadata": {},
   "outputs": [
    {
     "name": "stdout",
     "output_type": "stream",
     "text": [
      "3\n",
      "4\n",
      "5\n",
      "6\n",
      "7\n",
      "8\n",
      "9\n"
     ]
    }
   ],
   "source": [
    "for x in my_generator:\n",
    "    print (x)"
   ]
  },
  {
   "cell_type": "markdown",
   "metadata": {},
   "source": [
    "Βλέπουμε ότι ο generator \"κρατάει\" σε ποια τιμή ήμασταν και υπολογίζει την επόμενη. Όταν τελειώσουν οι τιμές του generator τότε δεν μπορούμε να πάρουμε άλλη:"
   ]
  },
  {
   "cell_type": "code",
   "execution_count": 5,
   "metadata": {},
   "outputs": [
    {
     "ename": "StopIteration",
     "evalue": "",
     "output_type": "error",
     "traceback": [
      "\u001b[0;31m---------------------------------------------------------------------------\u001b[0m",
      "\u001b[0;31mStopIteration\u001b[0m                             Traceback (most recent call last)",
      "\u001b[0;32m<ipython-input-5-beb7403f481d>\u001b[0m in \u001b[0;36m<module>\u001b[0;34m\u001b[0m\n\u001b[0;32m----> 1\u001b[0;31m \u001b[0mnext\u001b[0m\u001b[0;34m(\u001b[0m\u001b[0mmy_generator\u001b[0m\u001b[0;34m)\u001b[0m\u001b[0;34m\u001b[0m\u001b[0;34m\u001b[0m\u001b[0m\n\u001b[0m",
      "\u001b[0;31mStopIteration\u001b[0m: "
     ]
    }
   ],
   "source": [
    "next(my_generator)"
   ]
  },
  {
   "cell_type": "markdown",
   "metadata": {},
   "source": [
    "Ο δεύτερος τρόπος να φτιάξουμε generator είναι να δηλώσουμε μία συνάρτηση με τη ```def``` και αντί για ```return``` να κάνουμε [```yield```](https://www.youtube.com/watch?v=H2KYzeT_lGY):"
   ]
  },
  {
   "cell_type": "code",
   "execution_count": 6,
   "metadata": {},
   "outputs": [],
   "source": [
    "def f():\n",
    "    yield \"first\"\n",
    "    yield \"second\"\n",
    "    yield \"third\""
   ]
  },
  {
   "cell_type": "markdown",
   "metadata": {},
   "source": [
    "**Προσοχή** η ```f``` είναι μία συνάρτηση που φτιάχνει έναν generator! Η ```f``` δεν είναι generator! "
   ]
  },
  {
   "cell_type": "code",
   "execution_count": 7,
   "metadata": {},
   "outputs": [
    {
     "data": {
      "text/plain": [
       "function"
      ]
     },
     "execution_count": 7,
     "metadata": {},
     "output_type": "execute_result"
    }
   ],
   "source": [
    "type(f)"
   ]
  },
  {
   "cell_type": "code",
   "execution_count": 8,
   "metadata": {},
   "outputs": [
    {
     "data": {
      "text/plain": [
       "generator"
      ]
     },
     "execution_count": 8,
     "metadata": {},
     "output_type": "execute_result"
    }
   ],
   "source": [
    "my_generator = f()\n",
    "type(my_generator)"
   ]
  },
  {
   "cell_type": "markdown",
   "metadata": {},
   "source": [
    "Το my_generator είναι generator. Ας τον \"τρέξουμε\":"
   ]
  },
  {
   "cell_type": "code",
   "execution_count": 9,
   "metadata": {},
   "outputs": [
    {
     "data": {
      "text/plain": [
       "'first'"
      ]
     },
     "execution_count": 9,
     "metadata": {},
     "output_type": "execute_result"
    }
   ],
   "source": [
    "next(my_generator)"
   ]
  },
  {
   "cell_type": "code",
   "execution_count": 10,
   "metadata": {},
   "outputs": [
    {
     "data": {
      "text/plain": [
       "'second'"
      ]
     },
     "execution_count": 10,
     "metadata": {},
     "output_type": "execute_result"
    }
   ],
   "source": [
    "next(my_generator)"
   ]
  },
  {
   "cell_type": "code",
   "execution_count": 11,
   "metadata": {},
   "outputs": [
    {
     "data": {
      "text/plain": [
       "'third'"
      ]
     },
     "execution_count": 11,
     "metadata": {},
     "output_type": "execute_result"
    }
   ],
   "source": [
    "next(my_generator) "
   ]
  },
  {
   "cell_type": "markdown",
   "metadata": {},
   "source": [
    "Ή αλλιώς:"
   ]
  },
  {
   "cell_type": "code",
   "execution_count": 12,
   "metadata": {},
   "outputs": [
    {
     "name": "stdout",
     "output_type": "stream",
     "text": [
      "first\n",
      "second\n",
      "third\n"
     ]
    }
   ],
   "source": [
    "for x in f():\n",
    "    print (x)"
   ]
  },
  {
   "cell_type": "markdown",
   "metadata": {},
   "source": [
    "Ένα άλλο παράδειγμα. Ένας generator που κάνει generate πρώτους αριθμούς:"
   ]
  },
  {
   "cell_type": "code",
   "execution_count": 13,
   "metadata": {},
   "outputs": [],
   "source": [
    "def prime_gen():\n",
    "    yield 1\n",
    "    n=2\n",
    "    while True:\n",
    "        for d in range(2, n-1):\n",
    "            if n%d==0:\n",
    "                break\n",
    "        else:\n",
    "            yield n\n",
    "        n+=1"
   ]
  },
  {
   "cell_type": "code",
   "execution_count": 14,
   "metadata": {},
   "outputs": [],
   "source": [
    "g = prime_gen()"
   ]
  },
  {
   "cell_type": "code",
   "execution_count": 15,
   "metadata": {},
   "outputs": [
    {
     "data": {
      "text/plain": [
       "1"
      ]
     },
     "execution_count": 15,
     "metadata": {},
     "output_type": "execute_result"
    }
   ],
   "source": [
    "next(g)"
   ]
  },
  {
   "cell_type": "code",
   "execution_count": 16,
   "metadata": {},
   "outputs": [
    {
     "data": {
      "text/plain": [
       "2"
      ]
     },
     "execution_count": 16,
     "metadata": {},
     "output_type": "execute_result"
    }
   ],
   "source": [
    "next(g)"
   ]
  },
  {
   "cell_type": "code",
   "execution_count": 17,
   "metadata": {},
   "outputs": [
    {
     "data": {
      "text/plain": [
       "3"
      ]
     },
     "execution_count": 17,
     "metadata": {},
     "output_type": "execute_result"
    }
   ],
   "source": [
    "next(g)"
   ]
  },
  {
   "cell_type": "code",
   "execution_count": 18,
   "metadata": {},
   "outputs": [
    {
     "data": {
      "text/plain": [
       "5"
      ]
     },
     "execution_count": 18,
     "metadata": {},
     "output_type": "execute_result"
    }
   ],
   "source": [
    "next(g)"
   ]
  },
  {
   "cell_type": "code",
   "execution_count": 19,
   "metadata": {},
   "outputs": [
    {
     "name": "stdout",
     "output_type": "stream",
     "text": [
      "1\n",
      "2\n",
      "3\n",
      "5\n",
      "7\n",
      "11\n",
      "13\n",
      "17\n",
      "19\n",
      "23\n"
     ]
    }
   ],
   "source": [
    "g = prime_gen()\n",
    "for i in range(10):\n",
    "    print (next(g))"
   ]
  },
  {
   "cell_type": "markdown",
   "metadata": {},
   "source": [
    "Όταν \"τελειώνει\" ένας generator πετάει ένα exception (θα τα δούμε αργότερα) το οποίο μπορούμε να πιάσουμε:"
   ]
  },
  {
   "cell_type": "code",
   "execution_count": 21,
   "metadata": {},
   "outputs": [
    {
     "name": "stdout",
     "output_type": "stream",
     "text": [
      "0\n",
      "2\n",
      "4\n",
      "6\n",
      "8\n",
      "10\n",
      "12\n",
      "14\n",
      "16\n",
      "18\n"
     ]
    }
   ],
   "source": [
    "gen = (x*2 for x in range(10))\n",
    "\n",
    "while True:\n",
    "    try:\n",
    "        n = next(gen)\n",
    "    except StopIteration:\n",
    "        break\n",
    "    print (n)"
   ]
  },
  {
   "cell_type": "markdown",
   "metadata": {},
   "source": [
    "### import\n",
    "Με την ```import``` μπορούμε να \"βάλουμε\" στο περιβάλλον που δουλεύουμε κώδικα από ένα άλλο αρχείο. Ας υποθέσουμε ότι έχουμε το αρχείο ```a.py``` το οποίο έχει τον παρακάτω κώδιkα:\n",
    "\n",
    "```python\n",
    "# File: a.py\n",
    "\n",
    "def f():\n",
    "    print (\"hello\")\n",
    "    \n",
    "def g():\n",
    "    print (\"world\")\n",
    "\n",
    "```\n",
    "\n",
    "Αυτό μπορούμε να το κάνουμε \"τρέχοντας\" το παρακάτω κελί:\n",
    "\n"
   ]
  },
  {
   "cell_type": "code",
   "execution_count": 22,
   "metadata": {},
   "outputs": [
    {
     "name": "stdout",
     "output_type": "stream",
     "text": [
      "Writing a.py\n"
     ]
    }
   ],
   "source": [
    "%%writefile a.py\n",
    "def f():\n",
    "    print (\"hello\")\n",
    "\n",
    "def g():\n",
    "    print (\"world\")\n",
    "    \n",
    "name=\"mitsos\""
   ]
  },
  {
   "cell_type": "markdown",
   "metadata": {},
   "source": [
    "Τότε μπορούμε να κάνουμε ```import``` τις συναρτήσεις αυτές σε ένα άλλο αρχείο:"
   ]
  },
  {
   "cell_type": "code",
   "execution_count": 23,
   "metadata": {},
   "outputs": [
    {
     "name": "stdout",
     "output_type": "stream",
     "text": [
      "hello\n"
     ]
    }
   ],
   "source": [
    "from a import f # Κάνω import μόνο την f\n",
    "f()"
   ]
  },
  {
   "cell_type": "code",
   "execution_count": 24,
   "metadata": {},
   "outputs": [
    {
     "name": "stdout",
     "output_type": "stream",
     "text": [
      "hello\n",
      "world\n"
     ]
    }
   ],
   "source": [
    "from a import f,g # Κάνω import την f και τη g\n",
    "f()\n",
    "g()"
   ]
  },
  {
   "cell_type": "code",
   "execution_count": 25,
   "metadata": {},
   "outputs": [
    {
     "name": "stdout",
     "output_type": "stream",
     "text": [
      "hello\n",
      "world\n"
     ]
    }
   ],
   "source": [
    "from a import * # Κάνω import όλες τις συναρτήσεις / μεταβλητές / ... που υπάρχουν στο a.py\n",
    "f()\n",
    "g()"
   ]
  },
  {
   "cell_type": "markdown",
   "metadata": {},
   "source": [
    "Μπορώ να κάνω ```import``` το ```a``` και να χρησιμοποιώ το ```a.f()``` όταν θέλω να καλέσω μία συνάρτηση:"
   ]
  },
  {
   "cell_type": "code",
   "execution_count": 26,
   "metadata": {},
   "outputs": [
    {
     "name": "stdout",
     "output_type": "stream",
     "text": [
      "hello\n",
      "world\n"
     ]
    }
   ],
   "source": [
    "import a\n",
    "a.f()\n",
    "a.g()"
   ]
  },
  {
   "cell_type": "markdown",
   "metadata": {},
   "source": [
    "Η python είναι μία γλώσσα \"[batteries included](https://en.wikipedia.org/wiki/Batteries_Included)\". Το οποίο σημαίνει ότι έχει [πάρα πολλές βιβλιοθήκες (libraries) με χρήσιμες συναρτήσεις](https://docs.python.org/3/library/index.html). Τις συναρτήσεις αυτές τις βάζουμε με την import\n",
    "\n",
    "![](https://imgs.xkcd.com/comics/python.png)\n",
    "[πηγή](https://xkcd.com/353/)\n",
    "\n",
    "Δοκιμάστε:\n",
    "```python\n",
    "import antigravity\n",
    "```"
   ]
  },
  {
   "cell_type": "markdown",
   "metadata": {},
   "source": [
    "### Η βιβλιοθήκη random"
   ]
  },
  {
   "cell_type": "code",
   "execution_count": 52,
   "metadata": {},
   "outputs": [],
   "source": [
    "import random"
   ]
  },
  {
   "cell_type": "code",
   "execution_count": 28,
   "metadata": {},
   "outputs": [
    {
     "data": {
      "text/plain": [
       "0.7875710628628508"
      ]
     },
     "execution_count": 28,
     "metadata": {},
     "output_type": "execute_result"
    }
   ],
   "source": [
    "random.random() # τυχαίοι αριθμοί από το 0 μέχρι το 1"
   ]
  },
  {
   "cell_type": "code",
   "execution_count": 29,
   "metadata": {},
   "outputs": [
    {
     "data": {
      "text/plain": [
       "9"
      ]
     },
     "execution_count": 29,
     "metadata": {},
     "output_type": "execute_result"
    }
   ],
   "source": [
    "random.randint(1,10) # τυχαίοι ακέραιοι από το 1 μέχρι το 10"
   ]
  },
  {
   "cell_type": "code",
   "execution_count": 53,
   "metadata": {},
   "outputs": [
    {
     "data": {
      "text/plain": [
       "'Βερολίνο'"
      ]
     },
     "execution_count": 53,
     "metadata": {},
     "output_type": "execute_result"
    }
   ],
   "source": [
    "# https://www.youtube.com/watch?v=INa6b0yS3uk\n",
    "random.choice(['Λονδίνο', 'Άμστερνταμ', 'Βερολίνο']) # Διαλέγει ένα στη τύχη"
   ]
  },
  {
   "cell_type": "code",
   "execution_count": 31,
   "metadata": {},
   "outputs": [
    {
     "data": {
      "text/plain": [
       "['Ηράκλειο', 'Αμστερνταμ']"
      ]
     },
     "execution_count": 31,
     "metadata": {},
     "output_type": "execute_result"
    }
   ],
   "source": [
    "random.sample(['Λονδίνο', 'Αμστερνταμ', 'Βερολίνο'],2) # Διαλέγει 2 στη τύχη"
   ]
  },
  {
   "cell_type": "markdown",
   "metadata": {},
   "source": [
    "### Εκτελώντας προγράμματα από τη γραμμή εντολών"
   ]
  },
  {
   "cell_type": "markdown",
   "metadata": {},
   "source": [
    "Μέχρι στιγμής έχουμε μάθει πως να φτιάχνουμε απίστευτα πράγματα στο Jupyter. Το Jupyter έχει προκύψει τώρα τελευταία σαν μέσο συγγραφής κώδικα αλλά και σαν μέθοδο να διαμοιράζουμε τα προγράμματά μας. Το Jupyter **δεν** είναι ο κανόνας για τη δημιουργία προγραμμάτων με python αλλά η εξαίρεση. Τα περισσότερα προγράμματα γράφονται σε ένα αρχείο το οποίο έχει τη κατάληξη ```.py```. Για παράδειγμα ```program.py```. Αυτό το πρόγραμμα το τρέχουμε από τη γραμμή εντολών με την εντολή: \n",
    "\n",
    "```bash\n",
    "python program.py\n",
    "```\n",
    "\n",
    "Τι είναι όμως η γραμμή εντολών; \n",
    "\n",
    "Κάθε υπολογιστής, ανεξάρτητα από το λειτουργικό του σύστημα (windows, osx, Linux) διαθέτει ένα πρόγραμμα που ονομάζεται [γραμμή εντολών](https://en.wikipedia.org/wiki/Command-line_interface), ή command line. Όταν ανοίγετε αυτο το πρόγραμμα εμφανίζεται μία κονσόλα όπου ο χρήστης μπορεί να τυπώσει εντολές (commands) και πατώντας το κουμπί Enter, ο υπολογιστής τις εκτελεί (ή αλλιώς τις \"τρέχει\"). Μπορεί σήμερα να ακούγεται περίεργο αλλά αυτός είναι και ο κύριος τρόπος με τον οποίο τρέχουν τα περισσότερα προγράμματα στον υπολογιστής σας. Όταν κάνετε διπλό κλικ για να ανοίξετε ένα πρόγραμμα σε ένα γραφικό περιβάλλον, ο υπολογιστής εσωτερικά απλά εκτελεί την αντίστοιχη εντολή του προγράμματος. \n",
    "\n",
    "Σκεφτείτε λίγο το εξής: Τα γραφικά περιβάλλοντα (π.χ. windows) υπάρχουν από τη δεκαετία του '90 και μετά. Πιο πριν πως δούλευε ο κόσμος στους υπολογιστές; Γράφοντας εντολές στη γραμμή εντολών. \n",
    "\n",
    "Σκεφτείτε λίγο το εξής: Το Jupyter υπάρχει από το 2014 (και το IPython στο οποίο βασίζεται από το 2001). Το RStudio υπάρχει από το 2010. Πιο πριν πως δούλευε ο κόσμος σε αυτές τις δημοφιλείς γλώσσες; Μα με τη γραμμή εντολών. \n",
    "\n",
    "Σκεφτείτε λίγο το εξής: Ένα πρόγραμμα που απαιτεί έναν υπερυπολογιστή για να τρέξει σε ένα απομακρυσμένο μηχάνημα και θέλει μήνες για να ολοκληρωθεί η επεξεργασία που κάνει, πως το στέλνουμε για εκτέλεση; Σίγουρα δεν μπορούμε να έχουμε ένα jupyter ανοικτό για μήνες! Η απάντηση είναι το εκτελούμε μέσα από τη γραμμή εντολών. \n",
    "\n",
    "Σκεφτείτε λίγο το εξής: Ένα πρόγραμμα για να κάνει τους υπολογισμούς του απαιτεί από τον χρήστη να του δώσει κάποιους παραμέτρους. Για παράδειγμα σε ποιο αρχείο είναι τα δεδομένα που πρέπει να επεξεργαστεί. Πως \"λέμε\" στο πρόγραμμα τρέξε την επεξεργασία πάνω σε \"αυτό\" το αρχείο; Μα με τη γραμμή εντολών.\n",
    "\n",
    "Η γραμμή εντολών είναι η \"κλασσική\" και διαχρονική διεπαφή μέσα από την οποία μιλάμε με τον υπολογιστή. Οι υπολογιστές και τα λειτουργικά συστήματα έχουν φτιαχτεί με αυτή τη φιλοσοφία: Ο χρήστης θα μου στέλνει εντολές και εγώ θα τις εκτελώ. Τα γραφικά συστήματα ήρθαν μετά και δουλεύουν \"πάνω\" από αυτή τη λογική.  "
   ]
  },
  {
   "cell_type": "markdown",
   "metadata": {},
   "source": [
    "#### Τότε εμείς γιατί κάνουμε jupyter;\n",
    "\n",
    "Η χρήση της γραμμής εντολών απαιτεί κάποια γνώση και εμπειρία η οποία πολλές φορές δρα αποτρεπτικά σε αυτούς που θέλουν να μάθουν προγραμματισμό \"τώρα!\". Ειδικά στις επιστήμες στις οποίες ο προγραμματισμός είναι βοηθητικός (βιολογία, χημεία, μηχανική) οι φοιτητές βρίσκουν τη γραμμή εντολών σαν ένα έξτρα εμπόδιο. \n",
    "\n",
    "Το jupyter και γενικότερα η λογική των notebooks ήρθε να αντικαταστήσουν τη γραμμή εντολών με τη λογική των \"κελιών\" που έχουμε ήδη μάθει. Με αυτόν τον τρόπο οι φοιτητές μπορούν κατευθείαν να εξασκηθούν στον προγραμματισμό σε ένα γνώριμο για αυτούς περιβάλλον όπως είναι ο browser. Όπως είδαμε όμως το jupyter παρέχε ένα υποσύνολο από τις δυνατότητες ενός σύγχρονου προγραμματιστικού περιβάλλοντος. Πλήρες προγραμματισμό μπορούμε να κάνουμε στο περιβάλλον που δίνει η γραμμή εντολών.\n",
    "\n",
    "Στον παρακάτω πίνακα υπάρχει μία σύνοψη από τα πλεονεκτήματα και μειονεκτήματα των jupyter / γραμμής εντολών (credit: Ιωάννης-Ραφαήλ Τζονευράκης)\n",
    "\n",
    "![img](https://i.imgur.com/c2jgOOG.png)"
   ]
  },
  {
   "cell_type": "markdown",
   "metadata": {},
   "source": [
    "#### Πως ξεκινάμε με τη γραμμή εντολών;\n",
    "\n",
    "Υπάρχουν πολλά tutorials online. Για παράδειγμα:\n",
    "* https://www.youtube.com/watch?v=MBBWVgE0ewk&list=PL6gx4Cwl9DGDV6SnbINlVUd0o2xT4JbMu \n",
    "\n",
    "Είναι πολύ σημαντικό να παρακολουθήσετε ένα παρόμοιο tutorial και να εξοικειωθείτε με τη γραμμή εντολών. Σε αυτά τα tutorials θα μάθετε επίσης πολλά γύρω από το πως δουλεύουν οι υπολογιστές και πως οργανώνονται τα διάφορα αρχεία. \n",
    "\n",
    "Όσοι έχετε python anaconda μπορείτε να γράψετε ```anaconda prompt``` στο search τως windows στο start menu. Δείτε και εδώ https://www.youtube.com/watch?v=dgjEUcccRwM πως γίνεται στο 1:45. Αν το κάνετε αυτό θα ανοίξει ένα περιβάλλον γραμμής εντολών όπου η python θα είναι \"στημένη\" και ρυθμισμένη σωστά. Αν έχετε κάποιο πρόβλημα στείλτε DM στο slack."
   ]
  },
  {
   "cell_type": "markdown",
   "metadata": {},
   "source": [
    "#### Πως γράφουμε ένα πρόγραμμα για να το τρέξουμε στη γραμμή εντολών;\n",
    "\n",
    "Για να το κάνετε αυτό, πρέπει να εγκαταστήσετε κάποιον επεξεργαστή κειμένου (text editor) για προγράμματα. **Προσοχή!** το word δεν κάνει για αυτό! Ούτε και το notepad (με πολύ προσπάθεια ίσως τα καταφέρετε στο notepad). Χρειάζεστε ένα ειδικό πρόγραμμα το οποίο βοηθάει τον χρήστη να γράψει python κώδικα. Μερικές επιλογές που έχετε είναι το  [Notepad++](https://notepad-plus-plus.org/downloads/) και το [Sublime](https://www.sublimetext.com/). Μέσα από τα προγράμματα δοκιμάστε να δημιουργήσετε ένα αρχείο με το όνομα: ```program.py``` το οποίο να έχει το εξής περιεχόμενο:\n",
    "\n",
    "```python\n",
    "print (\"Hello World!\")\n",
    "```\n",
    "\n",
    "#### Που σώζω το αρχείο αυτό;\n",
    "\n",
    "Το αρχείο θα πρέπει να το σώσετε στον ίδιο κατάλογο από όπου θα εκτελέσετε την εντολή ```python program.py```. Μπορείτε μέσα από το command line να δείτε σε ποιο κατάλογο είσαστε. Ο κατάλογος που βρίσκεστε υπάρχει συνήθως πάνω στη γραμμή εντολών με τη μορφή: ```C:\\Users\\Alex``` ή κάτι τέτοιο. Αν γράψετε  ```cd``` και πατήσετε enter θα εμφανιστεί επίσης αυτός ο κατάλογος. Στη συνέχεια πρέπει να σώσετε το αρχείο ```program.py``` σε αυτόν τον κατάλογο από το πρόγραμμα επεξεργασίας κειμένου. Τέλος μπορείτε να \"τρέξετε\" τον κώδικα που υπάρχει στο αρχείο αυτό με: \n",
    "\n",
    "```bash\n",
    "python program.py\n",
    "```\n",
    "\n",
    "Αν δεν συμβεί κάποιο λάθος θα δείτε στο περιβάλλον γραμμής εντολών να εμφανίζεται το κείμενο: \"Hello World!\". "
   ]
  },
  {
   "cell_type": "markdown",
   "metadata": {},
   "source": [
    "#### Τι είναι αυτό το περίεργο ```>>>``` ;\n",
    "\n",
    "Αν αντί για ```python program.my```  πατήσετε ```python``` και μετά enter, θα μπείτε στο πρόγραμμα γραμμής εντολών της python το οποίο είναι διαφορετικό από αυτό του υπολογιστή σας. Σε αυτό το περιβάλλον απλά γράφετε python. Για να \"βγείτε\" από αυτό πατήστε ```exit()```."
   ]
  },
  {
   "cell_type": "markdown",
   "metadata": {},
   "source": [
    "### Γράφοντας προγράμματα για τη γραμμή εντολών\n",
    "Η δημιουργία προγραμμάτων για τη γραμμή εντολής δεν διαφέρει πολύ από το jupyter. Η κύρια διαφορά είναι ότι στα προγράμματα οι εντολές εκτελούνται με τη σειρά που γράφονται. Ενώ στο jupyter μπορεί ένα κελί που βρίσκεται πιο κάτω να εκτελεστεί πριν από ένα κελί που βρίσκεται πιο πάνω. Για παράδειγμα: πρώτα ορίζω το a δύο κελιά πιο κάτω και μετά το τυπώνω ένα κελί πιο κάτω:"
   ]
  },
  {
   "cell_type": "code",
   "execution_count": 2,
   "metadata": {},
   "outputs": [
    {
     "name": "stdout",
     "output_type": "stream",
     "text": [
      "3\n"
     ]
    }
   ],
   "source": [
    "print (a)"
   ]
  },
  {
   "cell_type": "code",
   "execution_count": 1,
   "metadata": {},
   "outputs": [],
   "source": [
    "a=3"
   ]
  },
  {
   "cell_type": "markdown",
   "metadata": {},
   "source": [
    "Σε αντίθεση το παρακάτω πρόγραμμα δεν θα έτρεχε στη γραμμή εντολών:"
   ]
  },
  {
   "cell_type": "code",
   "execution_count": 4,
   "metadata": {},
   "outputs": [
    {
     "name": "stdout",
     "output_type": "stream",
     "text": [
      "Writing program.py\n"
     ]
    }
   ],
   "source": [
    "%%writefile program.py\n",
    "\n",
    "print (a)\n",
    "a=3\n",
    "\n"
   ]
  },
  {
   "cell_type": "code",
   "execution_count": 5,
   "metadata": {},
   "outputs": [
    {
     "name": "stdout",
     "output_type": "stream",
     "text": [
      "Traceback (most recent call last):\r\n",
      "  File \"program.py\", line 2, in <module>\r\n",
      "    print (a)\r\n",
      "NameError: name 'a' is not defined\r\n"
     ]
    }
   ],
   "source": [
    "!python program.py"
   ]
  },
  {
   "cell_type": "markdown",
   "metadata": {},
   "source": [
    "#### Η μεταβλητή ```___name___```\n",
    "\n",
    "Είδαμε πιο πάνω πως να φτιάχνουμε τη δική μας βιβλιοθήκη και πως να κάνουμε import τις συναρτήσεις και τις μεταβλητές που περιέχει. Εδώ όμως παρουσιάσαμε πως να φτιάχνουμε ένα πρόγραμμα το οποίο το τρέχουμε από τη γραμμή εντολών. Τελικά τι από τα δύο θα κάνουμε; Δηλαδή αν πρέπει να \"δώσουμε\" κάπου τον κώδικά μας, με τι μορφή θα τον δώσουμε; Ως μία βιβλιοθήκη που θα κάνει import ή ως ένα πρόγραμμα που θα τρέξει από τη γραμμή εντολών; Η απάντηση είναι: εσείς διαλέγετε! είτε σανν βιβλιοθήκη είτε από τη γραμμή εντολών ή ΚΑΙ μετα δύο. Ας εξερευνήσουμε λίγο αυτή τη 3η επιλογή. \n",
    "\n",
    "Για αρχή ας φτιάξουμε μια απλή βιβλιοθήκη:\n"
   ]
  },
  {
   "cell_type": "code",
   "execution_count": 6,
   "metadata": {},
   "outputs": [
    {
     "name": "stdout",
     "output_type": "stream",
     "text": [
      "Overwriting program.py\n"
     ]
    }
   ],
   "source": [
    "%%writefile program.py \n",
    "\n",
    "def amazing_function(x):\n",
    "    return x*2"
   ]
  },
  {
   "cell_type": "markdown",
   "metadata": {},
   "source": [
    "Και ας τη κάνουμε import:"
   ]
  },
  {
   "cell_type": "code",
   "execution_count": 7,
   "metadata": {},
   "outputs": [
    {
     "data": {
      "text/plain": [
       "20"
      ]
     },
     "execution_count": 7,
     "metadata": {},
     "output_type": "execute_result"
    }
   ],
   "source": [
    "from program import amazing_function\n",
    "amazing_function(10)"
   ]
  },
  {
   "cell_type": "markdown",
   "metadata": {},
   "source": [
    "Παρατηρούμε ότι αν \"τρέξουμε\" το πρόγραμμα program.py δεν συμβαίνει τίποτα, αφού πουθενά δεν τυπώνουμε κάτι μέσα στο program.py:"
   ]
  },
  {
   "cell_type": "code",
   "execution_count": 8,
   "metadata": {},
   "outputs": [],
   "source": [
    "!python program.py"
   ]
  },
  {
   "cell_type": "markdown",
   "metadata": {},
   "source": [
    "Γίνεται άραγε να ξέρω αν με κάλεσε κάποιος μέσα από μία βιβλιοθήκη ή απευθείας από τη γραμμή εντολών; Καταρχήν γιατί αυτό είναι σημαντικό; Όταν δίνουμε ένα πρόγραμμα σε κάποιον άλλο (ή απλά όταν το διαθέτουμε ελεύθερο στο Internet), θέλουμε να δώσουμε τη δυνατητα να μας χρησιμοποιήσουν με τους περισσότερους δυνατούς τρόπους. Κάποιοι προγραμματιστές θα προτιμήσουν να χρησιμοποιήσουν τον κώδικά μας σαν βιβλιοθήκη και κάποιοι να τον τρέξουν από τη γραμμή εντολών. \n",
    "\n",
    "Όταν τρέχουν τον κώδικά μας σαν βιβλιοθήκη (μέσω της import) τότε αυτός που μας χρησιμοποιεί \"περνά\" τις παραμέτρους απευθείας στις συναρτήσεις μας. Για παράδειγμα περάσαμε τη τιμή 10 στη συνάρτηση amazing_function. Πως όμως περνάμε τιμές στις συναρτήσεις όταν τρέχουμε ένα πρόγραμμα από τη γραμμή εντολών; Αυτό σηκώνει διερεύνυση!\n",
    "\n",
    "\n",
    "Για αρχή, ας δούμε τι περιέχει η ειδική μεταβλητή ```__name__```:"
   ]
  },
  {
   "cell_type": "code",
   "execution_count": 9,
   "metadata": {},
   "outputs": [
    {
     "name": "stdout",
     "output_type": "stream",
     "text": [
      "Overwriting program.py\n"
     ]
    }
   ],
   "source": [
    "%%writefile program.py \n",
    "\n",
    "def amazing_function(x):\n",
    "    return x*2\n",
    "\n",
    "print (__name__)"
   ]
  },
  {
   "cell_type": "markdown",
   "metadata": {},
   "source": [
    "Τι θα τυπώσει αν κάνουμε import το program;"
   ]
  },
  {
   "cell_type": "code",
   "execution_count": 1,
   "metadata": {},
   "outputs": [
    {
     "name": "stdout",
     "output_type": "stream",
     "text": [
      "program\n"
     ]
    }
   ],
   "source": [
    "import program"
   ]
  },
  {
   "cell_type": "markdown",
   "metadata": {},
   "source": [
    "Η μεταβλητή περιέχει το όνομα της βιβλιοθήκης στην οποία ανήκει! Για μια στιγμή, όταν το τρέχω από τη γραμμή εντολών δεν υπάρχει κάποια βιβλιοθήκη, τι θα τυπώσει τότε;"
   ]
  },
  {
   "cell_type": "code",
   "execution_count": 5,
   "metadata": {},
   "outputs": [
    {
     "name": "stdout",
     "output_type": "stream",
     "text": [
      "__main__\r\n"
     ]
    }
   ],
   "source": [
    "!python program.py"
   ]
  },
  {
   "cell_type": "markdown",
   "metadata": {},
   "source": [
    "Τύπωσε ```__main__```! Ή αλλιώς όταν ένα πρόγραμμα φορτώνεται μέσω import τότε η ```__name__``` περιέχει το όνομα της βιβλιοθήκης που την περιέχει. Όταν όμως την καλούμε απο τη γραμμή εντολών, τότε περιέχει τη τιμή: ```___main__```. \n",
    "\n",
    "οκ, και πως μπορώ να το χρησιμοποιήσω αυτό; \n",
    "\n",
    "Μπορώ να γράψω κώδικα ο οποίος εκτελείται μόνο όταν το πρόγραμμα εκτελείται από τη γραμμή εντολών και όχι σαν import και το αντίθετο: "
   ]
  },
  {
   "cell_type": "code",
   "execution_count": 6,
   "metadata": {},
   "outputs": [
    {
     "name": "stdout",
     "output_type": "stream",
     "text": [
      "Overwriting program.py\n"
     ]
    }
   ],
   "source": [
    "%%writefile program.py \n",
    "\n",
    "def amazing_function(x):\n",
    "    return x*2\n",
    "\n",
    "if __name__ == '__main__':\n",
    "    print ('Με κάλεσαν από τη γραμμή εντολών!')\n",
    "else:\n",
    "    print ('Με φόρτωσαν μέσω κάποιας import!')"
   ]
  },
  {
   "cell_type": "code",
   "execution_count": 1,
   "metadata": {},
   "outputs": [
    {
     "name": "stdout",
     "output_type": "stream",
     "text": [
      "Με φόρτωσαν μέσω κάποιας import!\n"
     ]
    }
   ],
   "source": [
    "import program"
   ]
  },
  {
   "cell_type": "code",
   "execution_count": 2,
   "metadata": {},
   "outputs": [
    {
     "name": "stdout",
     "output_type": "stream",
     "text": [
      "Με κάλεσαν από τη γραμμή εντολών!\r\n"
     ]
    }
   ],
   "source": [
    "!python program.py"
   ]
  },
  {
   "cell_type": "markdown",
   "metadata": {},
   "source": [
    "Ωραία, είπαμε ότι όταν μας κάνουν import τότε αυτοί που μας φόρτωσαν έχουν την ευθύνη να μας περάσουν και τις παραμέτρους στις συναρτήσεις μας. \n",
    "\n",
    "Αν όμως ΔΕΝ μας κάναν import και μας χρησιμοποιούν από τη γραμμή εντολών, πως περνάνε παραμέτρους στις συναρτήσεις μας;"
   ]
  },
  {
   "cell_type": "markdown",
   "metadata": {},
   "source": [
    "### Περνώντας παραμέτρους από τη γραμμή εντολών"
   ]
  },
  {
   "cell_type": "markdown",
   "metadata": {},
   "source": [
    "Το να περνάν παράμετροι από τη γραμμή εντολών μέσα στα προγράμματα που καλούνται απο αυτήν είναι μία από τις πιο έξυπνες ιδέες αλλά και βασική λειτουργία τους. Αν το σκεφτείτε θα δείτε ότι αυτό το κάνετε ήδη όταν γράφετε: ```python program.py```. Όταν η γραμμή εντολών \"δει\" το ```python program.py```, το σπάει σε λέξεις. Η πρώτη λέξη είναι το πρόγραμμα που θα καλέσει. Όλες οι υπόλοιπες λέξεις μετά το πρώτο είναι παράμετροι που θα περάσει στο πρόγραμμα. Στην ουσία δηλαδή αυτό που καταλαβαίνει είναι: \"Τρέξε το πρόγραμμα python με την παράμετρο program.py\". Η γραμμή εντολών δεν έχει ιδέα ότι το program.py είναι ένα αρχείο. Το καταλαβαίνει ως string το οποίο πρέπει να περάσει σαν παράμετρο στο python. \n",
    "\n",
    "Για να περάσετε παράμετρους στο πρόγραμμά σας λοιπόν δεν έχετε παρά να προσθέσετε τις παραμέτρους αυτούς στη γραμμή εντολών. Για παράδειγμα:"
   ]
  },
  {
   "cell_type": "code",
   "execution_count": 3,
   "metadata": {},
   "outputs": [
    {
     "name": "stdout",
     "output_type": "stream",
     "text": [
      "Με κάλεσαν από τη γραμμή εντολών!\r\n"
     ]
    }
   ],
   "source": [
    "!python program.py 10"
   ]
  },
  {
   "cell_type": "markdown",
   "metadata": {},
   "source": [
    "Ωραίο αλλά πως διαβάζουμε τη τιμή \"10\" μέσα από τη python; Υπάρχουν 2 τρόποι για να γίνει αυτό. Ο πρώτος είναι χρησιμοποιώντας τη βιβλιοθήκη ```sys``` η οποία περιέχει τη λίστα ```args``` (arguments) με όλες τις παραμέτρους από τη γραμμή εντολών:"
   ]
  },
  {
   "cell_type": "code",
   "execution_count": 5,
   "metadata": {},
   "outputs": [
    {
     "name": "stdout",
     "output_type": "stream",
     "text": [
      "Overwriting program.py\n"
     ]
    }
   ],
   "source": [
    "%%writefile program.py\n",
    "import sys\n",
    "\n",
    "def amazing_function(x):\n",
    "    return x*2\n",
    "\n",
    "if __name__ == '__main__':\n",
    "    print (sys.argv)"
   ]
  },
  {
   "cell_type": "code",
   "execution_count": 6,
   "metadata": {},
   "outputs": [
    {
     "name": "stdout",
     "output_type": "stream",
     "text": [
      "['program.py', '10']\r\n"
     ]
    }
   ],
   "source": [
    "!python program.py 10"
   ]
  },
  {
   "cell_type": "markdown",
   "metadata": {},
   "source": [
    "Παρατηρούμε ότι:\n",
    "* οι παράμετροι \"πέρασαν\" στο πρόγραμμά μας σαν μία λίστα.\n",
    "* Όλοι οι παράμετροι πέρασαν σαν string. Η γραμμή εντολών δεν διακρίνει διαφορετικών τύπου μεταβλητές. Μόνο strings\n",
    "* Η πρώτη παράμετρος είναι το ```program.py```. Αυτό είναι λογικό. Θυμάστε ότι είπαμε ότι η πρώτη λέξη είναι το πρόγραμμα (python) και οι υπόλοιπες είναι οι παράμετροι που περνάμε στο πρόγραμμα.  \n",
    "\n",
    "Τώρα μπορούμε να κάνουμε ό,τι θέλουμε με αυτή τη λίστα. Για παράδειγμα:"
   ]
  },
  {
   "cell_type": "code",
   "execution_count": 7,
   "metadata": {},
   "outputs": [
    {
     "name": "stdout",
     "output_type": "stream",
     "text": [
      "Overwriting program.py\n"
     ]
    }
   ],
   "source": [
    "%%writefile program.py\n",
    "import sys\n",
    "\n",
    "def amazing_function(x):\n",
    "    return x*2\n",
    "\n",
    "if __name__ == '__main__':\n",
    "    parameter = int(sys.argv[1])\n",
    "    print (amazing_function(parameter))"
   ]
  },
  {
   "cell_type": "code",
   "execution_count": 8,
   "metadata": {},
   "outputs": [
    {
     "name": "stdout",
     "output_type": "stream",
     "text": [
      "20\r\n"
     ]
    }
   ],
   "source": [
    "!python program.py 10"
   ]
  },
  {
   "cell_type": "markdown",
   "metadata": {},
   "source": [
    "Επίσης το πρόγραμμά μας τρέχει και με τους δύο τρόπους!"
   ]
  },
  {
   "cell_type": "code",
   "execution_count": 9,
   "metadata": {},
   "outputs": [
    {
     "name": "stdout",
     "output_type": "stream",
     "text": [
      "20\n"
     ]
    }
   ],
   "source": [
    "from program import amazing_function\n",
    "\n",
    "print (amazing_function(10))"
   ]
  },
  {
   "cell_type": "markdown",
   "metadata": {},
   "source": [
    "Τα σύγχρονα προγράμματα κυρίως στη γενετική και στη βιοπληροφορική έχουν ένα τεράστιο πλήθος παραμέτρων. Για την ακρίβεια προσφέρουν τρομερή εκφραστικότητα. Χρησιμοποιώντας τη γραμμή εντολών μπορείτε να κάνετε πολύπλοκες αναλύσεις χωρίς να γράψετε ούτε μία γραμμή προγραμματισμού. Για παράδειγμα δείτε [εδώ](http://www.htslib.org/doc/samtools.html) μία σύνοψη(!) των παραμέτρων που δέχεται το samtools ένα πρόγραμμα γραμμής εντολών για τη διαχείρηση αρχείων που προέρχονται από πειράματα αλληλούχισης. Άλλα παρόμοια είναι το [GATK](https://gatk.broadinstitute.org/hc/en-us) και το [plink2](https://www.cog-genomics.org/plink/2.0/general_usage) με πάνω από 100 παραμέτρους. \n",
    "\n",
    "Αν το πρόγραμμά σας παίρνει το πολύ 3 παραμέτρους το sys.argv ίσως να είναι αρκετό. Για περισσότερους παραμέτρους η λίστα που δίνει το sys.argv δεν είναι αρκετή. Η python διαθέτει τη βιβλιοθήκη argparse για να σας βοηθήσει να \"παρσάρετε\" τις παραμέτρους από τη γραμμή εντολών και να τη περάσετε \"ανώδυνα\" στο πρόγραμμά σας. \n",
    "\n",
    "Προτείνω να διαβάσετε τη πολύ καλή [παρουσίαση και ανάλυση της argparse από τη realpython](https://realpython.com/command-line-interfaces-python-argparse/).\n",
    "\n",
    "Ακολουθεί ένα παράδειγμα. Δηλώνουμε δύο παράμετρους μία υποχρεωτική και μία προαιρετική:"
   ]
  },
  {
   "cell_type": "code",
   "execution_count": 18,
   "metadata": {},
   "outputs": [
    {
     "name": "stdout",
     "output_type": "stream",
     "text": [
      "Overwriting program.py\n"
     ]
    }
   ],
   "source": [
    "%%writefile program.py\n",
    "import argparse\n",
    "\n",
    "def amazing_function(x):\n",
    "    return x*2\n",
    "\n",
    "if __name__ == '__main__':\n",
    "    \n",
    "    parser = argparse.ArgumentParser(description=\"Amazing program\")\n",
    "    parser.add_argument('value', help=\"Number of desired iterations\")    #  Υποχρεωτική παράμετρος\n",
    "    parser.add_argument('--par', help=\"Value of the converge cutoff\")    #  Προαιρετική παράμετρος\n",
    "    \n",
    "    args = parser.parse_args()\n",
    "    \n",
    "    value = int(args.value)\n",
    "    par = args.par\n",
    "    \n",
    "    print (amazing_function(value))\n",
    "    if not par is None:\n",
    "        print ('The value of par={}'.format(par))\n",
    "        "
   ]
  },
  {
   "cell_type": "markdown",
   "metadata": {},
   "source": [
    "Καλώντας με τη παράμετρο -h το πρόγραμμά μας εμφανίζει ένα ενημερωτικό μήνυμα με τον τρόπο που μπορεί κάποιος να το χρησιμοποιείσει:"
   ]
  },
  {
   "cell_type": "code",
   "execution_count": 11,
   "metadata": {},
   "outputs": [
    {
     "name": "stdout",
     "output_type": "stream",
     "text": [
      "usage: program.py [-h] [--par PAR] value\r\n",
      "\r\n",
      "Amazing program\r\n",
      "\r\n",
      "positional arguments:\r\n",
      "  value       Number of desired iterations\r\n",
      "\r\n",
      "optional arguments:\r\n",
      "  -h, --help  show this help message and exit\r\n",
      "  --par PAR   Value of the converge cutoff\r\n"
     ]
    }
   ],
   "source": [
    "!python program.py -h"
   ]
  },
  {
   "cell_type": "markdown",
   "metadata": {},
   "source": [
    "Ας το καλέσουμε:"
   ]
  },
  {
   "cell_type": "code",
   "execution_count": 14,
   "metadata": {},
   "outputs": [
    {
     "name": "stdout",
     "output_type": "stream",
     "text": [
      "usage: program.py [-h] [--par PAR] value\r\n",
      "program.py: error: the following arguments are required: value\r\n"
     ]
    }
   ],
   "source": [
    "# Ας μη βάλουμε καμία παράμετρο.. Θα πετάξει μήνυμα λάθους \n",
    "# Γιατί υπάρχει υποχρεωτική παράμετρο που δεν έχουμε βάλει!\n",
    "!python program.py "
   ]
  },
  {
   "cell_type": "code",
   "execution_count": 19,
   "metadata": {},
   "outputs": [
    {
     "name": "stdout",
     "output_type": "stream",
     "text": [
      "20\r\n"
     ]
    }
   ],
   "source": [
    "# Ας βάλουμε την υποχρεωτική παράμετρο: \n",
    "!python program.py 10"
   ]
  },
  {
   "cell_type": "code",
   "execution_count": 20,
   "metadata": {},
   "outputs": [
    {
     "name": "stdout",
     "output_type": "stream",
     "text": [
      "20\r\n",
      "The value of par=hello\r\n"
     ]
    }
   ],
   "source": [
    "# Ας βάλουμε την υποχρεωτική και την προαιρετική παράμετρο: \n",
    "!python program.py 10 --par hello"
   ]
  },
  {
   "cell_type": "markdown",
   "metadata": {},
   "source": [
    "Επαναλαμβάνω ότι όλος ο κώδικας που παρσάρει και επεξεργάζεται τις παραμέτρους είναι ανενεργός αν το κάνουμε import:"
   ]
  },
  {
   "cell_type": "code",
   "execution_count": 21,
   "metadata": {},
   "outputs": [],
   "source": [
    "from program import amazing_function"
   ]
  },
  {
   "cell_type": "markdown",
   "metadata": {},
   "source": [
    "### Exceptions"
   ]
  },
  {
   "cell_type": "markdown",
   "metadata": {},
   "source": [
    "Θα έχετε προσέξει ότι όταν συμβεί κάποιο λάθος η python πετάει ένα μήνυμα:"
   ]
  },
  {
   "cell_type": "code",
   "execution_count": 22,
   "metadata": {},
   "outputs": [
    {
     "ename": "ZeroDivisionError",
     "evalue": "division by zero",
     "output_type": "error",
     "traceback": [
      "\u001b[0;31m---------------------------------------------------------------------------\u001b[0m",
      "\u001b[0;31mZeroDivisionError\u001b[0m                         Traceback (most recent call last)",
      "\u001b[0;32m<ipython-input-22-023a503edd86>\u001b[0m in \u001b[0;36m<module>\u001b[0;34m\u001b[0m\n\u001b[0;32m----> 1\u001b[0;31m \u001b[0ma\u001b[0m\u001b[0;34m=\u001b[0m\u001b[0;36m1\u001b[0m\u001b[0;34m/\u001b[0m\u001b[0;36m0\u001b[0m\u001b[0;34m\u001b[0m\u001b[0;34m\u001b[0m\u001b[0m\n\u001b[0m",
      "\u001b[0;31mZeroDivisionError\u001b[0m: division by zero"
     ]
    }
   ],
   "source": [
    "a=1/0"
   ]
  },
  {
   "cell_type": "markdown",
   "metadata": {},
   "source": [
    "Όλα τα λάθη που μπορούν να συμβούν στη python ανήκουν σε μία νέα κατηγορία αντικειμένων: τα exceptions. Ένα exception όταν συμβεί ΤΕΡΜΑΤΙΖΕΙ το πρόγραμμα: "
   ]
  },
  {
   "cell_type": "code",
   "execution_count": 26,
   "metadata": {},
   "outputs": [
    {
     "ename": "ZeroDivisionError",
     "evalue": "division by zero",
     "output_type": "error",
     "traceback": [
      "\u001b[0;31m---------------------------------------------------------------------------\u001b[0m",
      "\u001b[0;31mZeroDivisionError\u001b[0m                         Traceback (most recent call last)",
      "\u001b[0;32m<ipython-input-26-310b257491c9>\u001b[0m in \u001b[0;36m<module>\u001b[0;34m\u001b[0m\n\u001b[0;32m----> 1\u001b[0;31m \u001b[0ma\u001b[0m\u001b[0;34m=\u001b[0m\u001b[0;36m1\u001b[0m\u001b[0;34m/\u001b[0m\u001b[0;36m0\u001b[0m\u001b[0;34m\u001b[0m\u001b[0;34m\u001b[0m\u001b[0m\n\u001b[0m\u001b[1;32m      2\u001b[0m \u001b[0mprint\u001b[0m \u001b[0;34m(\u001b[0m\u001b[0;34m\"hello\"\u001b[0m\u001b[0;34m)\u001b[0m\u001b[0;34m\u001b[0m\u001b[0;34m\u001b[0m\u001b[0m\n",
      "\u001b[0;31mZeroDivisionError\u001b[0m: division by zero"
     ]
    }
   ],
   "source": [
    "a=1/0\n",
    "print (\"hello\")\n"
   ]
  },
  {
   "cell_type": "markdown",
   "metadata": {},
   "source": [
    "Παρατηρήστε ότι το πρόγραμμα δεν τύπωσε ποτέ \"hello\" γιατί απλά \"κράσαρε\" ή αλλιώς τερμάτισε απρόοπτα όταν συναίνει ένα λάθος (διαίρεση με το 0)"
   ]
  },
  {
   "cell_type": "markdown",
   "metadata": {},
   "source": [
    "Τι γίνεται όταν θέλουμε να συνεχιστεί η εκτέλεση του προγράμματος ακόμα και όταν έχει συμβεί ένα exception; Μπορούμε να τρέξουμε το κομμάτι κώδικα μέσα σε ένα try..except μπλοκ:"
   ]
  },
  {
   "cell_type": "code",
   "execution_count": 25,
   "metadata": {},
   "outputs": [
    {
     "name": "stdout",
     "output_type": "stream",
     "text": [
      "Something bad happened\n"
     ]
    }
   ],
   "source": [
    "try:\n",
    "    a=1/0\n",
    "except:\n",
    "    print (\"Something bad happened\")"
   ]
  },
  {
   "cell_type": "markdown",
   "metadata": {},
   "source": [
    "Οι εντολές μετά το σημείο που έγινε το exception ΔΕΝ ΤΡΕΧΟΥΝ! "
   ]
  },
  {
   "cell_type": "code",
   "execution_count": 27,
   "metadata": {},
   "outputs": [
    {
     "name": "stdout",
     "output_type": "stream",
     "text": [
      "Something bad happened\n"
     ]
    }
   ],
   "source": [
    "try:\n",
    "    a=1/0\n",
    "    print (\"Αυτό δεν θα τρέξει ποτέ..\")\n",
    "except:\n",
    "    print (\"Something bad happened\")"
   ]
  },
  {
   "cell_type": "markdown",
   "metadata": {},
   "source": [
    "Οι εντολές όμως μετά το try..except μπλοκ, τρέχουν κανονικά:"
   ]
  },
  {
   "cell_type": "code",
   "execution_count": 28,
   "metadata": {},
   "outputs": [
    {
     "name": "stdout",
     "output_type": "stream",
     "text": [
      "Something bad happened\n",
      "Αυτό θα τρέξει κανικά!\n"
     ]
    }
   ],
   "source": [
    "try:\n",
    "    a=1/0\n",
    "    print (\"Αυτό δεν θα τρέξει ποτέ..\")\n",
    "except:\n",
    "    print (\"Something bad happened\")\n",
    "    \n",
    "print (\"Αυτό θα τρέξει κανικά!\")"
   ]
  },
  {
   "cell_type": "markdown",
   "metadata": {},
   "source": [
    "Υπάρχουν πολλά ειδή exceptions. [Εδώ υπάρχει μία λίστα με όλες αυτές](https://docs.python.org/3/library/exceptions.html). Αντί να χρησιμοποιήσουμε το try..except μπορούμε να επιλέξουμε ποια ακριβώς exception θέλουμε να πιάσουμε:"
   ]
  },
  {
   "cell_type": "code",
   "execution_count": 29,
   "metadata": {},
   "outputs": [
    {
     "name": "stdout",
     "output_type": "stream",
     "text": [
      "Διαίρεση με το 0\n"
     ]
    }
   ],
   "source": [
    "try:\n",
    "    a=1/0\n",
    "except ZeroDivisionError:\n",
    "    print ('Διαίρεση με το 0')"
   ]
  },
  {
   "cell_type": "markdown",
   "metadata": {},
   "source": [
    "Μπορούμε έτσι να \"πιάσουμε\" πολλών ειδών λάθη:"
   ]
  },
  {
   "cell_type": "code",
   "execution_count": 30,
   "metadata": {},
   "outputs": [
    {
     "name": "stdout",
     "output_type": "stream",
     "text": [
      "Διαίρεση με το 0\n"
     ]
    }
   ],
   "source": [
    "divisor = 0\n",
    "try:\n",
    "    a=1/divisor\n",
    "    open('I_DO_NOT_EXIST.txt')\n",
    "except ZeroDivisionError:\n",
    "    print ('Διαίρεση με το 0')\n",
    "except FileNotFoundError:\n",
    "    print ('Δεν βρέθηκε κάποιο αρχείο')\n",
    "except:\n",
    "    print ('Κάτι άλλο περιέργο συναίβει')"
   ]
  },
  {
   "cell_type": "code",
   "execution_count": 31,
   "metadata": {},
   "outputs": [
    {
     "name": "stdout",
     "output_type": "stream",
     "text": [
      "Δεν βρέθηκε κάποιο αρχείο\n"
     ]
    }
   ],
   "source": [
    "divisor = 1\n",
    "try:\n",
    "    a=1/divisor\n",
    "    open('I_DO_NOT_EXIST.txt')\n",
    "except ZeroDivisionError:\n",
    "    print ('Διαίρεση με το 0')\n",
    "except FileNotFoundError:\n",
    "    print ('Δεν βρέθηκε κάποιο αρχείο')\n",
    "except:\n",
    "    print ('Κάτι άλλο περιέργο συναίβει')"
   ]
  },
  {
   "cell_type": "code",
   "execution_count": 32,
   "metadata": {},
   "outputs": [
    {
     "name": "stdout",
     "output_type": "stream",
     "text": [
      "Κάτι άλλο περιέργο συνέβει\n"
     ]
    }
   ],
   "source": [
    "divisor = 1\n",
    "b = [1,2]\n",
    "try:\n",
    "    a=1/divisor\n",
    "    b[3] = 5\n",
    "    open('I_DO_NOT_EXIST.txt')\n",
    "except ZeroDivisionError:\n",
    "    print ('Διαίρεση με το 0')\n",
    "except FileNotFoundError:\n",
    "    print ('Δεν βρέθηκε κάποιο αρχείο')\n",
    "except:\n",
    "    print ('Κάτι άλλο περιέργο συνέβει')"
   ]
  },
  {
   "cell_type": "markdown",
   "metadata": {},
   "source": [
    "Αν χρησιμοποιήσουμε:\n",
    "   \n",
    "```python\n",
    "try:\n",
    "    ...\n",
    "except:\n",
    "    ...\n",
    "```\n",
    "ή\n",
    "```python\n",
    "try:\n",
    "    ...\n",
    "except Exception\n",
    "    ....\n",
    "```\n",
    "Τότε έχουμε πιάσει ΟΛΑ τα δυνατά exceptions.  "
   ]
  },
  {
   "cell_type": "markdown",
   "metadata": {},
   "source": [
    "Μπορούμε να αποθηκεύσουμε το exception που συνέβει σε μία εντολή και να πάρουμε περισσότερες πληροφορίες για το λάθος που το προκάλεσε:"
   ]
  },
  {
   "cell_type": "code",
   "execution_count": 33,
   "metadata": {},
   "outputs": [
    {
     "name": "stdout",
     "output_type": "stream",
     "text": [
      "This error happened: division by zero\n"
     ]
    }
   ],
   "source": [
    "try:\n",
    "    a=1/0\n",
    "except Exception as e:\n",
    "    print ('This error happened: {}'.format(e))"
   ]
  },
  {
   "cell_type": "markdown",
   "metadata": {},
   "source": [
    "Μπορούμε να πιάσουμε πολλά ειδών exceptions και να την αποθηκεύσουμε σε μία μεταβλητή:"
   ]
  },
  {
   "cell_type": "code",
   "execution_count": 35,
   "metadata": {},
   "outputs": [
    {
     "name": "stdout",
     "output_type": "stream",
     "text": [
      "This just happened: [Errno 2] No such file or directory: 'I_DO_NOT_EXIST.txt'\n"
     ]
    }
   ],
   "source": [
    "divisor = 1\n",
    "try:\n",
    "    a=1/divisor\n",
    "    open('I_DO_NOT_EXIST.txt')\n",
    "except (ZeroDivisionError, FileNotFoundError) as e:\n",
    "    print ('This just happened: {}'.format(e))"
   ]
  },
  {
   "cell_type": "markdown",
   "metadata": {},
   "source": [
    "Επίσης αντί για το try..except μπορούμε να χρησιμοποιήσουμε το try..except..else. Ο κώδικα που βρίσκεται μέσα στο ```else``` εκτελείτε μόνο αν ΔΕΝ έχει συμβεί κάποιο exception."
   ]
  },
  {
   "cell_type": "code",
   "execution_count": 36,
   "metadata": {},
   "outputs": [
    {
     "name": "stdout",
     "output_type": "stream",
     "text": [
      "Division failed..\n"
     ]
    }
   ],
   "source": [
    "divisor=0\n",
    "try:\n",
    "    a=1/divisor\n",
    "except ZeroDivisionError:\n",
    "    print ('Division failed..')\n",
    "else:\n",
    "    print ('Division succeeded!!')"
   ]
  },
  {
   "cell_type": "code",
   "execution_count": 37,
   "metadata": {},
   "outputs": [
    {
     "name": "stdout",
     "output_type": "stream",
     "text": [
      "Division succeeded!!\n"
     ]
    }
   ],
   "source": [
    "divisor=1\n",
    "try:\n",
    "    a=1/divisor\n",
    "except ZeroDivisionError:\n",
    "    print ('Division failed..')\n",
    "else:\n",
    "    print ('Division succeeded!!')"
   ]
  },
  {
   "cell_type": "markdown",
   "metadata": {},
   "source": [
    "Επίσης μπορούμε να χρησιμοποιήσουμε το try..except..finally. Ο κώδικας που βρίσκεταί μέσα στο ```finally``` τρέχει είτε συμβεί είτε δεν συμβεί exception:"
   ]
  },
  {
   "cell_type": "code",
   "execution_count": 38,
   "metadata": {},
   "outputs": [
    {
     "name": "stdout",
     "output_type": "stream",
     "text": [
      "Division failed..\n",
      "I always run\n"
     ]
    }
   ],
   "source": [
    "divisor=0\n",
    "try:\n",
    "    a=1/divisor\n",
    "except ZeroDivisionError:\n",
    "    print ('Division failed..')\n",
    "finally:\n",
    "    print ('I always run')"
   ]
  },
  {
   "cell_type": "code",
   "execution_count": 39,
   "metadata": {},
   "outputs": [
    {
     "name": "stdout",
     "output_type": "stream",
     "text": [
      "I always run\n"
     ]
    }
   ],
   "source": [
    "divisor=1\n",
    "try:\n",
    "    a=1/divisor\n",
    "except ZeroDivisionError:\n",
    "    print ('Division failed..')\n",
    "finally:\n",
    "    print ('I always run')"
   ]
  },
  {
   "cell_type": "markdown",
   "metadata": {},
   "source": [
    "Τότε τι νόημα έχει το ```finally```; Αν συμβεί exception ο κώδικας του finally θα τρέχει **μετά** το exception. Αυτό είναι πολύ χρήσιμο όταν θέλουμε να \"συμαζέψουμε\" (clean-up) την ανακατοσούρα που κάναμε μέσα στο try. Π.χ. να κλείσουμε τα αρχεία που ανοίξαμε. Για παράδειγμα:"
   ]
  },
  {
   "cell_type": "code",
   "execution_count": 42,
   "metadata": {},
   "outputs": [
    {
     "name": "stdout",
     "output_type": "stream",
     "text": [
      "Closing file!\n"
     ]
    }
   ],
   "source": [
    "def save_weird_calculation_to_file(file, a,b):\n",
    "    value = a/b\n",
    "    file.write(\"{}\\n\".format(value))\n",
    "    \n",
    "f = open(\"amazing_results.txt\", 'w')\n",
    "a=4\n",
    "b=1\n",
    "try:\n",
    "    save_weird_calculation_to_file(f, a, b)\n",
    "finally:\n",
    "    print ('Closing file!')\n",
    "    f.close()"
   ]
  },
  {
   "cell_type": "markdown",
   "metadata": {},
   "source": [
    "Στο παραπάνω παρατηρούμε ότι δεν συνέβη κανένα λάθος και έκλεισε κανονικά το αρχείο. Ας βάλουμε στο b τη τιμή 0:"
   ]
  },
  {
   "cell_type": "code",
   "execution_count": 43,
   "metadata": {},
   "outputs": [
    {
     "name": "stdout",
     "output_type": "stream",
     "text": [
      "Closing file!\n"
     ]
    },
    {
     "ename": "ZeroDivisionError",
     "evalue": "division by zero",
     "output_type": "error",
     "traceback": [
      "\u001b[0;31m---------------------------------------------------------------------------\u001b[0m",
      "\u001b[0;31mZeroDivisionError\u001b[0m                         Traceback (most recent call last)",
      "\u001b[0;32m<ipython-input-43-287591b9dc58>\u001b[0m in \u001b[0;36m<module>\u001b[0;34m\u001b[0m\n\u001b[1;32m      7\u001b[0m \u001b[0mb\u001b[0m\u001b[0;34m=\u001b[0m\u001b[0;36m0\u001b[0m\u001b[0;34m\u001b[0m\u001b[0;34m\u001b[0m\u001b[0m\n\u001b[1;32m      8\u001b[0m \u001b[0;32mtry\u001b[0m\u001b[0;34m:\u001b[0m\u001b[0;34m\u001b[0m\u001b[0;34m\u001b[0m\u001b[0m\n\u001b[0;32m----> 9\u001b[0;31m     \u001b[0msave_weird_calculation_to_file\u001b[0m\u001b[0;34m(\u001b[0m\u001b[0mf\u001b[0m\u001b[0;34m,\u001b[0m \u001b[0ma\u001b[0m\u001b[0;34m,\u001b[0m \u001b[0mb\u001b[0m\u001b[0;34m)\u001b[0m\u001b[0;34m\u001b[0m\u001b[0;34m\u001b[0m\u001b[0m\n\u001b[0m\u001b[1;32m     10\u001b[0m \u001b[0;32mfinally\u001b[0m\u001b[0;34m:\u001b[0m\u001b[0;34m\u001b[0m\u001b[0;34m\u001b[0m\u001b[0m\n\u001b[1;32m     11\u001b[0m     \u001b[0mprint\u001b[0m \u001b[0;34m(\u001b[0m\u001b[0;34m'Closing file!'\u001b[0m\u001b[0;34m)\u001b[0m\u001b[0;34m\u001b[0m\u001b[0;34m\u001b[0m\u001b[0m\n",
      "\u001b[0;32m<ipython-input-43-287591b9dc58>\u001b[0m in \u001b[0;36msave_weird_calculation_to_file\u001b[0;34m(file, a, b)\u001b[0m\n\u001b[1;32m      1\u001b[0m \u001b[0;32mdef\u001b[0m \u001b[0msave_weird_calculation_to_file\u001b[0m\u001b[0;34m(\u001b[0m\u001b[0mfile\u001b[0m\u001b[0;34m,\u001b[0m \u001b[0ma\u001b[0m\u001b[0;34m,\u001b[0m\u001b[0mb\u001b[0m\u001b[0;34m)\u001b[0m\u001b[0;34m:\u001b[0m\u001b[0;34m\u001b[0m\u001b[0;34m\u001b[0m\u001b[0m\n\u001b[0;32m----> 2\u001b[0;31m     \u001b[0mvalue\u001b[0m \u001b[0;34m=\u001b[0m \u001b[0ma\u001b[0m\u001b[0;34m/\u001b[0m\u001b[0mb\u001b[0m\u001b[0;34m\u001b[0m\u001b[0;34m\u001b[0m\u001b[0m\n\u001b[0m\u001b[1;32m      3\u001b[0m     \u001b[0mfile\u001b[0m\u001b[0;34m.\u001b[0m\u001b[0mwrite\u001b[0m\u001b[0;34m(\u001b[0m\u001b[0;34m\"{}\\n\"\u001b[0m\u001b[0;34m.\u001b[0m\u001b[0mformat\u001b[0m\u001b[0;34m(\u001b[0m\u001b[0mvalue\u001b[0m\u001b[0;34m)\u001b[0m\u001b[0;34m)\u001b[0m\u001b[0;34m\u001b[0m\u001b[0;34m\u001b[0m\u001b[0m\n\u001b[1;32m      4\u001b[0m \u001b[0;34m\u001b[0m\u001b[0m\n\u001b[1;32m      5\u001b[0m \u001b[0mf\u001b[0m \u001b[0;34m=\u001b[0m \u001b[0mopen\u001b[0m\u001b[0;34m(\u001b[0m\u001b[0;34m\"amazing_results.txt\"\u001b[0m\u001b[0;34m,\u001b[0m \u001b[0;34m'w'\u001b[0m\u001b[0;34m)\u001b[0m\u001b[0;34m\u001b[0m\u001b[0;34m\u001b[0m\u001b[0m\n",
      "\u001b[0;31mZeroDivisionError\u001b[0m: division by zero"
     ]
    }
   ],
   "source": [
    "def save_weird_calculation_to_file(file, a,b):\n",
    "    value = a/b\n",
    "    file.write(\"{}\\n\".format(value))\n",
    "    \n",
    "f = open(\"amazing_results.txt\", 'w')\n",
    "a=4\n",
    "b=0\n",
    "try:\n",
    "    save_weird_calculation_to_file(f, a, b)\n",
    "finally:\n",
    "    print ('Closing file!')\n",
    "    f.close()"
   ]
  },
  {
   "cell_type": "markdown",
   "metadata": {},
   "source": [
    "Παρατηρούμε το εξής: Έγινε το λάθος, πέταξε exception και παρόλα αυτά έκλεισε το αρχείο. Αν δεν είχαμε βάλει το try..finally το αρχείο δεν θα έκλεινε.\n",
    "\n",
    "Ένα παράδειγμα που χρησιμοποιεί το try..except..else..finally:"
   ]
  },
  {
   "cell_type": "code",
   "execution_count": 44,
   "metadata": {},
   "outputs": [
    {
     "name": "stdout",
     "output_type": "stream",
     "text": [
      "Division failed\n",
      "I always run\n"
     ]
    }
   ],
   "source": [
    "divisor = 0\n",
    "try:\n",
    "    a=1/divisor\n",
    "except ZeroDivisionError:\n",
    "    print ('Division failed')\n",
    "else:\n",
    "    print ('Division succeeded')\n",
    "finally:\n",
    "    print ('I always run')"
   ]
  },
  {
   "cell_type": "markdown",
   "metadata": {},
   "source": [
    "**ΠΡΟΣΟΧΗ!** Το ότι έχουμε χρησιμοποιήσει try..except..else..finally κτλ δεν σημαίνει ότι έχουμε \"καλυφθεί\" από πιθανά exceptions:"
   ]
  },
  {
   "cell_type": "code",
   "execution_count": 45,
   "metadata": {},
   "outputs": [
    {
     "name": "stdout",
     "output_type": "stream",
     "text": [
      "I always run\n"
     ]
    },
    {
     "ename": "NameError",
     "evalue": "name 'mpaklavas' is not defined",
     "output_type": "error",
     "traceback": [
      "\u001b[0;31m---------------------------------------------------------------------------\u001b[0m",
      "\u001b[0;31mNameError\u001b[0m                                 Traceback (most recent call last)",
      "\u001b[0;32m<ipython-input-45-0457af044c52>\u001b[0m in \u001b[0;36m<module>\u001b[0;34m\u001b[0m\n\u001b[1;32m      1\u001b[0m \u001b[0;32mtry\u001b[0m\u001b[0;34m:\u001b[0m\u001b[0;34m\u001b[0m\u001b[0;34m\u001b[0m\u001b[0m\n\u001b[0;32m----> 2\u001b[0;31m     \u001b[0mmpaklavas\u001b[0m\u001b[0;34m\u001b[0m\u001b[0;34m\u001b[0m\u001b[0m\n\u001b[0m\u001b[1;32m      3\u001b[0m \u001b[0;32mexcept\u001b[0m \u001b[0mZeroDivisionError\u001b[0m\u001b[0;34m:\u001b[0m\u001b[0;34m\u001b[0m\u001b[0;34m\u001b[0m\u001b[0m\n\u001b[1;32m      4\u001b[0m     \u001b[0mprint\u001b[0m \u001b[0;34m(\u001b[0m\u001b[0;34m'Division with zero'\u001b[0m\u001b[0;34m)\u001b[0m\u001b[0;34m\u001b[0m\u001b[0;34m\u001b[0m\u001b[0m\n\u001b[1;32m      5\u001b[0m \u001b[0;32melse\u001b[0m\u001b[0;34m:\u001b[0m\u001b[0;34m\u001b[0m\u001b[0;34m\u001b[0m\u001b[0m\n",
      "\u001b[0;31mNameError\u001b[0m: name 'mpaklavas' is not defined"
     ]
    }
   ],
   "source": [
    "try:\n",
    "    mpaklavas\n",
    "except ZeroDivisionError:\n",
    "    print ('Division with zero')\n",
    "else:\n",
    "    print ('No exception happened')\n",
    "finally:\n",
    "    print ('I always run')"
   ]
  },
  {
   "cell_type": "markdown",
   "metadata": {},
   "source": [
    "Στο παραπάνω παράδειγμα συνέβει ένα ```NameError``` exception το οποίο δεν το πιάσαμε πουθενά."
   ]
  },
  {
   "cell_type": "markdown",
   "metadata": {},
   "source": [
    "Μπορούμε να \"πετάξουμε\" ή \"σηκώσουμε\" (raise) και το δικό μας exception:"
   ]
  },
  {
   "cell_type": "code",
   "execution_count": 47,
   "metadata": {},
   "outputs": [
    {
     "ename": "Exception",
     "evalue": "Χάλασε το αριστερό φιλάντζι",
     "output_type": "error",
     "traceback": [
      "\u001b[0;31m---------------------------------------------------------------------------\u001b[0m",
      "\u001b[0;31mException\u001b[0m                                 Traceback (most recent call last)",
      "\u001b[0;32m<ipython-input-47-d41eda379597>\u001b[0m in \u001b[0;36m<module>\u001b[0;34m\u001b[0m\n\u001b[0;32m----> 1\u001b[0;31m \u001b[0;32mraise\u001b[0m \u001b[0mException\u001b[0m\u001b[0;34m(\u001b[0m\u001b[0;34m'Χάλασε το αριστερό φιλάντζι'\u001b[0m\u001b[0;34m)\u001b[0m \u001b[0;31m# https://www.youtube.com/watch?v=DrwVB4vMx-Q&feature=youtu.be&t=30\u001b[0m\u001b[0;34m\u001b[0m\u001b[0;34m\u001b[0m\u001b[0m\n\u001b[0m",
      "\u001b[0;31mException\u001b[0m: Χάλασε το αριστερό φιλάντζι"
     ]
    }
   ],
   "source": [
    "raise Exception('Χάλασε το αριστερό φιλάντζι') # https://www.youtube.com/watch?v=DrwVB4vMx-Q&feature=youtu.be&t=30"
   ]
  },
  {
   "cell_type": "code",
   "execution_count": 54,
   "metadata": {},
   "outputs": [],
   "source": [
    "def print_my_name(name):\n",
    "    if name in ['hell', 'her', 'Jane', 'Stacey', 'quiet']:\n",
    "        raise NameError(\"That's not my name\") # https://www.youtube.com/watch?v=v1c2OfAzDTI\n",
    "        \n",
    "    print ('My name is:', name)\n",
    "\n"
   ]
  },
  {
   "cell_type": "code",
   "execution_count": 55,
   "metadata": {},
   "outputs": [
    {
     "name": "stdout",
     "output_type": "stream",
     "text": [
      "My name is: Alex\n"
     ]
    }
   ],
   "source": [
    "print_my_name('Alex')"
   ]
  },
  {
   "cell_type": "code",
   "execution_count": 56,
   "metadata": {},
   "outputs": [
    {
     "ename": "NameError",
     "evalue": "That's not my name",
     "output_type": "error",
     "traceback": [
      "\u001b[0;31m---------------------------------------------------------------------------\u001b[0m",
      "\u001b[0;31mNameError\u001b[0m                                 Traceback (most recent call last)",
      "\u001b[0;32m<ipython-input-56-5347c2f26f4c>\u001b[0m in \u001b[0;36m<module>\u001b[0;34m\u001b[0m\n\u001b[0;32m----> 1\u001b[0;31m \u001b[0mprint_my_name\u001b[0m\u001b[0;34m(\u001b[0m\u001b[0;34m'Stacey'\u001b[0m\u001b[0;34m)\u001b[0m\u001b[0;34m\u001b[0m\u001b[0;34m\u001b[0m\u001b[0m\n\u001b[0m",
      "\u001b[0;32m<ipython-input-54-bc05d5512eaa>\u001b[0m in \u001b[0;36mprint_my_name\u001b[0;34m(name)\u001b[0m\n\u001b[1;32m      1\u001b[0m \u001b[0;32mdef\u001b[0m \u001b[0mprint_my_name\u001b[0m\u001b[0;34m(\u001b[0m\u001b[0mname\u001b[0m\u001b[0;34m)\u001b[0m\u001b[0;34m:\u001b[0m\u001b[0;34m\u001b[0m\u001b[0;34m\u001b[0m\u001b[0m\n\u001b[1;32m      2\u001b[0m     \u001b[0;32mif\u001b[0m \u001b[0mname\u001b[0m \u001b[0;32min\u001b[0m \u001b[0;34m[\u001b[0m\u001b[0;34m'hell'\u001b[0m\u001b[0;34m,\u001b[0m \u001b[0;34m'her'\u001b[0m\u001b[0;34m,\u001b[0m \u001b[0;34m'Jane'\u001b[0m\u001b[0;34m,\u001b[0m \u001b[0;34m'Stacey'\u001b[0m\u001b[0;34m,\u001b[0m \u001b[0;34m'quiet'\u001b[0m\u001b[0;34m]\u001b[0m\u001b[0;34m:\u001b[0m\u001b[0;34m\u001b[0m\u001b[0;34m\u001b[0m\u001b[0m\n\u001b[0;32m----> 3\u001b[0;31m         \u001b[0;32mraise\u001b[0m \u001b[0mNameError\u001b[0m\u001b[0;34m(\u001b[0m\u001b[0;34m\"That's not my name\"\u001b[0m\u001b[0;34m)\u001b[0m \u001b[0;31m# https://www.youtube.com/watch?v=v1c2OfAzDTI\u001b[0m\u001b[0;34m\u001b[0m\u001b[0;34m\u001b[0m\u001b[0m\n\u001b[0m\u001b[1;32m      4\u001b[0m \u001b[0;34m\u001b[0m\u001b[0m\n\u001b[1;32m      5\u001b[0m     \u001b[0mprint\u001b[0m \u001b[0;34m(\u001b[0m\u001b[0;34m'My name is:'\u001b[0m\u001b[0;34m,\u001b[0m \u001b[0mname\u001b[0m\u001b[0;34m)\u001b[0m\u001b[0;34m\u001b[0m\u001b[0;34m\u001b[0m\u001b[0m\n",
      "\u001b[0;31mNameError\u001b[0m: That's not my name"
     ]
    }
   ],
   "source": [
    "print_my_name('Stacey')"
   ]
  },
  {
   "cell_type": "markdown",
   "metadata": {},
   "source": [
    "H πρωτοπορία των exceptions είναι ότι μπορούμε να τα \"πιάσουμε\" όχι μόνο ακριβώς στο σημείο που συνέβησαν αλλά και έξω ακόμα από τη συνάρτηση που τα προκάλεσε:"
   ]
  },
  {
   "cell_type": "code",
   "execution_count": 57,
   "metadata": {},
   "outputs": [
    {
     "name": "stdout",
     "output_type": "stream",
     "text": [
      "Error: Άσε με να κάνω λάθος!\n"
     ]
    }
   ],
   "source": [
    "def f():\n",
    "    raise Exception('Άσε με να κάνω λάθος!')\n",
    "    \n",
    "def g():\n",
    "    f()\n",
    "    \n",
    "def h():\n",
    "    g()\n",
    "    \n",
    "try: \n",
    "    h() # Και κάπου εδώ ίσως υπάρχει ένα μικρό exception \n",
    "except Exception as e:\n",
    "    print ('Error: {}'.format(e))"
   ]
  },
  {
   "cell_type": "markdown",
   "metadata": {},
   "source": [
    "**Προχωρημένο:** Μπορούμε να φτιάξουμε τη δική μας exception:"
   ]
  },
  {
   "cell_type": "code",
   "execution_count": 58,
   "metadata": {},
   "outputs": [],
   "source": [
    "# Θα εξηγήσουμε αργότερα στις κλάσεις τι σημαίνουν όλα αυτά\n",
    "class MyFabulousException(Exception):\n",
    "    pass"
   ]
  },
  {
   "cell_type": "code",
   "execution_count": 59,
   "metadata": {},
   "outputs": [
    {
     "ename": "MyFabulousException",
     "evalue": "",
     "output_type": "error",
     "traceback": [
      "\u001b[0;31m---------------------------------------------------------------------------\u001b[0m",
      "\u001b[0;31mMyFabulousException\u001b[0m                       Traceback (most recent call last)",
      "\u001b[0;32m<ipython-input-59-cb966f875a08>\u001b[0m in \u001b[0;36m<module>\u001b[0;34m\u001b[0m\n\u001b[0;32m----> 1\u001b[0;31m \u001b[0;32mraise\u001b[0m \u001b[0mMyFabulousException\u001b[0m\u001b[0;34m\u001b[0m\u001b[0;34m\u001b[0m\u001b[0m\n\u001b[0m",
      "\u001b[0;31mMyFabulousException\u001b[0m: "
     ]
    }
   ],
   "source": [
    "raise MyFabulousException"
   ]
  },
  {
   "cell_type": "markdown",
   "metadata": {},
   "source": [
    "### Collections"
   ]
  },
  {
   "cell_type": "markdown",
   "metadata": {},
   "source": [
    "Η [βιβλιοθήκη collections](https://docs.python.org/3/library/collections.html) περιέχει κάποιες επιπλέον δομές (πέρα από τις λίστες, λεξικά και σετ) για τη διαχείρηση δεδομένων. Δύο από τις πιο σημαντικές είναι η Counter και η defaultdict. Η Counter επιτρέφει μία μέτρηση των αντικειμένων που περιέχει μία οποιαδήποτε δομή:"
   ]
  },
  {
   "cell_type": "code",
   "execution_count": 60,
   "metadata": {},
   "outputs": [],
   "source": [
    "from collections import Counter "
   ]
  },
  {
   "cell_type": "code",
   "execution_count": 61,
   "metadata": {},
   "outputs": [
    {
     "data": {
      "text/plain": [
       "Counter({'h': 1, 'e': 1, 'l': 3, 'o': 2, ' ': 1, 'w': 1, 'r': 1, 'd': 1})"
      ]
     },
     "execution_count": 61,
     "metadata": {},
     "output_type": "execute_result"
    }
   ],
   "source": [
    "Counter('hello world')"
   ]
  },
  {
   "cell_type": "code",
   "execution_count": 71,
   "metadata": {},
   "outputs": [
    {
     "data": {
      "text/plain": [
       "Counter({5: 3, 4: 2, 3: 2, 6: 3, 7: 1, 2: 2, 1: 1, 8: 1})"
      ]
     },
     "execution_count": 71,
     "metadata": {},
     "output_type": "execute_result"
    }
   ],
   "source": [
    "Counter([5,4,3,5,6,7,6,5,6,4,3,2,1,2,8])"
   ]
  },
  {
   "cell_type": "markdown",
   "metadata": {},
   "source": [
    "Το πιο κοινό στοιχείο:"
   ]
  },
  {
   "cell_type": "code",
   "execution_count": 73,
   "metadata": {},
   "outputs": [
    {
     "data": {
      "text/plain": [
       "'l'"
      ]
     },
     "execution_count": 73,
     "metadata": {},
     "output_type": "execute_result"
    }
   ],
   "source": [
    "a = Counter('helloworld')\n",
    "a.most_common(1)[0][0]"
   ]
  },
  {
   "cell_type": "markdown",
   "metadata": {},
   "source": [
    "Μπορούμε να προσθέσουμε δύο Counter μεταξύ τους:"
   ]
  },
  {
   "cell_type": "code",
   "execution_count": 74,
   "metadata": {},
   "outputs": [
    {
     "name": "stdout",
     "output_type": "stream",
     "text": [
      "Counter({'s': 4, 't': 2, 'o': 2, 'M': 1, 'i': 1, 'K': 1, 'a': 1})\n"
     ]
    }
   ],
   "source": [
    "a = Counter('Mitsos')\n",
    "b = Counter('Kostas')\n",
    "print (a+b)"
   ]
  },
  {
   "cell_type": "markdown",
   "metadata": {},
   "source": [
    "Το defaultdict είναι ένα λεξικό (dictionary) στο οποίο οποίο μπορούμε να ορίσουμε μία προκαθορισμένη τιμή:"
   ]
  },
  {
   "cell_type": "code",
   "execution_count": 75,
   "metadata": {},
   "outputs": [],
   "source": [
    "from collections import defaultdict\n",
    "\n",
    "d = {}\n",
    "\n",
    "a = defaultdict(int) # Βάλε 0 όταν γίνει πρόσβαση σε ένα στοιχείο που δεν υπάρχει ήδη "
   ]
  },
  {
   "cell_type": "code",
   "execution_count": 76,
   "metadata": {},
   "outputs": [
    {
     "name": "stdout",
     "output_type": "stream",
     "text": [
      "0\n"
     ]
    }
   ],
   "source": [
    "print (a['mitsos'])"
   ]
  },
  {
   "cell_type": "code",
   "execution_count": 77,
   "metadata": {},
   "outputs": [
    {
     "ename": "KeyError",
     "evalue": "'mitsos'",
     "output_type": "error",
     "traceback": [
      "\u001b[0;31m---------------------------------------------------------------------------\u001b[0m",
      "\u001b[0;31mKeyError\u001b[0m                                  Traceback (most recent call last)",
      "\u001b[0;32m<ipython-input-77-20faa7276cea>\u001b[0m in \u001b[0;36m<module>\u001b[0;34m\u001b[0m\n\u001b[0;32m----> 1\u001b[0;31m \u001b[0mprint\u001b[0m \u001b[0;34m(\u001b[0m\u001b[0md\u001b[0m\u001b[0;34m[\u001b[0m\u001b[0;34m'mitsos'\u001b[0m\u001b[0;34m]\u001b[0m\u001b[0;34m)\u001b[0m \u001b[0;31m# πετάει λάθος!\u001b[0m\u001b[0;34m\u001b[0m\u001b[0;34m\u001b[0m\u001b[0m\n\u001b[0m",
      "\u001b[0;31mKeyError\u001b[0m: 'mitsos'"
     ]
    }
   ],
   "source": [
    "print (d['mitsos']) # πετάει λάθος!"
   ]
  },
  {
   "cell_type": "code",
   "execution_count": 78,
   "metadata": {},
   "outputs": [
    {
     "name": "stdout",
     "output_type": "stream",
     "text": [
      "[]\n"
     ]
    }
   ],
   "source": [
    "a = defaultdict(list)\n",
    "\n",
    "print (a['mitsos'])"
   ]
  },
  {
   "cell_type": "markdown",
   "metadata": {},
   "source": [
    "Που είναι χρήσιμο αυτό; Πολλές φορές όταν κάνουμε μία επανάληψη, θέλουμε να κάνουμε μία πράξη με τα στοιχεία της επανάληψης μέσα σε ένα dictionary. Κανονικά κάθε φορά θα πρέπει να ελέγχουμε αν υπάρχει το κλειδί μέσα στο dictionary και αν δεν υπάρχει να το δημιουργούμε. Μπορούμε να το αποφύγουμε αυτό με τα defaultdict. Για παράδειγμα, σου δίνω μία λίστα με strings. Φτιάξε ένα λεξικό όπου κάθε κλειδί θα έχει ένα αριθμό που θα είναι το μήκος του string. Οι τιμές θα είναι μία λίστα με τα strings της λίστας που έχουν αυτό το μέγεθος."
   ]
  },
  {
   "cell_type": "code",
   "execution_count": 82,
   "metadata": {},
   "outputs": [],
   "source": [
    "l = '''ἄνδρα μοι ἔννεπε, Μοῦσα, πολύτροπον, ὃς μάλα πολλὰ\n",
    "πλάγχθη, ἐπεὶ Τροίης ἱερὸν πτολίεθρον ἔπερσε·\n",
    "πολλῶν δ᾽ ἀνθρώπων ἴδεν ἄστεα καὶ νόον ἔγνω,\n",
    "πολλὰ δ᾽ ὅ γ᾽ ἐν πόντῳ πάθεν ἄλγεα ὃν κατὰ θυμόν,\n",
    "ἀρνύμενος ἥν τε ψυχὴν καὶ νόστον ἑταίρων.\n",
    "ἀλλ᾽ οὐδ᾽ ὣς ἑτάρους ἐρρύσατο, ἱέμενός περ·\n",
    "αὐτῶν γὰρ σφετέρῃσιν ἀτασθαλίῃσιν ὄλοντο,\n",
    "νήπιοι, οἳ κατὰ βοῦς Ὑπερίονος Ἠελίοιο\n",
    "ἤσθιον· αὐτὰρ ὁ τοῖσιν ἀφείλετο νόστιμον ἦμαρ.\n",
    "τῶν ἁμόθεν γε, θεά, θύγατερ Διός, εἰπὲ καὶ ἡμῖν.'''.split()\n"
   ]
  },
  {
   "cell_type": "markdown",
   "metadata": {},
   "source": [
    "Χωρίς defaultdict:"
   ]
  },
  {
   "cell_type": "code",
   "execution_count": 83,
   "metadata": {},
   "outputs": [
    {
     "name": "stdout",
     "output_type": "stream",
     "text": [
      "{5: ['ἄνδρα', 'πολλὰ', 'ἱερὸν', 'ἄστεα', 'ἔγνω,', 'πολλὰ', 'πόντῳ', 'πάθεν', 'ἄλγεα', 'ψυχὴν', 'αὐτῶν', 'αὐτὰρ', 'ἦμαρ.', 'Διός,', 'ἡμῖν.'], 3: ['μοι', 'καὶ', 'καὶ', 'γὰρ', 'τῶν', 'γε,', 'καὶ'], 7: ['ἔννεπε,', 'ἔπερσε·', 'ἑτάρους', 'ἱέμενός', 'ὄλοντο,', 'νήπιοι,', 'Ἠελίοιο', 'ἤσθιον·', 'θύγατερ'], 6: ['Μοῦσα,', 'Τροίης', 'πολλῶν', 'θυμόν,', 'νόστον', 'τοῖσιν', 'ἁμόθεν'], 11: ['πολύτροπον,'], 2: ['ὃς', 'δ᾽', 'δ᾽', 'γ᾽', 'ἐν', 'ὃν', 'ἥν', 'τε', 'ὣς', 'οἳ'], 4: ['μάλα', 'ἐπεὶ', 'ἴδεν', 'νόον', 'κατὰ', 'ἀλλ᾽', 'οὐδ᾽', 'περ·', 'κατὰ', 'βοῦς', 'θεά,', 'εἰπὲ'], 8: ['πλάγχθη,', 'ἀνθρώπων', 'ἑταίρων.', 'ἀφείλετο', 'νόστιμον'], 10: ['πτολίεθρον', 'σφετέρῃσιν'], 1: ['ὅ', 'ὁ'], 9: ['ἀρνύμενος', 'ἐρρύσατο,', 'Ὑπερίονος'], 12: ['ἀτασθαλίῃσιν']}\n"
     ]
    }
   ],
   "source": [
    "d = {}\n",
    "for word in l:\n",
    "    length = len(word)\n",
    "    if not length in d:\n",
    "        d[length] = []\n",
    "        \n",
    "    d[length].append(word)\n",
    "    \n",
    "print (d)"
   ]
  },
  {
   "cell_type": "markdown",
   "metadata": {},
   "source": [
    "Με defaultdict:"
   ]
  },
  {
   "cell_type": "code",
   "execution_count": 84,
   "metadata": {},
   "outputs": [
    {
     "name": "stdout",
     "output_type": "stream",
     "text": [
      "defaultdict(<class 'list'>, {5: ['ἄνδρα', 'πολλὰ', 'ἱερὸν', 'ἄστεα', 'ἔγνω,', 'πολλὰ', 'πόντῳ', 'πάθεν', 'ἄλγεα', 'ψυχὴν', 'αὐτῶν', 'αὐτὰρ', 'ἦμαρ.', 'Διός,', 'ἡμῖν.'], 3: ['μοι', 'καὶ', 'καὶ', 'γὰρ', 'τῶν', 'γε,', 'καὶ'], 7: ['ἔννεπε,', 'ἔπερσε·', 'ἑτάρους', 'ἱέμενός', 'ὄλοντο,', 'νήπιοι,', 'Ἠελίοιο', 'ἤσθιον·', 'θύγατερ'], 6: ['Μοῦσα,', 'Τροίης', 'πολλῶν', 'θυμόν,', 'νόστον', 'τοῖσιν', 'ἁμόθεν'], 11: ['πολύτροπον,'], 2: ['ὃς', 'δ᾽', 'δ᾽', 'γ᾽', 'ἐν', 'ὃν', 'ἥν', 'τε', 'ὣς', 'οἳ'], 4: ['μάλα', 'ἐπεὶ', 'ἴδεν', 'νόον', 'κατὰ', 'ἀλλ᾽', 'οὐδ᾽', 'περ·', 'κατὰ', 'βοῦς', 'θεά,', 'εἰπὲ'], 8: ['πλάγχθη,', 'ἀνθρώπων', 'ἑταίρων.', 'ἀφείλετο', 'νόστιμον'], 10: ['πτολίεθρον', 'σφετέρῃσιν'], 1: ['ὅ', 'ὁ'], 9: ['ἀρνύμενος', 'ἐρρύσατο,', 'Ὑπερίονος'], 12: ['ἀτασθαλίῃσιν']})\n"
     ]
    }
   ],
   "source": [
    "d = defaultdict(list)\n",
    "for word in l:\n",
    "    d[len(word)].append(word)\n",
    "print(d)"
   ]
  },
  {
   "cell_type": "code",
   "execution_count": null,
   "metadata": {},
   "outputs": [],
   "source": []
  }
 ],
 "metadata": {
  "kernelspec": {
   "display_name": "Python 3",
   "language": "python",
   "name": "python3"
  },
  "language_info": {
   "codemirror_mode": {
    "name": "ipython",
    "version": 3
   },
   "file_extension": ".py",
   "mimetype": "text/x-python",
   "name": "python",
   "nbconvert_exporter": "python",
   "pygments_lexer": "ipython3",
   "version": "3.8.5"
  }
 },
 "nbformat": 4,
 "nbformat_minor": 4
}
