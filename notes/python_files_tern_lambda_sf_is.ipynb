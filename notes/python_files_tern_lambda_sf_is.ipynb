{
 "cells": [
  {
   "cell_type": "markdown",
   "metadata": {},
   "source": [
    "### Αρχεία"
   ]
  },
  {
   "cell_type": "markdown",
   "metadata": {},
   "source": [
    "Για αυτή τη διάλεξη θα πρέπει να έχετε κάποιο πολύ απλό επεξεργαστή κειμένου. Προσοχή! όχι word, libre office, κτλ, [διαβάστε για τη διαφορά μεταξύ επεξεργαστή κειμένου](https://www.google.com/search?client=firefox-b-d&q=difference+between+text+editor+and+word+processor). Αν είσαστε σε windows μπορείτε να χρησιμοποιήσετε το notepad, ενώ αν είσαστε σε OSx μπορείτε να χρησιμοποιήσετε το TextEdit. Με αυτά τα προγράμματα μπορείτε να δημιουργήσετε κάποια αρχεία και στη συνέχεια να δοκιμάσετε να τα ανοίξετε από python.    \n",
    "\n",
    "Αντί για αυτό, μπορείτε να χρησιμοποιήσετε και το jupyter το οποίο έχει έναν μηχανισμό για να σώζει απευθείας το περιεχόμενο ενός κελιού σε ένα αρχείο. Για να γίνει αυτό απλά γράφουμε ```%%writefile NAME.TXT``` στην αρχή του κελιού. Όπου `NAME.TXT` είναι το όνομα του αρχείου. Ας το δοκιμάσουμε:"
   ]
  },
  {
   "cell_type": "code",
   "execution_count": 2,
   "metadata": {},
   "outputs": [
    {
     "name": "stdout",
     "output_type": "stream",
     "text": [
      "Writing test.txt\n"
     ]
    }
   ],
   "source": [
    "%%writefile test.txt\n",
    "aaa\n",
    "bbb\n",
    "ccc"
   ]
  },
  {
   "cell_type": "markdown",
   "metadata": {},
   "source": [
    "Εκτελώντας το παραπάνω κελί δημιουργήθηκε το αρχείο ```test.txt```. Για να δούμε τώρα πως μπορούμε να το ανοίξουμε και να το επεξεργαστούμε από τη python. Το αρχείο αυτό μπορώ να το \"διαβάσω\" αποθηκεύοντας όλο το περιεχόμενό του σε μία μεταβλητή με αυτόν τον τρόπο:"
   ]
  },
  {
   "cell_type": "code",
   "execution_count": 56,
   "metadata": {},
   "outputs": [],
   "source": [
    "with open('test.txt') as f:\n",
    "    d = f.read()"
   ]
  },
  {
   "cell_type": "code",
   "execution_count": 57,
   "metadata": {},
   "outputs": [
    {
     "name": "stdout",
     "output_type": "stream",
     "text": [
      "aaa\n",
      "bbb\n",
      "ccc\n",
      "\n"
     ]
    }
   ],
   "source": [
    "print (d)"
   ]
  },
  {
   "cell_type": "markdown",
   "metadata": {},
   "source": [
    "Στο παραπάνω η f είναι μία νέα τύπου μεταβλητή η οποία αναπαριστάει ένα αρχείο. Οι εντολές που μπορούμε να κάνουμε μέσα σε ένα with open.. είναι:\n",
    "\n",
    "* ```f.read()``` : Επιστρέφει ολόκληρο το αρχείο σε ένα string. Προσοχή! Ακατάλληλο για πολύ μεγάλα αρχεία!\n",
    "* ```f.readline()```: Επιστρέφει την επόμενη γραμμή του αρχείου. \n",
    "* ```f.readlines()```: Επιτρέφει μία λίστα με όλες τις γραμμές του αρχείου. (Για την ακρίβεια με όλες τις επόμενες γραμμές του αρχείου. \n"
   ]
  },
  {
   "cell_type": "code",
   "execution_count": 59,
   "metadata": {},
   "outputs": [
    {
     "name": "stdout",
     "output_type": "stream",
     "text": [
      "aaa\n",
      "\n"
     ]
    }
   ],
   "source": [
    "with open('test.txt') as f:\n",
    "    d = f.readline()\n",
    "    \n",
    "print (d) # Η 1η γραμμή του αρχείου"
   ]
  },
  {
   "cell_type": "code",
   "execution_count": 60,
   "metadata": {},
   "outputs": [
    {
     "name": "stdout",
     "output_type": "stream",
     "text": [
      "['aaa\\n', 'bbb\\n', 'ccc\\n']\n"
     ]
    }
   ],
   "source": [
    "with open('test.txt') as f:\n",
    "    d = f.readlines()\n",
    "    \n",
    "print (d) # Μία λίστα με όλες τις γραμμές του αρχείου"
   ]
  },
  {
   "cell_type": "markdown",
   "metadata": {},
   "source": [
    "Παρατηρούμε ότι κάθε γραμμή τελείωνει με new line (\\n). "
   ]
  },
  {
   "cell_type": "markdown",
   "metadata": {},
   "source": [
    "Η μεταβλητή που βάζουμε στη with (στο παράδειγμά μας η f) μπορεί να μπει μέσα σε for. Ή αλλίως είναι  \"iterable\". Σε αυτή τη περίπτωση, κάνουμε for σε όλες τις γραμμές του αρχείου:"
   ]
  },
  {
   "cell_type": "code",
   "execution_count": 61,
   "metadata": {},
   "outputs": [
    {
     "name": "stdout",
     "output_type": "stream",
     "text": [
      "aaa\n",
      "\n",
      "bbb\n",
      "\n",
      "ccc\n",
      "\n"
     ]
    }
   ],
   "source": [
    "with open('test.txt') as f:\n",
    "    for line in f:\n",
    "        print (line)"
   ]
  },
  {
   "cell_type": "markdown",
   "metadata": {},
   "source": [
    "Η print τύπωσε και το new line στο τέλος της κάθε γραμμής. Για να το αφαιρέσουμε συνηθίζεται να κάνουμε:"
   ]
  },
  {
   "cell_type": "code",
   "execution_count": 62,
   "metadata": {},
   "outputs": [
    {
     "name": "stdout",
     "output_type": "stream",
     "text": [
      "aaa\n",
      "bbb\n",
      "ccc\n"
     ]
    }
   ],
   "source": [
    "with open('test.txt') as f:\n",
    "    for line in f:\n",
    "        print (line.strip('\\n'))"
   ]
  },
  {
   "cell_type": "markdown",
   "metadata": {},
   "source": [
    "Ο μηχανισμός ```with``` είναι και ο \"επίσημος\" τρόπος με τον οποίο η python προτείνει να ανοίγετε αρχεία. Υπάρχει όμως και άλλος ένας. Η άμεση χρήση της εντολής ```open```:\n"
   ]
  },
  {
   "cell_type": "code",
   "execution_count": 3,
   "metadata": {},
   "outputs": [],
   "source": [
    "f = open('test.txt')"
   ]
  },
  {
   "cell_type": "markdown",
   "metadata": {},
   "source": [
    "Αφού το ανοίξω μπορώ να διαβάσω όλα τα περιεχόμενά του:"
   ]
  },
  {
   "cell_type": "code",
   "execution_count": 4,
   "metadata": {},
   "outputs": [
    {
     "name": "stdout",
     "output_type": "stream",
     "text": [
      "aaa\n",
      "bbb\n",
      "ccc\n",
      "\n"
     ]
    }
   ],
   "source": [
    "a= f.read()\n",
    "print (a)"
   ]
  },
  {
   "cell_type": "markdown",
   "metadata": {},
   "source": [
    "Αν επιχειρήσω να ξαναδιαβάσω το αρχείο τότε θα μου επιστρέψει ένα άδειο string:"
   ]
  },
  {
   "cell_type": "code",
   "execution_count": 5,
   "metadata": {},
   "outputs": [
    {
     "data": {
      "text/plain": [
       "''"
      ]
     },
     "execution_count": 5,
     "metadata": {},
     "output_type": "execute_result"
    }
   ],
   "source": [
    "f.read()"
   ]
  },
  {
   "cell_type": "markdown",
   "metadata": {},
   "source": [
    "Όταν διαβάζουμε ένα αρχείο με τη python και φτάνουμε στο τέλος, τότε η python δεν συνεχίζει να το διαβάζει από την αρχή. Αντίθετα επιτρέφει ένα άδειο string. \n",
    "\n",
    "Για να ξαναδιαβάσουμε ένα αρχείο πρέπει να το κλείσουμε:"
   ]
  },
  {
   "cell_type": "code",
   "execution_count": 6,
   "metadata": {},
   "outputs": [],
   "source": [
    "f.close()"
   ]
  },
  {
   "cell_type": "markdown",
   "metadata": {},
   "source": [
    "Και να το ξανα-ανοίξουμε:"
   ]
  },
  {
   "cell_type": "code",
   "execution_count": 7,
   "metadata": {},
   "outputs": [
    {
     "name": "stdout",
     "output_type": "stream",
     "text": [
      "aaa\n",
      "bbb\n",
      "ccc\n",
      "\n"
     ]
    }
   ],
   "source": [
    "f = open('test.txt')\n",
    "a= f.read()\n",
    "print (a)"
   ]
  },
  {
   "cell_type": "markdown",
   "metadata": {},
   "source": [
    "Μπορούμε να διαβάσουμε μία μόνο γραμμή από το αρχείο:"
   ]
  },
  {
   "cell_type": "code",
   "execution_count": 8,
   "metadata": {},
   "outputs": [
    {
     "name": "stdout",
     "output_type": "stream",
     "text": [
      "aaa\n",
      "\n"
     ]
    }
   ],
   "source": [
    "f = open('test.txt')\n",
    "line = f.readline()\n",
    "print (line)"
   ]
  },
  {
   "cell_type": "markdown",
   "metadata": {},
   "source": [
    "Παρατηρείστε ότι η ```line``` περιέχει και το enter (```'\\n'```) που υπάρχει στο τέλος της γραμμής:"
   ]
  },
  {
   "cell_type": "code",
   "execution_count": 9,
   "metadata": {},
   "outputs": [
    {
     "data": {
      "text/plain": [
       "'aaa\\n'"
      ]
     },
     "execution_count": 9,
     "metadata": {},
     "output_type": "execute_result"
    }
   ],
   "source": [
    "line"
   ]
  },
  {
   "cell_type": "markdown",
   "metadata": {},
   "source": [
    "Αν καλέσουμε τη ```readline``` ξανά, τότε θα διαβάσει την επόμενη γραμμή:"
   ]
  },
  {
   "cell_type": "code",
   "execution_count": 10,
   "metadata": {},
   "outputs": [
    {
     "data": {
      "text/plain": [
       "'bbb\\n'"
      ]
     },
     "execution_count": 10,
     "metadata": {},
     "output_type": "execute_result"
    }
   ],
   "source": [
    "f.readline()"
   ]
  },
  {
   "cell_type": "code",
   "execution_count": 11,
   "metadata": {},
   "outputs": [
    {
     "data": {
      "text/plain": [
       "'ccc\\n'"
      ]
     },
     "execution_count": 11,
     "metadata": {},
     "output_type": "execute_result"
    }
   ],
   "source": [
    "f.readline()"
   ]
  },
  {
   "cell_type": "markdown",
   "metadata": {},
   "source": [
    "Αν φτάσουμε στο τέλος τότε η ```f.readline()``` επιστρέφει το άδειο string:"
   ]
  },
  {
   "cell_type": "code",
   "execution_count": 12,
   "metadata": {},
   "outputs": [
    {
     "data": {
      "text/plain": [
       "''"
      ]
     },
     "execution_count": 12,
     "metadata": {},
     "output_type": "execute_result"
    }
   ],
   "source": [
    "f.readline()"
   ]
  },
  {
   "cell_type": "markdown",
   "metadata": {},
   "source": [
    "Επίσης μπορούμε να κάνουμε iterate (δηλαδή να εφαρμόσουμε τη ```for```) σε ένα αρχείο που έχουμε ανοίξει:"
   ]
  },
  {
   "cell_type": "code",
   "execution_count": 13,
   "metadata": {},
   "outputs": [
    {
     "name": "stdout",
     "output_type": "stream",
     "text": [
      "aaa\n",
      "\n",
      "bbb\n",
      "\n",
      "ccc\n",
      "\n"
     ]
    }
   ],
   "source": [
    "f = open('test.txt')\n",
    "for line in f:\n",
    "    print (line)"
   ]
  },
  {
   "cell_type": "code",
   "execution_count": 15,
   "metadata": {},
   "outputs": [
    {
     "name": "stdout",
     "output_type": "stream",
     "text": [
      "aaa\n",
      "bbb\n",
      "ccc\n"
     ]
    }
   ],
   "source": [
    "f = open('test.txt')\n",
    "for line in f:\n",
    "    print (line.strip('\\n'))"
   ]
  },
  {
   "cell_type": "markdown",
   "metadata": {},
   "source": [
    "Ένας (ασυνήθιστος) τρόπος να κάνουμε iterate ένα αρχείο είναι να εκμεταλευτούμε το γεγονός ότι η f.readline() επιστρέφει το άδειο string (το οποίο κάνει evaluate ως False):"
   ]
  },
  {
   "cell_type": "code",
   "execution_count": 64,
   "metadata": {},
   "outputs": [
    {
     "name": "stdout",
     "output_type": "stream",
     "text": [
      "aaa\n",
      "bbb\n",
      "ccc\n"
     ]
    }
   ],
   "source": [
    "f = open('test.txt')\n",
    "while True:\n",
    "    line = f.readline()\n",
    "    if not line:\n",
    "        break\n",
    "    print (line.strip('\\n'))\n",
    "f.close()"
   ]
  },
  {
   "cell_type": "markdown",
   "metadata": {},
   "source": [
    "Η χρήση της ```with``` αντί για την open/close έχει όμως σημασία και στην αποτελεσματικότητα του προγράμματός μας. Όπως μας λέει και το [επίσημο documentation](https://docs.python.org/3/tutorial/inputoutput.html#reading-and-writing-files) αν ξεχάσουμε να καλέσουμε τη close() η python ΔΕΝ εγγυάται ότι θα εγγραφούν σωστά τα δεδομένα μας στον δίσκο!"
   ]
  },
  {
   "cell_type": "markdown",
   "metadata": {},
   "source": [
    "### Δημιουργία αρχείων"
   ]
  },
  {
   "cell_type": "markdown",
   "metadata": {},
   "source": [
    "Μπορούμε να δημιουργήσουμε ένα καινούργιο αρχείο:"
   ]
  },
  {
   "cell_type": "code",
   "execution_count": 65,
   "metadata": {},
   "outputs": [],
   "source": [
    "with open('results.txt', 'w') as f:\n",
    "    f.write('Hello World\\n')"
   ]
  },
  {
   "cell_type": "code",
   "execution_count": 66,
   "metadata": {},
   "outputs": [
    {
     "name": "stdout",
     "output_type": "stream",
     "text": [
      "Hello World\r\n"
     ]
    }
   ],
   "source": [
    "!cat results.txt # For OSX/Linux"
   ]
  },
  {
   "cell_type": "code",
   "execution_count": null,
   "metadata": {},
   "outputs": [],
   "source": [
    "!type results.txt # For Windows"
   ]
  },
  {
   "cell_type": "markdown",
   "metadata": {},
   "source": [
    "Προσέξτε το ```'w'```.\n",
    "\n",
    "**Προσοχή!!! Αν το αρχείο ```results.txt``` υπάρχει ήδη τότε το διαγράφει!**\n",
    "\n",
    "Τι είναι όμως αυτό το ```'w'```; Όταν ανοίγουμε ένα αρχείο δηλώνουμε στη python για ποιο λόγο θέλουμε να το ανοίξουμε. Αυτό καλείται mode. [Εδώ](https://docs.python.org/3/library/functions.html#open) υπάρχει μία λίστα με όλα τα modes. Τα βασικά είναι:\n",
    "* 'r' για διάβασμα. Αυτό είναι και το default mode. Όταν δεν βάζουμε τίποτα (π.χ. ```f=open('test.txt')``` τότε είναι το ίδιο σαν βάζουμε το 'r' (δλδ ```f=open('test.txt', 'r')```)\n",
    "* 'w' για γράψιμο\n",
    "* 'a' για \"append\" δηλαδή για να προσθέσουμε σε ένα αρχείο\n",
    "* 'x' για να γράψουμε σε ένα αρχείο αν και μόνο αν αυτό δεν υπάρχει. Για να το αποφύγετε λοιπόν τη διαγραφή ενός αρχείου με το 'w' μπορείτε να χρησιμοποιήτε αυτό το mode='x'."
   ]
  },
  {
   "cell_type": "markdown",
   "metadata": {},
   "source": [
    "Όπως και με το διάβασμα, έτσι και με το γράψιμο θα πρέπει εσείς να φροντίσετε να βάζετε enter (\\n) στο τέλος του αρχείου:"
   ]
  },
  {
   "cell_type": "code",
   "execution_count": 67,
   "metadata": {},
   "outputs": [],
   "source": [
    "# Δημιουργώ και γράφω στο αρχείο:\n",
    "with open('results.txt', 'w') as f:\n",
    "    f.write('hello')\n",
    "    f.write('world')\n",
    "    \n"
   ]
  },
  {
   "cell_type": "code",
   "execution_count": 69,
   "metadata": {},
   "outputs": [
    {
     "name": "stdout",
     "output_type": "stream",
     "text": [
      "helloworld\n"
     ]
    }
   ],
   "source": [
    "# Διαβάζω από το αρχείο που μόλις έφτιαξα:\n",
    "with open('results.txt') as f:\n",
    "    data = f.read()\n",
    "print (data)"
   ]
  },
  {
   "cell_type": "markdown",
   "metadata": {},
   "source": [
    "Παρατηρήστε ότι αν δεν βάλουμε enter τότε τα δεδομένα γράφονται στην ίδια γραμμή!"
   ]
  },
  {
   "cell_type": "code",
   "execution_count": 70,
   "metadata": {},
   "outputs": [],
   "source": [
    "# Δημιουργώ και γράφω στο αρχείο:\n",
    "with open('results.txt', 'w') as f:\n",
    "    f.write('hello' + '\\n')\n",
    "    f.write('world' + '\\n')"
   ]
  },
  {
   "cell_type": "code",
   "execution_count": 73,
   "metadata": {},
   "outputs": [
    {
     "name": "stdout",
     "output_type": "stream",
     "text": [
      "hello\n",
      "world\n",
      "\n"
     ]
    }
   ],
   "source": [
    "# Διαβάζω από το αρχείο που μόλις έφτιαξα:\n",
    "with open('results.txt') as f:\n",
    "    data = f.read()\n",
    "print (data)"
   ]
  },
  {
   "cell_type": "markdown",
   "metadata": {},
   "source": [
    "Επίσης το όρισμα που βάζετε στη f.write πρέπει να είναι πάντα string:"
   ]
  },
  {
   "cell_type": "code",
   "execution_count": 74,
   "metadata": {},
   "outputs": [
    {
     "ename": "TypeError",
     "evalue": "write() argument must be str, not int",
     "output_type": "error",
     "traceback": [
      "\u001b[0;31m---------------------------------------------------------------------------\u001b[0m",
      "\u001b[0;31mTypeError\u001b[0m                                 Traceback (most recent call last)",
      "\u001b[0;32m<ipython-input-74-a433d4705467>\u001b[0m in \u001b[0;36m<module>\u001b[0;34m\u001b[0m\n\u001b[1;32m      1\u001b[0m \u001b[0;32mwith\u001b[0m \u001b[0mopen\u001b[0m\u001b[0;34m(\u001b[0m\u001b[0;34m'results.txt'\u001b[0m\u001b[0;34m,\u001b[0m \u001b[0;34m'w'\u001b[0m\u001b[0;34m)\u001b[0m \u001b[0;32mas\u001b[0m \u001b[0mf\u001b[0m\u001b[0;34m:\u001b[0m\u001b[0;34m\u001b[0m\u001b[0;34m\u001b[0m\u001b[0m\n\u001b[0;32m----> 2\u001b[0;31m     \u001b[0mf\u001b[0m\u001b[0;34m.\u001b[0m\u001b[0mwrite\u001b[0m\u001b[0;34m(\u001b[0m\u001b[0;36m10\u001b[0m\u001b[0;34m)\u001b[0m\u001b[0;34m\u001b[0m\u001b[0;34m\u001b[0m\u001b[0m\n\u001b[0m",
      "\u001b[0;31mTypeError\u001b[0m: write() argument must be str, not int"
     ]
    }
   ],
   "source": [
    "with open('results.txt', 'w') as f:\n",
    "    f.write(10)\n"
   ]
  },
  {
   "cell_type": "markdown",
   "metadata": {},
   "source": [
    "Πολλές φορές θέλω να γράψω σε δύο ξεχωριστά αρχεία το περιεχόμενο κάποιας επεξεργασίας. Για παράδειγμα έστω η λίστα: ```a=[1,2,3,4,5]```.  Βάλε στο αρχείο results_1.txt το γινόμενο επί δύο κάθε στοιχείου και στο αρχείο results_2.txt το μισό κάθε στοιχείου. Ένας τρόπος είναι απλά να ανοίξουμε δύο αρχεία το ένα μετά το άλλο:"
   ]
  },
  {
   "cell_type": "code",
   "execution_count": 76,
   "metadata": {},
   "outputs": [],
   "source": [
    "a=[1,2,3,4,5]\n",
    "with open('results_1.txt', 'w') as f:\n",
    "    for i in a:\n",
    "        f.write(str(i*2)+'\\n')\n",
    "        \n",
    "with open('results_2.txt', 'w') as f:\n",
    "    for i in a:\n",
    "        f.write(str(i/2) + '\\n')\n",
    "        "
   ]
  },
  {
   "cell_type": "markdown",
   "metadata": {},
   "source": [
    "Ένας πιο όμορφος τρόπος όμως είναι:"
   ]
  },
  {
   "cell_type": "code",
   "execution_count": 77,
   "metadata": {},
   "outputs": [],
   "source": [
    "a=[1,2,3,4,5]\n",
    "with open('results_1.txt', 'w') as f1, open('results_2.txt', 'w') as f2:\n",
    "    for i in a:\n",
    "        f1.write(str(i*2)+'\\n')\n",
    "        f2.write(str(i/2) + '\\n')"
   ]
  },
  {
   "cell_type": "markdown",
   "metadata": {},
   "source": [
    "Οι μηχανισμοί που έχουμε μάθει μέχρι στιγμής για τον χειρισμό των strings μπορούν να συνδυαστούν άψογα με το διάβασμα και το γράψιμο αρχείων. Ας δούμε μερικά παραδείγματα:"
   ]
  },
  {
   "cell_type": "markdown",
   "metadata": {},
   "source": [
    "### Παράδειγμα 1\n",
    "Σε [αυτό το link](https://www.omim.org/downloads) υπάρχει ένας σύνδεσμος για το αρχείο mim2gene.txt το οποίο είναι \"a tab-delimited file linking MIM numbers with NCBI Gene IDs, Ensembl Gene IDs, and HGNC Approved Gene Symbols. \". Τα περισσότερα αρχεία στη βιολογία έχουν αυτό περίπου το format το οποίο αξίζει να το εξερευνήσουμε! Αφού κατεβάσετε το αρχείο μπορούμε για αρχή να τυπώσουμε τις πρώτες 10 γραμμές του:\n"
   ]
  },
  {
   "cell_type": "code",
   "execution_count": 78,
   "metadata": {},
   "outputs": [
    {
     "name": "stdout",
     "output_type": "stream",
     "text": [
      "# Copyright (c) 1966-2021 Johns Hopkins University. Use of this file adheres to the terms specified at https://omim.org/help/agreement.\n",
      "# Generated: 2021-03-17\n",
      "# This file provides links between the genes in OMIM and other gene identifiers.\n",
      "# THIS IS NOT A TABLE OF GENE-PHENOTYPE RELATIONSHIPS.\n",
      "# MIM Number\tMIM Entry Type (see FAQ 1.3 at https://omim.org/help/faq)\tEntrez Gene ID (NCBI)\tApproved Gene Symbol (HGNC)\tEnsembl Gene ID (Ensembl)\n",
      "100050\tpredominantly phenotypes\t\t\t\n",
      "100070\tphenotype\t100329167\t\t\n",
      "100100\tphenotype\t\t\t\n",
      "100200\tpredominantly phenotypes\t\t\t\n",
      "100300\tphenotype\t\t\t\n",
      "100500\tmoved/removed\t\t\t\n"
     ]
    }
   ],
   "source": [
    "with open('mim2gene.txt') as f:\n",
    "    for i, line in enumerate(f):\n",
    "        print (line.strip('\\n'))\n",
    "        if i >= 10:\n",
    "            break"
   ]
  },
  {
   "cell_type": "markdown",
   "metadata": {},
   "source": [
    "Παρατηρούμε ότι κάποιες γραμμές ξεκινάνε με \"#\" είναι συνιθισμένο με αυτόν τον τρόπο να δηλώνουμε ότι αυτή η γραμμή περιέχει κάποιο σχολιασμό και όχι κάποια δεδομένα. Παρόλα αυτά η 5η γραμμή περιέχει τα ονόματα κάθε στήλης. Ας τα εξάγουμε όλα αυτά!"
   ]
  },
  {
   "cell_type": "code",
   "execution_count": 80,
   "metadata": {},
   "outputs": [
    {
     "data": {
      "text/plain": [
       "'# MIM Number\\tMIM Entry Type (see FAQ 1.3 at https://omim.org/help/faq)\\tEntrez Gene ID (NCBI)\\tApproved Gene Symbol (HGNC)\\tEnsembl Gene ID (Ensembl)\\n'"
      ]
     },
     "execution_count": 80,
     "metadata": {},
     "output_type": "execute_result"
    }
   ],
   "source": [
    "with open('mim2gene.txt') as f:\n",
    "    for i, line in enumerate(f):\n",
    "        \n",
    "        if i<4:\n",
    "            continue\n",
    "            \n",
    "        # this is the header!\n",
    "        header = line\n",
    "        break\n",
    "\n",
    "header"
   ]
  },
  {
   "cell_type": "markdown",
   "metadata": {},
   "source": [
    "Τι είναι αυτά τα \\t τα οποία υπάρχουν στο string; Αυτα είναι tabs. Όπως το \\n είναι ένας ειδικός χαρακτήρας για να δηλώσει μία νέα γραμμή, έτσι το \\t δηλώνει ένα tab. Είναι πολύ συνιθισμένο να χρησιμοποιούμε αυτόν τον χαρακτήρα για να διαχωρίζουμε τις στήλες μεταξύ τους σε αρχεία που περιέχουν πολλές στήλες. "
   ]
  },
  {
   "cell_type": "markdown",
   "metadata": {},
   "source": [
    "Για αρχή μπορούμε να \"πετάξουμε\" το \"#\" στην αρχή της επικεφαλίδας:"
   ]
  },
  {
   "cell_type": "code",
   "execution_count": 81,
   "metadata": {},
   "outputs": [
    {
     "data": {
      "text/plain": [
       "' MIM Number\\tMIM Entry Type (see FAQ 1.3 at https://omim.org/help/faq)\\tEntrez Gene ID (NCBI)\\tApproved Gene Symbol (HGNC)\\tEnsembl Gene ID (Ensembl)\\n'"
      ]
     },
     "execution_count": 81,
     "metadata": {},
     "output_type": "execute_result"
    }
   ],
   "source": [
    "header = header[1:]\n",
    "header"
   ]
  },
  {
   "cell_type": "markdown",
   "metadata": {},
   "source": [
    "Τώρα μπορούμε να κάνουμε split με βάση το tab:"
   ]
  },
  {
   "cell_type": "code",
   "execution_count": 82,
   "metadata": {},
   "outputs": [
    {
     "data": {
      "text/plain": [
       "[' MIM Number',\n",
       " 'MIM Entry Type (see FAQ 1.3 at https://omim.org/help/faq)',\n",
       " 'Entrez Gene ID (NCBI)',\n",
       " 'Approved Gene Symbol (HGNC)',\n",
       " 'Ensembl Gene ID (Ensembl)\\n']"
      ]
     },
     "execution_count": 82,
     "metadata": {},
     "output_type": "execute_result"
    }
   ],
   "source": [
    "header = header.split('\\t')\n",
    "header"
   ]
  },
  {
   "cell_type": "markdown",
   "metadata": {},
   "source": [
    "Χμμ φαίνεται ότι πρώτο και το τελευταίο στοιχείο έχουν έξτρα χαρακτήρες στην αρχή και στο τέλος. Ας τους αφαιρέσσουμε."
   ]
  },
  {
   "cell_type": "code",
   "execution_count": 83,
   "metadata": {},
   "outputs": [
    {
     "data": {
      "text/plain": [
       "['MIM Number',\n",
       " 'MIM Entry Type (see FAQ 1.3 at https://omim.org/help/faq)',\n",
       " 'Entrez Gene ID (NCBI)',\n",
       " 'Approved Gene Symbol (HGNC)',\n",
       " 'Ensembl Gene ID (Ensembl)']"
      ]
     },
     "execution_count": 83,
     "metadata": {},
     "output_type": "execute_result"
    }
   ],
   "source": [
    "header = [x.strip() for x in header]\n",
    "header"
   ]
  },
  {
   "cell_type": "markdown",
   "metadata": {},
   "source": [
    "Τέλεια, τώρα έχουμε μία λίστα με την επικεφαλίδα του αρχείου. Ας δούμε και τις υπόλοιπες τιμές:"
   ]
  },
  {
   "cell_type": "code",
   "execution_count": 87,
   "metadata": {},
   "outputs": [],
   "source": [
    "header = None\n",
    "data = []\n",
    "\n",
    "with open('mim2gene.txt') as f:\n",
    "    for i, line in enumerate(f):\n",
    "        \n",
    "        if i<4: # περιττά σχόλια\n",
    "            continue\n",
    "        \n",
    "        if not header:\n",
    "            # this is the header!\n",
    "            header = line\n",
    "\n",
    "            # Εξηγήσαμε τι κάνουν αυτά\n",
    "            header = header[1:]\n",
    "            header = header.split('\\t')\n",
    "            header = [x.strip() for x in header]\n",
    "            continue\n",
    "            \n",
    "        # Here are the rest of the data\n",
    "        data.append(line.strip('\\n').split('\\t'))\n",
    "        \n",
    "        "
   ]
  },
  {
   "cell_type": "markdown",
   "metadata": {},
   "source": [
    "Ωραία ας δω πως είναι τα 10 πρώτα στοιχεία του αρχείου:"
   ]
  },
  {
   "cell_type": "code",
   "execution_count": 88,
   "metadata": {},
   "outputs": [
    {
     "data": {
      "text/plain": [
       "[['100050', 'predominantly phenotypes', '', '', ''],\n",
       " ['100070', 'phenotype', '100329167', '', ''],\n",
       " ['100100', 'phenotype', '', '', ''],\n",
       " ['100200', 'predominantly phenotypes', '', '', ''],\n",
       " ['100300', 'phenotype', '', '', ''],\n",
       " ['100500', 'moved/removed', '', '', ''],\n",
       " ['100600', 'phenotype', '', '', ''],\n",
       " ['100640', 'gene', '216', 'ALDH1A1', 'ENSG00000165092'],\n",
       " ['100650', 'gene/phenotype', '217', 'ALDH2', 'ENSG00000111275'],\n",
       " ['100660', 'gene', '218', 'ALDH3A1', 'ENSG00000108602']]"
      ]
     },
     "execution_count": 88,
     "metadata": {},
     "output_type": "execute_result"
    }
   ],
   "source": [
    "data[:10]"
   ]
  },
  {
   "cell_type": "markdown",
   "metadata": {},
   "source": [
    "Ας πάρω μόνο αυτά που το 5ο στοιχείο δεν είναι άδειο:"
   ]
  },
  {
   "cell_type": "code",
   "execution_count": 89,
   "metadata": {},
   "outputs": [],
   "source": [
    "data = [x for x in data if x[4]]"
   ]
  },
  {
   "cell_type": "markdown",
   "metadata": {},
   "source": [
    "Μπορούμε κάθε στοιχείο της λίστα να το κάνουμε dictionary χρησιμοποιώντας το header σαν κλειδιά!"
   ]
  },
  {
   "cell_type": "code",
   "execution_count": 91,
   "metadata": {},
   "outputs": [],
   "source": [
    "data = [dict(zip(header,x)) for x in data]"
   ]
  },
  {
   "cell_type": "code",
   "execution_count": 92,
   "metadata": {},
   "outputs": [
    {
     "data": {
      "text/plain": [
       "{'MIM Number': '104615',\n",
       " 'MIM Entry Type (see FAQ 1.3 at https://omim.org/help/faq)': 'gene',\n",
       " 'Entrez Gene ID (NCBI)': '6541',\n",
       " 'Approved Gene Symbol (HGNC)': 'SLC7A1',\n",
       " 'Ensembl Gene ID (Ensembl)': 'ENSG00000139514'}"
      ]
     },
     "execution_count": 92,
     "metadata": {},
     "output_type": "execute_result"
    }
   ],
   "source": [
    "data[100]"
   ]
  },
  {
   "cell_type": "markdown",
   "metadata": {},
   "source": [
    "Τέλος ας αποθηκεύσουμε σε ένα αρχείο τις στήλες Ensembl Gene ID (Ensembl) και MIM Number:\n",
    "    "
   ]
  },
  {
   "cell_type": "code",
   "execution_count": 93,
   "metadata": {},
   "outputs": [],
   "source": [
    "with open('results.txt', 'w') as f:\n",
    "    # Save header:\n",
    "    f.write('MIM Number\\tEnsembl Gene ID (Ensembl)' + '\\n')\n",
    "    \n",
    "    # Save data\n",
    "    for x in data:\n",
    "        s = '\\t'.join([x['MIM Number'], x['Ensembl Gene ID (Ensembl)']])\n",
    "        f.write(s + '\\n')"
   ]
  },
  {
   "cell_type": "code",
   "execution_count": 95,
   "metadata": {},
   "outputs": [
    {
     "name": "stdout",
     "output_type": "stream",
     "text": [
      "MIM Number\tEnsembl Gene ID (Ensembl)\r\n",
      "100640\tENSG00000165092\r\n",
      "100650\tENSG00000111275\r\n",
      "100660\tENSG00000108602\r\n",
      "100670\tENSG00000137124\r\n",
      "100678\tENSG00000120437\r\n",
      "100690\tENSG00000138435\r\n",
      "100710\tENSG00000170175\r\n",
      "100720\tENSG00000135902\r\n",
      "100725\tENSG00000108556\r\n"
     ]
    }
   ],
   "source": [
    "!head results.txt # τυπώνει τις πρώτες 10 γραμμές σε περβάλλον OSX/Linux"
   ]
  },
  {
   "cell_type": "code",
   "execution_count": 55,
   "metadata": {},
   "outputs": [
    {
     "ename": "FileExistsError",
     "evalue": "[Errno 17] File exists: 'results.txt'",
     "output_type": "error",
     "traceback": [
      "\u001b[0;31m---------------------------------------------------------------------------\u001b[0m",
      "\u001b[0;31mFileExistsError\u001b[0m                           Traceback (most recent call last)",
      "\u001b[0;32m<ipython-input-55-0b070d8efefb>\u001b[0m in \u001b[0;36m<module>\u001b[0;34m\u001b[0m\n\u001b[0;32m----> 1\u001b[0;31m \u001b[0mf\u001b[0m\u001b[0;34m=\u001b[0m\u001b[0mopen\u001b[0m\u001b[0;34m(\u001b[0m\u001b[0;34m'results.txt'\u001b[0m\u001b[0;34m,\u001b[0m \u001b[0;34m'x'\u001b[0m\u001b[0;34m)\u001b[0m\u001b[0;34m\u001b[0m\u001b[0;34m\u001b[0m\u001b[0m\n\u001b[0m",
      "\u001b[0;31mFileExistsError\u001b[0m: [Errno 17] File exists: 'results.txt'"
     ]
    }
   ],
   "source": [
    "f=open('results.txt', 'x')"
   ]
  },
  {
   "cell_type": "markdown",
   "metadata": {},
   "source": [
    "### Παράδειγμα 2"
   ]
  },
  {
   "cell_type": "markdown",
   "metadata": {},
   "source": [
    "Σε [αυτό το link](https://pastebin.com/dl/Wq2PpbZy) υπάρχει ένα αρχείο με το πολύ γνωστό [IRIS dataset](https://en.wikipedia.org/wiki/Iris_flower_data_set). Κατεβάστε το και σώστε το στο ίδιο directory με τη python. **ΠΡΟΣΟΧΗ!** Αυτό το αρχείο δεν πρέπει να είναι το ίδιο με το αυθεντικό γιατί περιέχει μόνο 149 δεδομένα (αντί για 150) που έχει το αυθεντικό. Για τους σκοπούς του παραδείγματος αυτού όμως αυτό δεν μας επηρεάζει.\n",
    "\n",
    "Το όνομα του αρχείο είναι: ```Wq2PpbZy.txt```.\n",
    "\n",
    "Ας παίξουμε μαζί του!\n",
    "\n",
    "Αρχικά το ανοίγουμε:"
   ]
  },
  {
   "cell_type": "code",
   "execution_count": 21,
   "metadata": {},
   "outputs": [
    {
     "name": "stdout",
     "output_type": "stream",
     "text": [
      "Sepal length \tSepal width \tPetal length \tPetal width \tSpecies\n",
      "5.2 \t3.5 \t1.4 \t0.2 \tI. setosa\n",
      "4.9 \t3.0 \t1.4 \t0.2 \tI. setosa\n",
      "4.7 \t3.2 \t1.3 \t0.2 \tI. setosa\n",
      "4.6 \t3.1 \t1.5 \t0.2 \tI. setosa\n",
      "5.0 \t3.6 \t1.4 \t0.3 \tI. setosa\n",
      "5.4 \t3.9 \t1.7 \t0.4 \tI. setosa\n",
      "4.6 \t3.4 \t1.4 \t0.3 \tI. setosa\n",
      "5.0 \t3.4 \t1.5 \t0.2 \tI. setos\n"
     ]
    }
   ],
   "source": [
    "with open('Wq2PpbZy.txt') as f:\n",
    "    data = f.read()\n",
    "print(data[:300]) #  τυπώνω μόνο τους 300 πρώτους χαρακτήρες για λόγους μεγέθους"
   ]
  },
  {
   "cell_type": "markdown",
   "metadata": {},
   "source": [
    "Μπορούμε να πάρουμε μία λίστα με όλες τις γραμμές:"
   ]
  },
  {
   "cell_type": "code",
   "execution_count": 22,
   "metadata": {},
   "outputs": [
    {
     "data": {
      "text/plain": [
       "['Sepal length \\tSepal width \\tPetal length \\tPetal width \\tSpecies',\n",
       " '5.2 \\t3.5 \\t1.4 \\t0.2 \\tI. setosa',\n",
       " '4.9 \\t3.0 \\t1.4 \\t0.2 \\tI. setosa',\n",
       " '4.7 \\t3.2 \\t1.3 \\t0.2 \\tI. setosa',\n",
       " '4.6 \\t3.1 \\t1.5 \\t0.2 \\tI. setosa']"
      ]
     },
     "execution_count": 22,
     "metadata": {},
     "output_type": "execute_result"
    }
   ],
   "source": [
    "data = data.split('\\n')\n",
    "data[:5]"
   ]
  },
  {
   "cell_type": "markdown",
   "metadata": {},
   "source": [
    "Φαίνεται ότι το αρχείο διαχωρίζει τις κολόνες με tabs. Ας το κάνουμε split με βάση τα tabs:"
   ]
  },
  {
   "cell_type": "code",
   "execution_count": 23,
   "metadata": {},
   "outputs": [
    {
     "data": {
      "text/plain": [
       "[['Sepal length ', 'Sepal width ', 'Petal length ', 'Petal width ', 'Species'],\n",
       " ['5.2 ', '3.5 ', '1.4 ', '0.2 ', 'I. setosa'],\n",
       " ['4.9 ', '3.0 ', '1.4 ', '0.2 ', 'I. setosa'],\n",
       " ['4.7 ', '3.2 ', '1.3 ', '0.2 ', 'I. setosa'],\n",
       " ['4.6 ', '3.1 ', '1.5 ', '0.2 ', 'I. setosa']]"
      ]
     },
     "execution_count": 23,
     "metadata": {},
     "output_type": "execute_result"
    }
   ],
   "source": [
    "data = [x.split('\\t') for x in data]\n",
    "data[:5]"
   ]
  },
  {
   "cell_type": "markdown",
   "metadata": {},
   "source": [
    "Παρατηρούμε ότι υπάρχουν spaces (κενά) στο τέλος κάποιων strings. Ας τα \"περάσουμε\" όλα από ένα ```strip```:"
   ]
  },
  {
   "cell_type": "code",
   "execution_count": 24,
   "metadata": {},
   "outputs": [
    {
     "data": {
      "text/plain": [
       "[['Sepal length', 'Sepal width', 'Petal length', 'Petal width', 'Species'],\n",
       " ['5.2', '3.5', '1.4', '0.2', 'I. setosa'],\n",
       " ['4.9', '3.0', '1.4', '0.2', 'I. setosa'],\n",
       " ['4.7', '3.2', '1.3', '0.2', 'I. setosa'],\n",
       " ['4.6', '3.1', '1.5', '0.2', 'I. setosa']]"
      ]
     },
     "execution_count": 24,
     "metadata": {},
     "output_type": "execute_result"
    }
   ],
   "source": [
    "data = [[y.strip() for y in x] for x in data]\n",
    "data[:5]"
   ]
  },
  {
   "cell_type": "markdown",
   "metadata": {},
   "source": [
    "Φαίνεται ότι το πρώτο στοιχείο της λίστας είναι το header. Ας το πάρουμε:"
   ]
  },
  {
   "cell_type": "code",
   "execution_count": 25,
   "metadata": {},
   "outputs": [
    {
     "data": {
      "text/plain": [
       "['Sepal length', 'Sepal width', 'Petal length', 'Petal width', 'Species']"
      ]
     },
     "execution_count": 25,
     "metadata": {},
     "output_type": "execute_result"
    }
   ],
   "source": [
    "header = data[0]\n",
    "header"
   ]
  },
  {
   "cell_type": "markdown",
   "metadata": {},
   "source": [
    "Επίσης φαίνεται ότι όλα τα υπόλοιπα στοιχεία (εκτός το πρώτο) είναι τα δεδομένα. Ας πάρουμε μόνο αυτά:"
   ]
  },
  {
   "cell_type": "code",
   "execution_count": 26,
   "metadata": {},
   "outputs": [
    {
     "data": {
      "text/plain": [
       "[['5.2', '3.5', '1.4', '0.2', 'I. setosa'],\n",
       " ['4.9', '3.0', '1.4', '0.2', 'I. setosa'],\n",
       " ['4.7', '3.2', '1.3', '0.2', 'I. setosa'],\n",
       " ['4.6', '3.1', '1.5', '0.2', 'I. setosa'],\n",
       " ['5.0', '3.6', '1.4', '0.3', 'I. setosa']]"
      ]
     },
     "execution_count": 26,
     "metadata": {},
     "output_type": "execute_result"
    }
   ],
   "source": [
    "data = data[1:]\n",
    "data[:5]"
   ]
  },
  {
   "cell_type": "markdown",
   "metadata": {},
   "source": [
    "Παρατηρώ ότι οι τιμές στις 4 πρώτες στήλες είναι σε string. Τις μετατρέπουμε σε float:"
   ]
  },
  {
   "cell_type": "code",
   "execution_count": 27,
   "metadata": {},
   "outputs": [
    {
     "data": {
      "text/plain": [
       "[[5.2, 3.5, 1.4, 0.2, 'I. setosa'],\n",
       " [4.9, 3.0, 1.4, 0.2, 'I. setosa'],\n",
       " [4.7, 3.2, 1.3, 0.2, 'I. setosa'],\n",
       " [4.6, 3.1, 1.5, 0.2, 'I. setosa'],\n",
       " [5.0, 3.6, 1.4, 0.3, 'I. setosa']]"
      ]
     },
     "execution_count": 27,
     "metadata": {},
     "output_type": "execute_result"
    }
   ],
   "source": [
    "data = [list(map(float, x[:4])) + [x[-1]]  for x in data]\n",
    "data[:5]"
   ]
  },
  {
   "cell_type": "markdown",
   "metadata": {},
   "source": [
    "Τώρα μπορώ να κάνω μια μικρή \"περιήγηση\" σε αυτό. Για παράδειγμα, Ποια συνολικά species υπάρχουν;"
   ]
  },
  {
   "cell_type": "code",
   "execution_count": 28,
   "metadata": {},
   "outputs": [
    {
     "data": {
      "text/plain": [
       "{'I. setosa', 'I. versicolor', 'I. virginica'}"
      ]
     },
     "execution_count": 28,
     "metadata": {},
     "output_type": "execute_result"
    }
   ],
   "source": [
    "species = set([x[-1] for x in data])\n",
    "species"
   ]
  },
  {
   "cell_type": "markdown",
   "metadata": {},
   "source": [
    "Πόσα data έχουμε για κάθε species;"
   ]
  },
  {
   "cell_type": "code",
   "execution_count": 29,
   "metadata": {},
   "outputs": [
    {
     "data": {
      "text/plain": [
       "[('I. versicolor', 50), ('I. virginica', 49), ('I. setosa', 50)]"
      ]
     },
     "execution_count": 29,
     "metadata": {},
     "output_type": "execute_result"
    }
   ],
   "source": [
    "b = [(x, sum([y[-1]==x for y in data])) for x in species]\n",
    "b"
   ]
  },
  {
   "cell_type": "markdown",
   "metadata": {},
   "source": [
    "Αυτό μπορούμε να το μετατρέψουμε και σε dictionary"
   ]
  },
  {
   "cell_type": "code",
   "execution_count": 31,
   "metadata": {},
   "outputs": [
    {
     "data": {
      "text/plain": [
       "{'I. versicolor': 50, 'I. virginica': 49, 'I. setosa': 50}"
      ]
     },
     "execution_count": 31,
     "metadata": {},
     "output_type": "execute_result"
    }
   ],
   "source": [
    "dict(b)"
   ]
  },
  {
   "cell_type": "markdown",
   "metadata": {},
   "source": [
    "Ποιος είναι ο μέσος όρος του \"Sepal Length\" για όλα τα data;"
   ]
  },
  {
   "cell_type": "code",
   "execution_count": 33,
   "metadata": {},
   "outputs": [
    {
     "data": {
      "text/plain": [
       "5.831543624161076"
      ]
     },
     "execution_count": 33,
     "metadata": {},
     "output_type": "execute_result"
    }
   ],
   "source": [
    "def average(x):\n",
    "    return sum(x)/len(x)\n",
    "\n",
    "average([x[header.index('Sepal length')] for x in data])"
   ]
  },
  {
   "cell_type": "markdown",
   "metadata": {},
   "source": [
    "Ποιος είναι ο μέσος όρος του \"Sepal length\" για κάθε species ξεχωριστά;"
   ]
  },
  {
   "cell_type": "code",
   "execution_count": 34,
   "metadata": {},
   "outputs": [
    {
     "data": {
      "text/plain": [
       "[('I. versicolor', 5.936),\n",
       " ('I. virginica', 6.565306122448979),\n",
       " ('I. setosa', 5.007999999999999)]"
      ]
     },
     "execution_count": 34,
     "metadata": {},
     "output_type": "execute_result"
    }
   ],
   "source": [
    "[(x, average([y[0] for y in data if y[-1] == x])) for x in species]"
   ]
  },
  {
   "cell_type": "markdown",
   "metadata": {},
   "source": [
    "Πόσα \"Ι. setosa\" έχουν Petal length > 1.5 ;"
   ]
  },
  {
   "cell_type": "code",
   "execution_count": 35,
   "metadata": {},
   "outputs": [
    {
     "data": {
      "text/plain": [
       "13"
      ]
     },
     "execution_count": 35,
     "metadata": {},
     "output_type": "execute_result"
    }
   ],
   "source": [
    "sum([x[2] > 1.5 and x[-1] == 'I. setosa' for x in data])"
   ]
  },
  {
   "cell_type": "markdown",
   "metadata": {},
   "source": [
    "Ποια είναι αυτά;"
   ]
  },
  {
   "cell_type": "code",
   "execution_count": 36,
   "metadata": {},
   "outputs": [
    {
     "data": {
      "text/plain": [
       "[[5.4, 3.9, 1.7, 0.4, 'I. setosa'],\n",
       " [4.8, 3.4, 1.6, 0.2, 'I. setosa'],\n",
       " [5.7, 3.8, 1.7, 0.3, 'I. setosa'],\n",
       " [5.4, 3.4, 1.7, 0.2, 'I. setosa'],\n",
       " [5.1, 3.3, 1.7, 0.5, 'I. setosa'],\n",
       " [4.8, 3.4, 1.9, 0.2, 'I. setosa'],\n",
       " [5.0, 3.0, 1.6, 0.2, 'I. setosa'],\n",
       " [5.0, 3.4, 1.6, 0.4, 'I. setosa'],\n",
       " [4.7, 3.2, 1.6, 0.2, 'I. setosa'],\n",
       " [4.8, 3.1, 1.6, 0.2, 'I. setosa'],\n",
       " [5.0, 3.5, 1.6, 0.6, 'I. setosa'],\n",
       " [5.1, 3.8, 1.9, 0.4, 'I. setosa'],\n",
       " [5.1, 3.8, 1.6, 0.2, 'I. setosa']]"
      ]
     },
     "execution_count": 36,
     "metadata": {},
     "output_type": "execute_result"
    }
   ],
   "source": [
    "[x for x in data if x[2] > 1.5 and x[-1] == 'I. setosa']"
   ]
  },
  {
   "cell_type": "markdown",
   "metadata": {},
   "source": [
    "Ποια είναι τα indexes των παραπάνω (Ι. setosa που έχουν Petal length > 1.5)"
   ]
  },
  {
   "cell_type": "code",
   "execution_count": 37,
   "metadata": {},
   "outputs": [
    {
     "data": {
      "text/plain": [
       "[5, 11, 18, 20, 23, 24, 25, 26, 29, 30, 43, 44, 46]"
      ]
     },
     "execution_count": 37,
     "metadata": {},
     "output_type": "execute_result"
    }
   ],
   "source": [
    "[i for i,x in enumerate(data) if x[2]>1.5 and x[-1] == 'I. setosa']"
   ]
  },
  {
   "cell_type": "markdown",
   "metadata": {},
   "source": [
    "Ποιο είναι το minimum Sepal length για όλα;"
   ]
  },
  {
   "cell_type": "code",
   "execution_count": 38,
   "metadata": {},
   "outputs": [
    {
     "data": {
      "text/plain": [
       "[4.3, 3.0, 1.1, 0.1, 'I. setosa']"
      ]
     },
     "execution_count": 38,
     "metadata": {},
     "output_type": "execute_result"
    }
   ],
   "source": [
    "min(data, key=lambda x:x[header.index('Sepal length')]) # θα δούμε τη lambda αργότερα"
   ]
  },
  {
   "cell_type": "markdown",
   "metadata": {},
   "source": [
    "Που είναι το mimimum Sepal Length για όλα τα είδη;"
   ]
  },
  {
   "cell_type": "code",
   "execution_count": 39,
   "metadata": {},
   "outputs": [
    {
     "data": {
      "text/plain": [
       "[(4.9, [4.9, 2.4, 3.3, 1.0, 'I. versicolor']),\n",
       " (4.9, [4.9, 2.5, 4.5, 1.7, 'I. virginica']),\n",
       " (4.3, [4.3, 3.0, 1.1, 0.1, 'I. setosa'])]"
      ]
     },
     "execution_count": 39,
     "metadata": {},
     "output_type": "execute_result"
    }
   ],
   "source": [
    "[min([(y[0], y) for y in data if y[-1] == x]) for x in species]"
   ]
  },
  {
   "cell_type": "markdown",
   "metadata": {},
   "source": [
    "Ποιο είναι το index των παραπάνω;"
   ]
  },
  {
   "cell_type": "code",
   "execution_count": 40,
   "metadata": {},
   "outputs": [
    {
     "data": {
      "text/plain": [
       "[(4.9, [4.9, 2.4, 3.3, 1.0, 'I. versicolor'], 57),\n",
       " (4.9, [4.9, 2.5, 4.5, 1.7, 'I. virginica'], 106),\n",
       " (4.3, [4.3, 3.0, 1.1, 0.1, 'I. setosa'], 13)]"
      ]
     },
     "execution_count": 40,
     "metadata": {},
     "output_type": "execute_result"
    }
   ],
   "source": [
    "[min([(y[0], y, i) for i,y in enumerate(data) if y[-1] == x]) for x in species]"
   ]
  },
  {
   "cell_type": "markdown",
   "metadata": {},
   "source": [
    "Ποιο είναι το εύρος (δηλαδή το μικρότερο και το μεγαλύτερο) του \"Sepal Length\" για κάθε είδος ξεχωριστά;"
   ]
  },
  {
   "cell_type": "code",
   "execution_count": 41,
   "metadata": {},
   "outputs": [
    {
     "data": {
      "text/plain": [
       "(3, 9)"
      ]
     },
     "execution_count": 41,
     "metadata": {},
     "output_type": "execute_result"
    }
   ],
   "source": [
    "# Επιστρέφει το εύρος μίας λίστας\n",
    "def my_range(l):\n",
    "    return min(l), max(l)\n",
    "\n",
    "my_range([4,5,6,3,4,7,8,9])"
   ]
  },
  {
   "cell_type": "code",
   "execution_count": 42,
   "metadata": {},
   "outputs": [
    {
     "data": {
      "text/plain": [
       "[((4.9, 7.0), 'I. versicolor'),\n",
       " ((4.9, 7.9), 'I. virginica'),\n",
       " ((4.3, 5.8), 'I. setosa')]"
      ]
     },
     "execution_count": 42,
     "metadata": {},
     "output_type": "execute_result"
    }
   ],
   "source": [
    "[ (my_range([y[0] for y in data if y[-1] ==x]), x) for x in species]"
   ]
  },
  {
   "cell_type": "markdown",
   "metadata": {},
   "source": [
    "Ας βάλουμε και τα indexes των μικρότερων και μεγαλύτερων:"
   ]
  },
  {
   "cell_type": "code",
   "execution_count": 43,
   "metadata": {},
   "outputs": [
    {
     "data": {
      "text/plain": [
       "3"
      ]
     },
     "execution_count": 43,
     "metadata": {},
     "output_type": "execute_result"
    }
   ],
   "source": [
    "# Επιστρέφει το index του μεγαλύτερου στοιχείου\n",
    "def max_index(l):\n",
    "    return max(range(len(l)), key=lambda x : l[x])\n",
    "\n",
    "max_index([3,6,5,8,7])"
   ]
  },
  {
   "cell_type": "code",
   "execution_count": 44,
   "metadata": {},
   "outputs": [
    {
     "data": {
      "text/plain": [
       "0"
      ]
     },
     "execution_count": 44,
     "metadata": {},
     "output_type": "execute_result"
    }
   ],
   "source": [
    "# Επιστρέφει το index του μικρότερου στοιχείου\n",
    "def min_index(l):\n",
    "    return min(range(len(l)), key=lambda x : l[x])\n",
    "\n",
    "min_index([3,6,5,8,7])"
   ]
  },
  {
   "cell_type": "code",
   "execution_count": 45,
   "metadata": {},
   "outputs": [],
   "source": [
    "def my_range_2(l):\n",
    "    return 'min:{} min_index:{} max:{} max_index: {}'.format(\n",
    "        min(l), min_index(l), max(l), max_index(l)\n",
    "    )"
   ]
  },
  {
   "cell_type": "code",
   "execution_count": 46,
   "metadata": {},
   "outputs": [
    {
     "data": {
      "text/plain": [
       "[('min:4.9 min_index:7 max:7.0 max_index: 0', 'I. versicolor'),\n",
       " ('min:4.9 min_index:6 max:7.9 max_index: 31', 'I. virginica'),\n",
       " ('min:4.3 min_index:13 max:5.8 max_index: 14', 'I. setosa')]"
      ]
     },
     "execution_count": 46,
     "metadata": {},
     "output_type": "execute_result"
    }
   ],
   "source": [
    "[ (my_range_2([y[0] for y in data if y[-1] ==x]), x) for x in species]"
   ]
  },
  {
   "cell_type": "markdown",
   "metadata": {},
   "source": [
    "Ποιο dataset έχει το μεγαλύτερο εμβαδό sepal. Ως εμβαδό ορίζουμε το γινόμε Sepal width*Sepal length"
   ]
  },
  {
   "cell_type": "code",
   "execution_count": 47,
   "metadata": {},
   "outputs": [
    {
     "data": {
      "text/plain": [
       "(30.02, [7.9, 3.8, 6.4, 2.0, 'I. virginica'], 131)"
      ]
     },
     "execution_count": 47,
     "metadata": {},
     "output_type": "execute_result"
    }
   ],
   "source": [
    "max([(x[0]*x[1], x, i) for i,x in enumerate(data)])"
   ]
  },
  {
   "cell_type": "markdown",
   "metadata": {},
   "source": [
    "Ποιο dataset έχει το μεγαλύτερο εμβαδό για κάθε είδος;\n",
    "\n",
    "Φτιάχνουμε μία συνάρτηση η οποία παίρνει μία λίστα από data και υπολογίζει ποιο από αυτα έχει το μεγαλύτερο εμβαδό:"
   ]
  },
  {
   "cell_type": "code",
   "execution_count": 48,
   "metadata": {},
   "outputs": [],
   "source": [
    "f = lambda d : max([(x[0]*x[1], x, data.index(x)) for x in d])"
   ]
  },
  {
   "cell_type": "markdown",
   "metadata": {},
   "source": [
    "π.χ: από όλα τα data, το μεγαλύτερο εμβαδό το έχει:"
   ]
  },
  {
   "cell_type": "code",
   "execution_count": 49,
   "metadata": {},
   "outputs": [
    {
     "data": {
      "text/plain": [
       "(30.02, [7.9, 3.8, 6.4, 2.0, 'I. virginica'], 131)"
      ]
     },
     "execution_count": 49,
     "metadata": {},
     "output_type": "execute_result"
    }
   ],
   "source": [
    "f(data)"
   ]
  },
  {
   "cell_type": "markdown",
   "metadata": {},
   "source": [
    "Το εφαρμόζουμε για κάθε είδος ξεχωριστά:"
   ]
  },
  {
   "cell_type": "code",
   "execution_count": 50,
   "metadata": {},
   "outputs": [
    {
     "data": {
      "text/plain": [
       "[(22.400000000000002, [7.0, 3.2, 4.7, 1.4, 'I. versicolor'], 50),\n",
       " (30.02, [7.9, 3.8, 6.4, 2.0, 'I. virginica'], 131),\n",
       " (25.080000000000002, [5.7, 4.4, 1.5, 0.4, 'I. setosa'], 15)]"
      ]
     },
     "execution_count": 50,
     "metadata": {},
     "output_type": "execute_result"
    }
   ],
   "source": [
    "[f([y for y in data if y[-1] == x]) for x in species]"
   ]
  },
  {
   "cell_type": "markdown",
   "metadata": {},
   "source": [
    "### Παράδειγμα 3\n",
    "\n",
    "Το [GWAS Catalogue](https://www.ebi.ac.uk/gwas/home) είναι ένας κατάλογος με όλες τις μελέτες [GWAS](https://en.wikipedia.org/wiki/Genome-wide_association_study) που έχουν γίνει. Για να το μελετήσουμε κατεβάζουμε το αρχείο `All associations v1.0` απο εδώ: https://www.ebi.ac.uk/gwas/docs/file-downloads (πατάμε στο \"Click to Download\"). Ας παίξουμε λίγο με αυτό:"
   ]
  },
  {
   "cell_type": "code",
   "execution_count": 6,
   "metadata": {},
   "outputs": [
    {
     "name": "stdout",
     "output_type": "stream",
     "text": [
      "Lines: 351841\n"
     ]
    }
   ],
   "source": [
    "with open('/Users/admin/Downloads/gwas_catalog_v1.0-associations_e105_r2022-03-23.tsv') as f:\n",
    "    for line_count, l in enumerate(f):\n",
    "        pass # Διαβάστε περακάτω για το pass\n",
    "print (f'Lines: {line_count}')"
   ]
  },
  {
   "cell_type": "code",
   "execution_count": 5,
   "metadata": {},
   "outputs": [
    {
     "name": "stdout",
     "output_type": "stream",
     "text": [
      "Lines: 351841\n"
     ]
    }
   ],
   "source": [
    "# Σημείωση: σε windows μηχανήματα ίσως χρειαστεί να το ανοίξετε με τον εξής τρόπο:\n",
    "with open('/Users/admin/Downloads/gwas_catalog_v1.0-associations_e105_r2022-03-23.tsv', encoding='iso-8859-1') as f:\n",
    "    for line_count, l in enumerate(f):\n",
    "        pass\n",
    "print (f'Lines: {line_count}')"
   ]
  },
  {
   "cell_type": "code",
   "execution_count": 7,
   "metadata": {},
   "outputs": [],
   "source": [
    "# Ας δούμε τη πρώτη γραμμή:"
   ]
  },
  {
   "cell_type": "code",
   "execution_count": 8,
   "metadata": {},
   "outputs": [],
   "source": [
    "with open('/Users/admin/Downloads/gwas_catalog_v1.0-associations_e105_r2022-03-23.tsv') as f:\n",
    "    first_line = f.readline()\n"
   ]
  },
  {
   "cell_type": "code",
   "execution_count": 11,
   "metadata": {},
   "outputs": [
    {
     "data": {
      "text/plain": [
       "'DATE ADDED TO CATALOG\\tPUBMEDID\\tFIRST AUTHOR\\tDATE\\tJOURNAL\\tLINK\\tSTUDY\\tDISEASE/TRAIT\\tINITIAL SAMPLE SIZE\\tREPLICATION SAMPLE SIZE\\tREGION\\tCHR_ID\\tCHR_POS\\tREPORTED GENE(S)\\tMAPPED_GENE\\tUPSTREAM_GENE_ID\\tDOWNSTREAM_GENE_ID\\tSNP_GENE_IDS\\tUPSTREAM_GENE_DISTANCE\\tDOWNSTREAM_GENE_DISTANCE\\tSTRONGEST SNP-RISK ALLELE\\tSNPS\\tMERGED\\tSNP_ID_CURRENT\\tCONTEXT\\tINTERGENIC\\tRISK ALLELE FREQUENCY\\tP-VALUE\\tPVALUE_MLOG\\tP-VALUE (TEXT)\\tOR or BETA\\t95% CI (TEXT)\\tPLATFORM [SNPS PASSING QC]\\tCNV\\n'"
      ]
     },
     "execution_count": 11,
     "metadata": {},
     "output_type": "execute_result"
    }
   ],
   "source": [
    "first_line"
   ]
  },
  {
   "cell_type": "markdown",
   "metadata": {},
   "source": [
    "Παρατηρώ ότι η 1η γραμμή είναι η επικεφαλίδα. Κάνω `strip` ώστε να φύγει το `\\n` ([newline](https://en.wikipedia.org/wiki/Newline)) στο τέλος  και μετά κάνω `split` με βάση το tab (`\\t`):"
   ]
  },
  {
   "cell_type": "code",
   "execution_count": 12,
   "metadata": {},
   "outputs": [
    {
     "name": "stdout",
     "output_type": "stream",
     "text": [
      "['DATE ADDED TO CATALOG', 'PUBMEDID', 'FIRST AUTHOR', 'DATE', 'JOURNAL', 'LINK', 'STUDY', 'DISEASE/TRAIT', 'INITIAL SAMPLE SIZE', 'REPLICATION SAMPLE SIZE', 'REGION', 'CHR_ID', 'CHR_POS', 'REPORTED GENE(S)', 'MAPPED_GENE', 'UPSTREAM_GENE_ID', 'DOWNSTREAM_GENE_ID', 'SNP_GENE_IDS', 'UPSTREAM_GENE_DISTANCE', 'DOWNSTREAM_GENE_DISTANCE', 'STRONGEST SNP-RISK ALLELE', 'SNPS', 'MERGED', 'SNP_ID_CURRENT', 'CONTEXT', 'INTERGENIC', 'RISK ALLELE FREQUENCY', 'P-VALUE', 'PVALUE_MLOG', 'P-VALUE (TEXT)', 'OR or BETA', '95% CI (TEXT)', 'PLATFORM [SNPS PASSING QC]', 'CNV']\n"
     ]
    }
   ],
   "source": [
    "with open('/Users/admin/Downloads/gwas_catalog_v1.0-associations_e105_r2022-03-23.tsv') as f:\n",
    "    first_line = f.readline().strip().split('\\t')\n",
    "print (first_line)"
   ]
  },
  {
   "cell_type": "markdown",
   "metadata": {},
   "source": [
    "Ωραία τώρα διαβάζω τη 2η γραμμή:"
   ]
  },
  {
   "cell_type": "code",
   "execution_count": 14,
   "metadata": {},
   "outputs": [
    {
     "name": "stdout",
     "output_type": "stream",
     "text": [
      "2017-12-19\t29058716\tMilne RL\t2017-10-23\tNat Genet\twww.ncbi.nlm.nih.gov/pubmed/29058716\tIdentification of ten variants associated with risk of estrogen-receptor-negative breast cancer.\tBreast cancer (estrogen-receptor negative)\t14,135 European ancestry cases, 58,126 European ancestry controls\t7,333 European ancestry cases, 42,468 European ancestry controls\t14q24.1\t14\t68567965\tNR\tRAD51B\t\t\tENSG00000182185\t\t\trs999737-C\trs999737\t0\t999737\tintron_variant\t0\t0.77\t3E-8\t7.522878745280337\t\t1.0869565\t[1.04-1.12] (Oncoarray)\tIllumina [~ 11500000] (imputed)\tN\n",
      "\n"
     ]
    }
   ],
   "source": [
    "with open('/Users/admin/Downloads/gwas_catalog_v1.0-associations_e105_r2022-03-23.tsv') as f:\n",
    "    first_line = f.readline().strip().split('\\t')\n",
    "    second_line = f.readline()\n",
    "\n",
    "print (second_line)"
   ]
  },
  {
   "cell_type": "markdown",
   "metadata": {},
   "source": [
    "Φαίνεται ότι η 2η γραμμή περιέχει τις τιμές ενός GWAS. Ας τα αποθηκεύσω όλα τότε σε ένα dictionary. Κλειδιά θα είναι τα strings της επικεφαλίδας (first_line) και οι τιμές θα είναι οι λίστες με τις αντίστοιχες τιμές του αρχείου:"
   ]
  },
  {
   "cell_type": "code",
   "execution_count": 18,
   "metadata": {},
   "outputs": [],
   "source": [
    "\n",
    "with open('/Users/admin/Downloads/gwas_catalog_v1.0-associations_e105_r2022-03-23.tsv') as f:\n",
    "    first_line = f.readline().strip().split('\\t')\n",
    "    \n",
    "    data = {x: [] for x in first_line} # Ένα dictionary με κλειδιά τα strings του header και τιμές άδειες λίστες\n",
    "    \n",
    "    for line in f:            \n",
    "        line_splitted = line.strip().split('\\t')\n",
    "        for header_value, gwas_value in zip(first_line, line_splitted):\n",
    "            data[header_value].append(gwas_value)\n",
    "         \n",
    "\n"
   ]
  },
  {
   "cell_type": "markdown",
   "metadata": {},
   "source": [
    "Όταν διαβάζουμε ένα μεγάλο αρχείο, είναι πολύ καλή συνήθεια να τυπώνουμε κάθε τόσο σε ποια γραμμή είμαστε. Αυτό μας δίνει μία αίσθηση του χρόνου που χρειάζεται για να διαβάσουμε όλο το αρχείο:"
   ]
  },
  {
   "cell_type": "code",
   "execution_count": 22,
   "metadata": {},
   "outputs": [
    {
     "name": "stdout",
     "output_type": "stream",
     "text": [
      "Read lines: 0\n",
      "Read lines: 10000\n",
      "Read lines: 20000\n",
      "Read lines: 30000\n",
      "Read lines: 40000\n",
      "Read lines: 50000\n",
      "Read lines: 60000\n",
      "Read lines: 70000\n",
      "Read lines: 80000\n",
      "Read lines: 90000\n",
      "Read lines: 100000\n",
      "Read lines: 110000\n",
      "Read lines: 120000\n",
      "Read lines: 130000\n",
      "Read lines: 140000\n",
      "Read lines: 150000\n",
      "Read lines: 160000\n",
      "Read lines: 170000\n",
      "Read lines: 180000\n",
      "Read lines: 190000\n",
      "Read lines: 200000\n",
      "Read lines: 210000\n",
      "Read lines: 220000\n",
      "Read lines: 230000\n",
      "Read lines: 240000\n",
      "Read lines: 250000\n",
      "Read lines: 260000\n",
      "Read lines: 270000\n",
      "Read lines: 280000\n",
      "Read lines: 290000\n",
      "Read lines: 300000\n",
      "Read lines: 310000\n",
      "Read lines: 320000\n",
      "Read lines: 330000\n",
      "Read lines: 340000\n",
      "Read lines: 350000\n"
     ]
    }
   ],
   "source": [
    "\n",
    "with open('/Users/admin/Downloads/gwas_catalog_v1.0-associations_e105_r2022-03-23.tsv') as f:\n",
    "    first_line = f.readline().strip().split('\\t')\n",
    "    \n",
    "    data = {x: [] for x in first_line} # Ένα dictionary με κλειδιά τα strings του header και τιμές άδειες λίστες\n",
    "    \n",
    "    for line_counter, line in enumerate(f):\n",
    "        \n",
    "        if line_counter % 10_000 == 0:\n",
    "            print (f'Read lines: {line_counter}')\n",
    "        \n",
    "        line_splitted = line.strip().split('\\t')\n",
    "        for header_value, gwas_value in zip(first_line, line_splitted):\n",
    "            data[header_value].append(gwas_value)\n",
    "\n"
   ]
  },
  {
   "cell_type": "markdown",
   "metadata": {},
   "source": [
    "Το data περιέχει όλα τα δεδομένα μας. Π.χ. ποιο είναι το P-VALUE της 1000ης GWAS;"
   ]
  },
  {
   "cell_type": "code",
   "execution_count": 26,
   "metadata": {},
   "outputs": [
    {
     "data": {
      "text/plain": [
       "'4E-6'"
      ]
     },
     "execution_count": 26,
     "metadata": {},
     "output_type": "execute_result"
    }
   ],
   "source": [
    "data['P-VALUE'][999]"
   ]
  },
  {
   "cell_type": "markdown",
   "metadata": {},
   "source": [
    "Ας δοκιμάσουμε μερικά ερωτήματα:"
   ]
  },
  {
   "cell_type": "code",
   "execution_count": 28,
   "metadata": {},
   "outputs": [
    {
     "data": {
      "text/plain": [
       "dict_keys(['DATE ADDED TO CATALOG', 'PUBMEDID', 'FIRST AUTHOR', 'DATE', 'JOURNAL', 'LINK', 'STUDY', 'DISEASE/TRAIT', 'INITIAL SAMPLE SIZE', 'REPLICATION SAMPLE SIZE', 'REGION', 'CHR_ID', 'CHR_POS', 'REPORTED GENE(S)', 'MAPPED_GENE', 'UPSTREAM_GENE_ID', 'DOWNSTREAM_GENE_ID', 'SNP_GENE_IDS', 'UPSTREAM_GENE_DISTANCE', 'DOWNSTREAM_GENE_DISTANCE', 'STRONGEST SNP-RISK ALLELE', 'SNPS', 'MERGED', 'SNP_ID_CURRENT', 'CONTEXT', 'INTERGENIC', 'RISK ALLELE FREQUENCY', 'P-VALUE', 'PVALUE_MLOG', 'P-VALUE (TEXT)', 'OR or BETA', '95% CI (TEXT)', 'PLATFORM [SNPS PASSING QC]', 'CNV'])"
      ]
     },
     "execution_count": 28,
     "metadata": {},
     "output_type": "execute_result"
    }
   ],
   "source": [
    "data.keys()"
   ]
  },
  {
   "cell_type": "markdown",
   "metadata": {},
   "source": [
    "Όλοι τα διαφορετικά περιοδικά:"
   ]
  },
  {
   "cell_type": "code",
   "execution_count": null,
   "metadata": {},
   "outputs": [],
   "source": [
    "set(data['JOURNAL'])"
   ]
  },
  {
   "cell_type": "markdown",
   "metadata": {},
   "source": [
    "Όλοι οι συγγραφείς που έχουν δημοσιεύσει στο Nature:"
   ]
  },
  {
   "cell_type": "code",
   "execution_count": null,
   "metadata": {},
   "outputs": [],
   "source": [
    "set(author for journal, author in zip(data['JOURNAL'], data['FIRST AUTHOR']) if journal.startswith('Nat') )"
   ]
  },
  {
   "cell_type": "markdown",
   "metadata": {},
   "source": [
    "Ποιος είναι ο συγγραφέας που έχει εντοπίσει τις περισσότερες μεταλλάξει και τις έχει δημοσιεύσει στο nature;"
   ]
  },
  {
   "cell_type": "code",
   "execution_count": 38,
   "metadata": {},
   "outputs": [
    {
     "data": {
      "text/plain": [
       "'Sakaue S'"
      ]
     },
     "execution_count": 38,
     "metadata": {},
     "output_type": "execute_result"
    }
   ],
   "source": [
    "counter = {}\n",
    "for journal, author in zip(data['JOURNAL'], data['FIRST AUTHOR']):\n",
    "    if not journal.startswith('Nat'):\n",
    "        continue\n",
    "        \n",
    "    if not author in counter:\n",
    "        counter[author] = 0\n",
    "        \n",
    "    counter[author] += 1\n",
    "\n",
    "def f(x):\n",
    "    return counter[x]\n",
    "    \n",
    "max(counter, key=f)"
   ]
  },
  {
   "cell_type": "markdown",
   "metadata": {},
   "source": [
    "Πόσες μεταλλάξεις έχει εντοπίσει αυτός ο συγγραφέας;"
   ]
  },
  {
   "cell_type": "code",
   "execution_count": 45,
   "metadata": {},
   "outputs": [
    {
     "data": {
      "text/plain": [
       "17799"
      ]
     },
     "execution_count": 45,
     "metadata": {},
     "output_type": "execute_result"
    }
   ],
   "source": [
    "counter['Sakaue S']"
   ]
  },
  {
   "cell_type": "code",
   "execution_count": 55,
   "metadata": {},
   "outputs": [
    {
     "name": "stdout",
     "output_type": "stream",
     "text": [
      "{'Petridis C', 'Tachmazidou I', 'Gaitanidis A', 'Klimentidis YC', 'Michailidou K'}\n"
     ]
    }
   ],
   "source": [
    "# Οι.. πόντιοι συγγραφείς:\n",
    "pontioi = {x for x in data['FIRST AUTHOR'] if 'idis' in x or 'idou' in x}\n",
    "print (pontioi)"
   ]
  },
  {
   "cell_type": "markdown",
   "metadata": {},
   "source": [
    "Ποιο είναι το μικρότερο  p-value που έχει εντοπίσει πόντιος συγγραφέας;\n"
   ]
  },
  {
   "cell_type": "code",
   "execution_count": 54,
   "metadata": {},
   "outputs": [
    {
     "data": {
      "text/plain": [
       "5e-324"
      ]
     },
     "execution_count": 54,
     "metadata": {},
     "output_type": "execute_result"
    }
   ],
   "source": [
    "min(float(p_v) for p_v, author in zip(data['P-VALUE'], data['FIRST AUTHOR']) if author in pontioi)"
   ]
  },
  {
   "cell_type": "markdown",
   "metadata": {},
   "source": [
    "Ή αλλιώς: 5\\*10<sup>-324</sup>"
   ]
  },
  {
   "cell_type": "markdown",
   "metadata": {},
   "source": [
    "### String formatting"
   ]
  },
  {
   "cell_type": "markdown",
   "metadata": {},
   "source": [
    "Το να \"μπλέκουμε\" μεταβλητές μέσα σε strings γρήγορα και εύκολα είναι ένα από τα πιο κοινά πράγματα που κάνουμε και ένας από τους βασικούς λόγους δημιουργίας της python. Ας υποθέσουμε λοιπόν ότι έχουμε τις μεταβλητές:"
   ]
  },
  {
   "cell_type": "code",
   "execution_count": 96,
   "metadata": {},
   "outputs": [],
   "source": [
    "name = \"Mitsos\"\n",
    "age = 40"
   ]
  },
  {
   "cell_type": "markdown",
   "metadata": {},
   "source": [
    "Και θέλουμε να τις βάλουμε στο string: ```My name is .... and I am ... years old```. Έχουμε τις εξής επιλογές:\n",
    "\n",
    "#### 1.  string concatenation\n",
    "Από τις πιο βασικές επιλογές. Δεν μας δίνει πολλές δυνατότητες αλλά είναι πολύ απλή:"
   ]
  },
  {
   "cell_type": "code",
   "execution_count": 97,
   "metadata": {},
   "outputs": [
    {
     "name": "stdout",
     "output_type": "stream",
     "text": [
      "My name is Mitsos and I am 40 years old\n"
     ]
    }
   ],
   "source": [
    "print ('My name is ' + name + ' and I am ' + str(age) + ' years old')"
   ]
  },
  {
   "cell_type": "markdown",
   "metadata": {},
   "source": [
    "#### 2. Use the format command:"
   ]
  },
  {
   "cell_type": "code",
   "execution_count": 98,
   "metadata": {},
   "outputs": [
    {
     "name": "stdout",
     "output_type": "stream",
     "text": [
      "My name is Mitsos and I am 40 years old\n"
     ]
    }
   ],
   "source": [
    "print ('My name is {} and I am {} years old'.format(name, age))"
   ]
  },
  {
   "cell_type": "markdown",
   "metadata": {},
   "source": [
    "#### 3. Use the format command with placeholders:"
   ]
  },
  {
   "cell_type": "code",
   "execution_count": 102,
   "metadata": {},
   "outputs": [
    {
     "name": "stdout",
     "output_type": "stream",
     "text": [
      "My name is Mitsos and I am 40 years old\n"
     ]
    }
   ],
   "source": [
    "print ('My name is {NAME} and I am {AGE} years old'.format(NAME=name, =age))"
   ]
  },
  {
   "cell_type": "markdown",
   "metadata": {},
   "source": [
    "Αυτό μας επιτρέπει να χρησιμοποιήσουμε το ίδιο placeholder πολλές φορές"
   ]
  },
  {
   "cell_type": "code",
   "execution_count": 105,
   "metadata": {},
   "outputs": [
    {
     "name": "stdout",
     "output_type": "stream",
     "text": [
      "My name is Bond. James Bond.\n"
     ]
    }
   ],
   "source": [
    "a = 'James'\n",
    "b = 'Bond'\n",
    "\n",
    "print ('My name is {SURNAME}. {NAME} {SURNAME}.'.format(NAME=a, SURNAME=b))\n"
   ]
  },
  {
   "cell_type": "markdown",
   "metadata": {},
   "source": [
    "#### 4. Use the format command for \"clever\" formatting\n",
    "H format έχει ένα υπο-σετ εντολών για να τυπώνετε αριθμούς σε με συγκεκριμένη ακρίβεια π.χ. 3 δεκαδικά ψηφία:"
   ]
  },
  {
   "cell_type": "code",
   "execution_count": 107,
   "metadata": {},
   "outputs": [
    {
     "name": "stdout",
     "output_type": "stream",
     "text": [
      "0.17397769516728626\n",
      "the result is 0.174 \n"
     ]
    }
   ],
   "source": [
    "a=234/1345\n",
    "print (a)\n",
    "print ('the result is {0:.3f} '.format(a))"
   ]
  },
  {
   "cell_type": "markdown",
   "metadata": {},
   "source": [
    "Η format υποστηρίζει στην ουσία μία [mini-language]https://docs.python.org/3/library/string.html#formatspec γλώσσα μέσα στη γλώσσα για να φορμάρετε strings πιο έξυπνα. Για παράδειγμα: δεξιά στοίχιση με μέγιστο 30 χαρακτήρες:"
   ]
  },
  {
   "cell_type": "code",
   "execution_count": 114,
   "metadata": {},
   "outputs": [
    {
     "name": "stdout",
     "output_type": "stream",
     "text": [
      "                         Hello\n",
      "                     Heraklion\n"
     ]
    }
   ],
   "source": [
    "a = 'Hello'\n",
    "b = 'Heraklion'\n",
    "\n",
    "print ('{0:>30}'.format(a))\n",
    "print ('{0:>30}'.format(b))"
   ]
  },
  {
   "cell_type": "markdown",
   "metadata": {},
   "source": [
    "#### 5. Ο τελεστής %\n",
    "Αντί για τη format μπορούμε να χρησιμοποιήσουμε τον τελεστή ```%```. Αυτό δεν συνηθίζεται πια και είναι περισσότερο ένα [απομεινάρι από τη python 2](https://docs.python.org/3/tutorial/inputoutput.html#old-string-formatting):\n"
   ]
  },
  {
   "cell_type": "code",
   "execution_count": 118,
   "metadata": {},
   "outputs": [
    {
     "name": "stdout",
     "output_type": "stream",
     "text": [
      "My name is Mitsos and I am 40 years old\n"
     ]
    }
   ],
   "source": [
    "print ('My name is %s and I am %s years old' % (name, age))"
   ]
  },
  {
   "cell_type": "markdown",
   "metadata": {},
   "source": [
    "#### 6.  f strings\n",
    "Τα [f strings](https://docs.python.org/3/tutorial/inputoutput.html) είναι η πιο σύγχρονη μέθοδος για να φορμάρετε strings μαζί με μεταβλητές. Τα f strings έχουν τη διαφορά με τις υπόλοιπες μεθόδους ότι η αντικατάσταση γίνεται κατά τη διάρκεια δημιουργίας του string. Δηλαδή όλες οι άλλες μέθοδοι (εκτός από τη 1η) πρώτα φτιάχνουν το string χωρίς τις μεταβλητές στη μνήμη και μετά αντικαθιστούν τις μεταβλητές όπου χρειάζονται. Σαν συνέπεια είναι εξαιρετικά γρήγορα.  Ένα f-string δηλώνεται βάζοντας το f πριν τα αυτάκια. Μέσα στο string μπορείτε να βάλετε απευθείας τις μεταβλητές σας:"
   ]
  },
  {
   "cell_type": "code",
   "execution_count": 120,
   "metadata": {},
   "outputs": [
    {
     "name": "stdout",
     "output_type": "stream",
     "text": [
      "My name is Mitsos and I am 40 years old\n"
     ]
    }
   ],
   "source": [
    "print (f'My name is {name} and I am {age} years old')"
   ]
  },
  {
   "cell_type": "markdown",
   "metadata": {},
   "source": [
    "### pass\n",
    "Σε οποιοδίποτε καινούργιο indentation (for, while, def, if, ...) πρέπει υποχρεωτικά να έχουμε τουλάχιστον μία εντολή:"
   ]
  },
  {
   "cell_type": "code",
   "execution_count": 121,
   "metadata": {},
   "outputs": [
    {
     "ename": "SyntaxError",
     "evalue": "unexpected EOF while parsing (<ipython-input-121-2c8a33b52dfb>, line 1)",
     "output_type": "error",
     "traceback": [
      "\u001b[0;36m  File \u001b[0;32m\"<ipython-input-121-2c8a33b52dfb>\"\u001b[0;36m, line \u001b[0;32m1\u001b[0m\n\u001b[0;31m    if True:\u001b[0m\n\u001b[0m            ^\u001b[0m\n\u001b[0;31mSyntaxError\u001b[0m\u001b[0;31m:\u001b[0m unexpected EOF while parsing\n"
     ]
    }
   ],
   "source": [
    "if True:\n"
   ]
  },
  {
   "cell_type": "markdown",
   "metadata": {},
   "source": [
    "Αν για κάποιο λόγο δεν θέλουμε να βάλουμε καμία εντολή, τότε μπορούμε να χρησιμοποιήσουμε τη ```pass```:"
   ]
  },
  {
   "cell_type": "code",
   "execution_count": 122,
   "metadata": {},
   "outputs": [],
   "source": [
    "if True:\n",
    "    pass"
   ]
  },
  {
   "cell_type": "code",
   "execution_count": 123,
   "metadata": {},
   "outputs": [],
   "source": [
    "def f():\n",
    "    pass"
   ]
  },
  {
   "cell_type": "markdown",
   "metadata": {},
   "source": [
    "Το ```pass``` μπορούμε να το βάλουμε οπουδίποτε και δεν κάνει.. [τίποτα](https://en.wikipedia.org/wiki/NOP#Python):"
   ]
  },
  {
   "cell_type": "code",
   "execution_count": 124,
   "metadata": {},
   "outputs": [
    {
     "name": "stdout",
     "output_type": "stream",
     "text": [
      "Hello\n",
      "World\n"
     ]
    }
   ],
   "source": [
    "print ('Hello')\n",
    "pass\n",
    "print ('World')"
   ]
  },
  {
   "cell_type": "markdown",
   "metadata": {},
   "source": [
    "### Ο τελεστής is"
   ]
  },
  {
   "cell_type": "markdown",
   "metadata": {},
   "source": [
    "Έχουμε δει πολλές φορές τον τελεστή ```is```. Το έχουμε χρησιμοποιήσει για να δούμε τι τύπος είναι μία μεταβλητή:"
   ]
  },
  {
   "cell_type": "code",
   "execution_count": 125,
   "metadata": {},
   "outputs": [
    {
     "data": {
      "text/plain": [
       "True"
      ]
     },
     "execution_count": 125,
     "metadata": {},
     "output_type": "execute_result"
    }
   ],
   "source": [
    "a = [1,2,3]\n",
    "type(a) is list"
   ]
  },
  {
   "cell_type": "code",
   "execution_count": 126,
   "metadata": {},
   "outputs": [
    {
     "data": {
      "text/plain": [
       "False"
      ]
     },
     "execution_count": 126,
     "metadata": {},
     "output_type": "execute_result"
    }
   ],
   "source": [
    "type(a) is str"
   ]
  },
  {
   "cell_type": "markdown",
   "metadata": {},
   "source": [
    "Η is κοιτάει αν δύο μεταβλητές είναι ίδιες. Ή αλλιώς κοιτάει αν αναφέρονται στην ίδια θέση μνήμης. Αυτό είναι διαφορετικό από το ίσες: Δύο μεταβλητές είναι *ίσες* (`==`) αν έχουν την ίδια τιμή. Δύο μεταβλητές είναι *ίδιες* αν αναφέρονται στην ίδια θέση μνήμης. Παραδείγματα:"
   ]
  },
  {
   "cell_type": "code",
   "execution_count": 127,
   "metadata": {},
   "outputs": [
    {
     "name": "stdout",
     "output_type": "stream",
     "text": [
      "True\n",
      "False\n"
     ]
    }
   ],
   "source": [
    "a = [1,2,3]\n",
    "b = [1,2,3]\n",
    "print (a==b)\n",
    "print (a is b)"
   ]
  },
  {
   "cell_type": "code",
   "execution_count": 128,
   "metadata": {},
   "outputs": [
    {
     "name": "stdout",
     "output_type": "stream",
     "text": [
      "True\n",
      "True\n"
     ]
    }
   ],
   "source": [
    "a = [1,2,3]\n",
    "b = a\n",
    "print (a==b)\n",
    "print (a is b)"
   ]
  },
  {
   "cell_type": "markdown",
   "metadata": {},
   "source": [
    " Όταν δύο μηταβλητές είναι ίδιες (και όχι απλά ίσες) τότε αν αλλάξεις την μία, αλλάζει και η άλλη:"
   ]
  },
  {
   "cell_type": "code",
   "execution_count": 129,
   "metadata": {},
   "outputs": [
    {
     "name": "stdout",
     "output_type": "stream",
     "text": [
      "[100, 2, 3]\n"
     ]
    }
   ],
   "source": [
    "a = [1,2,3]\n",
    "b=a\n",
    "b[0] = 100\n",
    "print (a)"
   ]
  },
  {
   "cell_type": "markdown",
   "metadata": {},
   "source": [
    "Ένα άλλο παράδειγμα:"
   ]
  },
  {
   "cell_type": "code",
   "execution_count": 130,
   "metadata": {},
   "outputs": [
    {
     "name": "stdout",
     "output_type": "stream",
     "text": [
      "[[1, 2, 3, 4], [1, 2, 3, 4], [1, 2, 3, 4]]\n",
      "[[100, 2, 3, 4], [100, 2, 3, 4], [100, 2, 3, 4]]\n"
     ]
    }
   ],
   "source": [
    "a = [1,2,3,4]\n",
    "b = [a,a,a]\n",
    "print (b)\n",
    "a[0]=100\n",
    "print (b)"
   ]
  },
  {
   "cell_type": "markdown",
   "metadata": {},
   "source": [
    "Παρατηρούμε ότι αλλάξαμε το πρώτο στοιχείο μόνο της πρώτης υπολίστας (```a[0]=100```) και παρόλα αυτά αλλάξαν όλες! Αυτό έγινε γιατί όλες οι τιμές της λίστας είναι η ίδια μεταβλητή ```b = [a,a,a]```!"
   ]
  },
  {
   "cell_type": "markdown",
   "metadata": {},
   "source": [
    "Αυτό δημιουργεί το εξής περιέργο φαινόμενο:"
   ]
  },
  {
   "cell_type": "code",
   "execution_count": 143,
   "metadata": {},
   "outputs": [
    {
     "name": "stdout",
     "output_type": "stream",
     "text": [
      "[[], [], []]\n"
     ]
    }
   ],
   "source": [
    "a = [[]] * 3 # Η εσωτερική λίστα ([]) είναι ίδια και για τα 3!\n",
    "print (a)"
   ]
  },
  {
   "cell_type": "code",
   "execution_count": 144,
   "metadata": {},
   "outputs": [
    {
     "name": "stdout",
     "output_type": "stream",
     "text": [
      "[['mitsos'], ['mitsos'], ['mitsos']]\n"
     ]
    }
   ],
   "source": [
    "a[0].append('mitsos')\n",
    "print (a)"
   ]
  },
  {
   "cell_type": "markdown",
   "metadata": {},
   "source": [
    "Το παραπάνω δεν ισχύει για τα primitive types δηλαδή για τα int, str, float, bool, complex:"
   ]
  },
  {
   "cell_type": "code",
   "execution_count": 134,
   "metadata": {},
   "outputs": [
    {
     "data": {
      "text/plain": [
       "False"
      ]
     },
     "execution_count": 134,
     "metadata": {},
     "output_type": "execute_result"
    }
   ],
   "source": [
    "a = 1000\n",
    "b = 1000\n",
    "a is b"
   ]
  },
  {
   "cell_type": "code",
   "execution_count": 135,
   "metadata": {},
   "outputs": [
    {
     "data": {
      "text/plain": [
       "True"
      ]
     },
     "execution_count": 135,
     "metadata": {},
     "output_type": "execute_result"
    }
   ],
   "source": [
    "a = 1000\n",
    "b = 1000\n",
    "a=b\n",
    "a is b"
   ]
  },
  {
   "cell_type": "markdown",
   "metadata": {},
   "source": [
    "Παρόλο που είναι ίδιες, αν αλλάξω τη b ΔΕΝ αλλάζει η a: "
   ]
  },
  {
   "cell_type": "code",
   "execution_count": 136,
   "metadata": {},
   "outputs": [
    {
     "data": {
      "text/plain": [
       "False"
      ]
     },
     "execution_count": 136,
     "metadata": {},
     "output_type": "execute_result"
    }
   ],
   "source": [
    "b = b + 1\n",
    "a is b"
   ]
  },
  {
   "cell_type": "markdown",
   "metadata": {},
   "source": [
    "Δηλαδή κάθε φορά που αλλάζω τη τιμή μιας μεταβλητής αλλάζει και η θέση μνήμης της. Για να δούμε ποιος είναι ο κωδικός της θέσης μνήμης μίας μεταβλητής χρησιμοποιούμε την ```id```:"
   ]
  },
  {
   "cell_type": "code",
   "execution_count": 140,
   "metadata": {},
   "outputs": [
    {
     "data": {
      "text/plain": [
       "4398221664"
      ]
     },
     "execution_count": 140,
     "metadata": {},
     "output_type": "execute_result"
    }
   ],
   "source": [
    "a = 1\n",
    "id(a)"
   ]
  },
  {
   "cell_type": "code",
   "execution_count": 141,
   "metadata": {},
   "outputs": [
    {
     "data": {
      "text/plain": [
       "4398221696"
      ]
     },
     "execution_count": 141,
     "metadata": {},
     "output_type": "execute_result"
    }
   ],
   "source": [
    "a = a + 1\n",
    "id(a) # Η θέση άλλαξε!"
   ]
  },
  {
   "cell_type": "code",
   "execution_count": 142,
   "metadata": {},
   "outputs": [
    {
     "name": "stdout",
     "output_type": "stream",
     "text": [
      "140652702590144\n",
      "140652702590144\n"
     ]
    }
   ],
   "source": [
    "a = [1,2,3]\n",
    "b = a\n",
    "print (id(a))\n",
    "print (id(b)) # Ίδια θέση μνήμης!"
   ]
  },
  {
   "cell_type": "markdown",
   "metadata": {},
   "source": [
    "### Ternary operator\n",
    "με το [ternary operator](https://en.wikipedia.org/wiki/%3F:) μπορούμε να γράψουμε μία ```if ... else ...``` σε μία εντολή. Η δομή είναι:\n",
    "```python\n",
    "a = EXPRESSION_IF_THE_CONDITION_IS_TRUE if CONDITION else EXPRESSION_IF_THE_CONDITION_IS_FALSE\n",
    "```\n",
    "π.χ.:"
   ]
  },
  {
   "cell_type": "code",
   "execution_count": 147,
   "metadata": {},
   "outputs": [
    {
     "name": "stdout",
     "output_type": "stream",
     "text": [
      "adult\n"
     ]
    }
   ],
   "source": [
    "age = 40\n",
    "if age>=18:\n",
    "    status = 'adult'\n",
    "else:\n",
    "    status = 'not adult'\n",
    "print (status)"
   ]
  },
  {
   "cell_type": "markdown",
   "metadata": {},
   "source": [
    "Το ίδιο με ternary operator:"
   ]
  },
  {
   "cell_type": "code",
   "execution_count": 148,
   "metadata": {},
   "outputs": [
    {
     "name": "stdout",
     "output_type": "stream",
     "text": [
      "adult\n"
     ]
    }
   ],
   "source": [
    "status = \"adult\" if age>=18 else \"not adult\"\n",
    "print (status)"
   ]
  },
  {
   "cell_type": "code",
   "execution_count": 145,
   "metadata": {},
   "outputs": [
    {
     "name": "stdout",
     "output_type": "stream",
     "text": [
      "8\n"
     ]
    }
   ],
   "source": [
    "a = 1 if 5<3 else 8\n",
    "print (a)"
   ]
  },
  {
   "cell_type": "code",
   "execution_count": 146,
   "metadata": {},
   "outputs": [
    {
     "name": "stdout",
     "output_type": "stream",
     "text": [
      "1\n"
     ]
    }
   ],
   "source": [
    "a = 1 if 3<5 else 8\n",
    "print (a)"
   ]
  },
  {
   "cell_type": "markdown",
   "metadata": {},
   "source": [
    "Μπορούμε να συνθέσουμε πολλούς ternary operators μαζί:"
   ]
  },
  {
   "cell_type": "code",
   "execution_count": 149,
   "metadata": {},
   "outputs": [
    {
     "name": "stdout",
     "output_type": "stream",
     "text": [
      "6\n"
     ]
    }
   ],
   "source": [
    "a = (1 if 3<5 else 6) if 5>6 else (6 if 4>1 else 7)\n",
    "print (a)"
   ]
  },
  {
   "cell_type": "markdown",
   "metadata": {},
   "source": [
    "Αν βγάλω τις παρενθέσεις θα έχει διαφορετική τιμή η ```a```. (Γιατί;)"
   ]
  },
  {
   "cell_type": "code",
   "execution_count": 150,
   "metadata": {},
   "outputs": [
    {
     "name": "stdout",
     "output_type": "stream",
     "text": [
      "1\n"
     ]
    }
   ],
   "source": [
    "a = 1 if 3<5 else 6 if 5>6 else 6 if 4>1 else 7\n",
    "print (a)"
   ]
  },
  {
   "cell_type": "markdown",
   "metadata": {},
   "source": [
    "### lambda functions\n",
    "Οι lambda functions είναι ειδικές συναρτήσεις που έχουν τις παρακάτω ιδιότητες:\n",
    "* [Δεν έχουν όνομα](https://en.wikipedia.org/wiki/Anonymous_function).\n",
    "* Περιέχουν μόνο αυτό που κάνουν return. Δηλαδή δεν μπορούν να έχουν πάνω από μία γραμμές."
   ]
  },
  {
   "cell_type": "code",
   "execution_count": 152,
   "metadata": {},
   "outputs": [
    {
     "data": {
      "text/plain": [
       "5.0"
      ]
     },
     "execution_count": 152,
     "metadata": {},
     "output_type": "execute_result"
    }
   ],
   "source": [
    "f = lambda x : x/2\n",
    "f(10)"
   ]
  },
  {
   "cell_type": "markdown",
   "metadata": {},
   "source": [
    "Το παραπάνω είναι ισοδύναμο με:"
   ]
  },
  {
   "cell_type": "code",
   "execution_count": 154,
   "metadata": {},
   "outputs": [
    {
     "data": {
      "text/plain": [
       "5.0"
      ]
     },
     "execution_count": 154,
     "metadata": {},
     "output_type": "execute_result"
    }
   ],
   "source": [
    "def f(x):\n",
    "    return x/2\n",
    "f(10)"
   ]
  },
  {
   "cell_type": "markdown",
   "metadata": {},
   "source": [
    "Προσέχτε ότι μπορούμε να παραλείψουμε τελείως το γράμμα ```f``` που είναι το όνομα της συνάρτησης:"
   ]
  },
  {
   "cell_type": "code",
   "execution_count": 155,
   "metadata": {},
   "outputs": [
    {
     "data": {
      "text/plain": [
       "5.0"
      ]
     },
     "execution_count": 155,
     "metadata": {},
     "output_type": "execute_result"
    }
   ],
   "source": [
    "(lambda x : x/2)(10)"
   ]
  },
  {
   "cell_type": "markdown",
   "metadata": {},
   "source": [
    "Οι lambda συναρτήσεις έχουν ακριβώς τον ίδιο τύπο με τις \"κανονικές\" συναρτήσεις:"
   ]
  },
  {
   "cell_type": "code",
   "execution_count": 156,
   "metadata": {},
   "outputs": [
    {
     "data": {
      "text/plain": [
       "function"
      ]
     },
     "execution_count": 156,
     "metadata": {},
     "output_type": "execute_result"
    }
   ],
   "source": [
    "type(lambda x:x)"
   ]
  },
  {
   "cell_type": "markdown",
   "metadata": {},
   "source": [
    "Γιατί είναι χρήσιμες οι συναρτήσεις lambda; Πολλές φορές χρειάζεται να χρησιμοποιήσουμε μία συνάρτηση που κάνει κάτι απλό ή πρόκειται να τη χρησιμοποιήσουμε μία φορά, οπότε δεν υπάρχει λόγος να της δώσουμε όνομα ως μεταβλητή. Αυτό συμβαίνει συχνά όταν θέλουμε να δώσουμε μία συνάρτηση σαν όρισμα σε μία άλλη συνάρτηση, ή σε συναρτήσεις που επιστρέφουν συναρτήσεις ή σε συναρτήσεις που είναι μέσα σε λίστες και dictionaries.\n",
    "\n",
    "Π.χ:"
   ]
  },
  {
   "cell_type": "code",
   "execution_count": 157,
   "metadata": {},
   "outputs": [
    {
     "name": "stdout",
     "output_type": "stream",
     "text": [
      "18.333333333333332\n",
      "18\n"
     ]
    }
   ],
   "source": [
    "a = {\n",
    "    'accurate': lambda x:x/3, # Δεκαδική διαίρεση με 3\n",
    "    'not_accurate': lambda x:x//3 # Ακέραια διαίρεση με 3\n",
    "}\n",
    "print(a['accurate'](55))\n",
    "print (a['not_accurate'](55))"
   ]
  },
  {
   "cell_type": "markdown",
   "metadata": {},
   "source": [
    "Εκεί όμως που κλασσικά χρησιμοποιούνται οι lambda συναρτήσεις είναι στις συναρτήσεις map, filter, min, max, sorted. Για παράδειγμα έστω η λίστα:"
   ]
  },
  {
   "cell_type": "code",
   "execution_count": 158,
   "metadata": {},
   "outputs": [],
   "source": [
    "a = [1,2,3,4,5,6,7,8,9,10]"
   ]
  },
  {
   "cell_type": "markdown",
   "metadata": {},
   "source": [
    "Πολλαπλασίασε όλα τα στοιχεία με το 2:"
   ]
  },
  {
   "cell_type": "code",
   "execution_count": 159,
   "metadata": {},
   "outputs": [
    {
     "name": "stdout",
     "output_type": "stream",
     "text": [
      "[2, 4, 6, 8, 10, 12, 14, 16, 18, 20]\n"
     ]
    }
   ],
   "source": [
    "def f(x):\n",
    "    return x*2\n",
    "print (list(map(f, a)))"
   ]
  },
  {
   "cell_type": "code",
   "execution_count": 160,
   "metadata": {},
   "outputs": [
    {
     "name": "stdout",
     "output_type": "stream",
     "text": [
      "[2, 4, 6, 8, 10, 12, 14, 16, 18, 20]\n"
     ]
    }
   ],
   "source": [
    "print (list(map(lambda x:x*2, a)))"
   ]
  },
  {
   "cell_type": "markdown",
   "metadata": {},
   "source": [
    "Πάρε μόνο τους μονούς αριθμούς:"
   ]
  },
  {
   "cell_type": "code",
   "execution_count": 161,
   "metadata": {},
   "outputs": [
    {
     "name": "stdout",
     "output_type": "stream",
     "text": [
      "[1, 3, 5, 7, 9]\n"
     ]
    }
   ],
   "source": [
    "def f(x):\n",
    "    return x%2==1\n",
    "print (list(filter(f, a)))"
   ]
  },
  {
   "cell_type": "code",
   "execution_count": 162,
   "metadata": {},
   "outputs": [
    {
     "name": "stdout",
     "output_type": "stream",
     "text": [
      "[1, 3, 5, 7, 9]\n"
     ]
    }
   ],
   "source": [
    "print (list(filter(lambda x:x%2==1, a)))"
   ]
  },
  {
   "cell_type": "markdown",
   "metadata": {},
   "source": [
    "Έστω η λίστα:"
   ]
  },
  {
   "cell_type": "code",
   "execution_count": 166,
   "metadata": {},
   "outputs": [],
   "source": [
    "cities = ['edessa', 'bethleem', 'Heraklion', ]"
   ]
  },
  {
   "cell_type": "markdown",
   "metadata": {},
   "source": [
    "Ταξινόμησε τες με βάση το πλήθος από \"e\":"
   ]
  },
  {
   "cell_type": "code",
   "execution_count": 167,
   "metadata": {},
   "outputs": [
    {
     "name": "stdout",
     "output_type": "stream",
     "text": [
      "['Heraklion', 'edessa', 'bethleem']\n"
     ]
    }
   ],
   "source": [
    "def f(x):\n",
    "    return x.count('e')\n",
    "print (sorted(cities, key=f))"
   ]
  },
  {
   "cell_type": "code",
   "execution_count": 168,
   "metadata": {},
   "outputs": [
    {
     "name": "stdout",
     "output_type": "stream",
     "text": [
      "['Heraklion', 'edessa', 'bethleem']\n"
     ]
    }
   ],
   "source": [
    "print (sorted(cities, key=lambda x: x.count('e')))"
   ]
  },
  {
   "cell_type": "markdown",
   "metadata": {},
   "source": [
    "Έστω η λίστα:"
   ]
  },
  {
   "cell_type": "code",
   "execution_count": 170,
   "metadata": {},
   "outputs": [],
   "source": [
    "cities = [\n",
    "    ('Heraklion', 200_000),\n",
    "    ('Athens', 1_000_000),\n",
    "    ('Thessaloniki', 500_000),\n",
    "]"
   ]
  },
  {
   "cell_type": "markdown",
   "metadata": {},
   "source": [
    "Ποια είναι η πόλη με τους περισσότερους κατοίκους;"
   ]
  },
  {
   "cell_type": "code",
   "execution_count": 171,
   "metadata": {},
   "outputs": [
    {
     "data": {
      "text/plain": [
       "('Athens', 1000000)"
      ]
     },
     "execution_count": 171,
     "metadata": {},
     "output_type": "execute_result"
    }
   ],
   "source": [
    "def f(x):\n",
    "    return x[1]\n",
    "\n",
    "max(cities, key=f)"
   ]
  },
  {
   "cell_type": "code",
   "execution_count": 172,
   "metadata": {},
   "outputs": [
    {
     "data": {
      "text/plain": [
       "('Athens', 1000000)"
      ]
     },
     "execution_count": 172,
     "metadata": {},
     "output_type": "execute_result"
    }
   ],
   "source": [
    "max(cities, key=lambda x:x[1])"
   ]
  },
  {
   "cell_type": "markdown",
   "metadata": {},
   "source": [
    "### Variable scoping ή Variable visibility\n",
    "Με αυτόν τον περίεργο όρο αναφερόμαστε στην \"εμβέλεια\" που έχουν οι μεταβλητές σε μία γλώσσα προγραμματισμού. 'Η αλλιώς από ποιες συναρτήσεις και δομές μπορούμε να προσπελάσουμε μία μεταβλητή. Περισσότερα: https://en.wikipedia.org/wiki/Scope_%28computer_science%29 \n",
    "\n",
    "Ξεκινάμε λέγοντας ότι μία μεταβλητή που έχει οριστεί έξω από τη συνάρτηση μπορεί να προσπελάστεί μέσα στη συνάρτηση (αυτό είναι κάτι που γενικότερα το αποφεύγουμε).\n"
   ]
  },
  {
   "cell_type": "code",
   "execution_count": 173,
   "metadata": {},
   "outputs": [
    {
     "name": "stdout",
     "output_type": "stream",
     "text": [
      "3\n"
     ]
    }
   ],
   "source": [
    "a = 3\n",
    "\n",
    "def f():\n",
    "    print (a)\n",
    "\n",
    "f()\n"
   ]
  },
  {
   "cell_type": "markdown",
   "metadata": {},
   "source": [
    "Παρόλα αυτά αν μία μεταβλητή **οριστεί** μέσα σε μία συνάρτηση τότε \"ανεξαρτητοποιείται\". Δηλαδή ορίζεται για τη συνάρτηση και τη συνάρτηση μόνο:"
   ]
  },
  {
   "cell_type": "code",
   "execution_count": 174,
   "metadata": {},
   "outputs": [
    {
     "name": "stdout",
     "output_type": "stream",
     "text": [
      "3\n"
     ]
    }
   ],
   "source": [
    "a = 3\n",
    "def f():\n",
    "    a=5\n",
    "\n",
    "f()\n",
    "print (a)"
   ]
  },
  {
   "cell_type": "markdown",
   "metadata": {},
   "source": [
    "Παρατηρούμε ότι παρόλο που θέσαμε με 5 την a μέσα στη συνάρτηση, η a έξω από τη συνάρτηση δεν άλλαξε. Αυτό έγινε επειδή οι δύο μεταβλητές παρόλο που έχουν το ίδιο όνομα, είναι διαφορετικές. \n",
    "\n",
    "Μία απορία είναι: πως γίνεται όταν κάνω print(a) στο 1ο παράδειγμα να αναφέρομαι στην \"έξω\" a και όταν κάνω a=5 να αναφέρομαι στη \"μέσα\" a; Αυτό έχει προκαλέσει αρκετή σύγχηση αλλά η python έχει την εξής αρχή: αν θέσεις μία νέα τιμή σε μία μεταβλητή οπουδήποτε μέσα σε μία συνάρτηση τότε την ξαναορίζεις. Για παράδειγμα:"
   ]
  },
  {
   "cell_type": "code",
   "execution_count": 176,
   "metadata": {},
   "outputs": [
    {
     "ename": "UnboundLocalError",
     "evalue": "local variable 'a' referenced before assignment",
     "output_type": "error",
     "traceback": [
      "\u001b[0;31m---------------------------------------------------------------------------\u001b[0m",
      "\u001b[0;31mUnboundLocalError\u001b[0m                         Traceback (most recent call last)",
      "\u001b[0;32m<ipython-input-176-835a5d405592>\u001b[0m in \u001b[0;36m<module>\u001b[0;34m\u001b[0m\n\u001b[1;32m      4\u001b[0m     \u001b[0ma\u001b[0m\u001b[0;34m=\u001b[0m\u001b[0;36m5\u001b[0m\u001b[0;34m\u001b[0m\u001b[0;34m\u001b[0m\u001b[0m\n\u001b[1;32m      5\u001b[0m \u001b[0;34m\u001b[0m\u001b[0m\n\u001b[0;32m----> 6\u001b[0;31m \u001b[0mf\u001b[0m\u001b[0;34m(\u001b[0m\u001b[0;34m)\u001b[0m\u001b[0;34m\u001b[0m\u001b[0;34m\u001b[0m\u001b[0m\n\u001b[0m",
      "\u001b[0;32m<ipython-input-176-835a5d405592>\u001b[0m in \u001b[0;36mf\u001b[0;34m()\u001b[0m\n\u001b[1;32m      1\u001b[0m \u001b[0ma\u001b[0m\u001b[0;34m=\u001b[0m\u001b[0;36m5\u001b[0m\u001b[0;34m\u001b[0m\u001b[0;34m\u001b[0m\u001b[0m\n\u001b[1;32m      2\u001b[0m \u001b[0;32mdef\u001b[0m \u001b[0mf\u001b[0m\u001b[0;34m(\u001b[0m\u001b[0;34m)\u001b[0m\u001b[0;34m:\u001b[0m\u001b[0;34m\u001b[0m\u001b[0;34m\u001b[0m\u001b[0m\n\u001b[0;32m----> 3\u001b[0;31m     \u001b[0mprint\u001b[0m \u001b[0;34m(\u001b[0m\u001b[0ma\u001b[0m\u001b[0;34m)\u001b[0m\u001b[0;34m\u001b[0m\u001b[0;34m\u001b[0m\u001b[0m\n\u001b[0m\u001b[1;32m      4\u001b[0m     \u001b[0ma\u001b[0m\u001b[0;34m=\u001b[0m\u001b[0;36m5\u001b[0m\u001b[0;34m\u001b[0m\u001b[0;34m\u001b[0m\u001b[0m\n\u001b[1;32m      5\u001b[0m \u001b[0;34m\u001b[0m\u001b[0m\n",
      "\u001b[0;31mUnboundLocalError\u001b[0m: local variable 'a' referenced before assignment"
     ]
    }
   ],
   "source": [
    "a=5\n",
    "def f():\n",
    "    print (a)\n",
    "    a=5\n",
    "    \n",
    "f()"
   ]
  },
  {
   "cell_type": "markdown",
   "metadata": {},
   "source": [
    "Τι έγινε εδώ; Γιατί πέταξε αυτό το λάθος; Όπως είπαμε και πριν: αν θέσεις μία νέα τιμή σε μία μεταβλητή οπουδήποτε μέσα σε μία συνάρτηση τότε την ξαναορίζεις. Εδώ η a ξαναορίστηκε μέσα στη συνάρτηση (γραμμή 4). Όταν λοιπόν πάμε να κάνουμε print(a) (γραμμή 3), τότε του λέμε να τυπώσει τη μεταβλητή a της συνάρτησης η οποία.. δεν έχει ακόμα οριστεί!\n",
    "\n",
    "Αν για κάποιο λόγο θέλουμε να πούμε ότι η a στη f αναφέρεται στη \"έξω\" a και όχι στη \"μέσα\" πρέπει να το δηλώσουμε:"
   ]
  },
  {
   "cell_type": "code",
   "execution_count": 178,
   "metadata": {},
   "outputs": [
    {
     "name": "stdout",
     "output_type": "stream",
     "text": [
      "5\n",
      "6\n"
     ]
    }
   ],
   "source": [
    "a=5\n",
    "def f():\n",
    "    global a\n",
    "    \n",
    "    print (a)\n",
    "    a=6\n",
    "    \n",
    "f()\n",
    "print (a)"
   ]
  },
  {
   "cell_type": "markdown",
   "metadata": {},
   "source": [
    "Εδώ παρατηρούμε το εξής: αλλάξαμε τη a μέσα στη συνάρτηση και άλλαξε και έξω!\n",
    "\n",
    "Επίσης είναι προφανές ότι μία μεταβλητή που έχει οριστεί μέσα σε μία συνάρτηση δεν \"υπάρχει\" έξω από αυτή:"
   ]
  },
  {
   "cell_type": "code",
   "execution_count": 182,
   "metadata": {},
   "outputs": [
    {
     "ename": "NameError",
     "evalue": "name 't' is not defined",
     "output_type": "error",
     "traceback": [
      "\u001b[0;31m---------------------------------------------------------------------------\u001b[0m",
      "\u001b[0;31mNameError\u001b[0m                                 Traceback (most recent call last)",
      "\u001b[0;32m<ipython-input-182-4a4591587f68>\u001b[0m in \u001b[0;36m<module>\u001b[0;34m\u001b[0m\n\u001b[1;32m      1\u001b[0m \u001b[0;32mdef\u001b[0m \u001b[0mf\u001b[0m\u001b[0;34m(\u001b[0m\u001b[0mx\u001b[0m\u001b[0;34m)\u001b[0m\u001b[0;34m:\u001b[0m\u001b[0;34m\u001b[0m\u001b[0;34m\u001b[0m\u001b[0m\n\u001b[1;32m      2\u001b[0m     \u001b[0mt\u001b[0m \u001b[0;34m=\u001b[0m \u001b[0;34m\"hello\"\u001b[0m\u001b[0;34m\u001b[0m\u001b[0;34m\u001b[0m\u001b[0m\n\u001b[0;32m----> 3\u001b[0;31m \u001b[0mprint\u001b[0m \u001b[0;34m(\u001b[0m\u001b[0mt\u001b[0m\u001b[0;34m)\u001b[0m\u001b[0;34m\u001b[0m\u001b[0;34m\u001b[0m\u001b[0m\n\u001b[0m",
      "\u001b[0;31mNameError\u001b[0m: name 't' is not defined"
     ]
    }
   ],
   "source": [
    "def f(x):\n",
    "    t = \"hello\"\n",
    "print (t)"
   ]
  },
  {
   "cell_type": "markdown",
   "metadata": {},
   "source": [
    "Κάποιες (σπάνιες..) φορές θέλουμε να αναφερθούμε σε μία μεταβλητή η οποία να μην είναι global, να μην είναι local (δηλαδή να μην έχει οριστεί μέσα στη συνάρτηση), αλλά να έχει οριστεί σε μία συνάρτηση στο αμέσως πιο πάνω επίπεδο. Τότε χρησιμοποιούμε το `nonlocal`:"
   ]
  },
  {
   "cell_type": "code",
   "execution_count": 42,
   "metadata": {},
   "outputs": [
    {
     "name": "stdout",
     "output_type": "stream",
     "text": [
      "4\n"
     ]
    }
   ],
   "source": [
    "a = 3\n",
    "def f():\n",
    "    a = 4\n",
    "    def g():\n",
    "        nonlocal a # Αναφέρεται στην a της f\n",
    "        print (a) # Τυπώνει 4\n",
    "    g()\n",
    "        \n",
    "f()"
   ]
  },
  {
   "cell_type": "markdown",
   "metadata": {},
   "source": [
    "Δείτε τη διαφορά με αυτό:"
   ]
  },
  {
   "cell_type": "code",
   "execution_count": 44,
   "metadata": {},
   "outputs": [
    {
     "name": "stdout",
     "output_type": "stream",
     "text": [
      "3\n"
     ]
    }
   ],
   "source": [
    "a = 3\n",
    "def f():\n",
    "    a = 4\n",
    "    def g():\n",
    "        global a # Αναφέρεται στην εξωτερική a\n",
    "        print (a) # Τυπώνει 3\n",
    "    g()\n",
    "        \n",
    "f()"
   ]
  },
  {
   "cell_type": "markdown",
   "metadata": {},
   "source": [
    "Τι γίνεται με τις παραμέτρους των συναρτήσεων; Αν αλλάξουμε μία παράμετρο μέσα στη συνάρτηση, θα αλλάξει και έξω; Η απάντηση είναι.. εξαρτάται! Αν η παράμετρο είναι int, float, string, bool, complex, None (ή αλλιώς primitive data types). Τότε δεν αλλάζει:"
   ]
  },
  {
   "cell_type": "code",
   "execution_count": 180,
   "metadata": {},
   "outputs": [
    {
     "name": "stdout",
     "output_type": "stream",
     "text": [
      "My name is:\n"
     ]
    }
   ],
   "source": [
    "def f(x):\n",
    "    x += \" mitsos\"\n",
    "    \n",
    "x = \"My name is:\"\n",
    "f(x)\n",
    "print (x)"
   ]
  },
  {
   "cell_type": "markdown",
   "metadata": {},
   "source": [
    "Αν όμως είναι list, dictionary, set, class (θα τα μάθουμε αργότερα). Τότε αλλάζει!"
   ]
  },
  {
   "cell_type": "code",
   "execution_count": 181,
   "metadata": {},
   "outputs": [
    {
     "name": "stdout",
     "output_type": "stream",
     "text": [
      "[1, 2, 3, 4, 5]\n"
     ]
    }
   ],
   "source": [
    "def f(l):\n",
    "    l.append(5)\n",
    "    \n",
    "a = [1,2,3,4]\n",
    "f(a)\n",
    "print (a)"
   ]
  }
 ],
 "metadata": {
  "kernelspec": {
   "display_name": "Python 3",
   "language": "python",
   "name": "python3"
  },
  "language_info": {
   "codemirror_mode": {
    "name": "ipython",
    "version": 3
   },
   "file_extension": ".py",
   "mimetype": "text/x-python",
   "name": "python",
   "nbconvert_exporter": "python",
   "pygments_lexer": "ipython3",
   "version": "3.8.5"
  }
 },
 "nbformat": 4,
 "nbformat_minor": 4
}
