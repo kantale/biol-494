{
 "cells": [
  {
   "cell_type": "markdown",
   "metadata": {},
   "source": [
    "# Kλάσεις (μέρος 1ο)\n",
    "Αλήθεια δεν έχετε βαρεθεί με όλα αυτά τα lists, dictionaries, sets κτλ και με όλες τις ιδιοτροπίες τους; Γιατί πρέπει να βάζω τα γονίδια σε λίστες, τα χρωμοσώματα σε dictionaries κτλ; Δεν θα ήταν ωραίο να έφτιαχνα τον δικό μου τρόπο που διαχειρίζομαι και αποθηκεύω τα δεδομένα μου; \n",
    "\n",
    "Αυτό ακριβώς κάνουν οι κλάσεις!\n",
    "\n",
    "Με τις κλάσεις ορίζετε εσείς τι πράξεις μπορώ να κάνω στα δεδομένα, πως αποθηκεύονται, πως τυπώνονται, πως προσθέτω νέα, πως σβήνω παλιά, πως...\n",
    "\n",
    "Αλλά αρκετά με τα λόγια. Ας δούμε την πιο απλή κλάση που μπορεί να υπάρχει:"
   ]
  },
  {
   "cell_type": "code",
   "execution_count": 1,
   "metadata": {},
   "outputs": [],
   "source": [
    "class Human:\n",
    "    pass"
   ]
  },
  {
   "cell_type": "markdown",
   "metadata": {},
   "source": [
    "Μόλις έχω φτιάξει μία νέα κλάση. Τα lists, dictionaries, sets, exceptions είναι και αυτά κλάσεις. Ας φτιάξουμε τώρα ένα *αντικείμενο* από αυτή τη κλάση:"
   ]
  },
  {
   "cell_type": "code",
   "execution_count": 2,
   "metadata": {},
   "outputs": [],
   "source": [
    "alex = Human()"
   ]
  },
  {
   "cell_type": "markdown",
   "metadata": {},
   "source": [
    "Το alex είναι μία νέα μεταβλητή τύπου Human.\n",
    "\n",
    "Θυμηθείτε λίγο το:\n",
    "```python\n",
    "a = [1,2,3]\n",
    "```\n",
    "\n",
    "Όπως ακριβώς το a ήταν μία μεταβλητή τύπου list, έτσι και το alex είναι μία μεταβλητή τύπου Human. Δηλαδή έχουμε φτιάξει ένα νέο τύπου μεταβλητής."
   ]
  },
  {
   "cell_type": "code",
   "execution_count": 3,
   "metadata": {},
   "outputs": [
    {
     "data": {
      "text/plain": [
       "__main__.Human"
      ]
     },
     "execution_count": 3,
     "metadata": {},
     "output_type": "execute_result"
    }
   ],
   "source": [
    "type(alex)"
   ]
  },
  {
   "cell_type": "markdown",
   "metadata": {},
   "source": [
    "Εδώ πρέπει να κάνουμε ένα διάλειμα και να μιλήσουμε λίγο για την ορολογία. Όταν κάνουμε:\n",
    "```\n",
    "a=3\n",
    "```\n",
    "τότε λέμε ότι το a είναι μία μεταβλητή τύπου int και η τιμή της είναι 3.\n",
    "\n",
    "Όταν όμως λέμε:\n",
    "```\n",
    "alex=Human()\n",
    "```\n",
    "Τότε τι τιμή έχει το alex;\n",
    "\n",
    "Ακριβώς επειδή δεν μπορούμε να απαντήσουμε με ακρίβεια (και συντομία) σε αυτήν την ερώτηση, λέμε ότι το alex είναι ένα ξεχωριστό είδος μεταβλητής, το οποίο ονομάζουμε **αντικείμενο** (object). Ή για να είμαστε πιο ακριβείς, ένα αντικείμενο τύπου Human."
   ]
  },
  {
   "cell_type": "markdown",
   "metadata": {},
   "source": [
    "Όταν φτιάχνουμε έναν δικό μας τύπο μεταβλητής (δηλαδή όταν φτιάχνουμε ένα αντικείμενο μίας κλάσης), τότε μπορούμε να την κάνουμε να έχει ό,τι ιδιότητα θέλουμε:"
   ]
  },
  {
   "cell_type": "code",
   "execution_count": 4,
   "metadata": {},
   "outputs": [],
   "source": [
    "alex.name = \"Αλέξανδρος\"\n",
    "alex.age = 45"
   ]
  },
  {
   "cell_type": "code",
   "execution_count": 5,
   "metadata": {},
   "outputs": [
    {
     "name": "stdout",
     "output_type": "stream",
     "text": [
      "Αλέξανδρος 45\n"
     ]
    }
   ],
   "source": [
    "print (alex.name, alex.age)"
   ]
  },
  {
   "cell_type": "markdown",
   "metadata": {},
   "source": [
    "Έχουμε ξαναδεί αυτό το ```μεταβλητή.ιδιότητα``` και πιο παλιά.\n",
    "\n",
    "όταν κάναμε:\n",
    "```python\n",
    "a = [1,2,4]\n",
    "a.append(5)\n",
    "```\n",
    "\n",
    "Τότε χρησιμοποιούσαμε την ιδιότητα ```append``` της κλάσης ```list```  "
   ]
  },
  {
   "cell_type": "markdown",
   "metadata": {},
   "source": [
    "Ας φτιάξω τώρα στον alex μία ιδιότητα που υπολογίζει αν είναι ενήλικας ή όχι. Πως θα το κάνω αυτό; Ένας τρόπος είναι αυτός:"
   ]
  },
  {
   "cell_type": "code",
   "execution_count": 7,
   "metadata": {},
   "outputs": [
    {
     "data": {
      "text/plain": [
       "True"
      ]
     },
     "execution_count": 7,
     "metadata": {},
     "output_type": "execute_result"
    }
   ],
   "source": [
    "def is_adult(human):\n",
    "    return human.age >= 18\n",
    "\n",
    "is_adult(alex)"
   ]
  },
  {
   "cell_type": "markdown",
   "metadata": {},
   "source": [
    "Αν και το παραπάνω μας έδωσε το αποτέλεσμα που θέλαμε, η συνάρτηση is_adult ΔΕΝ είναι ιδιότητα του alex (όπως π.χ είναι το name και το age). \n",
    "\n",
    "Δηλαδή αντί για:\n",
    "```python\n",
    "is_adult(alex)\n",
    "```\n",
    "\n",
    "Εμείς θέλουμε να κάνουμε:\n",
    "```python\n",
    "alex.is_adult()\n",
    "```\n",
    "Προσέξτε ότι η is_adult() τώρα ΔΕΝ παίρνει κάποιο όρισμα!\n",
    "Τότε πως θα μπορέσω εγώ να πάρω το age για να δω αν είναι adult ή όχι;\n",
    "\n",
    "Η python μας δίνει τη δυνατότητα να φτιάξουμε συναρτήσεις οι οποίες μπορούν να είναι ιδιότητες σε ένα αντικείμενο. Για να γίνει αυτό, πρέπει να ικανοποιηθούν 2 προϋποθέσεις:\n",
    "* Η πρώτη προϋπόθεση είναι ότι το πρώτο όρισμα της συνάρτησης πρέπει να είναι μία μεταβλητή που ονομάζεται: ```self```. Η ```self``` περιέχει το αντικείμενο για το οποίο \"καλείται\" η συνάρτηση αυτή. Δηλαδή όταν λέμε: ```αντικείμενο.μέθοδος()```, το ```self``` είναι το ```αντικείμενο```. Στη περίπτωσή μας, όταν λέμε ```alex.is_adult()```, το ```self``` περιέχει το αντικείμενο ```alex```.\n",
    "* Η συνάρτηση πρέπει να ορίζεται μέσα στη κλάση και όχι μέσα στο αντικείμενο. \n",
    "\n",
    "Αυτές οι δύο προϋποθέσεις συνοψίζονται στο παρακάτω παράδειγμα: "
   ]
  },
  {
   "cell_type": "code",
   "execution_count": 8,
   "metadata": {},
   "outputs": [],
   "source": [
    "class Human:\n",
    "    # Η Συνάρτηση ορίζεται μέσα στη κλάση\n",
    "    def is_adult(self,): # Το πρώτο όρισμα είναι το self\n",
    "        return self.age >= 18"
   ]
  },
  {
   "cell_type": "markdown",
   "metadata": {},
   "source": [
    "Τώρα μπορώ να κάνω:"
   ]
  },
  {
   "cell_type": "code",
   "execution_count": 9,
   "metadata": {},
   "outputs": [
    {
     "data": {
      "text/plain": [
       "True"
      ]
     },
     "execution_count": 9,
     "metadata": {},
     "output_type": "execute_result"
    }
   ],
   "source": [
    "alex = Human()\n",
    "alex.age = 40\n",
    "alex.is_adult()"
   ]
  },
  {
   "cell_type": "markdown",
   "metadata": {},
   "source": [
    "Το παραπάνω κρύβει πολύ \"φιλοσοφία\" μέσα του. Ας το ξαναγράψουμε:\n",
    "```python\n",
    "alex = Human()\n",
    "alex.age = 40\n",
    "alex.is_adult()\n",
    "```\n",
    "\n",
    "Προσέξτε το εξής: Έχω ορίσει έναν νέο τύπο μεταβλητής (Human) το οποίο αν του βάλω ένα πεδίο με το όνομα age τότε μπορεί να υπολογίσει αν αυτό το Human είναι adult ή όχι. Δηλαδή ο νέος τύπος (Human) δημιουργεί μεταβλητές που έχουν μια *συμπεριφορά*: αυτή του να υπολογίζουν αν η μεταβλητή αναφέρεται σε ενήλικο ή όχι. Επίσης παρατηρούμε ότι κάποιος δεν χρειάζεται να έχει ιδέα για το πως έχει υλοποιηθεί η is_adult, αρκεί να ξέρει ότι είναι *μέθοδος* της κλάσης. Όπως ακριβώς δεν έχουμε ιδέα πως έχει υλοποιηθεί η append στις λίστες. Μέθοδος μίας κλάσης είναι μία ιδιότητα η οποία είναι συνάρτηση.\n",
    "\n",
    "Το ```alex.is_adult()``` με  το ```is_adult(alex)``` έχουν μια τεράστια διαφορά: Αν διαβάσουμε το πρώτο (```alex.is_adult()```) από αριστερά προς τα δεξιά τότε πάμε από το γενικό (```alex```) προς το ειδικό (```is_adult```). Ενώ αν διαβάσουμε το δεύτερο τότε πάμε από το ειδικό προς το γενικό. \n",
    "\n",
    "Στη \"πραγματική\" ζωή τι είναι πιο πιθανό να ρωτάγαμε: \"Είναι ο Alex ενήλικας;\" ή \"Είναι ενήλικας ο Alex;\" (δοκιμάστε το και στα Αγγλικά που δεν επιτρέπουν τόσο ποικιλία στη θέση των λέξεων όσο τα Ελληνικά).\n",
    "\n",
    "### Και λίγο ιστορία\n",
    "Στη προσπάθεια λοιπόν να γίνει ο προγραμματισμός πιο \"φυσιολογικός\" και πιο κοντά στην ανθρώπινη αντίληψη, εισήχθει τη δεκαετία του '50 η έννοια του [*αντικειμενοστραφή* προγραμματισμού](https://en.wikipedia.org/wiki/Object-oriented_programming). Όπως και όλες σχεδόν οι προγραμματιστικές έννοιες έχει περάσει απο \"40 κύματα\", δηλαδή με πολλές υλοποιήσεις και ορισμούς.\n",
    "\n",
    "Αυτό που πρέπει να κρατήσουμε είναι ότι μέσω του ΑΣΠ (ΑντικειμενοΣτραφής Προγραμματισμός) (OOP στα Αγγλικά) μπορούμε να χρησιμοποιήσουμε το συντακτικό της python για να γράψουμε πράγματα που βγάζουν πιο έυκολα νόημα. π.χ.:\n",
    "\n",
    "Ένα κομμάτι ΑΣΠ προγραμματισμού τύπικα έχει εντολές όπως αυτές:\n",
    "\n",
    "```python \n",
    "if geneA.is_in_between(geneB)...\n",
    "if debt.is_paid()....\n",
    "alex.hire()\n",
    "if circle_A > circle_B ...\n",
    "```\n",
    "\n",
    "Οι ίδιες εντολές αν υποθέσουμε ότι χρησιμοποιούμε μόνο lists, dictionaries, sets κτλ και δεν χρησιμοποιούμε ΑΣΠ θα ήταν κάπως έτσι:\n",
    "\n",
    "```python\n",
    "if geneA['start'] > geneB['start'] and geneA['start'] < geneB['end']...\n",
    "if debt['capital']['balance'] == 0.0...\n",
    "alex['job_status'] = statuses['hired']\n",
    "if circle_A['radius'] > circle_B['radius']\n",
    "```\n",
    "\n",
    "Παρατηρούμε πόσο πιο κοντά στην ανθρώπινη αντίληψη είναι το πρώτο σετ εντολών. "
   ]
  },
  {
   "cell_type": "markdown",
   "metadata": {},
   "source": [
    "Αν έχετε μπερδευτεί είναι φυσιολογικό. Ας συνοψίσουμε λίγο την ορολογία:\n",
    "* **Κλάση** (class): Ένας τύπος δεδομένων κατάλληλος για συγκεκριμένες έννοιες (άνθρωπος, εταιρία, γονίδιο, ασθένεια)\n",
    "* **Αντικείμενο** (οbject): Μία μεταβλητή που ο τύπος της είναι μία κλάση. (σε αντιστοιχία με τα παραπάνω: Μίτσος, public, TPMT, Δαλτονισμός)\n",
    "* **Ιδιότητα** (attribute): Μία ιδιότητα της κλάσσης (σε αντιστοιχία με τα παραπάνω: όνομα, πλήθος εργαζομένων, μήκος, γενετικός παράγοντας)\n",
    "* **Μέθοδος** (method): Μία ιδιότητα που είναι συνάρτηση (σε αντιστοιχία με τα παραπάνω: περπατάει, προσλαμβάνει, εκφράζεται, αντιμετωπίζεται)"
   ]
  },
  {
   "cell_type": "markdown",
   "metadata": {},
   "source": [
    "Ας επιστρέψουμε στη κλάση που έχουμε φτιάξει:"
   ]
  },
  {
   "cell_type": "code",
   "execution_count": 10,
   "metadata": {},
   "outputs": [],
   "source": [
    "class Human:\n",
    "    # Η Συνάρτηση ορίζεται μέσα στη κλάση\n",
    "    def is_adult(self,): # Το πρώτο όρισμα είναι το self\n",
    "        return self.age >= 18"
   ]
  },
  {
   "cell_type": "markdown",
   "metadata": {},
   "source": [
    "Αν φτιάξουμε έναν άνθρωπο και δεν του δώσουμε ηλικία, προφανώς δεν μπορούμε να τρέξουμε την is_adult:"
   ]
  },
  {
   "cell_type": "code",
   "execution_count": 11,
   "metadata": {},
   "outputs": [
    {
     "ename": "AttributeError",
     "evalue": "'Human' object has no attribute 'age'",
     "output_type": "error",
     "traceback": [
      "\u001b[0;31m---------------------------------------------------------------------------\u001b[0m",
      "\u001b[0;31mAttributeError\u001b[0m                            Traceback (most recent call last)",
      "\u001b[0;32m<ipython-input-11-efae3772950a>\u001b[0m in \u001b[0;36m<module>\u001b[0;34m\u001b[0m\n\u001b[1;32m      1\u001b[0m \u001b[0mkostas\u001b[0m \u001b[0;34m=\u001b[0m \u001b[0mHuman\u001b[0m\u001b[0;34m(\u001b[0m\u001b[0;34m)\u001b[0m\u001b[0;34m\u001b[0m\u001b[0;34m\u001b[0m\u001b[0m\n\u001b[1;32m      2\u001b[0m \u001b[0mkostas\u001b[0m\u001b[0;34m.\u001b[0m\u001b[0mname\u001b[0m\u001b[0;34m=\u001b[0m\u001b[0;34m\"Κώτσος\"\u001b[0m\u001b[0;34m\u001b[0m\u001b[0;34m\u001b[0m\u001b[0m\n\u001b[0;32m----> 3\u001b[0;31m \u001b[0mkostas\u001b[0m\u001b[0;34m.\u001b[0m\u001b[0mis_adult\u001b[0m\u001b[0;34m(\u001b[0m\u001b[0;34m)\u001b[0m\u001b[0;34m\u001b[0m\u001b[0;34m\u001b[0m\u001b[0m\n\u001b[0m",
      "\u001b[0;32m<ipython-input-10-3b5fc2a2b980>\u001b[0m in \u001b[0;36mis_adult\u001b[0;34m(self)\u001b[0m\n\u001b[1;32m      2\u001b[0m     \u001b[0;31m# Η Συνάρτηση ορίζεται μέσα στη κλάση\u001b[0m\u001b[0;34m\u001b[0m\u001b[0;34m\u001b[0m\u001b[0;34m\u001b[0m\u001b[0m\n\u001b[1;32m      3\u001b[0m     \u001b[0;32mdef\u001b[0m \u001b[0mis_adult\u001b[0m\u001b[0;34m(\u001b[0m\u001b[0mself\u001b[0m\u001b[0;34m,\u001b[0m\u001b[0;34m)\u001b[0m\u001b[0;34m:\u001b[0m \u001b[0;31m# Το πρώτο όρισμα είναι το self\u001b[0m\u001b[0;34m\u001b[0m\u001b[0;34m\u001b[0m\u001b[0m\n\u001b[0;32m----> 4\u001b[0;31m         \u001b[0;32mreturn\u001b[0m \u001b[0mself\u001b[0m\u001b[0;34m.\u001b[0m\u001b[0mage\u001b[0m \u001b[0;34m>=\u001b[0m \u001b[0;36m18\u001b[0m\u001b[0;34m\u001b[0m\u001b[0;34m\u001b[0m\u001b[0m\n\u001b[0m",
      "\u001b[0;31mAttributeError\u001b[0m: 'Human' object has no attribute 'age'"
     ]
    }
   ],
   "source": [
    "kostas = Human()\n",
    "kostas.name=\"Κώτσος\"\n",
    "kostas.is_adult()"
   ]
  },
  {
   "cell_type": "markdown",
   "metadata": {},
   "source": [
    "Πως μπορούμε να υποχρεώσουμε όταν δηλώνουμε ένα αντικείμενο τύπου Human, να δηλώνουμε και το age; Αυτό μπορεί να γίνε με την μέθοδο ```__init__()```:"
   ]
  },
  {
   "cell_type": "code",
   "execution_count": 12,
   "metadata": {},
   "outputs": [],
   "source": [
    "class Human:\n",
    "    def __init__(self, age):\n",
    "        self.age = age\n",
    "    # Η Συνάρτηση ορίζεται μέσα στη κλάση\n",
    "    def is_adult(self,): # Το πρώτο όρισμα είναι το self\n",
    "        return self.age >= 18"
   ]
  },
  {
   "cell_type": "markdown",
   "metadata": {},
   "source": [
    "Τι είναι αυτό το:\n",
    "\n",
    "```python\n",
    "self.age=age\n",
    "```\n",
    "\n",
    "Εδώ όταν αρχικοποιούμε ένα αντικείμενο, δημιουργούμε μία ιδιότητα (self.age) και την αρχικοποιούμε με την τιμη της παραμετρου age της ```__init__```:"
   ]
  },
  {
   "cell_type": "code",
   "execution_count": 14,
   "metadata": {},
   "outputs": [
    {
     "ename": "TypeError",
     "evalue": "__init__() missing 1 required positional argument: 'age'",
     "output_type": "error",
     "traceback": [
      "\u001b[0;31m---------------------------------------------------------------------------\u001b[0m",
      "\u001b[0;31mTypeError\u001b[0m                                 Traceback (most recent call last)",
      "\u001b[0;32m<ipython-input-14-12a27f13d5ce>\u001b[0m in \u001b[0;36m<module>\u001b[0;34m\u001b[0m\n\u001b[0;32m----> 1\u001b[0;31m \u001b[0malex\u001b[0m \u001b[0;34m=\u001b[0m \u001b[0mHuman\u001b[0m\u001b[0;34m(\u001b[0m\u001b[0;34m)\u001b[0m\u001b[0;34m\u001b[0m\u001b[0;34m\u001b[0m\u001b[0m\n\u001b[0m",
      "\u001b[0;31mTypeError\u001b[0m: __init__() missing 1 required positional argument: 'age'"
     ]
    }
   ],
   "source": [
    "alex = Human()"
   ]
  },
  {
   "cell_type": "markdown",
   "metadata": {},
   "source": [
    "Είμαστε υποχρεωμένοι να δηλώσουμε age!"
   ]
  },
  {
   "cell_type": "code",
   "execution_count": 15,
   "metadata": {},
   "outputs": [],
   "source": [
    "alex = Human(age=45)"
   ]
  },
  {
   "cell_type": "code",
   "execution_count": 16,
   "metadata": {},
   "outputs": [
    {
     "data": {
      "text/plain": [
       "True"
      ]
     },
     "execution_count": 16,
     "metadata": {},
     "output_type": "execute_result"
    }
   ],
   "source": [
    "alex.is_adult()"
   ]
  },
  {
   "cell_type": "markdown",
   "metadata": {},
   "source": [
    "Οι κλάσεις έχουν κάποιες \"ειδικές\" μεθόδους οι οποίες καλούνται μέσα από της built-in συναρτήσεις (```print```, ```len```, ...) της python. Μία από αυτές είναι η ```___str___```. Αυτή η συνάρτηση καλείται όποτε χρειαζόμαστε μια αναπαράσταση της κλάσης σε string (συνήθως μέσω της ```print```): "
   ]
  },
  {
   "cell_type": "code",
   "execution_count": 17,
   "metadata": {},
   "outputs": [
    {
     "name": "stdout",
     "output_type": "stream",
     "text": [
      "-->Δημήτρης Τραμπάκουλας<--\n"
     ]
    }
   ],
   "source": [
    "class Person:\n",
    "    def __init__(self, name, surname):\n",
    "        self.name = name\n",
    "        self.surname = surname\n",
    "    def __str__(self):\n",
    "        return '-->{} {}<--'.format(self.name, self.surname)\n",
    "    \n",
    "mitsos = Person(\"Δημήτρης\", \"Τραμπάκουλας\")\n",
    "print (mitsos)"
   ]
  },
  {
   "cell_type": "markdown",
   "metadata": {},
   "source": [
    "Μία άλλη μέθοδος είναι η ```__len__``` η οποία καλείται όταν εφαρμόζουμε στο αντικέμενο μας την ```len()```:"
   ]
  },
  {
   "cell_type": "code",
   "execution_count": 18,
   "metadata": {},
   "outputs": [
    {
     "data": {
      "text/plain": [
       "50"
      ]
     },
     "execution_count": 18,
     "metadata": {},
     "output_type": "execute_result"
    }
   ],
   "source": [
    "class Gene:\n",
    "    def __init__(self, name, start, stop):\n",
    "        self.name = name\n",
    "        self.start = start\n",
    "        self.stop = stop\n",
    "        \n",
    "    def __len__(self,):\n",
    "        return self.stop-self.start\n",
    "    \n",
    "tpmt = Gene('TPMT', 150, 200)\n",
    "len(tpmt) # 200-150"
   ]
  },
  {
   "cell_type": "markdown",
   "metadata": {},
   "source": [
    "Μία άλλη μέθοδος είναι η ```__getitem__``` η οποία μας επιτρέπει να \"πάρουμε\" ένα στοιχείο από μία συλλογή μέσω του τελεστή: ```[]```:"
   ]
  },
  {
   "cell_type": "code",
   "execution_count": 19,
   "metadata": {},
   "outputs": [],
   "source": [
    "class Gene:\n",
    "    def __init__(self, name, start, stop):\n",
    "        self.name = name\n",
    "        self.start = start\n",
    "        self.stop = stop\n",
    "        \n",
    "    def __getitem__(self, i):\n",
    "        ret = self.start + i\n",
    "        if ret > self.stop:\n",
    "            raise IndexError\n",
    "        return ret\n",
    "    "
   ]
  },
  {
   "cell_type": "code",
   "execution_count": 20,
   "metadata": {},
   "outputs": [
    {
     "data": {
      "text/plain": [
       "173"
      ]
     },
     "execution_count": 20,
     "metadata": {},
     "output_type": "execute_result"
    }
   ],
   "source": [
    "tpmt = Gene('TPMT', 150, 200)\n",
    "tpmt[23]"
   ]
  },
  {
   "cell_type": "code",
   "execution_count": 21,
   "metadata": {},
   "outputs": [
    {
     "ename": "IndexError",
     "evalue": "",
     "output_type": "error",
     "traceback": [
      "\u001b[0;31m---------------------------------------------------------------------------\u001b[0m",
      "\u001b[0;31mIndexError\u001b[0m                                Traceback (most recent call last)",
      "\u001b[0;32m<ipython-input-21-39a580f61a36>\u001b[0m in \u001b[0;36m<module>\u001b[0;34m\u001b[0m\n\u001b[0;32m----> 1\u001b[0;31m \u001b[0mtpmt\u001b[0m\u001b[0;34m[\u001b[0m\u001b[0;36m60\u001b[0m\u001b[0;34m]\u001b[0m\u001b[0;34m\u001b[0m\u001b[0;34m\u001b[0m\u001b[0m\n\u001b[0m",
      "\u001b[0;32m<ipython-input-19-17b2584805cd>\u001b[0m in \u001b[0;36m__getitem__\u001b[0;34m(self, i)\u001b[0m\n\u001b[1;32m      8\u001b[0m         \u001b[0mret\u001b[0m \u001b[0;34m=\u001b[0m \u001b[0mself\u001b[0m\u001b[0;34m.\u001b[0m\u001b[0mstart\u001b[0m \u001b[0;34m+\u001b[0m \u001b[0mi\u001b[0m\u001b[0;34m\u001b[0m\u001b[0;34m\u001b[0m\u001b[0m\n\u001b[1;32m      9\u001b[0m         \u001b[0;32mif\u001b[0m \u001b[0mret\u001b[0m \u001b[0;34m>\u001b[0m \u001b[0mself\u001b[0m\u001b[0;34m.\u001b[0m\u001b[0mstop\u001b[0m\u001b[0;34m:\u001b[0m\u001b[0;34m\u001b[0m\u001b[0;34m\u001b[0m\u001b[0m\n\u001b[0;32m---> 10\u001b[0;31m             \u001b[0;32mraise\u001b[0m \u001b[0mIndexError\u001b[0m\u001b[0;34m\u001b[0m\u001b[0;34m\u001b[0m\u001b[0m\n\u001b[0m\u001b[1;32m     11\u001b[0m         \u001b[0;32mreturn\u001b[0m \u001b[0mret\u001b[0m\u001b[0;34m\u001b[0m\u001b[0;34m\u001b[0m\u001b[0m\n\u001b[1;32m     12\u001b[0m \u001b[0;34m\u001b[0m\u001b[0m\n",
      "\u001b[0;31mIndexError\u001b[0m: "
     ]
    }
   ],
   "source": [
    "tpmt[60]"
   ]
  },
  {
   "cell_type": "markdown",
   "metadata": {},
   "source": [
    "Δύο άλλες μέθοδοι είναι οι ```__iter__``` και η ```__next__```. Υλοποιώντας αυτές τις μεθόδους μπορούμε να κάνουμε iteration σε ένα αντικείμενο:"
   ]
  },
  {
   "cell_type": "code",
   "execution_count": 24,
   "metadata": {},
   "outputs": [],
   "source": [
    "class Gene:\n",
    "    def __init__(self, name, start, stop):\n",
    "        self.name = name\n",
    "        self.start = start\n",
    "        self.stop = stop\n",
    "        \n",
    "    def __iter__(self,):\n",
    "        self.i = self.start\n",
    "        return self\n",
    "    \n",
    "    def __next__(self,):\n",
    "        if self.i == self.stop:\n",
    "            raise StopIteration\n",
    "            \n",
    "        ret = self.i\n",
    "        self.i += 1\n",
    "        return ret\n",
    "    "
   ]
  },
  {
   "cell_type": "code",
   "execution_count": 25,
   "metadata": {},
   "outputs": [
    {
     "name": "stdout",
     "output_type": "stream",
     "text": [
      "150\n",
      "151\n",
      "152\n",
      "153\n",
      "154\n",
      "155\n",
      "156\n",
      "157\n",
      "158\n",
      "159\n",
      "160\n",
      "161\n",
      "162\n",
      "163\n",
      "164\n",
      "165\n",
      "166\n",
      "167\n",
      "168\n",
      "169\n",
      "170\n",
      "171\n",
      "172\n",
      "173\n",
      "174\n",
      "175\n",
      "176\n",
      "177\n",
      "178\n",
      "179\n",
      "180\n",
      "181\n",
      "182\n",
      "183\n",
      "184\n",
      "185\n",
      "186\n",
      "187\n",
      "188\n",
      "189\n",
      "190\n",
      "191\n",
      "192\n",
      "193\n",
      "194\n",
      "195\n",
      "196\n",
      "197\n",
      "198\n",
      "199\n"
     ]
    }
   ],
   "source": [
    "tpmt = Gene('TPMT', 150, 200)\n",
    "for x in tpmt:\n",
    "    print (x)"
   ]
  },
  {
   "cell_type": "markdown",
   "metadata": {},
   "source": [
    "Μπορούμε ακόμα και να αλλάξουμε τη συμπεριφορά των πράξεων, υλοποιώντας τις ανάλογες μεθόδους. Για παράδειγμα μπορούμε να \"υποστηρίξουμε\" τη πράξη ```+``` στη κλάση Gene:"
   ]
  },
  {
   "cell_type": "code",
   "execution_count": 35,
   "metadata": {},
   "outputs": [],
   "source": [
    "class Gene:\n",
    "    def __init__(self, name, start, stop):\n",
    "        self.name = name\n",
    "        self.start = start\n",
    "        self.stop = stop\n",
    "        \n",
    "    def __add__(self, g):\n",
    "        return Gene(\n",
    "            name = f'{self.name}+{g.name}',\n",
    "            start=self.start,\n",
    "            stop = self.stop + g.stop-g.start, # Απλά προσθέτουμε το μήκος του g\n",
    "        )\n",
    "    \n",
    "    def __str__(self,):\n",
    "        return f'Gene: {self.name} Start: {self.start} End:{self.stop}'"
   ]
  },
  {
   "cell_type": "code",
   "execution_count": 36,
   "metadata": {},
   "outputs": [
    {
     "name": "stdout",
     "output_type": "stream",
     "text": [
      "Gene: TPMT+APOE Start: 150 End:270\n"
     ]
    }
   ],
   "source": [
    "tpmt = Gene('TPMT', 150, 200)\n",
    "apoe = Gene('APOE', 400, 470)\n",
    "\n",
    "new_gene = tpmt + apoe\n",
    "print (new_gene)"
   ]
  },
  {
   "cell_type": "markdown",
   "metadata": {},
   "source": [
    "Μπορούμε να δούμε όλες τις \"ειδικές\" μεθόδους που έχει μία κλάση:"
   ]
  },
  {
   "cell_type": "code",
   "execution_count": 37,
   "metadata": {},
   "outputs": [
    {
     "data": {
      "text/plain": [
       "['__add__',\n",
       " '__class__',\n",
       " '__delattr__',\n",
       " '__dict__',\n",
       " '__dir__',\n",
       " '__doc__',\n",
       " '__eq__',\n",
       " '__format__',\n",
       " '__ge__',\n",
       " '__getattribute__',\n",
       " '__gt__',\n",
       " '__hash__',\n",
       " '__init__',\n",
       " '__init_subclass__',\n",
       " '__le__',\n",
       " '__lt__',\n",
       " '__module__',\n",
       " '__ne__',\n",
       " '__new__',\n",
       " '__reduce__',\n",
       " '__reduce_ex__',\n",
       " '__repr__',\n",
       " '__setattr__',\n",
       " '__sizeof__',\n",
       " '__str__',\n",
       " '__subclasshook__',\n",
       " '__weakref__']"
      ]
     },
     "execution_count": 37,
     "metadata": {},
     "output_type": "execute_result"
    }
   ],
   "source": [
    "dir(Gene)"
   ]
  },
  {
   "cell_type": "markdown",
   "metadata": {},
   "source": [
    "# Κλάσεις (μέρος 2ο)\n",
    "Είχαμε πει ότι μπορεί μία κλάση να αποκτήσει \"μέγεθος\" (length) αν υλοποιήσει τη ```__len__``` μέθοδο:"
   ]
  },
  {
   "cell_type": "code",
   "execution_count": 49,
   "metadata": {},
   "outputs": [],
   "source": [
    "class Gene:\n",
    "    def __len__(self,):\n",
    "        return 50"
   ]
  },
  {
   "cell_type": "code",
   "execution_count": 50,
   "metadata": {},
   "outputs": [
    {
     "name": "stdout",
     "output_type": "stream",
     "text": [
      "50\n"
     ]
    }
   ],
   "source": [
    "b = Gene()\n",
    "print (len(b))"
   ]
  },
  {
   "cell_type": "markdown",
   "metadata": {},
   "source": [
    "Άλλωστε όταν εφαρμόζουμε τη ```len``` σε μία λίστα στη πραγματικότητα εκτελείται η ```__len__()```:"
   ]
  },
  {
   "cell_type": "code",
   "execution_count": 51,
   "metadata": {},
   "outputs": [
    {
     "name": "stdout",
     "output_type": "stream",
     "text": [
      "3\n"
     ]
    }
   ],
   "source": [
    "a = [1,2,5]\n",
    "print (a.__len__())"
   ]
  },
  {
   "cell_type": "markdown",
   "metadata": {},
   "source": [
    "Ας φτιάξουμε μία κλάση που αντιπροσωπεύει έναν άνθρωπο:"
   ]
  },
  {
   "cell_type": "code",
   "execution_count": 52,
   "metadata": {},
   "outputs": [],
   "source": [
    "class Human:\n",
    "    def __init__(self, name, age):\n",
    "        self.name = name\n",
    "        self.age = age"
   ]
  },
  {
   "cell_type": "markdown",
   "metadata": {},
   "source": [
    "Και ας φτιάξουμε και ένα αντικέμενο:"
   ]
  },
  {
   "cell_type": "code",
   "execution_count": 53,
   "metadata": {},
   "outputs": [],
   "source": [
    "mitsos = Human('Μήτσος', 50)"
   ]
  },
  {
   "cell_type": "code",
   "execution_count": 54,
   "metadata": {},
   "outputs": [
    {
     "data": {
      "text/plain": [
       "'Μήτσος'"
      ]
     },
     "execution_count": 54,
     "metadata": {},
     "output_type": "execute_result"
    }
   ],
   "source": [
    "mitsos.name"
   ]
  },
  {
   "cell_type": "markdown",
   "metadata": {},
   "source": [
    "Όπως έχουμε δει το name και το age είναι \"πεδία\" της κλάσης Human. Πολλές φορές χρειάζεται μία κλάση να έχει κάποιες μεταβλητές (συνήθως σταθερές τιμές) η οποία να είναι ίδιες για ΟΛΑ τα αντικείμενα αυτής της κλασής. Να πως γίνεται αυτό:"
   ]
  },
  {
   "cell_type": "code",
   "execution_count": 55,
   "metadata": {},
   "outputs": [],
   "source": [
    "class Human:\n",
    "    max_age = 100\n",
    "    \n",
    "    def __init__(self, name, age):\n",
    "        self.name = name\n",
    "        self.age = age\n",
    "        \n",
    "mitsos = Human('Μήτσος', 50)\n",
    "kwstas = Human('Κώστας', 10)"
   ]
  },
  {
   "cell_type": "code",
   "execution_count": 56,
   "metadata": {},
   "outputs": [
    {
     "name": "stdout",
     "output_type": "stream",
     "text": [
      "100\n"
     ]
    }
   ],
   "source": [
    "print (mitsos.max_age)"
   ]
  },
  {
   "cell_type": "markdown",
   "metadata": {},
   "source": [
    "Παρατηρήστε οτι το ```max_age``` δεν το έχουμε θέσει ούτε στον ```mitsos``` ούτε στο ```kwstas```. Παρόλα αυτά αν κάνουμε ```print (mitsos.max_age)``` βγάζει τη τιμή που έχουμε θέσει στη ```Human```. Αυτό γίνεται γιατί το max_age υπάρχει σε ΟΛΑ τα αντικείμενα της κλάσης ```Human```. Επίσης αν αλλάξουμε τη τιμή αυτού του πεδίου στη Human τότε θα αλλάξει σε όλα τα αντικείμενα αυτής της κλάσης:"
   ]
  },
  {
   "cell_type": "code",
   "execution_count": 57,
   "metadata": {},
   "outputs": [
    {
     "name": "stdout",
     "output_type": "stream",
     "text": [
      "200\n"
     ]
    }
   ],
   "source": [
    "Human.max_age = 200\n",
    "print (mitsos.max_age)"
   ]
  },
  {
   "cell_type": "markdown",
   "metadata": {},
   "source": [
    "**Ορισμός: οι ιδιότητες (πεδία ή μέθοδοι) μίας κλάσης που είναι προσπελάσιμες από την κλάση χωρίς να χρειάζεται η δημιουργία ενός αντικειμένου τους ονομάζονται static**"
   ]
  },
  {
   "cell_type": "markdown",
   "metadata": {},
   "source": [
    "Μπορεί και μία μέθοδος να είναι static:"
   ]
  },
  {
   "cell_type": "code",
   "execution_count": 58,
   "metadata": {},
   "outputs": [
    {
     "data": {
      "text/plain": [
       "True"
      ]
     },
     "execution_count": 58,
     "metadata": {},
     "output_type": "execute_result"
    }
   ],
   "source": [
    "class Human:\n",
    "    max_age = 100\n",
    "    \n",
    "    def __init__(self, name, age):\n",
    "        self.name = name\n",
    "        self.age = age\n",
    "        \n",
    "    def is_adult(age):\n",
    "        return age>18\n",
    "\n",
    "Human.is_adult(30)"
   ]
  },
  {
   "cell_type": "markdown",
   "metadata": {},
   "source": [
    "Το μειονέκτημα της παραπάνω υλοποίησης είναι ότι ΔΕΝ μπορούμε να τρέξουμε την ```is_adult``` από ένα αντικείμενο:"
   ]
  },
  {
   "cell_type": "code",
   "execution_count": 59,
   "metadata": {},
   "outputs": [
    {
     "ename": "TypeError",
     "evalue": "is_adult() takes 1 positional argument but 2 were given",
     "output_type": "error",
     "traceback": [
      "\u001b[0;31m---------------------------------------------------------------------------\u001b[0m",
      "\u001b[0;31mTypeError\u001b[0m                                 Traceback (most recent call last)",
      "\u001b[0;32m<ipython-input-59-a0e45862f27e>\u001b[0m in \u001b[0;36m<module>\u001b[0;34m\u001b[0m\n\u001b[1;32m      1\u001b[0m \u001b[0mmitsos\u001b[0m \u001b[0;34m=\u001b[0m \u001b[0mHuman\u001b[0m\u001b[0;34m(\u001b[0m\u001b[0;34m'Μήτσος'\u001b[0m\u001b[0;34m,\u001b[0m \u001b[0;36m50\u001b[0m\u001b[0;34m)\u001b[0m\u001b[0;34m\u001b[0m\u001b[0;34m\u001b[0m\u001b[0m\n\u001b[0;32m----> 2\u001b[0;31m \u001b[0mmitsos\u001b[0m\u001b[0;34m.\u001b[0m\u001b[0mis_adult\u001b[0m\u001b[0;34m(\u001b[0m\u001b[0;36m100\u001b[0m\u001b[0;34m)\u001b[0m\u001b[0;34m\u001b[0m\u001b[0;34m\u001b[0m\u001b[0m\n\u001b[0m",
      "\u001b[0;31mTypeError\u001b[0m: is_adult() takes 1 positional argument but 2 were given"
     ]
    }
   ],
   "source": [
    "mitsos = Human('Μήτσος', 50)\n",
    "mitsos.is_adult(100)"
   ]
  },
  {
   "cell_type": "markdown",
   "metadata": {},
   "source": [
    "Για να μπορεί να τρέξει μία μέθοδος και από τη κλάση αλλά και από το αντικείμενο πρέπει να χρησιμοποιήσουμε το ```@staticmethod```:"
   ]
  },
  {
   "cell_type": "code",
   "execution_count": 61,
   "metadata": {},
   "outputs": [],
   "source": [
    "class Human:\n",
    "    max_age = 100\n",
    "    \n",
    "    def __init__(self, name, age):\n",
    "        self.name = name\n",
    "        self.age = age\n",
    "\n",
    "    @staticmethod\n",
    "    def is_adult(age):\n",
    "        return age>18"
   ]
  },
  {
   "cell_type": "code",
   "execution_count": 62,
   "metadata": {},
   "outputs": [
    {
     "name": "stdout",
     "output_type": "stream",
     "text": [
      "True\n",
      "True\n"
     ]
    }
   ],
   "source": [
    "print (Human.is_adult(60))\n",
    "mitsos = Human('Μήτσος', 50)\n",
    "print (mitsos.is_adult(60))"
   ]
  },
  {
   "cell_type": "markdown",
   "metadata": {},
   "source": [
    "Σημείωση: το [staticmethod](https://docs.python.org/3/library/functions.html#staticmethod) είναι ένας [decorator](https://en.wikipedia.org/wiki/Python_syntax_and_semantics#Decorators), μία ιδιότητα της python που δεν έχουμε παρουσιάσει..\n"
   ]
  },
  {
   "cell_type": "markdown",
   "metadata": {},
   "source": [
    "Μία καλύτερη υλοποίηση:"
   ]
  },
  {
   "cell_type": "code",
   "execution_count": 63,
   "metadata": {},
   "outputs": [
    {
     "name": "stdout",
     "output_type": "stream",
     "text": [
      "True\n",
      "False\n",
      "True\n"
     ]
    }
   ],
   "source": [
    "class Human:\n",
    "    max_age = 100\n",
    "    adult_age = 18\n",
    "    \n",
    "    def __init__(self, name, age):\n",
    "        self.name = name\n",
    "        self.age = age\n",
    "            \n",
    "    def is_adult(self,):\n",
    "        return Human.is_adult_2(self.age)\n",
    "\n",
    "    @staticmethod\n",
    "    def is_adult_2(age):\n",
    "        return age >= Human.adult_age\n",
    "\n",
    "    \n",
    "    \n",
    "mitsos = Human('Μήτσος', 50)\n",
    "print (mitsos.is_adult()) # True\n",
    "kwstas = Human('Κώστας', 10)\n",
    "print (kwstas.is_adult()) # False\n",
    "print (Human.is_adult_2(20)) # True"
   ]
  },
  {
   "cell_type": "markdown",
   "metadata": {},
   "source": [
    "# Κλάσεις (Μέρος 3ο)"
   ]
  },
  {
   "cell_type": "markdown",
   "metadata": {},
   "source": [
    "Μία κλάση μπορεί να \"κληρονομήσει\" μία άλλη κλάση: https://en.wikipedia.org/wiki/Inheritance_(object-oriented_programming) \n",
    "\n",
    "Όταν γίνεται αυτό, τότε η νέα κλάση περιέχει όλες τις ιδιότητες (πεδία + μέθοδοι) της παλιάς. Κλασσικά παραδείγματα είναι: \n",
    "* η κλάση φορτηγό έχει κληρονομήσει τη κλάση όχημα\n",
    "* η κλάση DNA και η κλάση RNA έχει κληρονομήσει τη κλάση sequence\n",
    "* η κλάση Employee έχει κληρονιμήσει τη κλάση Human \n",
    "\n",
    "Στη python αυτό γίνεται ως εξής:"
   ]
  },
  {
   "cell_type": "code",
   "execution_count": 64,
   "metadata": {},
   "outputs": [],
   "source": [
    "class Employee(Human):\n",
    "    pass\n",
    "\n",
    "manolis = Employee('Μανόλης', 40)"
   ]
  },
  {
   "cell_type": "markdown",
   "metadata": {},
   "source": [
    "Η Employee περιέχει όλες τις μεθόδους της Human:"
   ]
  },
  {
   "cell_type": "code",
   "execution_count": 65,
   "metadata": {},
   "outputs": [
    {
     "data": {
      "text/plain": [
       "True"
      ]
     },
     "execution_count": 65,
     "metadata": {},
     "output_type": "execute_result"
    }
   ],
   "source": [
    "manolis.is_adult()"
   ]
  },
  {
   "cell_type": "markdown",
   "metadata": {},
   "source": [
    "Ας βάλουμε μία νέα ιδιότητα στη Employee"
   ]
  },
  {
   "cell_type": "code",
   "execution_count": 66,
   "metadata": {},
   "outputs": [],
   "source": [
    "class Employee(Human):\n",
    "    def __init__(self, name, age, salary):\n",
    "        self.name = name\n",
    "        self.age = age\n",
    "        self.salary = salary\n",
    "        \n",
    "        if not self.is_adult():\n",
    "            raise Exception('THIS IS ILLEGAL!')\n",
    "\n",
    "manolis = Employee('Μανόλης', 40, 10000)"
   ]
  },
  {
   "cell_type": "code",
   "execution_count": 67,
   "metadata": {},
   "outputs": [
    {
     "ename": "Exception",
     "evalue": "THIS IS ILLEGAL!",
     "output_type": "error",
     "traceback": [
      "\u001b[0;31m---------------------------------------------------------------------------\u001b[0m",
      "\u001b[0;31mException\u001b[0m                                 Traceback (most recent call last)",
      "\u001b[0;32m<ipython-input-67-220eac5da521>\u001b[0m in \u001b[0;36m<module>\u001b[0;34m\u001b[0m\n\u001b[0;32m----> 1\u001b[0;31m \u001b[0mjohn\u001b[0m \u001b[0;34m=\u001b[0m \u001b[0mEmployee\u001b[0m\u001b[0;34m(\u001b[0m\u001b[0;34m'Γιάννης'\u001b[0m\u001b[0;34m,\u001b[0m \u001b[0;36m15\u001b[0m\u001b[0;34m,\u001b[0m \u001b[0;36m10000\u001b[0m\u001b[0;34m)\u001b[0m \u001b[0;31m# παιδική εργασία!\u001b[0m\u001b[0;34m\u001b[0m\u001b[0;34m\u001b[0m\u001b[0m\n\u001b[0m",
      "\u001b[0;32m<ipython-input-66-70c56380c507>\u001b[0m in \u001b[0;36m__init__\u001b[0;34m(self, name, age, salary)\u001b[0m\n\u001b[1;32m      6\u001b[0m \u001b[0;34m\u001b[0m\u001b[0m\n\u001b[1;32m      7\u001b[0m         \u001b[0;32mif\u001b[0m \u001b[0;32mnot\u001b[0m \u001b[0mself\u001b[0m\u001b[0;34m.\u001b[0m\u001b[0mis_adult\u001b[0m\u001b[0;34m(\u001b[0m\u001b[0;34m)\u001b[0m\u001b[0;34m:\u001b[0m\u001b[0;34m\u001b[0m\u001b[0;34m\u001b[0m\u001b[0m\n\u001b[0;32m----> 8\u001b[0;31m             \u001b[0;32mraise\u001b[0m \u001b[0mException\u001b[0m\u001b[0;34m(\u001b[0m\u001b[0;34m'THIS IS ILLEGAL!'\u001b[0m\u001b[0;34m)\u001b[0m\u001b[0;34m\u001b[0m\u001b[0;34m\u001b[0m\u001b[0m\n\u001b[0m\u001b[1;32m      9\u001b[0m \u001b[0;34m\u001b[0m\u001b[0m\n\u001b[1;32m     10\u001b[0m \u001b[0mmanolis\u001b[0m \u001b[0;34m=\u001b[0m \u001b[0mEmployee\u001b[0m\u001b[0;34m(\u001b[0m\u001b[0;34m'Μανόλης'\u001b[0m\u001b[0;34m,\u001b[0m \u001b[0;36m40\u001b[0m\u001b[0;34m,\u001b[0m \u001b[0;36m10000\u001b[0m\u001b[0;34m)\u001b[0m\u001b[0;34m\u001b[0m\u001b[0;34m\u001b[0m\u001b[0m\n",
      "\u001b[0;31mException\u001b[0m: THIS IS ILLEGAL!"
     ]
    }
   ],
   "source": [
    "john = Employee('Γιάννης', 15, 10000) # παιδική εργασία!"
   ]
  },
  {
   "cell_type": "markdown",
   "metadata": {},
   "source": [
    "Παρατηρείστε ότι το κομμάτι\n",
    "```python\n",
    "        self.name = name\n",
    "        self.age = age\n",
    "```\n",
    "Το έχουμε στη Human αλλά και στην Employee. Δεν μπορούμε να το αποφύγουμε αυτό; Γίνεται με την εντολή ```super``` η οποία καλεί την parent class.  "
   ]
  },
  {
   "cell_type": "code",
   "execution_count": 68,
   "metadata": {},
   "outputs": [],
   "source": [
    "class Employee(Human):\n",
    "    def __init__(self, name, age, salary):\n",
    "        super().__init__(name, age)\n",
    "        self.salary = salary\n",
    "        \n",
    "        if not self.is_adult():\n",
    "            raise Exception('THIS IS ILLEGAL!')\n",
    "\n",
    "manolis = Employee('Μανόλης', 40, 10000)"
   ]
  },
  {
   "cell_type": "markdown",
   "metadata": {},
   "source": [
    "H ```super().__init__()``` καλεί ```__init__()``` της parent class. "
   ]
  },
  {
   "cell_type": "markdown",
   "metadata": {},
   "source": [
    "### Πολλαπλή κληρονομικότητα"
   ]
  },
  {
   "cell_type": "code",
   "execution_count": 69,
   "metadata": {},
   "outputs": [],
   "source": [
    "class Resident:\n",
    "    def __init__(self, address):\n",
    "        self.address = address\n",
    "        \n",
    "    def show_address(self):\n",
    "        print (self.address)"
   ]
  },
  {
   "cell_type": "code",
   "execution_count": 70,
   "metadata": {},
   "outputs": [],
   "source": [
    "class Employee(Human, Resident):\n",
    "    pass\n"
   ]
  },
  {
   "cell_type": "markdown",
   "metadata": {},
   "source": [
    "Εδώ πρέπει να τονίσουμε κάτι πολύ σημαντικό: Η σειρά με την οποία δηλώνουμε τις parent classes είναι πολύ σημαντική. Η νέα κλάση κληρονομεί τον constructor (```__init__()```) ΜΟΝΟ της πρώτης κλάσης: "
   ]
  },
  {
   "cell_type": "code",
   "execution_count": 71,
   "metadata": {},
   "outputs": [],
   "source": [
    "mitsos = Employee('Μήτσος', 50)"
   ]
  },
  {
   "cell_type": "markdown",
   "metadata": {},
   "source": [
    "Εδώ παρατηρούμε ότι ο constructor της Resident δεν καλέστηκε!"
   ]
  },
  {
   "cell_type": "code",
   "execution_count": 72,
   "metadata": {},
   "outputs": [
    {
     "ename": "AttributeError",
     "evalue": "'Employee' object has no attribute 'address'",
     "output_type": "error",
     "traceback": [
      "\u001b[0;31m---------------------------------------------------------------------------\u001b[0m",
      "\u001b[0;31mAttributeError\u001b[0m                            Traceback (most recent call last)",
      "\u001b[0;32m<ipython-input-72-05b17d0e9a10>\u001b[0m in \u001b[0;36m<module>\u001b[0;34m\u001b[0m\n\u001b[0;32m----> 1\u001b[0;31m \u001b[0mmitsos\u001b[0m\u001b[0;34m.\u001b[0m\u001b[0mshow_address\u001b[0m\u001b[0;34m(\u001b[0m\u001b[0;34m)\u001b[0m\u001b[0;34m\u001b[0m\u001b[0;34m\u001b[0m\u001b[0m\n\u001b[0m",
      "\u001b[0;32m<ipython-input-69-3eaf54002b5a>\u001b[0m in \u001b[0;36mshow_address\u001b[0;34m(self)\u001b[0m\n\u001b[1;32m      4\u001b[0m \u001b[0;34m\u001b[0m\u001b[0m\n\u001b[1;32m      5\u001b[0m     \u001b[0;32mdef\u001b[0m \u001b[0mshow_address\u001b[0m\u001b[0;34m(\u001b[0m\u001b[0mself\u001b[0m\u001b[0;34m)\u001b[0m\u001b[0;34m:\u001b[0m\u001b[0;34m\u001b[0m\u001b[0;34m\u001b[0m\u001b[0m\n\u001b[0;32m----> 6\u001b[0;31m         \u001b[0mprint\u001b[0m \u001b[0;34m(\u001b[0m\u001b[0mself\u001b[0m\u001b[0;34m.\u001b[0m\u001b[0maddress\u001b[0m\u001b[0;34m)\u001b[0m\u001b[0;34m\u001b[0m\u001b[0;34m\u001b[0m\u001b[0m\n\u001b[0m",
      "\u001b[0;31mAttributeError\u001b[0m: 'Employee' object has no attribute 'address'"
     ]
    }
   ],
   "source": [
    "mitsos.show_address()"
   ]
  },
  {
   "cell_type": "markdown",
   "metadata": {},
   "source": [
    "Αυτό μπορούμε να το διορθώσουμε καλώντας τους constructors με όποια σειρά θέλουμε από την ```__init__``` της νέας κλάσης:"
   ]
  },
  {
   "cell_type": "code",
   "execution_count": 73,
   "metadata": {},
   "outputs": [
    {
     "name": "stdout",
     "output_type": "stream",
     "text": [
      "True\n",
      "Ηράκλειο\n"
     ]
    }
   ],
   "source": [
    "class Employee(Human, Resident):\n",
    "    def __init__(self, name, age, address, salary):\n",
    "        Human.__init__(self, name, age)\n",
    "        Resident.__init__(self, address)\n",
    "        self.salary = salary\n",
    "        \n",
    "mitsos = Employee('Μήτσος', 50, \"Ηράκλειο\", 10000)\n",
    "print (mitsos.is_adult())\n",
    "mitsos.show_address()"
   ]
  },
  {
   "cell_type": "markdown",
   "metadata": {},
   "source": [
    "### Μπορούμε να βάλουμε αντικείμενα μέσα σε λίστες dictionaries.."
   ]
  },
  {
   "cell_type": "code",
   "execution_count": 74,
   "metadata": {},
   "outputs": [],
   "source": [
    "stuff = {\n",
    "    0: Employee('Kostas', 40, 'Ηράκλειο', 1000),\n",
    "    1: Employee('Andreas', 40, 'Πάτρα', 100),\n",
    "}"
   ]
  },
  {
   "cell_type": "markdown",
   "metadata": {},
   "source": [
    "Τι γίνεται όταν θέλουμε να σώσουμε μία λίστα/dictionary που έχει αντικείμενα σε ένα αρχείο; Δεν μπορούμε να τα μετατρέψουμε άμεσα σε string:"
   ]
  },
  {
   "cell_type": "code",
   "execution_count": 75,
   "metadata": {},
   "outputs": [
    {
     "data": {
      "text/plain": [
       "'{0: <__main__.Employee object at 0x7ff76d574880>, 1: <__main__.Employee object at 0x7ff76d5747c0>}'"
      ]
     },
     "execution_count": 75,
     "metadata": {},
     "output_type": "execute_result"
    }
   ],
   "source": [
    "str(stuff)"
   ]
  },
  {
   "cell_type": "markdown",
   "metadata": {},
   "source": [
    "Ούτε μπορούμε να τα κάνουμε json:"
   ]
  },
  {
   "cell_type": "code",
   "execution_count": 76,
   "metadata": {},
   "outputs": [
    {
     "ename": "TypeError",
     "evalue": "Object of type Employee is not JSON serializable",
     "output_type": "error",
     "traceback": [
      "\u001b[0;31m---------------------------------------------------------------------------\u001b[0m",
      "\u001b[0;31mTypeError\u001b[0m                                 Traceback (most recent call last)",
      "\u001b[0;32m<ipython-input-76-54caab5df3b5>\u001b[0m in \u001b[0;36m<module>\u001b[0;34m\u001b[0m\n\u001b[1;32m      1\u001b[0m \u001b[0;32mimport\u001b[0m \u001b[0mjson\u001b[0m\u001b[0;34m\u001b[0m\u001b[0;34m\u001b[0m\u001b[0m\n\u001b[0;32m----> 2\u001b[0;31m \u001b[0mjson\u001b[0m\u001b[0;34m.\u001b[0m\u001b[0mdumps\u001b[0m\u001b[0;34m(\u001b[0m\u001b[0mstuff\u001b[0m\u001b[0;34m)\u001b[0m\u001b[0;34m\u001b[0m\u001b[0;34m\u001b[0m\u001b[0m\n\u001b[0m",
      "\u001b[0;32m~/anaconda3/lib/python3.8/json/__init__.py\u001b[0m in \u001b[0;36mdumps\u001b[0;34m(obj, skipkeys, ensure_ascii, check_circular, allow_nan, cls, indent, separators, default, sort_keys, **kw)\u001b[0m\n\u001b[1;32m    229\u001b[0m         \u001b[0mcls\u001b[0m \u001b[0;32mis\u001b[0m \u001b[0;32mNone\u001b[0m \u001b[0;32mand\u001b[0m \u001b[0mindent\u001b[0m \u001b[0;32mis\u001b[0m \u001b[0;32mNone\u001b[0m \u001b[0;32mand\u001b[0m \u001b[0mseparators\u001b[0m \u001b[0;32mis\u001b[0m \u001b[0;32mNone\u001b[0m \u001b[0;32mand\u001b[0m\u001b[0;34m\u001b[0m\u001b[0;34m\u001b[0m\u001b[0m\n\u001b[1;32m    230\u001b[0m         default is None and not sort_keys and not kw):\n\u001b[0;32m--> 231\u001b[0;31m         \u001b[0;32mreturn\u001b[0m \u001b[0m_default_encoder\u001b[0m\u001b[0;34m.\u001b[0m\u001b[0mencode\u001b[0m\u001b[0;34m(\u001b[0m\u001b[0mobj\u001b[0m\u001b[0;34m)\u001b[0m\u001b[0;34m\u001b[0m\u001b[0;34m\u001b[0m\u001b[0m\n\u001b[0m\u001b[1;32m    232\u001b[0m     \u001b[0;32mif\u001b[0m \u001b[0mcls\u001b[0m \u001b[0;32mis\u001b[0m \u001b[0;32mNone\u001b[0m\u001b[0;34m:\u001b[0m\u001b[0;34m\u001b[0m\u001b[0;34m\u001b[0m\u001b[0m\n\u001b[1;32m    233\u001b[0m         \u001b[0mcls\u001b[0m \u001b[0;34m=\u001b[0m \u001b[0mJSONEncoder\u001b[0m\u001b[0;34m\u001b[0m\u001b[0;34m\u001b[0m\u001b[0m\n",
      "\u001b[0;32m~/anaconda3/lib/python3.8/json/encoder.py\u001b[0m in \u001b[0;36mencode\u001b[0;34m(self, o)\u001b[0m\n\u001b[1;32m    197\u001b[0m         \u001b[0;31m# exceptions aren't as detailed.  The list call should be roughly\u001b[0m\u001b[0;34m\u001b[0m\u001b[0;34m\u001b[0m\u001b[0;34m\u001b[0m\u001b[0m\n\u001b[1;32m    198\u001b[0m         \u001b[0;31m# equivalent to the PySequence_Fast that ''.join() would do.\u001b[0m\u001b[0;34m\u001b[0m\u001b[0;34m\u001b[0m\u001b[0;34m\u001b[0m\u001b[0m\n\u001b[0;32m--> 199\u001b[0;31m         \u001b[0mchunks\u001b[0m \u001b[0;34m=\u001b[0m \u001b[0mself\u001b[0m\u001b[0;34m.\u001b[0m\u001b[0miterencode\u001b[0m\u001b[0;34m(\u001b[0m\u001b[0mo\u001b[0m\u001b[0;34m,\u001b[0m \u001b[0m_one_shot\u001b[0m\u001b[0;34m=\u001b[0m\u001b[0;32mTrue\u001b[0m\u001b[0;34m)\u001b[0m\u001b[0;34m\u001b[0m\u001b[0;34m\u001b[0m\u001b[0m\n\u001b[0m\u001b[1;32m    200\u001b[0m         \u001b[0;32mif\u001b[0m \u001b[0;32mnot\u001b[0m \u001b[0misinstance\u001b[0m\u001b[0;34m(\u001b[0m\u001b[0mchunks\u001b[0m\u001b[0;34m,\u001b[0m \u001b[0;34m(\u001b[0m\u001b[0mlist\u001b[0m\u001b[0;34m,\u001b[0m \u001b[0mtuple\u001b[0m\u001b[0;34m)\u001b[0m\u001b[0;34m)\u001b[0m\u001b[0;34m:\u001b[0m\u001b[0;34m\u001b[0m\u001b[0;34m\u001b[0m\u001b[0m\n\u001b[1;32m    201\u001b[0m             \u001b[0mchunks\u001b[0m \u001b[0;34m=\u001b[0m \u001b[0mlist\u001b[0m\u001b[0;34m(\u001b[0m\u001b[0mchunks\u001b[0m\u001b[0;34m)\u001b[0m\u001b[0;34m\u001b[0m\u001b[0;34m\u001b[0m\u001b[0m\n",
      "\u001b[0;32m~/anaconda3/lib/python3.8/json/encoder.py\u001b[0m in \u001b[0;36miterencode\u001b[0;34m(self, o, _one_shot)\u001b[0m\n\u001b[1;32m    255\u001b[0m                 \u001b[0mself\u001b[0m\u001b[0;34m.\u001b[0m\u001b[0mkey_separator\u001b[0m\u001b[0;34m,\u001b[0m \u001b[0mself\u001b[0m\u001b[0;34m.\u001b[0m\u001b[0mitem_separator\u001b[0m\u001b[0;34m,\u001b[0m \u001b[0mself\u001b[0m\u001b[0;34m.\u001b[0m\u001b[0msort_keys\u001b[0m\u001b[0;34m,\u001b[0m\u001b[0;34m\u001b[0m\u001b[0;34m\u001b[0m\u001b[0m\n\u001b[1;32m    256\u001b[0m                 self.skipkeys, _one_shot)\n\u001b[0;32m--> 257\u001b[0;31m         \u001b[0;32mreturn\u001b[0m \u001b[0m_iterencode\u001b[0m\u001b[0;34m(\u001b[0m\u001b[0mo\u001b[0m\u001b[0;34m,\u001b[0m \u001b[0;36m0\u001b[0m\u001b[0;34m)\u001b[0m\u001b[0;34m\u001b[0m\u001b[0;34m\u001b[0m\u001b[0m\n\u001b[0m\u001b[1;32m    258\u001b[0m \u001b[0;34m\u001b[0m\u001b[0m\n\u001b[1;32m    259\u001b[0m def _make_iterencode(markers, _default, _encoder, _indent, _floatstr,\n",
      "\u001b[0;32m~/anaconda3/lib/python3.8/json/encoder.py\u001b[0m in \u001b[0;36mdefault\u001b[0;34m(self, o)\u001b[0m\n\u001b[1;32m    177\u001b[0m \u001b[0;34m\u001b[0m\u001b[0m\n\u001b[1;32m    178\u001b[0m         \"\"\"\n\u001b[0;32m--> 179\u001b[0;31m         raise TypeError(f'Object of type {o.__class__.__name__} '\n\u001b[0m\u001b[1;32m    180\u001b[0m                         f'is not JSON serializable')\n\u001b[1;32m    181\u001b[0m \u001b[0;34m\u001b[0m\u001b[0m\n",
      "\u001b[0;31mTypeError\u001b[0m: Object of type Employee is not JSON serializable"
     ]
    }
   ],
   "source": [
    "import json\n",
    "json.dumps(stuff)"
   ]
  },
  {
   "cell_type": "markdown",
   "metadata": {},
   "source": [
    "Για αυτό το σκοπό μπορούμε να χρησιμοποιήσουμε τη βιβλιοθήκη [pickle](https://docs.python.org/3.9/library/pickle.html):"
   ]
  },
  {
   "cell_type": "code",
   "execution_count": 78,
   "metadata": {},
   "outputs": [],
   "source": [
    "import pickle\n",
    "stuff_serialized = pickle.dumps(stuff)"
   ]
  },
  {
   "cell_type": "code",
   "execution_count": 79,
   "metadata": {},
   "outputs": [
    {
     "data": {
      "text/plain": [
       "b'\\x80\\x04\\x95\\x97\\x00\\x00\\x00\\x00\\x00\\x00\\x00}\\x94(K\\x00\\x8c\\x08__main__\\x94\\x8c\\x08Employee\\x94\\x93\\x94)\\x81\\x94}\\x94(\\x8c\\x04name\\x94\\x8c\\x06Kostas\\x94\\x8c\\x03age\\x94K(\\x8c\\x07address\\x94\\x8c\\x10\\xce\\x97\\xcf\\x81\\xce\\xac\\xce\\xba\\xce\\xbb\\xce\\xb5\\xce\\xb9\\xce\\xbf\\x94\\x8c\\x06salary\\x94M\\xe8\\x03ubK\\x01h\\x03)\\x81\\x94}\\x94(h\\x06\\x8c\\x07Andreas\\x94h\\x08K(h\\t\\x8c\\n\\xce\\xa0\\xce\\xac\\xcf\\x84\\xcf\\x81\\xce\\xb1\\x94h\\x0bKdubu.'"
      ]
     },
     "execution_count": 79,
     "metadata": {},
     "output_type": "execute_result"
    }
   ],
   "source": [
    "stuff_serialized"
   ]
  },
  {
   "cell_type": "code",
   "execution_count": 80,
   "metadata": {},
   "outputs": [
    {
     "data": {
      "text/plain": [
       "bytes"
      ]
     },
     "execution_count": 80,
     "metadata": {},
     "output_type": "execute_result"
    }
   ],
   "source": [
    "type(stuff_serialized)"
   ]
  },
  {
   "cell_type": "markdown",
   "metadata": {},
   "source": [
    "Μπορούμε να φορτώσουμε pickle δεδομένα:"
   ]
  },
  {
   "cell_type": "code",
   "execution_count": 82,
   "metadata": {},
   "outputs": [
    {
     "name": "stdout",
     "output_type": "stream",
     "text": [
      "{0: <__main__.Employee object at 0x7ff76d59b7c0>, 1: <__main__.Employee object at 0x7ff76d59b9a0>}\n"
     ]
    }
   ],
   "source": [
    "a = pickle.loads(stuff_serialized)\n",
    "print (a)"
   ]
  },
  {
   "cell_type": "markdown",
   "metadata": {},
   "source": [
    "# Επιπλέον σημειώσεις\n",
    "Σας προτρέπω να διαβάσετε τις [έξοχες σημειώσεις](https://gist.github.com/spirosChv/6f22d6dc5cf79eec78069ddf36749fa4) από τον Σπύρο Χαυλή [schavlis@imbb.forth.gr](mailto:schavlis@imbb.forth.gr) που είχε ετοιμάσει για το μάθημα του 2016 του μεταπτυχιακού προγράμματος της ιατρικής, σχετικά με τις κλάσεις και τον αντικειμενικοστραφή προγραμματισμό. "
   ]
  }
 ],
 "metadata": {
  "kernelspec": {
   "display_name": "Python 3",
   "language": "python",
   "name": "python3"
  },
  "language_info": {
   "codemirror_mode": {
    "name": "ipython",
    "version": 3
   },
   "file_extension": ".py",
   "mimetype": "text/x-python",
   "name": "python",
   "nbconvert_exporter": "python",
   "pygments_lexer": "ipython3",
   "version": "3.8.5"
  }
 },
 "nbformat": 4,
 "nbformat_minor": 4
}
