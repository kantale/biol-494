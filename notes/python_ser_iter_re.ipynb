{
 "cells": [
  {
   "cell_type": "markdown",
   "metadata": {},
   "source": [
    "## Serialization"
   ]
  },
  {
   "cell_type": "markdown",
   "metadata": {},
   "source": [
    "Ας υποθέσουμε ότι έχουμε τη παρακάτω \"πολύπλοκη\" δομή:"
   ]
  },
  {
   "cell_type": "code",
   "execution_count": 1,
   "metadata": {},
   "outputs": [],
   "source": [
    "a={'a': [1,2,3,], 'ffrrf': {'b': [4,4,5,6]}}"
   ]
  },
  {
   "cell_type": "markdown",
   "metadata": {},
   "source": [
    "Πως μπορούμε να αποθηκεύσουμε το a σε ένα αρχείο; Μπορούμε να τα αποθηκεύσουμε σε μορφή json:"
   ]
  },
  {
   "cell_type": "code",
   "execution_count": 2,
   "metadata": {},
   "outputs": [
    {
     "name": "stdout",
     "output_type": "stream",
     "text": [
      "{\"a\": [1, 2, 3], \"ffrrf\": {\"b\": [4, 4, 5, 6]}}\n"
     ]
    }
   ],
   "source": [
    "import json\n",
    "a_json = json.dumps(a)\n",
    "print (a_json)"
   ]
  },
  {
   "cell_type": "code",
   "execution_count": 3,
   "metadata": {},
   "outputs": [
    {
     "data": {
      "text/plain": [
       "str"
      ]
     },
     "execution_count": 3,
     "metadata": {},
     "output_type": "execute_result"
    }
   ],
   "source": [
    "type(a_json)"
   ]
  },
  {
   "cell_type": "markdown",
   "metadata": {},
   "source": [
    "Οπότε μπορούμε να σώσουμε το a_json σε ένα αρχείο:"
   ]
  },
  {
   "cell_type": "code",
   "execution_count": 4,
   "metadata": {},
   "outputs": [],
   "source": [
    "with open('results.txt', 'w') as f:\n",
    "    f.write(a_json + '\\n')"
   ]
  },
  {
   "cell_type": "markdown",
   "metadata": {},
   "source": [
    "Ή αλλιώς:"
   ]
  },
  {
   "cell_type": "code",
   "execution_count": 5,
   "metadata": {},
   "outputs": [],
   "source": [
    "with open('results.txt', 'w') as f:\n",
    "    json.dump(a, f)"
   ]
  },
  {
   "cell_type": "code",
   "execution_count": 6,
   "metadata": {},
   "outputs": [
    {
     "name": "stdout",
     "output_type": "stream",
     "text": [
      "{\"a\": [1, 2, 3], \"ffrrf\": {\"b\": [4, 4, 5, 6]}}"
     ]
    }
   ],
   "source": [
    "!cat results.txt"
   ]
  },
  {
   "cell_type": "markdown",
   "metadata": {},
   "source": [
    "Για όσους είναι στα windows, μπορείτε να γράψετε:"
   ]
  },
  {
   "cell_type": "code",
   "execution_count": null,
   "metadata": {},
   "outputs": [],
   "source": [
    "!type results.txt"
   ]
  },
  {
   "cell_type": "markdown",
   "metadata": {},
   "source": [
    "Αφού στείλουμε το αρχείο μπορεί ο παραλήπτης να το ανοίξει:"
   ]
  },
  {
   "cell_type": "code",
   "execution_count": 8,
   "metadata": {},
   "outputs": [
    {
     "name": "stdout",
     "output_type": "stream",
     "text": [
      "{'a': [1, 2, 3], 'ffrrf': {'b': [4, 4, 5, 6]}}\n",
      "<class 'dict'>\n"
     ]
    }
   ],
   "source": [
    "with open('results.txt') as f:\n",
    "    a = json.load(f)\n",
    "print (a)\n",
    "print (type(a))"
   ]
  },
  {
   "cell_type": "markdown",
   "metadata": {},
   "source": [
    "Αυτή η διαδικασία ονομάζεται [serialization](https://en.wikipedia.org/wiki/Serialization) και μας επιτρέπει να διαμοιραζόμαστε δεδομένα μαζί με τη δομή τους. \n",
    "\n",
    "Δεν μπορούν όλα να γίνουν json:"
   ]
  },
  {
   "cell_type": "code",
   "execution_count": 12,
   "metadata": {},
   "outputs": [
    {
     "name": "stdout",
     "output_type": "stream",
     "text": [
      "Object of type set is not JSON serializable\n"
     ]
    }
   ],
   "source": [
    "try:\n",
    "    json.dumps({1,2,3,4}) # Sets cannot be serialized\n",
    "except Exception as e:\n",
    "    print (e)"
   ]
  },
  {
   "cell_type": "code",
   "execution_count": 13,
   "metadata": {},
   "outputs": [
    {
     "name": "stdout",
     "output_type": "stream",
     "text": [
      "Object of type function is not JSON serializable\n"
     ]
    }
   ],
   "source": [
    "def f(x):\n",
    "    return x+1\n",
    "\n",
    "try:\n",
    "    json.dumps(f) # Functions cannot be serialized \n",
    "except Exception as e:\n",
    "    print (e)"
   ]
  },
  {
   "cell_type": "markdown",
   "metadata": {},
   "source": [
    "Το [φορμάτ json](https://en.wikipedia.org/wiki/JSON) είναι πολύ δημοφιλές στον διαμοιρασμό \"δομημένων δεδομένων\". Δηλαδή δεδομένα που αποτελούνται από λίστες και λεξικά ή/και συνδοιασμό αυτών. Επίσης είναι πολύ συνηθισμένο μία βάση δεδομένων να μοιράζεται τα δεδομένα της σε αυτό το φορμάτ. Για παράδειγμα σε αυτό το link:\n",
    "\n",
    "http://mygene.info/v3/query?q=tumor&fields=symbol&size=1000&species=human'\n",
    "\n",
    "Μπορείτε να ρωτήσετε μία βάση δεδομένων για να σας δώσει μία λίστα από 1000 γονίδια τα οποία έχουν συσχετιστεί με τον καρκίνο. Το αποτέλεσμα το επιστρέφει σε φορμάτ json. \n",
    "\n",
    "Εκτός από το json υπάρχουν και άλλα φορμάτ για την ανταλλαγή δομημένων δεδομένων. Μερικά παραδείγματα είναι το [XML](https://docs.python.org/3/library/xml.html) και το [YAML](https://github.com/yaml/pyyaml).\n",
    "\n",
    "Είδαμε όμως ότι το json μπορεί να δεχτεί μόνο λίστες και dictionaries. Μία άλλη επιλογή είναι η βιβλιοθήλη [pickle](https://docs.python.org/3/library/pickle.html) η οποία μπορεί να κάνει serialize πολύ μεγαλύτερο πλήθος από δομές. Τα αρνητικά της είναι:\n",
    "\n",
    "1. Είναι μόνο για python (ίσως αν ψάξετε να βρείτε και βιβλιοθήκες για άλλες γλώσσες)\n",
    "2. Δεν είναι αναγνώσιμο απο ανθρώπους (σε αντίθεση με τη json).\n",
    "\n",
    "Ας δούμε ένα παράδειγμα:"
   ]
  },
  {
   "cell_type": "code",
   "execution_count": 19,
   "metadata": {},
   "outputs": [],
   "source": [
    "import pickle\n",
    "\n",
    "\n",
    "def a_function(x):\n",
    "    return x+1\n",
    "\n",
    "a_set = {1,2,3,4}\n",
    "\n",
    "a_list = [1,'mitsos', {1:True}, a_function, a_set]\n",
    "\n",
    "with open('my_data.pickle', 'wb') as f:\n",
    "    pickle.dump(a_list, f)\n",
    "\n"
   ]
  },
  {
   "cell_type": "markdown",
   "metadata": {},
   "source": [
    "Προσέξτε το 'wb' το οποίο σημαίνει εγγραφή σε δυαδικό (binary) φορμάτ. Σε αντίθεση με το σκέτο 'w' ή το 'wt' το οποίο σημείνει φορμάτ κειμένου (text).\n",
    "\n",
    "Ας το κάνουμε τώρα un-pickle!"
   ]
  },
  {
   "cell_type": "code",
   "execution_count": 20,
   "metadata": {},
   "outputs": [],
   "source": [
    "with open('my_data.pickle', 'rb') as f:\n",
    "    data = pickle.load(f)"
   ]
  },
  {
   "cell_type": "code",
   "execution_count": 21,
   "metadata": {},
   "outputs": [
    {
     "data": {
      "text/plain": [
       "11"
      ]
     },
     "execution_count": 21,
     "metadata": {},
     "output_type": "execute_result"
    }
   ],
   "source": [
    "data[3](10) # Καλούμε τη συνάρτηση f !"
   ]
  },
  {
   "cell_type": "markdown",
   "metadata": {},
   "source": [
    "### Η βιβλιοθήκε itertools\n",
    "\n",
    "Η [itertools](https://docs.python.org/3/library/itertools.html) περιέχει συναρτήσεις για να σας βοηθήσουν να κάνετε iterations και.. λούπες! Είναι μία από τις πιο χρησιμες βιβλιοθήκες κυρίως γιατί σας βοηθάει να απλοποιήσετε τον κώδικά σας. Πριν επιχευρήσετε να κάνετε κάποια πολύπλοκη επανάληψη (for μέσα σε for μέσα σε for...) ελέγξτε αν κάποια από τις συναρτήσεις της itertools μπορεί να σας βοηθήσει. \n",
    "\n",
    "#### Πρόβλημα 1 (καρτεσιανό γινόμενο)\n",
    "Μπαίνετε σε ένα μαγαζί με ρούχα. Το μαγαζί έχει 10 διαφορετικά ζευγάρια παπούτσια στο νούμερό σας και η τιμή τους είναι:\n",
    "\n",
    "```python\n",
    "shoes = [22, 30, 83, 28, 72, 51, 61, 83, 25]\n",
    "```\n",
    "\n",
    "To μαγαζί έχει 3 διαφορετικά τζην στο νούμερό σας και η τιμή τους είναι:\n",
    "\n",
    "```python\n",
    "jeans = [30, 79, 34]\n",
    "```\n",
    "\n",
    "To μαγαζί έχει 8 διαφορετικά μπλουζάκια στο νούμερό σας. Η τιμή του είναι:\n",
    "\n",
    "```python\n",
    "shirts = [24, 25, 40, 40, 26, 28, 19]\n",
    "```\n",
    "\n",
    "Έσείς έχετε πάνω σας 100 ευρώ και πρέπει να πάρετε ένα από κάθε είδος. Πόσοι συνδυασμοί (παπούτσια, τζην και μπλουζάκι) ρούχων μπορείτε να αγοράσετε;\n"
   ]
  },
  {
   "cell_type": "code",
   "execution_count": 22,
   "metadata": {},
   "outputs": [],
   "source": [
    "shoes = [22, 30, 83, 28, 72, 51, 61, 83, 25]\n",
    "jeans = [30, 79, 34]\n",
    "shirts = [24, 25, 40, 40, 26, 28, 19]"
   ]
  },
  {
   "cell_type": "code",
   "execution_count": 25,
   "metadata": {},
   "outputs": [
    {
     "name": "stdout",
     "output_type": "stream",
     "text": [
      "53\n"
     ]
    }
   ],
   "source": [
    "# Κλασσική λύση:\n",
    "c = 0\n",
    "for x in shoes:\n",
    "    for y in jeans:\n",
    "        for z in shirts:\n",
    "            if x+y+z<=100:\n",
    "                c += 1\n",
    "print (c)"
   ]
  },
  {
   "cell_type": "code",
   "execution_count": 28,
   "metadata": {},
   "outputs": [
    {
     "name": "stdout",
     "output_type": "stream",
     "text": [
      "53\n"
     ]
    }
   ],
   "source": [
    "# Με itertools:\n",
    "from itertools import product\n",
    "\n",
    "c = 0\n",
    "for x,y,z in product(shoes, jeans, shirts):\n",
    "    if x+y+z<=100:\n",
    "        c += 1\n",
    "print (c)\n"
   ]
  },
  {
   "cell_type": "markdown",
   "metadata": {},
   "source": [
    "### Πρόβλημα 2 (συνδoιασμοί)\n",
    "\n",
    "Μπαίνετε σε ένα μαγαζί το οποίο πουλάει μόνο μπλουζάκια. Το είδος και η τιμή για το κάθε μπλουζάκι είναι:\n",
    "\n",
    "```python\n",
    "shirts = [\n",
    "    ('a', 22), \n",
    "    ('b', 30), \n",
    "    ('c', 83),\n",
    "    ('d', 28),\n",
    "    ('e', 72),\n",
    "    ('f', 51),\n",
    "    ('g', 61),\n",
    "    ('h', 83),\n",
    "    ('i', 25),\n",
    "]\n",
    "```\n",
    "\n",
    "Εσείς μπορείτε να ξοδέψετε το πολύ 100ε και πρέπει να πάρετε ακριβώς 2. Ποια ζευγάρια μπορείτε να επιλέξετε; \n"
   ]
  },
  {
   "cell_type": "code",
   "execution_count": 34,
   "metadata": {},
   "outputs": [
    {
     "name": "stdout",
     "output_type": "stream",
     "text": [
      "17\n"
     ]
    }
   ],
   "source": [
    "shirts = [\n",
    "    ('a', 22), \n",
    "    ('b', 30), \n",
    "    ('c', 83),\n",
    "    ('d', 28),\n",
    "    ('e', 72),\n",
    "    ('f', 51),\n",
    "    ('g', 61),\n",
    "    ('h', 83),\n",
    "    ('i', 25),\n",
    "]\n",
    "\n",
    "#O κλασσικός τρόπος:\n",
    "c = 0\n",
    "for i_1, (kind_1, price_1) in enumerate(shirts):\n",
    "    for kind_2, price_2 in shirts[i_1+1:]:\n",
    "        if price_1 + price_2 <= 100:\n",
    "            c += 1\n",
    "print (c)\n",
    "    "
   ]
  },
  {
   "cell_type": "code",
   "execution_count": 35,
   "metadata": {},
   "outputs": [
    {
     "name": "stdout",
     "output_type": "stream",
     "text": [
      "17\n"
     ]
    }
   ],
   "source": [
    "# Με itertools\n",
    "from itertools import combinations\n",
    "\n",
    "c = 0\n",
    "for (kind_1, price_1), (kind_2, price_2) in combinations(shirts, 2):\n",
    "    if price_1 + price_2 <= 100:\n",
    "        c += 1\n",
    "print (c)\n"
   ]
  },
  {
   "cell_type": "markdown",
   "metadata": {},
   "source": [
    "### Πρόβλημα 3 (αντί while)\n",
    "\n",
    "Ποιος είναι το άθροισμα όλων των πρώτων αριθμών που είναι μικρότεροι από 1000;"
   ]
  },
  {
   "cell_type": "code",
   "execution_count": 60,
   "metadata": {},
   "outputs": [
    {
     "data": {
      "text/plain": [
       "76128"
      ]
     },
     "execution_count": 60,
     "metadata": {},
     "output_type": "execute_result"
    }
   ],
   "source": [
    "from itertools import takewhile\n",
    "\n",
    "# Αρχικά φτιάχνουμε ένα generator για πρώτους αριθμούς:\n",
    "def gen_primes():\n",
    "    yield 1\n",
    "    n = 2\n",
    "    while True:\n",
    "        for i in range(2, n):\n",
    "            if n%i==0:\n",
    "                break\n",
    "        else:\n",
    "            yield n\n",
    "        n += 1\n",
    "\n",
    "# Φτιάχνουμε μία συνάρτηση που ελέγχει πότε θα σταματήσουμε:\n",
    "def f(x):\n",
    "    return x<1000\n",
    "\n",
    "# Υπολόγισε το άθροισμα των πρώτων αριθμών, μέχρι να βρεθεί \n",
    "# κάποιος πρώτος που να μην ικανοποιεί τη f\n",
    "sum(takewhile(f, gen_primes()))\n"
   ]
  },
  {
   "cell_type": "markdown",
   "metadata": {},
   "source": [
    "## Regular Expressions\n",
    "\n",
    "Τα [Regular Expressions](https://en.wikipedia.org/wiki/Regular_expression) (ή αλλιώς regexp για συντομία) είναι μια βασική ιδέα στην επιστήμη υπολογιστών (υπάρχουν απο το 1956..). Είναι στην ουσία μία νέα γλώσσα με την οποία μπορείς να δηλώσεις κάποια patterns μέσα σε ένα string. Ειδικοί αλγόριθμοι αναλαμβάνουν να εντοπίσουν αυτά τα patterns με πολύ μεγάλη ταχύτητα. Τα regexp υλοποιούνται στη python στη βιβλιοθήκη ```re```:"
   ]
  },
  {
   "cell_type": "code",
   "execution_count": 61,
   "metadata": {},
   "outputs": [],
   "source": [
    "import re # Regular Expression"
   ]
  },
  {
   "cell_type": "markdown",
   "metadata": {},
   "source": [
    "Με τα regular expressions μπορούμε να κάνουμε πάρα πολύ γρήγορα πολύπλοκες λειτουργίες πάνω σε strings. Αυτέ οι λειτουργίες είναι:\n",
    "* Έλεγχος αν ένα string ακολουθεί ένα συγκεκριμένο format / pattern (π.χ. αποτελέιται από 4 αριθμούς και 2 γράμματα\n",
    "* Να πάρουμε ένα υπο-string. Για παράδειγμα από μια ημερομηνία γέννησης να εξάγουμε τη χρονιά\n",
    "* Να πάρουμε όλα τα υπο-strings τα οποία ακολουθούν ένα πρότυπο. Για παράδειγμα από ένα τεράστιο αρχείο με κείμενο να εξάγουμε όλες τις ημερομηνίες που περιέχει.\n",
    "* Να αντικαταστάσήσουμε ένα pattern από ένα string μέ κάποιο άλλο. Για παράδειγμα κάνε όλες τις ημερομηνίες οι οποίες είναι Μήνας/Μέρα/Χρονιά (αμερικανικό σύστημα) να είναι Μέρα/Μήνας/Χρονιά (ευρωπαϊκό σύστημα). \n",
    "\n",
    "Τα regular expressions (regex) είναι πρωτίστως strings. Κάθε regex δηλώνει και ένα pattern. Για παράδειγμα το regexp: '\\d' δηλώνει \"ένας χαρακτήρας που είναι αριθμός\". Ας το δούμε στη πράξη:"
   ]
  },
  {
   "cell_type": "code",
   "execution_count": 65,
   "metadata": {},
   "outputs": [
    {
     "data": {
      "text/plain": [
       "<re.Match object; span=(0, 1), match='5'>"
      ]
     },
     "execution_count": 65,
     "metadata": {},
     "output_type": "execute_result"
    }
   ],
   "source": [
    "re.search(r'\\d', '5')"
   ]
  },
  {
   "cell_type": "markdown",
   "metadata": {},
   "source": [
    "Με αυτή την εντολή στην ουσία λέμε: \"Ψάξε αν υπάρχει τουλάχιστον ένας αριθμός μέσα στο string\". Παρατηρούμε ότι μας επέστρεψε \"κάτι\". Θα δούμε στη συνέχεια τι είναι αυτό. Για αρχή μπορούμε να ελέγξουμε τι επιστρέφει αν ΔΕΝ βρει το pattern:"
   ]
  },
  {
   "cell_type": "code",
   "execution_count": 66,
   "metadata": {},
   "outputs": [
    {
     "name": "stdout",
     "output_type": "stream",
     "text": [
      "None\n"
     ]
    }
   ],
   "source": [
    "a = re.search(r'\\d', 'a')\n",
    "print (a)"
   ]
  },
  {
   "cell_type": "markdown",
   "metadata": {},
   "source": [
    "Αν δεν υπάρχει το pattern επιτρέφει None. Μπορούμε να επεκτείνουμε το pattern ζητώντας ένας αριθμό που να ακολουθείται με τον χαρακατήρα \"a\":"
   ]
  },
  {
   "cell_type": "code",
   "execution_count": 67,
   "metadata": {},
   "outputs": [
    {
     "name": "stdout",
     "output_type": "stream",
     "text": [
      "<re.Match object; span=(5, 7), match='5a'>\n"
     ]
    }
   ],
   "source": [
    "a = re.search(r'\\da', 'hello5ahello')\n",
    "print (a)"
   ]
  },
  {
   "cell_type": "code",
   "execution_count": 68,
   "metadata": {},
   "outputs": [
    {
     "name": "stdout",
     "output_type": "stream",
     "text": [
      "None\n"
     ]
    }
   ],
   "source": [
    "a = re.search(r'\\da', 'hello5hello')\n",
    "print (a)"
   ]
  },
  {
   "cell_type": "markdown",
   "metadata": {},
   "source": [
    "Παρατηρούμε ότι:\n",
    "* Στο 1ο το βρήκε. Με την εντολή search ζητάμε να βρει κάπου **οπουδήποτε** μέσα στο string.\n",
    "* Στο δεύτερο δεν το βρήκε. Δεν υπάρχει πουθενά ένας αριθμός που να ακολουθείται από από το γράμμα \"a\".\n",
    "\n",
    "Συνεχίζουμε ζητώντας ένας αριθμός ο οποίος να ακολουθείται είτε από το γράμμα \"a\" είτε με το γράμμα \"b\":"
   ]
  },
  {
   "cell_type": "code",
   "execution_count": 69,
   "metadata": {},
   "outputs": [
    {
     "name": "stdout",
     "output_type": "stream",
     "text": [
      "<re.Match object; span=(5, 7), match='5a'>\n"
     ]
    }
   ],
   "source": [
    "a = re.search(r'\\d[ab]', 'hello5ahello')\n",
    "print (a)"
   ]
  },
  {
   "cell_type": "code",
   "execution_count": 70,
   "metadata": {},
   "outputs": [
    {
     "name": "stdout",
     "output_type": "stream",
     "text": [
      "<re.Match object; span=(5, 7), match='5b'>\n"
     ]
    }
   ],
   "source": [
    "a = re.search(r'\\d[ab]', 'hello5bhello')\n",
    "print (a)"
   ]
  },
  {
   "cell_type": "code",
   "execution_count": 82,
   "metadata": {},
   "outputs": [
    {
     "name": "stdout",
     "output_type": "stream",
     "text": [
      "None\n"
     ]
    }
   ],
   "source": [
    "a = re.search(r'\\d[ab]', 'hello5chello')\n",
    "print (a)"
   ]
  },
  {
   "cell_type": "markdown",
   "metadata": {},
   "source": [
    "Με τις αγκύλες λοιπόν δηλώνουμε ένα set από χαρακτήρες. Ζητάμε δηλαδή να βρεί έναν και μόνο ένα χαρακτήρα οποίος να ανήκει σε αυτό το set. \n",
    "\n",
    "Συνεχίζουμε ζητώντας έναν οποιοδήποτε αριθμό ακολουθούμενο από οποιοδήποτε χαρακτήρα από a μέχρι και το k: Μέσα σε αγγύλες μπορούμε να δηλώσουμε 1 ή παραπάνω έυρη χαρακτήρων:"
   ]
  },
  {
   "cell_type": "code",
   "execution_count": 83,
   "metadata": {},
   "outputs": [
    {
     "name": "stdout",
     "output_type": "stream",
     "text": [
      "<re.Match object; span=(5, 7), match='5d'>\n"
     ]
    }
   ],
   "source": [
    "a = re.search(r'\\d[a-k]', 'hello5dhello')\n",
    "print (a)"
   ]
  },
  {
   "cell_type": "code",
   "execution_count": 85,
   "metadata": {},
   "outputs": [
    {
     "name": "stdout",
     "output_type": "stream",
     "text": [
      "None\n"
     ]
    }
   ],
   "source": [
    "a = re.search(r'\\d[a-k]', 'hello5lhello')\n",
    "print (a)"
   ]
  },
  {
   "cell_type": "markdown",
   "metadata": {},
   "source": [
    "Συνεχίζουμε ζητώντας ένας αριθμό ο οποίος ακολουθείται από οποιοδήποτε χαρακτήρα εκτός από αυτούς που ανήκουν στο εύρος a-k. Για να το κάνουμε αυτό βάζουμε το carret (```^```) μέσα στις αγκύλες:"
   ]
  },
  {
   "cell_type": "code",
   "execution_count": 86,
   "metadata": {},
   "outputs": [
    {
     "name": "stdout",
     "output_type": "stream",
     "text": [
      "None\n"
     ]
    }
   ],
   "source": [
    "a = re.search(r'\\d[^a-k]', 'hello5dhello')\n",
    "print (a)"
   ]
  },
  {
   "cell_type": "code",
   "execution_count": 87,
   "metadata": {},
   "outputs": [
    {
     "name": "stdout",
     "output_type": "stream",
     "text": [
      "<re.Match object; span=(5, 7), match='5l'>\n"
     ]
    }
   ],
   "source": [
    "a = re.search(r'\\d[^a-k]', 'hello5lhello')\n",
    "print (a)"
   ]
  },
  {
   "cell_type": "markdown",
   "metadata": {},
   "source": [
    "Συνεχίζουμε ζητώντας έναν αριθμό που να αποτελείται από οποιοδήποτε χαρακτήρα! Η τελεία \".\" σημαίνει \"οποιοσδήποτε χαρακτήρας\":"
   ]
  },
  {
   "cell_type": "code",
   "execution_count": 72,
   "metadata": {},
   "outputs": [
    {
     "name": "stdout",
     "output_type": "stream",
     "text": [
      "<re.Match object; span=(5, 7), match='5b'>\n"
     ]
    }
   ],
   "source": [
    "a = re.search(r'\\d.', 'hello5bhello')\n",
    "print (a)"
   ]
  },
  {
   "cell_type": "code",
   "execution_count": 73,
   "metadata": {},
   "outputs": [
    {
     "name": "stdout",
     "output_type": "stream",
     "text": [
      "None\n"
     ]
    }
   ],
   "source": [
    "a = re.search(r'\\d.', 'hellohello5')\n",
    "print (a)"
   ]
  },
  {
   "cell_type": "markdown",
   "metadata": {},
   "source": [
    "Συνεχίζουμε δηλώνοντας έναν αριθμό και ένα κενό ή tab ή new line. Ο ειδικός χαρακτήρας \\s δηλώνει \"[white space](https://en.wikipedia.org/wiki/White_space)\":"
   ]
  },
  {
   "cell_type": "code",
   "execution_count": 77,
   "metadata": {},
   "outputs": [
    {
     "name": "stdout",
     "output_type": "stream",
     "text": [
      "<re.Match object; span=(5, 7), match='5 '>\n"
     ]
    }
   ],
   "source": [
    "a = re.search(r'\\d\\s', 'hello5 hello')\n",
    "print (a)"
   ]
  },
  {
   "cell_type": "code",
   "execution_count": 78,
   "metadata": {},
   "outputs": [
    {
     "name": "stdout",
     "output_type": "stream",
     "text": [
      "None\n"
     ]
    }
   ],
   "source": [
    "a = re.search(r'\\d\\s', 'hello5hello')\n",
    "print (a)"
   ]
  },
  {
   "cell_type": "markdown",
   "metadata": {},
   "source": [
    "Συνεχίζουμε δηλώνοντας έναν αριθμό ακολουθούμενο από οποιοδήποτε γράμμα το οποίο ΔΕΝ είναι ειδικός χαρακτήρας. Το pattern \\w δηλώνει οποιοδήποτε χαρακτήρα από τα: ```a-z``` ```A-Z``` ```0-9``` και ```_```:"
   ]
  },
  {
   "cell_type": "code",
   "execution_count": 79,
   "metadata": {},
   "outputs": [
    {
     "name": "stdout",
     "output_type": "stream",
     "text": [
      "<re.Match object; span=(5, 7), match='5h'>\n"
     ]
    }
   ],
   "source": [
    "a = re.search(r'\\d\\w', 'hello5hello')\n",
    "print (a)"
   ]
  },
  {
   "cell_type": "code",
   "execution_count": 81,
   "metadata": {},
   "outputs": [
    {
     "name": "stdout",
     "output_type": "stream",
     "text": [
      "None\n"
     ]
    }
   ],
   "source": [
    "a = re.search(r'\\d\\w', 'hello5$hello')\n",
    "print (a)"
   ]
  },
  {
   "cell_type": "markdown",
   "metadata": {},
   "source": [
    "Δηλαδή αντί να γράφουμε ```[0-9]``` για να δηλώνουμε όλους τους αριθμούς και ```[a-zA-Z]``` για δηλώνουμε όλα τα γράμματα χρησιμοποιούμε τα εξής:\n",
    "\n",
    "```\\d``` είναι το ίδιο με: ```[0-9]```\n",
    "\n",
    "```\\w``` είναι το ίδιο με: ```[a-zA-Z0-9_]```\n",
    "\n",
    "```\\s``` είναι το ίδιο με: ```[ \\t\\n\\r\\f\\v]``` "
   ]
  },
  {
   "cell_type": "markdown",
   "metadata": {},
   "source": [
    "#### Επαναλαμβανόμενα μοτίβα\n",
    "Μπορούμε να ζητήσουμε σε ένα pattern να βρεί πολλαπλές επαναλήψεις από ένα σύνολο χαρακτήρων. Για παράδειγμα μπορούμε να ρωτήσουμε: να έχει 1 ή παραπάνω αριθμούς ακολουθούμενοι από το γράμμα \"a\". Αυτό το κάνουμε με τον ειδικό χαρακτήρα ```+```:"
   ]
  },
  {
   "cell_type": "code",
   "execution_count": 88,
   "metadata": {},
   "outputs": [
    {
     "name": "stdout",
     "output_type": "stream",
     "text": [
      "<re.Match object; span=(5, 12), match='123431a'>\n"
     ]
    }
   ],
   "source": [
    "a = re.search(r'\\d+a', 'hello123431ahello') # Polloi ari8moi meta \"a\"\n",
    "print (a)"
   ]
  },
  {
   "cell_type": "code",
   "execution_count": 90,
   "metadata": {},
   "outputs": [
    {
     "name": "stdout",
     "output_type": "stream",
     "text": [
      "<re.Match object; span=(5, 7), match='1a'>\n"
     ]
    }
   ],
   "source": [
    "a = re.search(r'\\d+a', 'hello1ahello') # enas ari8mos meta \"a\"\n",
    "print (a)"
   ]
  },
  {
   "cell_type": "code",
   "execution_count": 91,
   "metadata": {},
   "outputs": [
    {
     "name": "stdout",
     "output_type": "stream",
     "text": [
      "None\n"
     ]
    }
   ],
   "source": [
    "a = re.search(r'\\d+a', 'helloahello') # Kanenas ari8mos meta \"a\" (den kanei match)\n",
    "print (a)"
   ]
  },
  {
   "cell_type": "markdown",
   "metadata": {},
   "source": [
    "Αν αντί για ```+``` βάλουμε ```*```. Τότε δηλώνουμε: \"κανένα ή πολλά\". Δηλαδή ενώ με το ```+``` πρέπει υποχρεωτικά να υπάρχει τουλάχιστον 1, με το ```*``` μπορεί να μην υπάρχει και κανένα: "
   ]
  },
  {
   "cell_type": "code",
   "execution_count": 92,
   "metadata": {},
   "outputs": [
    {
     "name": "stdout",
     "output_type": "stream",
     "text": [
      "<re.Match object; span=(5, 9), match='444a'>\n"
     ]
    }
   ],
   "source": [
    "a = re.search(r'\\d*a', 'hello444a') # polloi ari8moi kai meta to a ! OK!\n",
    "print (a)"
   ]
  },
  {
   "cell_type": "code",
   "execution_count": 93,
   "metadata": {},
   "outputs": [
    {
     "name": "stdout",
     "output_type": "stream",
     "text": [
      "<re.Match object; span=(5, 7), match='4a'>\n"
     ]
    }
   ],
   "source": [
    "a = re.search(r'\\d*a', 'hello4a') # enas ari8mow kai meta to a ! OK!\n",
    "print (a)"
   ]
  },
  {
   "cell_type": "code",
   "execution_count": 94,
   "metadata": {},
   "outputs": [
    {
     "name": "stdout",
     "output_type": "stream",
     "text": [
      "<re.Match object; span=(5, 6), match='a'>\n"
     ]
    }
   ],
   "source": [
    "a = re.search(r'\\d*a', 'helloa') # kanenas ari8mos kai meta to a ! PALI OK!\n",
    "print (a)"
   ]
  },
  {
   "cell_type": "code",
   "execution_count": 95,
   "metadata": {},
   "outputs": [
    {
     "name": "stdout",
     "output_type": "stream",
     "text": [
      "None\n"
     ]
    }
   ],
   "source": [
    "a = re.search(r'\\d*a', 'hel555lo') # Yparxei ari8mos alla den yparxei to a. NOT OK!\n",
    "print (a)"
   ]
  },
  {
   "cell_type": "markdown",
   "metadata": {},
   "source": [
    "Μπορούμε επίσης να δηλώσουμε \"ένα ή κανένα\". Για παράδειγμα θέλουμε είτε κανένα αριθμό και μετά το \"a\", είτε έναν αριθμό και μετά το \"a\". Αυτό το κάνουμε με τον χαρακτήρα ```?```:"
   ]
  },
  {
   "cell_type": "code",
   "execution_count": 103,
   "metadata": {},
   "outputs": [
    {
     "name": "stdout",
     "output_type": "stream",
     "text": [
      "<re.Match object; span=(0, 3), match='b5a'>\n"
     ]
    }
   ],
   "source": [
    "a = re.search(r'b\\d?a', 'b5a') # yparxei to b meta enas ari8mos kai meta to a. OK\n",
    "print (a)"
   ]
  },
  {
   "cell_type": "code",
   "execution_count": 104,
   "metadata": {},
   "outputs": [
    {
     "name": "stdout",
     "output_type": "stream",
     "text": [
      "<re.Match object; span=(0, 2), match='ba'>\n"
     ]
    }
   ],
   "source": [
    "a = re.search(r'b\\d?a', 'ba') # yparxei to b meta kanenas ari8mos kai meta to a. OK\n",
    "print (a)"
   ]
  },
  {
   "cell_type": "code",
   "execution_count": 106,
   "metadata": {},
   "outputs": [
    {
     "name": "stdout",
     "output_type": "stream",
     "text": [
      "None\n"
     ]
    }
   ],
   "source": [
    "a = re.search(r'b\\d?a', 'b65a') # yparxei to b meta polloi ari8moi kai meta to a. NOT OK\n",
    "print (a)"
   ]
  },
  {
   "cell_type": "markdown",
   "metadata": {},
   "source": [
    "Τέλος μπορούμε να ζητήσουμε ένα σύνολο από χαρακτήρες να υπάρχει συγκεκριμμένο αριθμό από επαναλήψεις!"
   ]
  },
  {
   "cell_type": "code",
   "execution_count": 107,
   "metadata": {},
   "outputs": [
    {
     "name": "stdout",
     "output_type": "stream",
     "text": [
      "<re.Match object; span=(0, 5), match='baaab'>\n"
     ]
    }
   ],
   "source": [
    "a = re.search(r'ba{3}b', 'baaab') # b treis fores to a kai me ta b\n",
    "print (a)"
   ]
  },
  {
   "cell_type": "code",
   "execution_count": 108,
   "metadata": {},
   "outputs": [
    {
     "name": "stdout",
     "output_type": "stream",
     "text": [
      "None\n"
     ]
    }
   ],
   "source": [
    "a = re.search(r'ba{3}b', 'baab') # b treis fores to a kai me ta b\n",
    "print (a)"
   ]
  },
  {
   "cell_type": "code",
   "execution_count": 109,
   "metadata": {},
   "outputs": [
    {
     "name": "stdout",
     "output_type": "stream",
     "text": [
      "None\n"
     ]
    }
   ],
   "source": [
    "a = re.search(r'ba{3}b', 'baaaab') # b treis fores to a kai me ta b\n",
    "print (a)"
   ]
  },
  {
   "cell_type": "markdown",
   "metadata": {},
   "source": [
    "ή να δηλώσουμε ένα εύρος από επαναλήψεις:"
   ]
  },
  {
   "cell_type": "code",
   "execution_count": 112,
   "metadata": {},
   "outputs": [
    {
     "name": "stdout",
     "output_type": "stream",
     "text": [
      "None\n"
     ]
    }
   ],
   "source": [
    "a = re.search(r'ba{2,4}b', 'bab') # Ζητάμε από 2 έως 4 \"a\"\n",
    "print (a)"
   ]
  },
  {
   "cell_type": "code",
   "execution_count": 113,
   "metadata": {},
   "outputs": [
    {
     "name": "stdout",
     "output_type": "stream",
     "text": [
      "<re.Match object; span=(0, 4), match='baab'>\n"
     ]
    }
   ],
   "source": [
    "a = re.search(r'ba{2,4}b', 'baab') # Ζητάμε από 2 έως 4 \"a\"\n",
    "print (a)"
   ]
  },
  {
   "cell_type": "code",
   "execution_count": 114,
   "metadata": {},
   "outputs": [
    {
     "name": "stdout",
     "output_type": "stream",
     "text": [
      "<re.Match object; span=(0, 5), match='baaab'>\n"
     ]
    }
   ],
   "source": [
    "a = re.search(r'ba{2,4}b', 'baaab') # Ζητάμε από 2 έως 4 \"a\"\n",
    "print (a)"
   ]
  },
  {
   "cell_type": "code",
   "execution_count": 115,
   "metadata": {},
   "outputs": [
    {
     "name": "stdout",
     "output_type": "stream",
     "text": [
      "<re.Match object; span=(0, 6), match='baaaab'>\n"
     ]
    }
   ],
   "source": [
    "a = re.search(r'ba{2,4}b', 'baaaab') # Ζητάμε από 2 έως 4 \"a\"\n",
    "print (a)"
   ]
  },
  {
   "cell_type": "code",
   "execution_count": 116,
   "metadata": {},
   "outputs": [
    {
     "name": "stdout",
     "output_type": "stream",
     "text": [
      "None\n"
     ]
    }
   ],
   "source": [
    "a = re.search(r'ba{2,4}b', 'baaaaab') # Ζητάμε από 2 έως 4 \"a\"\n",
    "print (a)"
   ]
  },
  {
   "cell_type": "code",
   "execution_count": 118,
   "metadata": {},
   "outputs": [
    {
     "name": "stdout",
     "output_type": "stream",
     "text": [
      "<re.Match object; span=(0, 7), match='baaaaab'>\n"
     ]
    }
   ],
   "source": [
    "a = re.search(r'ba{2,}b', 'baaaaab') # Ζητάμε 2 ή παραπάνω\n",
    "print (a)"
   ]
  },
  {
   "cell_type": "code",
   "execution_count": 119,
   "metadata": {},
   "outputs": [
    {
     "name": "stdout",
     "output_type": "stream",
     "text": [
      "None\n"
     ]
    }
   ],
   "source": [
    "a = re.search(r'ba{2,}b', 'bab') # Ζητάμε 2 ή παραπάνω\n",
    "print (a)"
   ]
  },
  {
   "cell_type": "code",
   "execution_count": 120,
   "metadata": {},
   "outputs": [
    {
     "name": "stdout",
     "output_type": "stream",
     "text": [
      "<re.Match object; span=(0, 9), match='baaaaaaab'>\n"
     ]
    }
   ],
   "source": [
    "a = re.search(r'ba{2,}b', 'baaaaaaab') # Ζητάμε 2 ή παραπάνω\n",
    "print (a)"
   ]
  },
  {
   "cell_type": "code",
   "execution_count": 122,
   "metadata": {},
   "outputs": [
    {
     "name": "stdout",
     "output_type": "stream",
     "text": [
      "None\n"
     ]
    }
   ],
   "source": [
    "a = re.search(r'ba{,2}b', 'baaab') # Ζητάμε 2 ή λιγότερα\n",
    "print (a)"
   ]
  },
  {
   "cell_type": "code",
   "execution_count": 123,
   "metadata": {},
   "outputs": [
    {
     "name": "stdout",
     "output_type": "stream",
     "text": [
      "<re.Match object; span=(0, 4), match='baab'>\n"
     ]
    }
   ],
   "source": [
    "a = re.search(r'ba{,2}b', 'baab') # Ζητάμε 2 ή λιγότερα\n",
    "print (a)"
   ]
  },
  {
   "cell_type": "code",
   "execution_count": 124,
   "metadata": {},
   "outputs": [
    {
     "name": "stdout",
     "output_type": "stream",
     "text": [
      "<re.Match object; span=(0, 3), match='bab'>\n"
     ]
    }
   ],
   "source": [
    "a = re.search(r'ba{,2}b', 'bab') # Ζητάμε 2 ή λιγότερα\n",
    "print (a)"
   ]
  },
  {
   "cell_type": "code",
   "execution_count": 126,
   "metadata": {},
   "outputs": [
    {
     "name": "stdout",
     "output_type": "stream",
     "text": [
      "<re.Match object; span=(0, 2), match='bb'>\n"
     ]
    }
   ],
   "source": [
    "a = re.search(r'ba{,2}b', 'bb') # Ζητάμε 2 ή λιγότερα\n",
    "print (a)"
   ]
  },
  {
   "cell_type": "markdown",
   "metadata": {},
   "source": [
    "Ας δούμε λίγο το παρακάτω:"
   ]
  },
  {
   "cell_type": "code",
   "execution_count": 129,
   "metadata": {},
   "outputs": [
    {
     "name": "stdout",
     "output_type": "stream",
     "text": [
      "<re.Match object; span=(5, 12), match='baaaaab'>\n"
     ]
    }
   ],
   "source": [
    "a = re.search(r'ba+b', 'hellobaaaaabhello')\n",
    "print (a)"
   ]
  },
  {
   "cell_type": "markdown",
   "metadata": {},
   "source": [
    "Με τη συνάρτηση .group μπορούμε να βρούμε ΤΙ έκανε match. Βάζοντας σαν παράμετρο τη τιμή 0 μας επιστρέφει όλο το string το οποίο έκανε match:"
   ]
  },
  {
   "cell_type": "code",
   "execution_count": 133,
   "metadata": {},
   "outputs": [
    {
     "data": {
      "text/plain": [
       "'baaaaab'"
      ]
     },
     "execution_count": 133,
     "metadata": {},
     "output_type": "execute_result"
    }
   ],
   "source": [
    "a.group(0)"
   ]
  },
  {
   "cell_type": "markdown",
   "metadata": {},
   "source": [
    "Εδώ παρατηρούμε το εξής: το a+ \"έπιασε\" όλα τα \"a\" αυτό ονομάζεται greedy search. Η python γενικότερα θα προσπαθήσει να κάνει match όσο το δυνατόν περισσότερους χαρακτήρες γίνεται. Αυτό μπορεί να μας δημιουργήσει προβλήματα!. Για παράδειγμα. Έστω το string:"
   ]
  },
  {
   "cell_type": "code",
   "execution_count": 135,
   "metadata": {},
   "outputs": [],
   "source": [
    "s = 'gene:G1 function: F1, gene:G2 function:F2, gene:G3 function:F3'"
   ]
  },
  {
   "cell_type": "markdown",
   "metadata": {},
   "source": [
    "Θέλουμε να πάρουμε το όνομα του πρώτου γονιδίου. Άρα να αρχίζει από ```gene:``` μετά ένα ακαθόριστο πλήθος από χαρακτήρες και μετά το string ```function```:"
   ]
  },
  {
   "cell_type": "code",
   "execution_count": 137,
   "metadata": {},
   "outputs": [
    {
     "name": "stdout",
     "output_type": "stream",
     "text": [
      "gene:G1 function: F1, gene:G2 function:F2, gene:G3 function\n"
     ]
    }
   ],
   "source": [
    "a = re.search(r'gene:.+function', s)\n",
    "print (a.group(0))"
   ]
  },
  {
   "cell_type": "markdown",
   "metadata": {},
   "source": [
    "Τι έγινε εδώ;; παρατηρούμε ότι αυτό που επέστρεψε όντως ακολουθεί το πρότυπο αφού ξεκινά από gene και τελειώνει σε function. Αυτό έγινε επειδή η python προσπάθησε να επιστρέψει το μεγαλύτερο δυνατό match. Δηλαδή και το string ```gene:G1 function``` ακολουθεί το πρότυπο που βάλαμε, αλλά δεν είναι το μεγαλύτερο δυνατό. Μπορούμε να αποτρέψουμε αυτή τη συμπεριφορά βάζοντας ένα ```?``` μετά το ```+```:"
   ]
  },
  {
   "cell_type": "code",
   "execution_count": 138,
   "metadata": {},
   "outputs": [
    {
     "name": "stdout",
     "output_type": "stream",
     "text": [
      "gene:G1 function\n"
     ]
    }
   ],
   "source": [
    "a = re.search(r'gene:.+?function', s)\n",
    "print (a.group(0))"
   ]
  },
  {
   "cell_type": "markdown",
   "metadata": {},
   "source": [
    "Ο χαρακτήρας ```?``` μετά από ```+,*,?,{}``` λέει στη python \"φέρε το μικρότερο δυνατό\". Δείτε αυτά τα παραδείγματα:"
   ]
  },
  {
   "cell_type": "code",
   "execution_count": 143,
   "metadata": {},
   "outputs": [
    {
     "name": "stdout",
     "output_type": "stream",
     "text": [
      "b12345\n"
     ]
    }
   ],
   "source": [
    "a = re.search(r'b\\d+\\d', 'b12345')\n",
    "print (a.group(0))"
   ]
  },
  {
   "cell_type": "code",
   "execution_count": 144,
   "metadata": {},
   "outputs": [
    {
     "name": "stdout",
     "output_type": "stream",
     "text": [
      "b12\n"
     ]
    }
   ],
   "source": [
    "a = re.search(r'b\\d+?\\d', 'b12345')\n",
    "print (a.group(0))"
   ]
  },
  {
   "cell_type": "code",
   "execution_count": 145,
   "metadata": {},
   "outputs": [
    {
     "name": "stdout",
     "output_type": "stream",
     "text": [
      "b12345\n"
     ]
    }
   ],
   "source": [
    "a = re.search(r'b\\d*\\d', 'b12345')\n",
    "print (a.group(0))"
   ]
  },
  {
   "cell_type": "code",
   "execution_count": 146,
   "metadata": {},
   "outputs": [
    {
     "name": "stdout",
     "output_type": "stream",
     "text": [
      "b1\n"
     ]
    }
   ],
   "source": [
    "a = re.search(r'b\\d*?\\d', 'b12345')\n",
    "print (a.group(0))"
   ]
  },
  {
   "cell_type": "code",
   "execution_count": 147,
   "metadata": {},
   "outputs": [
    {
     "name": "stdout",
     "output_type": "stream",
     "text": [
      "b12\n"
     ]
    }
   ],
   "source": [
    "a = re.search(r'b\\d?\\d', 'b12345')\n",
    "print (a.group(0))"
   ]
  },
  {
   "cell_type": "code",
   "execution_count": 148,
   "metadata": {},
   "outputs": [
    {
     "name": "stdout",
     "output_type": "stream",
     "text": [
      "b1\n"
     ]
    }
   ],
   "source": [
    "a = re.search(r'b\\d??\\d', 'b12345')\n",
    "print (a.group(0))"
   ]
  },
  {
   "cell_type": "code",
   "execution_count": 151,
   "metadata": {},
   "outputs": [
    {
     "name": "stdout",
     "output_type": "stream",
     "text": [
      "b1234\n"
     ]
    }
   ],
   "source": [
    "a = re.search(r'b\\d{2,4}', 'b12345') # epilegei to megalutero --> 4\n",
    "print (a.group(0))"
   ]
  },
  {
   "cell_type": "code",
   "execution_count": 152,
   "metadata": {},
   "outputs": [
    {
     "name": "stdout",
     "output_type": "stream",
     "text": [
      "b12\n"
     ]
    }
   ],
   "source": [
    "a = re.search(r'b\\d{2,4}?', 'b12345') # epilegei to mikrotero --> 2\n",
    "print (a.group(0))"
   ]
  },
  {
   "cell_type": "markdown",
   "metadata": {},
   "source": [
    "#### Αρχή και τέλος\n",
    "\n",
    "Μπορούμε να δηλώσουμε ότι ένα pattern πρέπει να υπάρχει στην αρχή του string, αν βάλουμε στην αρχή του pattern τον χαρακτήρα ```^```:\n"
   ]
  },
  {
   "cell_type": "code",
   "execution_count": 154,
   "metadata": {},
   "outputs": [
    {
     "name": "stdout",
     "output_type": "stream",
     "text": [
      "<re.Match object; span=(0, 1), match='4'>\n"
     ]
    }
   ],
   "source": [
    "a = re.search('^\\d', '4hello') # Prepei o ari8mos na einai sthn arxh! OK!\n",
    "print (a)"
   ]
  },
  {
   "cell_type": "code",
   "execution_count": 155,
   "metadata": {},
   "outputs": [
    {
     "name": "stdout",
     "output_type": "stream",
     "text": [
      "None\n"
     ]
    }
   ],
   "source": [
    "a = re.search('^\\d', 'h4ello') # Prepei o ari8mos na einai sthn arxh! NOT OK!\n",
    "print (a)"
   ]
  },
  {
   "cell_type": "markdown",
   "metadata": {},
   "source": [
    "Ομοίως μπορούμε να δηλώσουμε ότι το pattern θα είναι στο τέλος με τον χαρακτήρα ```$```:"
   ]
  },
  {
   "cell_type": "code",
   "execution_count": 156,
   "metadata": {},
   "outputs": [
    {
     "name": "stdout",
     "output_type": "stream",
     "text": [
      "<re.Match object; span=(5, 6), match='4'>\n"
     ]
    }
   ],
   "source": [
    "a = re.search('\\d$', 'hello4') # Prepei o ari8mos na einai sto telos! OK!\n",
    "print (a)"
   ]
  },
  {
   "cell_type": "code",
   "execution_count": 157,
   "metadata": {},
   "outputs": [
    {
     "name": "stdout",
     "output_type": "stream",
     "text": [
      "None\n"
     ]
    }
   ],
   "source": [
    "a = re.search('\\d$', 'hell4o') # Prepei o ari8mos na einai sto telos! NOT OK!\n",
    "print (a)"
   ]
  },
  {
   "cell_type": "markdown",
   "metadata": {},
   "source": [
    "#### Ο τελεστής  ή --> ```|``` \n",
    "\n",
    "Πολλές φορές θέλουμε ένα pattern να κάνει match ΚΑΤΙ ή ΚΑΤΙ ΑΛΛΟ. Αυτό γίνεται βάζοντας σε παρενθέσεις τα δύο patterns και χρησιμοποιώντας τον τελεστή ```|```:\n"
   ]
  },
  {
   "cell_type": "code",
   "execution_count": 158,
   "metadata": {},
   "outputs": [
    {
     "name": "stdout",
     "output_type": "stream",
     "text": [
      "<re.Match object; span=(0, 2), match='ab'>\n"
     ]
    }
   ],
   "source": [
    "a = re.search(r'(ab)|(kl)', 'ab') # ab ή kl\n",
    "print (a)"
   ]
  },
  {
   "cell_type": "code",
   "execution_count": 159,
   "metadata": {},
   "outputs": [
    {
     "name": "stdout",
     "output_type": "stream",
     "text": [
      "<re.Match object; span=(0, 2), match='kl'>\n"
     ]
    }
   ],
   "source": [
    "a = re.search(r'(ab)|(kl)', 'kl') # ab ή kl\n",
    "print (a)"
   ]
  },
  {
   "cell_type": "code",
   "execution_count": 160,
   "metadata": {},
   "outputs": [
    {
     "name": "stdout",
     "output_type": "stream",
     "text": [
      "None\n"
     ]
    }
   ],
   "source": [
    "a = re.search(r'(ab)|(kl)', 'al') # ab ή kl\n",
    "print (a)"
   ]
  },
  {
   "cell_type": "markdown",
   "metadata": {},
   "source": [
    "Μπορούμε να κάνουμε εμφωλευμένα ```|```:"
   ]
  },
  {
   "cell_type": "code",
   "execution_count": 165,
   "metadata": {},
   "outputs": [
    {
     "name": "stdout",
     "output_type": "stream",
     "text": [
      "<re.Match object; span=(0, 3), match='a12'>\n",
      "<re.Match object; span=(0, 3), match='34b'>\n",
      "<re.Match object; span=(0, 3), match='1ab'>\n",
      "<re.Match object; span=(0, 3), match='kl2'>\n"
     ]
    }
   ],
   "source": [
    "a = re.search(r'(a(12)|(34)b)|(1(ab)|(kl)2)', 'a12') \n",
    "print (a)\n",
    "a = re.search(r'(a(12)|(34)b)|(1(ab)|(kl)2)', '34b') \n",
    "print (a)\n",
    "a = re.search(r'(a(12)|(34)b)|(1(ab)|(kl)2)', '1ab') \n",
    "print (a)\n",
    "a = re.search(r'(a(12)|(34)b)|(1(ab)|(kl)2)', 'kl2') \n",
    "print (a)\n"
   ]
  },
  {
   "cell_type": "markdown",
   "metadata": {},
   "source": [
    "#### Παίρνοντας πεδία μέσα από patterns\n",
    "\n",
    "Πολλές φορές θέλουμε να εξάγουμε υπο-πεδία από ένα string. Για να το κάνουμε αυτό βάζουμε παρενθέσεις στα κομμάτια του pattern που θέλουμε να εξάγουμε:\n",
    "\n"
   ]
  },
  {
   "cell_type": "code",
   "execution_count": 1,
   "metadata": {},
   "outputs": [],
   "source": [
    "import re\n",
    "plate_number = ' This is my plate number: ABE 1234 hello'\n",
    "\n",
    "a = re.search(r'(\\w+) (\\d+)', plate_number)"
   ]
  },
  {
   "cell_type": "markdown",
   "metadata": {},
   "source": [
    "Στη συνέχεια μπορούμε να χρησιμοποιήσουμε τη group για να πάρουμε αυτά τα πεδία:\n",
    "\n",
    "Όλο το string το οποίο έκανε match:"
   ]
  },
  {
   "cell_type": "code",
   "execution_count": 168,
   "metadata": {},
   "outputs": [
    {
     "data": {
      "text/plain": [
       "'ABE 1234'"
      ]
     },
     "execution_count": 168,
     "metadata": {},
     "output_type": "execute_result"
    }
   ],
   "source": [
    "a.group(0)"
   ]
  },
  {
   "cell_type": "markdown",
   "metadata": {},
   "source": [
    "Το string που έκανε match στη 1η παρένθεση:"
   ]
  },
  {
   "cell_type": "code",
   "execution_count": 169,
   "metadata": {},
   "outputs": [
    {
     "data": {
      "text/plain": [
       "'ABE'"
      ]
     },
     "execution_count": 169,
     "metadata": {},
     "output_type": "execute_result"
    }
   ],
   "source": [
    "a.group(1)"
   ]
  },
  {
   "cell_type": "markdown",
   "metadata": {},
   "source": [
    "το string που έκανε match στη 2η παρένθεση:"
   ]
  },
  {
   "cell_type": "code",
   "execution_count": 170,
   "metadata": {},
   "outputs": [
    {
     "data": {
      "text/plain": [
       "'1234'"
      ]
     },
     "execution_count": 170,
     "metadata": {},
     "output_type": "execute_result"
    }
   ],
   "source": [
    "a.group(2)"
   ]
  },
  {
   "cell_type": "markdown",
   "metadata": {},
   "source": [
    "Ο τρόπος αυτός για να προσπελάσουμε τα πεδία που έχουμε κάνει match σε ένα group πολλές φορές δεν βολεύει γιατί απλά πρέπει να ξέρουμε τη σειρά με την οποία έχουμε βάλει τις παρενθέσεις. Ένας άλλος τρόπος είναι να δηλώσουμε ένα όνομα στο group το οποίο θέλουμε να κάνουμε match. Αυτά τα groups ονομάζονται named groups. Αυτό το κάνουμε με τη χρήση του `(?P<name_of_group><group_pattern>)`. Για παράδειγμα:"
   ]
  },
  {
   "cell_type": "code",
   "execution_count": 2,
   "metadata": {},
   "outputs": [],
   "source": [
    "import re\n",
    "plate_number = ' This is my plate number: ABE 1234 hello'\n",
    "\n",
    "a = re.search(r'(?P<letters>\\w+) (?P<numbers>\\d+)', plate_number)"
   ]
  },
  {
   "cell_type": "code",
   "execution_count": 4,
   "metadata": {},
   "outputs": [
    {
     "name": "stdout",
     "output_type": "stream",
     "text": [
      "ABE\n"
     ]
    }
   ],
   "source": [
    "print (a.group('letters'))"
   ]
  },
  {
   "cell_type": "code",
   "execution_count": 5,
   "metadata": {},
   "outputs": [
    {
     "name": "stdout",
     "output_type": "stream",
     "text": [
      "1234\n"
     ]
    }
   ],
   "source": [
    "print (a.group('numbers'))"
   ]
  },
  {
   "cell_type": "markdown",
   "metadata": {},
   "source": [
    "Μπορούμε επίσης να χρησιμοποιήσουμε τη συνάρτηση `groupdict` για να πάρουμε όλα τα groups που έχουμε κάνει match σε ένα dictionary:"
   ]
  },
  {
   "cell_type": "code",
   "execution_count": 6,
   "metadata": {},
   "outputs": [
    {
     "name": "stdout",
     "output_type": "stream",
     "text": [
      "{'letters': 'ABE', 'numbers': '1234'}\n"
     ]
    }
   ],
   "source": [
    "print (a.groupdict())"
   ]
  },
  {
   "cell_type": "markdown",
   "metadata": {},
   "source": [
    "Είναι ενδιαφέρον το γεγονός ότι αν ένα group δεν έχει γίνει match (επειδή π.χ. το έχουμε βάλει σαν προαιρετικό) τότε η τιμή του στο dictionary είναι `None`. Ας δούμε ένα παράδειγμα:"
   ]
  },
  {
   "cell_type": "code",
   "execution_count": 10,
   "metadata": {},
   "outputs": [
    {
     "data": {
      "text/plain": [
       "{'prosimo': None, 'number': '123'}"
      ]
     },
     "execution_count": 10,
     "metadata": {},
     "output_type": "execute_result"
    }
   ],
   "source": [
    "m = re.search(r'(?P<prosimo>[+-])?(?P<number>\\d+)', '123')\n",
    "m.groupdict()"
   ]
  },
  {
   "cell_type": "code",
   "execution_count": 11,
   "metadata": {},
   "outputs": [
    {
     "data": {
      "text/plain": [
       "{'prosimo': '-', 'number': '123'}"
      ]
     },
     "execution_count": 11,
     "metadata": {},
     "output_type": "execute_result"
    }
   ],
   "source": [
    "m = re.search(r'(?P<prosimo>[+-])?(?P<number>\\d+)', '-123')\n",
    "m.groupdict()"
   ]
  },
  {
   "cell_type": "markdown",
   "metadata": {},
   "source": [
    "### Οι συναρτήσεις match, fullmatch,  findall  και  sub:"
   ]
  },
  {
   "cell_type": "markdown",
   "metadata": {},
   "source": [
    "Η συνάρτηση search που έχουμε δει μέχρι στιγμής χρησιμοποιείται για να βρούμε ένα pattern μέσα σε ένα string. Μία άλλη χρήσιμη συνάρτηση είναι η ```fullmatch``` η οποία κάνει match **μόνο αν** όλο το string κάνει match το pattern:"
   ]
  },
  {
   "cell_type": "code",
   "execution_count": 171,
   "metadata": {},
   "outputs": [
    {
     "name": "stdout",
     "output_type": "stream",
     "text": [
      "<re.Match object; span=(20, 28), match='rs123456'>\n"
     ]
    }
   ],
   "source": [
    "a = re.search('rs\\d+', 'This is a mutation: rs123456')\n",
    "print (a)"
   ]
  },
  {
   "cell_type": "code",
   "execution_count": 175,
   "metadata": {},
   "outputs": [
    {
     "name": "stdout",
     "output_type": "stream",
     "text": [
      "None\n"
     ]
    }
   ],
   "source": [
    "a = re.fullmatch('rs\\d+', 'This is a mutation: rs123456')\n",
    "print (a)"
   ]
  },
  {
   "cell_type": "code",
   "execution_count": 177,
   "metadata": {},
   "outputs": [
    {
     "name": "stdout",
     "output_type": "stream",
     "text": [
      "<re.Match object; span=(0, 8), match='rs123456'>\n"
     ]
    }
   ],
   "source": [
    "a = re.fullmatch('rs\\d+', 'rs123456')\n",
    "print (a)"
   ]
  },
  {
   "cell_type": "markdown",
   "metadata": {},
   "source": [
    "Η fullmatch κάνει το ίδιο με τη search αν εσωκλείσουμε το pattern μέσα σε ```^$```:"
   ]
  },
  {
   "cell_type": "code",
   "execution_count": 179,
   "metadata": {},
   "outputs": [
    {
     "name": "stdout",
     "output_type": "stream",
     "text": [
      "<re.Match object; span=(20, 28), match='rs123456'>\n"
     ]
    }
   ],
   "source": [
    "a = re.search('rs\\d+', 'This is a mutation: rs123456')\n",
    "print (a)"
   ]
  },
  {
   "cell_type": "code",
   "execution_count": 181,
   "metadata": {},
   "outputs": [
    {
     "name": "stdout",
     "output_type": "stream",
     "text": [
      "None\n"
     ]
    }
   ],
   "source": [
    "a = re.search('^rs\\d+$', 'This is a mutation: rs123456')\n",
    "print (a)"
   ]
  },
  {
   "cell_type": "code",
   "execution_count": 183,
   "metadata": {},
   "outputs": [
    {
     "name": "stdout",
     "output_type": "stream",
     "text": [
      "<re.Match object; span=(0, 8), match='rs123456'>\n"
     ]
    }
   ],
   "source": [
    "a = re.search('^rs\\d+$', 'rs123456')\n",
    "print (a)"
   ]
  },
  {
   "cell_type": "code",
   "execution_count": 185,
   "metadata": {},
   "outputs": [
    {
     "name": "stdout",
     "output_type": "stream",
     "text": [
      "<re.Match object; span=(0, 8), match='rs123456'>\n"
     ]
    }
   ],
   "source": [
    "a = re.fullmatch('rs\\d+', 'rs123456')\n",
    "print (a)"
   ]
  },
  {
   "cell_type": "markdown",
   "metadata": {},
   "source": [
    "Η συνάρτηση match κοιτάει να δει αν το pattern είναι στην αρχή του string. Ισοδυναμεί με το να χρησιμοποιήσουμε τη search και να βάλουμε το ```^``` μπροστά από το pattern:"
   ]
  },
  {
   "cell_type": "code",
   "execution_count": 187,
   "metadata": {},
   "outputs": [
    {
     "name": "stdout",
     "output_type": "stream",
     "text": [
      "<re.Match object; span=(0, 3), match='123'>\n"
     ]
    }
   ],
   "source": [
    "a = re.match(r'\\d+', '123hello')\n",
    "print (a)"
   ]
  },
  {
   "cell_type": "code",
   "execution_count": 188,
   "metadata": {},
   "outputs": [
    {
     "name": "stdout",
     "output_type": "stream",
     "text": [
      "None\n"
     ]
    }
   ],
   "source": [
    "a = re.match(r'\\d+', 'hello123')\n",
    "print (a)"
   ]
  },
  {
   "cell_type": "code",
   "execution_count": 189,
   "metadata": {},
   "outputs": [
    {
     "name": "stdout",
     "output_type": "stream",
     "text": [
      "<re.Match object; span=(0, 3), match='123'>\n"
     ]
    }
   ],
   "source": [
    "a = re.search(r'^\\d+', '123hello')\n",
    "print (a)"
   ]
  },
  {
   "cell_type": "code",
   "execution_count": 190,
   "metadata": {},
   "outputs": [
    {
     "name": "stdout",
     "output_type": "stream",
     "text": [
      "None\n"
     ]
    }
   ],
   "source": [
    "a = re.search(r'^\\d+', 'hello123')\n",
    "print (a)"
   ]
  },
  {
   "cell_type": "markdown",
   "metadata": {},
   "source": [
    "Τέλος η συνάρτηση sub, αλλάζει το κομμάτι που έχει γίνει match σε ένα string με ένα άλλο string. Μπορούμε λοιπόν να κάνουμε \"capture\" τα groups μέ παρενθέσεις μέσα στο pattern και μετά να αναφερθούμε σε αυτό με τον χαρακτήρα ```\\``` και τον αριθμό της παρένθεσης:"
   ]
  },
  {
   "cell_type": "code",
   "execution_count": 198,
   "metadata": {},
   "outputs": [
    {
     "data": {
      "text/plain": [
       "'My name is Bond, James Bond'"
      ]
     },
     "execution_count": 198,
     "metadata": {},
     "output_type": "execute_result"
    }
   ],
   "source": [
    "s = 'Name: James Bond'\n",
    "re.sub(r'Name: (\\w+) (\\w+)', r'My name is \\2, \\1 \\2', s)"
   ]
  },
  {
   "cell_type": "markdown",
   "metadata": {},
   "source": [
    "Τέλος με τη συνάρτηση findall μπορούμε να βρούμε όλα τα matches ενός pattern μέσα σε string:"
   ]
  },
  {
   "cell_type": "code",
   "execution_count": 199,
   "metadata": {},
   "outputs": [
    {
     "data": {
      "text/plain": [
       "['+5', '+48', '+85', '+4867']"
      ]
     },
     "execution_count": 199,
     "metadata": {},
     "output_type": "execute_result"
    }
   ],
   "source": [
    "s = 'dg +5aaghqq4  ajdfhal+48f4++85tyru+4867dhgjghi4yifhl4i8+hdji74rl48ru'\n",
    "re.findall(r'\\+\\d+', s) #  Όλοι οι αριθμοί που έχουν ένα \"+\" μπροστά τους"
   ]
  },
  {
   "cell_type": "markdown",
   "metadata": {},
   "source": [
    "#### Μα τι είναι επιτέλους αυτό το r που βάζεις μπροστά από κάθε pattern;\n",
    "\n",
    "Όπως έχουμε δει μπορούμε να βάλουμε \"special\" χαρακτήρες μέσα σε ένα string. Για παράδειγμα μπορούμε να βάλουμε το \"Enter\" (ή αλλιώς new line): \n"
   ]
  },
  {
   "cell_type": "code",
   "execution_count": 200,
   "metadata": {},
   "outputs": [
    {
     "name": "stdout",
     "output_type": "stream",
     "text": [
      "a\n",
      "b\n"
     ]
    }
   ],
   "source": [
    "s = 'a\\nb'\n",
    "print (s)"
   ]
  },
  {
   "cell_type": "markdown",
   "metadata": {},
   "source": [
    "Ομοίως αν θέλουμε ένα string να έχει τον χαρακτήρα ```\\```, πρέπει να τον βάλουμε δύο φορές:"
   ]
  },
  {
   "cell_type": "code",
   "execution_count": 204,
   "metadata": {},
   "outputs": [
    {
     "name": "stdout",
     "output_type": "stream",
     "text": [
      "a\\b\n"
     ]
    }
   ],
   "source": [
    "s = 'a\\\\b'\n",
    "print (s)"
   ]
  },
  {
   "cell_type": "markdown",
   "metadata": {},
   "source": [
    "Τι γίνεται όμως αν θέλουμε να δούμε αν ένα string περιέχει τον χαρακτήρα ```\\``` ; Ο χαρακτήρας αυτός είναι ειδικός χαρακτήρας ΚΑΙ για τη python αλλά ΚΑΙ για τα regular expressions (Προσέξτε το ```\\+``` που βάλαμε παραπάνω στην findall για να κάνουμε match τον χαρακτήρα ```+```). Για να δηλώσουμε λοιπόν τον χαρακτήρα ```\\``` μέσα σε ένα pattern θα πρέπει να τον κάνουμε escape και να φτιάξουμε το pattern: ```\\\\```. Δηλαδή όπως ακριβώς κάναμε match το ```+``` με το pattern ```\\+```, έτσι κάνουμε match το ```\\``` με το ```\\\\```. Άρα θα πρέπει να \"φτιάξουμε\" ένα string το οποίο όταν το τυπώσουμε να τυπώσει: ```\\\\```. Αυτό το string είναι:\n",
    "\n"
   ]
  },
  {
   "cell_type": "code",
   "execution_count": 211,
   "metadata": {},
   "outputs": [
    {
     "name": "stdout",
     "output_type": "stream",
     "text": [
      "\\\\\n"
     ]
    }
   ],
   "source": [
    "s = '\\\\\\\\'\n",
    "print (s)"
   ]
  },
  {
   "cell_type": "markdown",
   "metadata": {},
   "source": [
    "Άρα για να κάνουμε match τον χαρακτήρα ```\\``` πρέπει να γράψουμε το εξής:"
   ]
  },
  {
   "cell_type": "code",
   "execution_count": 213,
   "metadata": {},
   "outputs": [
    {
     "name": "stdout",
     "output_type": "stream",
     "text": [
      "<re.Match object; span=(0, 3), match='a\\\\b'>\n"
     ]
    }
   ],
   "source": [
    "s = 'a\\\\b'\n",
    "a = re.search('a\\\\\\\\b', s)\n",
    "print (a)"
   ]
  },
  {
   "cell_type": "markdown",
   "metadata": {},
   "source": [
    "Αυτό μπορεί να είναι αρκετά.. μπερδεψηματικό και να είναι πηγή λάθους. Δυστυχώς αυτό το πρόβλημα είναι κοινό για όλες τις γλώσσες προγραμματισμού εδώ και πολλά χρόνια. Συλλογικά αυτό το πρόβλημα αναφέρεται σαν το [σύνδρομο της στραβής οδοντογλυφίδας](https://en.wikipedia.org/wiki/Leaning_toothpick_syndrome)(!!). Μία λύση που έχει η python είναι να μπορείς να δηλώσεις ένα string σαν raw (ωμό). Ένα raw string δηλώνεται βάζοντας το r μπροστά και σημαίνει ότι δεν περιέχει κανέναν άλλο χαρακτήρα πέρα από αυτούς που έχει!"
   ]
  },
  {
   "cell_type": "code",
   "execution_count": 209,
   "metadata": {},
   "outputs": [
    {
     "name": "stdout",
     "output_type": "stream",
     "text": [
      "a\\nb\n"
     ]
    }
   ],
   "source": [
    "s = r'a\\nb'\n",
    "print (s)"
   ]
  },
  {
   "cell_type": "markdown",
   "metadata": {},
   "source": [
    "Με αυτόν τον τρόπο μπορούμε να δηλώνουμε regular expressions χωρίς να ανησυχούμε μήπως οι ειδικοί χαρακτήρες της python συγχέονται με τους ειδικούς χαρακτήρες των regular expressions:"
   ]
  },
  {
   "cell_type": "code",
   "execution_count": 214,
   "metadata": {},
   "outputs": [
    {
     "name": "stdout",
     "output_type": "stream",
     "text": [
      "<re.Match object; span=(0, 3), match='a\\\\b'>\n"
     ]
    }
   ],
   "source": [
    "s = 'a\\\\b'\n",
    "a = re.search(r'a\\\\b', s)\n",
    "print (a)"
   ]
  },
  {
   "cell_type": "markdown",
   "metadata": {},
   "source": [
    "Σε περίπτωση που όλα αυτά είναι δυσνόητα (πολύ λογικό) μπορείτε να θυμάστε το εξής: **Όταν χρησιμοποιούμε regular expressions, πάντα δηλώνουμε τα patterns σαν raw strings βάζοντας ένα r μπροστά.**\n",
    "\n",
    "Επίσης το [επίσημο documentation της python](https://docs.python.org/3/library/re.html) εξηγεί πολύ όμορφά τα raw strings. \n"
   ]
  },
  {
   "cell_type": "markdown",
   "metadata": {},
   "source": [
    "#### Συνέχεια \n",
    "\n",
    "Έχουμε πει λιγότερα από τα μισά που περιέχει τόσο η θεωρία των regular expressions, όσο και η υποστήριξή τους από τη python. Μπορείτε να διαβάσετε περισσότερα για:\n",
    "\n",
    "* [Look ahead and look begind regular expressions](https://www.rexegg.com/regex-lookarounds.html)\n",
    "* [Named groups](https://docs.python.org/3/howto/regex.html#non-capturing-and-named-groups) (το καλύψαμε)\n",
    "* [Non capturing parenthesis](https://docs.python.org/3/howto/regex.html#non-capturing-and-named-groups)\n",
    "* [Compilation flags](https://docs.python.org/3/howto/regex.html#compilation-flags). Για παράδειγμα η τελεία θα πρέπει να \"πιάνει\" το enter;  Ή πως μπορώ να κάνω match αγνοώντας τη διαφορά μεταξύ κεφαλαίων και μικρών γραμμάτων;\n",
    "* [Greedy vs. non-greedy](https://docs.python.org/3/howto/regex.html#greedy-versus-non-greedy) (τα εξηγήσαμε λίγο εδώ)\n",
    "* [compile](https://stackoverflow.com/questions/452104/is-it-worth-using-pythons-re-compile). Μπορείτε να κάνετε compile ένα πολύπλοκο regexp για να το κάνετε match πολύ πιο γρήγορα\n",
    "* [debug](https://stackoverflow.com/questions/606350/how-can-i-debug-a-regular-expression-in-python). Υπάρχουν και ειδικά site που σας βοηθάν να γράψετε και να διορθώσετε το regexp σας: [debuggex](https://www.debuggex.com/), [pythex](https://pythex.org/)\n",
    "* [comments](https://softwareengineering.stackexchange.com/questions/178355/commenting-regular-expressions).  Μπορείτε να βάζετε comments  **μέσα** σε ένα regexp \n",
    "\n",
    "Μα καλά πόσο πολύπλοκο μπορεί να γίνει ένα regexp; Απάντηση: [Αρκετά πολύπλοκο](https://gist.githubusercontent.com/kantale/65e8652ab4f08307bb502609fcba29f4/raw/0da903d9932acb5b9c3567116979174a5da05c16/HGVS%2520regular%2520expression), αλλά αυτό δεν πρέπει να σας τρομάζει. Τις περισσότερες φορές (99.99%) ένα regexp με <20 χαρακτήρες θα είναι η λύση στο πρόβλημά σας! \n",
    "\n",
    "Επίσης εξαιρετικά καλή πηγή για να μάθετε σωστά regexp: https://github.com/ziishaned/learn-regex"
   ]
  },
  {
   "cell_type": "markdown",
   "metadata": {},
   "source": [
    "#### Παράδειγμα:\n",
    "\n",
    "Σαν παράδειγμα ας υποθέσουμε ότι έχουμε μία μετάλλαξη σε [HGVS format](https://varnomen.hgvs.org/bg-material/simple/)  "
   ]
  },
  {
   "cell_type": "code",
   "execution_count": 219,
   "metadata": {},
   "outputs": [],
   "source": [
    "s = 'NG_007400.1:g.8638G>T'"
   ]
  },
  {
   "cell_type": "markdown",
   "metadata": {},
   "source": [
    "Ας φτιάξουμε μία συνάρτηση χωρίς regular expression για να κάνουμε validate τέτοιου είδους string:"
   ]
  },
  {
   "cell_type": "code",
   "execution_count": 233,
   "metadata": {},
   "outputs": [],
   "source": [
    "def validate(s):\n",
    "    if s.count(':') != 1:\n",
    "        return False\n",
    "    \n",
    "    s1,s2 = s.split(':')\n",
    "    if s1.count('.') != 1:\n",
    "        return False\n",
    "    \n",
    "    s11, s12 = s1.split('.')\n",
    "    try:\n",
    "        int(s12)\n",
    "    except ValueError:\n",
    "        return False\n",
    "    \n",
    "    if s2.count('.') != 1:\n",
    "        return False\n",
    "    \n",
    "    s21, s22 = s2.split('.')\n",
    "    if s21 not in ['c', 'g']:\n",
    "        return False\n",
    "\n",
    "    s221 = s22[:-3]\n",
    "    s222 = s22[-3:]\n",
    "    \n",
    "    try:\n",
    "        int(s221)\n",
    "    except ValueError:\n",
    "        return False\n",
    "    \n",
    "    if s222.count('>') != 1:\n",
    "        return False\n",
    "    \n",
    "    s2221, s2222 = s222.split('>')\n",
    "    \n",
    "    bases = set('ACGT')\n",
    "    \n",
    "    if not s2221 in bases:\n",
    "        return False\n",
    "    \n",
    "    if not s2222 in bases:\n",
    "        return False\n",
    "    \n",
    "    return True\n",
    "    \n"
   ]
  },
  {
   "cell_type": "code",
   "execution_count": 234,
   "metadata": {},
   "outputs": [
    {
     "data": {
      "text/plain": [
       "True"
      ]
     },
     "execution_count": 234,
     "metadata": {},
     "output_type": "execute_result"
    }
   ],
   "source": [
    "validate('NG_007400.1:g.8638G>T')  "
   ]
  },
  {
   "cell_type": "code",
   "execution_count": 235,
   "metadata": {},
   "outputs": [
    {
     "data": {
      "text/plain": [
       "False"
      ]
     },
     "execution_count": 235,
     "metadata": {},
     "output_type": "execute_result"
    }
   ],
   "source": [
    "validate('NG_007400.1:g.8638H>T')  "
   ]
  },
  {
   "cell_type": "markdown",
   "metadata": {},
   "source": [
    "H ίδια συνάρτηση με regular expressions:"
   ]
  },
  {
   "cell_type": "code",
   "execution_count": 231,
   "metadata": {},
   "outputs": [
    {
     "data": {
      "text/plain": [
       "True"
      ]
     },
     "execution_count": 231,
     "metadata": {},
     "output_type": "execute_result"
    }
   ],
   "source": [
    "def validate(s):\n",
    "    m = re.fullmatch(r'\\w+\\.\\d+:[cg]\\.\\d+[ACGT]>[ACGT]', s)\n",
    "    return bool(m)\n",
    "    \n",
    "validate('NG_007400.1:g.8638G>T')"
   ]
  },
  {
   "cell_type": "code",
   "execution_count": 232,
   "metadata": {},
   "outputs": [
    {
     "data": {
      "text/plain": [
       "False"
      ]
     },
     "execution_count": 232,
     "metadata": {},
     "output_type": "execute_result"
    }
   ],
   "source": [
    "validate('NG_007400.1:g.8638H>T')"
   ]
  }
 ],
 "metadata": {
  "kernelspec": {
   "display_name": "Python 3",
   "language": "python",
   "name": "python3"
  },
  "language_info": {
   "codemirror_mode": {
    "name": "ipython",
    "version": 3
   },
   "file_extension": ".py",
   "mimetype": "text/x-python",
   "name": "python",
   "nbconvert_exporter": "python",
   "pygments_lexer": "ipython3",
   "version": "3.8.5"
  }
 },
 "nbformat": 4,
 "nbformat_minor": 4
}
